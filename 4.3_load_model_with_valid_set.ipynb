{
 "cells": [
  {
   "cell_type": "code",
   "execution_count": 1,
   "metadata": {},
   "outputs": [
    {
     "name": "stderr",
     "output_type": "stream",
     "text": [
      "\u001b[32m\u001b[1m  Activating\u001b[22m\u001b[39m project at `c:\\Users\\wenbl13\\Desktop\\BAC\\BAC Project\\libs`"
     ]
    },
    {
     "name": "stderr",
     "output_type": "stream",
     "text": [
      "\n"
     ]
    }
   ],
   "source": [
    "using Pkg\n",
    "Pkg.activate(raw\"libs/\")\n",
    "# Pkg.instantiate()\n",
    "# Pkg.add(\"ImageView\")\n",
    "using Lux, NNlib, Zygote, LuxCUDA, CUDA, JLD2, DICOM\n",
    "using Images, ImageView\n",
    "using MLUtils\n",
    "using Optimisers, ProgressBars\n",
    "using ImageMorphology, ChainRulesCore, Statistics\n",
    "\n",
    "CUDA.allowscalar(false)\n",
    "\n",
    "valid_data_dir = raw\"C:\\Users\\wenbl13\\Desktop\\BAC\\collected_dataset_for_ML\\valid\"\n",
    "saved_model_dir = raw\"C:\\Users\\wenbl13\\Desktop\\BAC\\BAC Project\"\n",
    "patch_size = 256\n",
    "patch_size_half = round(Int, patch_size/2);"
   ]
  },
  {
   "cell_type": "markdown",
   "metadata": {},
   "source": [
    "# Helper functions"
   ]
  },
  {
   "cell_type": "code",
   "execution_count": 2,
   "metadata": {},
   "outputs": [
    {
     "data": {
      "text/plain": [
       "patch_image (generic function with 1 method)"
      ]
     },
     "metadata": {},
     "output_type": "display_data"
    }
   ],
   "source": [
    "_conv = (in, out) -> Conv((3, 3), in=>out, pad=1)\n",
    "\n",
    "conv1 = (in, out) -> Chain(_conv(in, out), BatchNorm(out, leakyrelu))\n",
    "# conv2 = (in, out) -> Chain(_conv(in, out), x -> softmax(x; dims = 3))\n",
    "conv2 = (in, out) -> Chain(Conv((1, 1), in=>out), sigmoid)\n",
    "\n",
    "_tran = (in, out) -> ConvTranspose((2, 2), in => out, stride = 2)\n",
    "tran = (in, out) -> Chain(_tran(in, out), BatchNorm(out, leakyrelu))\n",
    "\n",
    "my_cat = (x, y) -> cat(x, y; dims=Val(3))\n",
    "\n",
    "function unet2D(in_chs, lbl_chs)    \n",
    "    # Contracting layers\n",
    "    l1 = Chain(conv1(in_chs, 64), conv1(64, 64))\n",
    "    l2 = Chain(l1, MaxPool((2,2), stride=2), conv1(64, 128), conv1(128, 128))\n",
    "    l3 = Chain(l2, MaxPool((2,2), stride=2), conv1(128, 256), conv1(256, 256))\n",
    "    l4 = Chain(l3, MaxPool((2,2), stride=2), conv1(256, 512), conv1(512, 512))\n",
    "    l5 = Chain(l4, MaxPool((2,2), stride=2), conv1(512, 1024), conv1(1024, 1024), tran(1024, 512))\n",
    "    \n",
    "    # Expanding layers\n",
    "    l6 = Chain(Parallel(my_cat,l5,l4), conv1(512+512, 512), conv1(512, 512), tran(512, 256))\n",
    "    l7 = Chain(Parallel(my_cat,l6,l3), conv1(256+256, 256), conv1(256, 256), tran(256, 128))\n",
    "    l8 = Chain(Parallel(my_cat,l7,l2), conv1(128+128, 128), conv1(128, 128), tran(128, 64))\n",
    "    l9 = Chain(Parallel(my_cat,l8,l1), conv1(64+64, 64), conv1(64, 64), conv2(64, lbl_chs))\n",
    "end\n",
    "\n",
    "function zoom_pxiel_values(img)\n",
    "    a, b = minimum(img), maximum(img)\n",
    "    img_ = (img .- a) ./ (b - a)\n",
    "    return img_\n",
    "end\n",
    "\n",
    "function normalize_img(img)\n",
    "    m = maximum(img)\n",
    "    img = m .- img\n",
    "    a = mean(img)\n",
    "    s = std(img)\n",
    "    img = (img .- a) ./ s \n",
    "    # println(\"mean = $(mean(img)), std = $(std(img))\")\n",
    "    return img\n",
    "end\n",
    "\n",
    "function get_num_of_forgound_patches(mask, s)\n",
    "    x = ceil(Int, s[1]/patch_size) + floor(Int, (s[1]-patch_size_half)/patch_size)\n",
    "    y = ceil(Int, s[2]/patch_size) + floor(Int, (s[2]-patch_size_half)/patch_size)\n",
    "    ct = 0\n",
    "    for i = 1 : x-1\n",
    "        x_start = 1+(i-1)*patch_size_half\n",
    "        x_end = x_start+patch_size-1\n",
    "        for j = 1 : y-1\n",
    "            y_start = 1+(j-1)*patch_size_half\n",
    "            y_end = y_start+patch_size-1\n",
    "            # check patch\n",
    "            if mean(mask[x_start:x_end, y_start:y_end]) > 0.35\n",
    "                ct += 1\n",
    "            end\n",
    "        end\n",
    "        # right col\n",
    "        y_start, y_end = s[2]-patch_size+1, s[2]\n",
    "        # check patch\n",
    "        if mean(mask[x_start:x_end, y_start:y_end]) > 0.35\n",
    "            ct += 1\n",
    "        end\n",
    "    end\n",
    "    # last row\n",
    "    x_start, x_end = s[1]-patch_size+1, s[1]\n",
    "    for j = 1 : y-1\n",
    "        y_start = 1+(j-1)*patch_size_half\n",
    "        y_end = y_start+patch_size-1\n",
    "        # check patch\n",
    "        if mean(mask[x_start:x_end, y_start:y_end]) > 0.35\n",
    "            ct += 1\n",
    "        end\n",
    "    end\n",
    "    # right col\n",
    "    y_start, y_end = s[2]-patch_size+1, s[2]\n",
    "    # check patch\n",
    "    if mean(mask[x_start:x_end, y_start:y_end]) > 0.35\n",
    "        ct += 1\n",
    "    end\n",
    "    return ct\n",
    "end\n",
    "\n",
    "function patch_image(img, mask)\n",
    "    # img_max = maximum(img)\n",
    "    # img = img_max .- img\n",
    "    img = normalize_img(img)\n",
    "    s = size(img)\n",
    "    num_patches = get_num_of_forgound_patches(mask, s)\n",
    "    # @info \"num_patches = $num_patches\"\n",
    "    x = ceil(Int, s[1]/patch_size) + floor(Int, (s[1]-patch_size_half)/patch_size)\n",
    "    y = ceil(Int, s[2]/patch_size) + floor(Int, (s[2]-patch_size_half)/patch_size)\n",
    "\n",
    "    img_patches = Array{Float32, 4}(undef, patch_size, patch_size, 1, num_patches)\n",
    "    locations = Array{Tuple{Int64, Int64, Int64, Int64}, 1}(undef, num_patches)\n",
    "    ct = 0\n",
    "    for i = 1 : x-1\n",
    "        x_start = 1+(i-1)*patch_size_half\n",
    "        x_end = x_start+patch_size-1\n",
    "        for j = 1 : y-1\n",
    "            y_start = 1+(j-1)*patch_size_half\n",
    "            y_end = y_start+patch_size-1\n",
    "            # check patch\n",
    "            if mean(mask[x_start:x_end, y_start:y_end]) > 0.35\n",
    "                # save patch\n",
    "                ct += 1\n",
    "                img_patches[:, :, 1, ct] = (img[x_start:x_end, y_start:y_end])\n",
    "                locations[ct] = (x_start, x_end, y_start, y_end)\n",
    "            end\n",
    "        end\n",
    "        # right col\n",
    "        y_start, y_end = s[2]-patch_size+1, s[2]\n",
    "        # check patch\n",
    "        if mean(mask[x_start:x_end, y_start:y_end]) > 0.35\n",
    "            # save patch\n",
    "            ct += 1\n",
    "            img_patches[:, :, 1, ct] = (img[x_start:x_end, y_start:y_end])\n",
    "            locations[ct] = (x_start, x_end, y_start, y_end)\n",
    "        end\n",
    "    end\n",
    "    # last row\n",
    "    x_start, x_end = s[1]-patch_size+1, s[1]\n",
    "    for j = 1 : y-1\n",
    "        y_start = 1+(j-1)*patch_size_half\n",
    "        y_end = y_start+patch_size-1\n",
    "        # check patch\n",
    "        if mean(mask[x_start:x_end, y_start:y_end]) > 0.35\n",
    "            # save patch\n",
    "            ct += 1\n",
    "            img_patches[:, :, 1, ct] = (img[x_start:x_end, y_start:y_end])\n",
    "            locations[ct] = (x_start, x_end, y_start, y_end)\n",
    "        end\n",
    "    end\n",
    "    # right col\n",
    "    y_start, y_end = s[2]-patch_size+1, s[2]\n",
    "    # check patch\n",
    "    if mean(mask[x_start:x_end, y_start:y_end]) > 0.35\n",
    "        # save patch\n",
    "        ct += 1\n",
    "        img_patches[:, :, 1, ct] = (img[x_start:x_end, y_start:y_end])\n",
    "        locations[ct] = (x_start, x_end, y_start, y_end)\n",
    "    end\n",
    "    # return\n",
    "    return img_patches, locations, num_patches\n",
    "end"
   ]
  },
  {
   "cell_type": "code",
   "execution_count": 3,
   "metadata": {},
   "outputs": [
    {
     "data": {
      "text/plain": [
       "lossfn (generic function with 1 method)"
      ]
     },
     "metadata": {},
     "output_type": "display_data"
    }
   ],
   "source": [
    "function pick_valid_images(valid_dir; target_num_images = 10)\n",
    "    picked_images = []\n",
    "    image_dir = joinpath(valid_dir,\"image\")\n",
    "    label_dir = joinpath(valid_dir,\"label\")\n",
    "    SIDs = readdir(image_dir)\n",
    "    ct_empty_target, ct_nonempty_target = 0,0\n",
    "    for SID in SIDs\n",
    "        # early term\n",
    "        if ct_empty_target+ct_nonempty_target >= target_num_images\n",
    "            break\n",
    "        end\n",
    "        curr_dir = joinpath(label_dir, SID)\n",
    "        if !isdir(curr_dir)\n",
    "            continue\n",
    "        end\n",
    "        for f in readdir(curr_dir)\n",
    "            if f[end-2:end] == \"png\"\n",
    "                curr_png = Float32.(Images.load(joinpath(curr_dir, f)))\n",
    "                # # Randomly choose this image\n",
    "                # choose = rand()<0.5? false : true\n",
    "                choose = true\n",
    "                if choose\n",
    "                    img_path = joinpath(image_dir, SID, f[1:end-3]*\"dcm\")\n",
    "                    if sum(curr_png) > 0\n",
    "                        if ct_nonempty_target < ceil(target_num_images / 2)\n",
    "                            ct_nonempty_target += 1\n",
    "                            dcm_img = Float32.(dcm_parse(img_path)[(0x7fe0, 0x0010)])\n",
    "                            println(SID)\n",
    "                            push!(picked_images, (dcm_img, curr_png))\n",
    "                        end\n",
    "                    else\n",
    "                        if ct_empty_target < ceil(target_num_images / 2)\n",
    "                            ct_empty_target += 1\n",
    "                            dcm_img = Float32.(dcm_parse(img_path)[(0x7fe0, 0x0010)])\n",
    "                            println(SID)\n",
    "                            push!(picked_images, (dcm_img, curr_png))\n",
    "                        end\n",
    "                    end\n",
    "                end\n",
    "            end\n",
    "            # early term\n",
    "            if ct_empty_target+ct_nonempty_target >= target_num_images\n",
    "                break\n",
    "            end\n",
    "        end\n",
    "    end\n",
    "    println(\"Picked $ct_nonempty_target images with BAC and $ct_empty_target images without BAC.\")\n",
    "    return picked_images\n",
    "end\n",
    "\n",
    "function lossfn(ŷ, y, epoch; ϵ=1f-3)\n",
    "    ignore_derivatives() do\n",
    "        # dice\n",
    "        @inbounds loss_dice = \n",
    "            \n",
    "        1f0 - (muladd(2f0, sum(ŷ .* y), ϵ) / (sum(ŷ .^ 2) + sum(y .^ 2) + ϵ))\n",
    "        # # HD\t\treturn 1 - (2 * sum(y .* ŷ) + esp)/ (sum(y)+sum(ŷ) + esp)\n",
    "        # ŷ_dtm = zeros(Float32, size(ŷ))\t\treturn 1 - (2 * sum(y .* ŷ) + esp)/ (sum(y)+sum(ŷ) + esp)\n",
    "        # y_dtm = zeros(Float32, size(ŷ))\n",
    "        # # @inbounds loss_dice1 = \n",
    "        # # 1f0 - (muladd(2f0, sum(ŷ[:,:,1,:] .* y[:,:,1,:]), ϵ) / (sum(ŷ[:,:,1,:] .^ 2) + sum(y[:,:,1,:] .^ 2) + ϵ))\n",
    "        # ŷ_round = round.(ŷ)\n",
    "        # if sum(ŷ_round) > 0f0\n",
    "        #     ŷ_dtm = \n",
    "        #     distance_transform(feature_transform(Bool.(ŷ_round)))\n",
    "        # else\n",
    "        #     ŷ_dtm = fill(1f3, size(ŷ_dtm))\n",
    "        # end\n",
    "        # if sum(y) > 0f0\n",
    "        #     y_dtm = \n",
    "        #     distance_transform(feature_transform(Bool.(round.(y))))\n",
    "        # else\n",
    "        #     y_dtm = fill(1f3, size(ŷ_dtm))\n",
    "        # end\n",
    "        # # FluxMPI.fluxmpi_println(\"$(minimum(ŷ_dtm)), $(maximum(ŷ_dtm)), $(minimum(y_dtm)), $(maximum(y_dtm))\")\n",
    "        # loss_hd = mean(((ŷ .- y) .^ 2) .* (ŷ_dtm .^ 2 .+ y_dtm .^ 2))\n",
    "\n",
    "        println(\"epoch#$epoch: loss_dice2 = $loss_dice\")\n",
    "        # return ŷ_dtm, y_dtm\n",
    "        return loss_dice\n",
    "    end\n",
    "end"
   ]
  },
  {
   "cell_type": "code",
   "execution_count": 4,
   "metadata": {},
   "outputs": [
    {
     "data": {
      "text/plain": [
       "pred_img (generic function with 1 method)"
      ]
     },
     "metadata": {},
     "output_type": "display_data"
    }
   ],
   "source": [
    "function pred_img(img_in, model_info)\n",
    "    # get binary mask\n",
    "    # @info \"Getting binary mask...\"\n",
    "    img = deepcopy(Float32.(img_in))\n",
    "    img_out = zeros(Float32, size(img))\n",
    "    img_mask = 1 .- round.(zoom_pxiel_values(img_in))\n",
    "    \n",
    "    # patch img_in\n",
    "    # @info \"Patching image...\"\n",
    "    img_patches, locations, num_patches = patch_image(img, img_mask)\n",
    "    pred_patches = Array{Float32, 3}(undef, patch_size, patch_size, num_patches)\n",
    "\n",
    "    # load model\n",
    "    # @info \"Loading model...\"\n",
    "    model, ps, st = model_info\n",
    "\n",
    "    # apply model on all patches\n",
    "    # @info \"Running predictions...\"\n",
    "    for i = 1 : num_patches\n",
    "        ignore_derivatives() do\n",
    "            curr_patch = (img_patches[:,:,:,i:i]) |> gpu # 256*256*1*1\n",
    "            curr_pred = model(curr_patch, ps, st)[1] |> cpu # 256*256*2*1\n",
    "            pred_patches[:,:,i] = curr_pred[:,:,1,1]\n",
    "        end\n",
    "    end\n",
    "\n",
    "    # combines patch to pred_out\n",
    "    # @info \"Gathering output\"\n",
    "    Threads.@threads for i = 1 : num_patches\n",
    "        x_start, x_end, y_start, y_end = locations[i]\n",
    "        for x = x_start : x_end\n",
    "            for y = y_start : y_end\n",
    "                img_out[x,y] = pred_patches[x-x_start+1,y-y_start+1,i]>=0.5 ? 1f0 : img_out[x,y]\n",
    "                # img_out[x,y] += pred_patches[x-x_start+1,y-y_start+1,i]\n",
    "            end\n",
    "        end\n",
    "    end\n",
    "    \n",
    "    return img_out, pred_patches\n",
    "end"
   ]
  },
  {
   "cell_type": "code",
   "execution_count": 26,
   "metadata": {},
   "outputs": [
    {
     "data": {
      "text/plain": [
       "pick_valid_images_using_SIDs (generic function with 1 method)"
      ]
     },
     "metadata": {},
     "output_type": "display_data"
    }
   ],
   "source": [
    "function pick_valid_images_using_SIDs(valid_dir, SIDs)\n",
    "    picked_images = []\n",
    "\n",
    "    image_dir = joinpath(valid_dir,\"image\")\n",
    "    label_dir = joinpath(valid_dir,\"label\")\n",
    "\n",
    "    for SID in SIDs\n",
    "        curr_dir = joinpath(label_dir, SID)\n",
    "        if !isdir(curr_dir)\n",
    "            continue\n",
    "        end\n",
    "        for f in readdir(curr_dir)\n",
    "            f_name, f_ext = split(f)\n",
    "            if f_ext == \".png\"\n",
    "                img_path = joinpath(image_dir, SID, f_name*\".dcm\")\n",
    "                curr_png = Float32.(Images.load(joinpath(curr_dir, f)))\n",
    "                dcm_img = Float32.(dcm_parse(img_path)[(0x7fe0, 0x0010)])\n",
    "                push!(picked_images, (dcm_img, curr_png))\n",
    "            end\n",
    "        end\n",
    "    end\n",
    "    \n",
    "    return picked_images\n",
    "end"
   ]
  },
  {
   "cell_type": "markdown",
   "metadata": {},
   "source": [
    "# Get predictions"
   ]
  },
  {
   "cell_type": "code",
   "execution_count": 13,
   "metadata": {},
   "outputs": [
    {
     "data": {
      "text/plain": [
       "5-element Vector{Symbol}:\n",
       " :valid_pool\n",
       " :train_pool\n",
       " :valid_SIDs\n",
       " :train_SIDs\n",
       " :total_number_images_train"
      ]
     },
     "metadata": {},
     "output_type": "display_data"
    }
   ],
   "source": [
    "@load \"data_loader_pools_SIDs.jld\" valid_pool train_pool valid_SIDs train_SIDs total_number_images_train"
   ]
  },
  {
   "cell_type": "code",
   "execution_count": 25,
   "metadata": {},
   "outputs": [],
   "source": [
    "# # pick some valid set images\n",
    "# valid_images = pick_valid_images(valid_data_dir);"
   ]
  },
  {
   "cell_type": "code",
   "execution_count": 27,
   "metadata": {},
   "outputs": [
    {
     "ename": "UndefVarError",
     "evalue": "UndefVarError: `valid_dir` not defined",
     "output_type": "error",
     "traceback": [
      "UndefVarError: `valid_dir` not defined\n",
      "\n",
      "Stacktrace:\n",
      " [1] pick_valid_images_using_SIDs(SIDs::Vector{Any})\n",
      "   @ Main c:\\Users\\wenbl13\\Desktop\\BAC\\BAC Project\\4.3_load_model_with_valid_set.ipynb:4\n",
      " [2] top-level scope\n",
      "   @ c:\\Users\\wenbl13\\Desktop\\BAC\\BAC Project\\4.3_load_model_with_valid_set.ipynb:8"
     ]
    }
   ],
   "source": [
    "valid_sids = []\n",
    "for sid in readdir(raw\"C:\\Users\\wenbl13\\Desktop\\BAC\\collected_dataset_for_ML\\valid\\image\")\n",
    "    if !(sid in train_SIDs) && sid[1:3] == \"SID\"\n",
    "        push!(valid_sids, sid)\n",
    "    end\n",
    "end\n",
    "\n",
    "valid_images = pick_valid_images_using_SIDs(valid_sids);"
   ]
  },
  {
   "cell_type": "code",
   "execution_count": 22,
   "metadata": {},
   "outputs": [
    {
     "data": {
      "text/plain": [
       "true"
      ]
     },
     "metadata": {},
     "output_type": "display_data"
    }
   ],
   "source": [
    "\"SID-111385\" in train_SIDs"
   ]
  },
  {
   "cell_type": "code",
   "execution_count": 6,
   "metadata": {},
   "outputs": [],
   "source": [
    "temp_x, temp_y = valid_images[1];"
   ]
  },
  {
   "cell_type": "code",
   "execution_count": 8,
   "metadata": {},
   "outputs": [
    {
     "name": "stderr",
     "output_type": "stream",
     "text": [
      "┌ Warning: Using `gpu` inside performance critical code will cause massive slowdowns due to type inference failure. Please update your code to use `gpu_device` API.\n",
      "└ @ Lux C:\\Users\\wenbl13\\.julia\\packages\\Lux\\5YzHA\\src\\deprecated.jl:28\n"
     ]
    },
    {
     "name": "stdout",
     "output_type": "stream",
     "text": [
      "epoch#11: loss_dice2 = 0.17204428\n"
     ]
    }
   ],
   "source": [
    "epoch_start = 11\n",
    "epoch_end = 11\n",
    "total_num_epochs = epoch_end - epoch_start + 1\n",
    "results = Array{Float32, 3}(undef, size(temp_x)[1], size(temp_x)[2], total_num_epochs)\n",
    "losses = Array{Float32, 1}(undef, total_num_epochs)\n",
    "model = unet2D(1, 1)\n",
    "\n",
    "for epoch_idx = epoch_start:epoch_end\n",
    "    # load ps and st\n",
    "    model_name = \"saved_train_info_$epoch_idx.jld2\"\n",
    "    model_path = joinpath(saved_model_dir, model_name)\n",
    "    @load model_path ps_save st_save\n",
    "    ps = ps_save |> gpu\n",
    "    st = st_save |> gpu\n",
    "    # create model\n",
    "    model_info = (model, ps, st);\n",
    "    # get prediction\n",
    "    result, _ = pred_img(temp_x, model_info);\n",
    "    results[:, :, epoch_idx-epoch_start+1] = deepcopy(result)\n",
    "    losses[epoch_idx-epoch_start+1] = lossfn(result, temp_y, epoch_idx; ϵ=1f-3)\n",
    "end"
   ]
  },
  {
   "cell_type": "code",
   "execution_count": 9,
   "metadata": {},
   "outputs": [],
   "source": [
    "# Gray.(zoom_pxiel_values(normalize_img(temp_x)))"
   ]
  },
  {
   "cell_type": "code",
   "execution_count": 12,
   "metadata": {},
   "outputs": [
    {
     "data": {
      "image/png": "[encoded data removed]",
      "text/html": [
       "<img src=\"data:image/png;base64,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\">"
      ],
      "text/plain": [
       "4096×3328 Array{Gray{Float32},2} with eltype Gray{Float32}:\n",
       " Gray{Float32}(0.0)  Gray{Float32}(0.0)  …  Gray{Float32}(0.0)\n",
       " Gray{Float32}(0.0)  Gray{Float32}(0.0)     Gray{Float32}(0.0)\n",
       " Gray{Float32}(0.0)  Gray{Float32}(0.0)     Gray{Float32}(0.0)\n",
       " Gray{Float32}(0.0)  Gray{Float32}(0.0)     Gray{Float32}(0.0)\n",
       " Gray{Float32}(0.0)  Gray{Float32}(0.0)     Gray{Float32}(0.0)\n",
       " Gray{Float32}(0.0)  Gray{Float32}(0.0)  …  Gray{Float32}(0.0)\n",
       " Gray{Float32}(0.0)  Gray{Float32}(0.0)     Gray{Float32}(0.0)\n",
       " Gray{Float32}(0.0)  Gray{Float32}(0.0)     Gray{Float32}(0.0)\n",
       " Gray{Float32}(0.0)  Gray{Float32}(0.0)     Gray{Float32}(0.0)\n",
       " Gray{Float32}(0.0)  Gray{Float32}(0.0)     Gray{Float32}(0.0)\n",
       " ⋮                                       ⋱  \n",
       " Gray{Float32}(0.0)  Gray{Float32}(0.0)     Gray{Float32}(0.0)\n",
       " Gray{Float32}(0.0)  Gray{Float32}(0.0)     Gray{Float32}(0.0)\n",
       " Gray{Float32}(0.0)  Gray{Float32}(0.0)     Gray{Float32}(0.0)\n",
       " Gray{Float32}(0.0)  Gray{Float32}(0.0)  …  Gray{Float32}(0.0)\n",
       " Gray{Float32}(0.0)  Gray{Float32}(0.0)     Gray{Float32}(0.0)\n",
       " Gray{Float32}(0.0)  Gray{Float32}(0.0)     Gray{Float32}(0.0)\n",
       " Gray{Float32}(0.0)  Gray{Float32}(0.0)     Gray{Float32}(0.0)\n",
       " Gray{Float32}(0.0)  Gray{Float32}(0.0)     Gray{Float32}(0.0)\n",
       " Gray{Float32}(0.0)  Gray{Float32}(0.0)  …  Gray{Float32}(0.0)"
      ]
     },
     "metadata": {},
     "output_type": "display_data"
    }
   ],
   "source": [
    "Gray.(results[:,:,1])"
   ]
  },
  {
   "cell_type": "code",
   "execution_count": 10,
   "metadata": {},
   "outputs": [
    {
     "data": {
      "image/png": "[encoded data removed]",
      "text/html": [
       "<img src=\"data:image/png;base64,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\">"
      ],
      "text/plain": [
       "4096×3328 Array{Gray{Float32},2} with eltype Gray{Float32}:\n",
       " Gray{Float32}(0.0)  Gray{Float32}(0.0)  …  Gray{Float32}(0.0)\n",
       " Gray{Float32}(0.0)  Gray{Float32}(0.0)     Gray{Float32}(0.0)\n",
       " Gray{Float32}(0.0)  Gray{Float32}(0.0)     Gray{Float32}(0.0)\n",
       " Gray{Float32}(0.0)  Gray{Float32}(0.0)     Gray{Float32}(0.0)\n",
       " Gray{Float32}(0.0)  Gray{Float32}(0.0)     Gray{Float32}(0.0)\n",
       " Gray{Float32}(0.0)  Gray{Float32}(0.0)  …  Gray{Float32}(0.0)\n",
       " Gray{Float32}(0.0)  Gray{Float32}(0.0)     Gray{Float32}(0.0)\n",
       " Gray{Float32}(0.0)  Gray{Float32}(0.0)     Gray{Float32}(0.0)\n",
       " Gray{Float32}(0.0)  Gray{Float32}(0.0)     Gray{Float32}(0.0)\n",
       " Gray{Float32}(0.0)  Gray{Float32}(0.0)     Gray{Float32}(0.0)\n",
       " ⋮                                       ⋱  \n",
       " Gray{Float32}(0.0)  Gray{Float32}(0.0)     Gray{Float32}(0.0)\n",
       " Gray{Float32}(0.0)  Gray{Float32}(0.0)     Gray{Float32}(0.0)\n",
       " Gray{Float32}(0.0)  Gray{Float32}(0.0)     Gray{Float32}(0.0)\n",
       " Gray{Float32}(0.0)  Gray{Float32}(0.0)  …  Gray{Float32}(0.0)\n",
       " Gray{Float32}(0.0)  Gray{Float32}(0.0)     Gray{Float32}(0.0)\n",
       " Gray{Float32}(0.0)  Gray{Float32}(0.0)     Gray{Float32}(0.0)\n",
       " Gray{Float32}(0.0)  Gray{Float32}(0.0)     Gray{Float32}(0.0)\n",
       " Gray{Float32}(0.0)  Gray{Float32}(0.0)     Gray{Float32}(0.0)\n",
       " Gray{Float32}(0.0)  Gray{Float32}(0.0)  …  Gray{Float32}(0.0)"
      ]
     },
     "metadata": {},
     "output_type": "display_data"
    }
   ],
   "source": [
    "Gray.(temp_y)"
   ]
  },
  {
   "cell_type": "code",
   "execution_count": 11,
   "metadata": {},
   "outputs": [],
   "source": [
    "# imshow(results)"
   ]
  },
  {
   "cell_type": "code",
   "execution_count": 12,
   "metadata": {},
   "outputs": [],
   "source": [
    "# sum(results)"
   ]
  },
  {
   "cell_type": "code",
   "execution_count": 13,
   "metadata": {},
   "outputs": [],
   "source": [
    "# for epoch_idx = epoch_start:2:epoch_end\n",
    "#     save(\"noise_sample_epoch_$epoch_idx.png\", Gray.(results[:,:,epoch_idx]))\n",
    "# end"
   ]
  }
 ],
 "metadata": {
  "kernelspec": {
   "display_name": "Julia 1.9.2",
   "language": "julia",
   "name": "julia-1.9"
  },
  "language_info": {
   "file_extension": ".jl",
   "mimetype": "application/julia",
   "name": "julia",
   "version": "1.9.2"
  },
  "orig_nbformat": 4
 },
 "nbformat": 4,
 "nbformat_minor": 2
}
