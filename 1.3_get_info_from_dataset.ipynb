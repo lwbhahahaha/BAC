{
 "cells": [
  {
   "cell_type": "code",
   "execution_count": 1,
   "metadata": {},
   "outputs": [
    {
     "name": "stderr",
     "output_type": "stream",
     "text": [
      "\u001b[32m\u001b[1m  Activating\u001b[22m\u001b[39m project at `~/Desktop/Project BAC/BAC project/libs`\n"
     ]
    },
    {
     "name": "stderr",
     "output_type": "stream",
     "text": [
      "/snap/core20/current/lib/x86_64-linux-gnu/libstdc++.so.6: version `GLIBCXX_3.4.29' not found (required by /lib/x86_64-linux-gnu/libproxy.so.1)\n",
      "Failed to load module: /home/molloi-lab/snap/code/common/.cache/gio-modules/libgiolibproxy.so\n",
      "/snap/core20/current/lib/x86_64-linux-gnu/libstdc++.so.6: version `GLIBCXX_3.4.29' not found (required by /lib/x86_64-linux-gnu/libproxy.so.1)\n",
      "Failed to load module: /home/molloi-lab/snap/code/common/.cache/gio-modules/libgiolibproxy.so\n"
     ]
    }
   ],
   "source": [
    "using Pkg\n",
    "Pkg.activate(\"libs/\")\n",
    "using JLD2\n",
    "using DICOM\n",
    "using Dates\n",
    "using XLSX\n",
    "using Plots\n",
    "using ImageView\n",
    "using Images\n",
    "using Statistics\n",
    "\n",
    "BAC_root_dir = \"/home/molloi-lab/Desktop/Project BAC/BAC_Full_Data\"\n",
    "excel_path = \"/home/molloi-lab/Desktop/Project BAC/BAC project/Ca mass calculation Final.xlsx\"\n",
    "V_P_dict = Dict(\"L CC\" => 6, \"L MLO\" => 2, \"R CC\" => 14, \"R MLO\" => 10)\n",
    "\n",
    "image_dirs = [\"Patientstudy_BAC_2013a/data_from_KP\", \n",
    "\"Patientstudy_BAC_2013b/data_from_KP\", \n",
    "\"Patientstudy_BAC_2014/data_from_KP\", \n",
    "\"Patientstudy_BAC_2015a/data_from_KP\", \n",
    "\"Patientstudy_BAC_2015b/data_from_KP\", \n",
    "\"Patientstudy_BAC_2016/Data from KP\"]\n",
    "\n",
    "save_dir = \"/media/molloi-lab/System Files/BAC_dataset/Clean_Dataset_full\"\n",
    "\n",
    "patch_size = 256\n",
    "patch_size_half = round(Int, patch_size/2);"
   ]
  },
  {
   "cell_type": "code",
   "execution_count": 2,
   "metadata": {},
   "outputs": [],
   "source": [
    "# @load \"result_from_step1.jld\" output_csv"
   ]
  },
  {
   "cell_type": "markdown",
   "metadata": {},
   "source": [
    "# Helper functions"
   ]
  },
  {
   "cell_type": "code",
   "execution_count": 3,
   "metadata": {},
   "outputs": [
    {
     "data": {
      "text/plain": [
       "zoom_pxiel_values (generic function with 1 method)"
      ]
     },
     "metadata": {},
     "output_type": "display_data"
    }
   ],
   "source": [
    "function zoom_pixel_values(img)\n",
    "    a, b = minimum(img), maximum(img)\n",
    "    img_ = (img .- a) ./ (b - a)\n",
    "    return img_\n",
    "end"
   ]
  },
  {
   "cell_type": "code",
   "execution_count": 4,
   "metadata": {},
   "outputs": [
    {
     "data": {
      "text/plain": [
       "get_num_of_patches (generic function with 1 method)"
      ]
     },
     "metadata": {},
     "output_type": "display_data"
    }
   ],
   "source": [
    "function get_num_of_patches(img, lbl, mask)\n",
    "    s = size(img)\n",
    "    x = ceil(Int, s[1]/patch_size) + floor(Int, (s[1]-patch_size_half)/patch_size)\n",
    "    y = ceil(Int, s[2]/patch_size) + floor(Int, (s[2]-patch_size_half)/patch_size)\n",
    "    ct_empty, ct_non_empty = 0, 0\n",
    "    for i = 1 : x-1\n",
    "        x_start = 1+(i-1)*patch_size_half\n",
    "        x_end = x_start+patch_size-1\n",
    "        for j = 1 : y-1\n",
    "            y_start = 1+(j-1)*patch_size_half\n",
    "            y_end = y_start+patch_size-1\n",
    "            # check if this is forgounrd\n",
    "            if mean(mask[x_start:x_end, y_start:y_end]) > 0.35\n",
    "                # check if contains BAC\n",
    "                if sum(lbl[x_start:x_end, y_start:y_end]) > 0\n",
    "                    ct_non_empty += 1\n",
    "                else\n",
    "                    ct_empty += 1\n",
    "                end\n",
    "            end\n",
    "        end\n",
    "        # right col\n",
    "        y_start, y_end = s[2]-patch_size+1, s[2]\n",
    "        # check if this is forgounrd\n",
    "        if mean(mask[x_start:x_end, y_start:y_end]) > 0.35\n",
    "            # check if contains BAC\n",
    "            if sum(lbl[x_start:x_end, y_start:y_end]) > 0\n",
    "                ct_non_empty += 1\n",
    "            else\n",
    "                ct_empty += 1\n",
    "            end\n",
    "        end\n",
    "    end\n",
    "    # last row\n",
    "    x_start, x_end = s[1]-patch_size+1, s[1]\n",
    "    for j = 1 : y-1\n",
    "        y_start = 1+(j-1)*patch_size_half\n",
    "        y_end = y_start+patch_size-1\n",
    "        # check if this is forgounrd\n",
    "        if mean(mask[x_start:x_end, y_start:y_end]) > 0.35\n",
    "            # check if contains BAC\n",
    "            if sum(lbl[x_start:x_end, y_start:y_end]) > 0\n",
    "                ct_non_empty += 1\n",
    "            else\n",
    "                ct_empty += 1\n",
    "            end\n",
    "        end\n",
    "    end\n",
    "    # right col\n",
    "    y_start, y_end = s[2]-patch_size+1, s[2]\n",
    "    # check if this is forgounrd\n",
    "    if mean(mask[x_start:x_end, y_start:y_end]) > 0.35\n",
    "        # check if contains BAC\n",
    "        if sum(lbl[x_start:x_end, y_start:y_end]) > 0\n",
    "            ct_non_empty += 1\n",
    "        else\n",
    "            ct_empty += 1\n",
    "        end\n",
    "    end\n",
    "    return ct_empty, ct_non_empty\n",
    "end"
   ]
  },
  {
   "cell_type": "markdown",
   "metadata": {},
   "source": [
    "# Finish dataset"
   ]
  },
  {
   "cell_type": "code",
   "execution_count": 12,
   "metadata": {},
   "outputs": [
    {
     "data": {
      "text/plain": [
       "(5.122436e6, 103085.0)"
      ]
     },
     "metadata": {},
     "output_type": "display_data"
    }
   ],
   "source": [
    "# runtime ~= 20 mins\n",
    "SIDs = readdir(save_dir)\n",
    "num_SIDs = size(SIDs)[1]\n",
    "ct_array = zeros(num_SIDs, 2)\n",
    "Threads.@threads for i = 1 : num_SIDs\n",
    "    SID = SIDs[i]\n",
    "    files = readdir(joinpath(save_dir, SID))\n",
    "    for f in files\n",
    "        f_name, f_ext = splitext(f)\n",
    "        if f_ext == \".dcm\"\n",
    "            # dcm\n",
    "            splited = split(f, '.')\n",
    "            if size(splited)[1] > 3\n",
    "                ct_empty, ct_non_empty = split(splited[3], '_')\n",
    "                ct_array[i, 1] += parse(Int, ct_empty)\n",
    "                ct_array[i, 2] += parse(Int, ct_non_empty)\n",
    "            else\n",
    "                # set path\n",
    "                old_img_path = joinpath(save_dir, SID, f)\n",
    "                old_lbl_path = joinpath(save_dir, SID, f_name*\".png\")\n",
    "                # read dicom image\n",
    "                img = dcm_parse(old_img_path)[(0x7fe0, 0x0010)]\n",
    "                # read label\n",
    "                lbl = Images.load(old_lbl_path)\n",
    "                # get mask\n",
    "                mask = 1f0 .- round.(zoom_pixel_values(Float32.(img)))\n",
    "                # get num of batch\n",
    "                ct_empty, ct_non_empty = get_num_of_patches(img, lbl, mask)\n",
    "                ct_array[i, 1] += ct_empty\n",
    "                ct_array[i, 2] += ct_non_empty\n",
    "                # set new name\n",
    "                new_lbl_path = joinpath(save_dir, SID, f_name*\".$(ct_empty)_$(ct_non_empty).png\")\n",
    "                new_img_path = joinpath(save_dir, SID, f_name*\".$(ct_empty)_$(ct_non_empty).dcm\")\n",
    "                # rename\n",
    "                mv(old_img_path, new_img_path)\n",
    "                mv(old_lbl_path, new_lbl_path)\n",
    "            end\n",
    "        elseif f_ext == \".roi\"\n",
    "            # roi\n",
    "            rm(joinpath(save_dir, SID, f))\n",
    "        end\n",
    "    end\n",
    "    # GC.gc(true)\n",
    "end\n",
    "total_ct_empty, total_ct_non_empty = sum(ct_array[:, 1]), sum(ct_array[:, 2])"
   ]
  },
  {
   "cell_type": "markdown",
   "metadata": {},
   "source": [
    "Total number of BAC patches = 103085  \n",
    "Total number of wihout BAC patches = 5122436\n",
    "\n",
    "|      | img_ct | non_BAC  | BAC  |\n",
    "|------|--------|----------|------|\n",
    "| LCC  |  5111  | 1200903  | 23272|\n",
    "| LMLO |  5116  | 1376274  | 26455|\n",
    "| RCC  |  5112  | 1173377  | 24514|\n",
    "| RMLO |  5113  | 1371882  | 28844|"
   ]
  }
 ],
 "metadata": {
  "kernelspec": {
   "display_name": "Julia 1.9.2",
   "language": "julia",
   "name": "julia-1.9"
  },
  "language_info": {
   "file_extension": ".jl",
   "mimetype": "application/julia",
   "name": "julia",
   "version": "1.9.2"
  },
  "orig_nbformat": 4
 },
 "nbformat": 4,
 "nbformat_minor": 2
}
