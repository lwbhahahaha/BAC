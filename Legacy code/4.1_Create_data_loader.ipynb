{
 "cells": [
  {
   "cell_type": "markdown",
   "metadata": {},
   "source": [
    "Import the necessary packages"
   ]
  },
  {
   "cell_type": "code",
   "execution_count": 1,
   "metadata": {},
   "outputs": [
    {
     "name": "stderr",
     "output_type": "stream",
     "text": [
      "\u001b[32m\u001b[1m  Activating\u001b[22m\u001b[39m project at `~/Desktop/Project BAC/BAC project/libs`\n"
     ]
    },
    {
     "name": "stderr",
     "output_type": "stream",
     "text": [
      "┌ Warning: MPI Implementation is not CUDA Aware.\n",
      "└ @ FluxMPI /home/molloi-lab/.julia/packages/FluxMPI/OM5f6/src/FluxMPI.jl:28\n"
     ]
    },
    {
     "name": "stderr",
     "output_type": "stream",
     "text": [
      "Gtk-Message: 18:24:15.824: Failed to load module \"canberra-gtk-module\"\n",
      "Gtk-Message: 18:24:15.825: Failed to load module \"canberra-gtk-module\"\n"
     ]
    },
    {
     "data": {
      "text/plain": [
       "128"
      ]
     },
     "metadata": {},
     "output_type": "display_data"
    }
   ],
   "source": [
    "using Pkg\n",
    "Pkg.activate(\"../libs/\")\n",
    "using Lux, Random, NNlib, Zygote, LuxCUDA, CUDA, FluxMPI, JLD2, DICOM\n",
    "using Images\n",
    "using ImageView\n",
    "using MLUtils\n",
    "using Optimisers, Statistics, imageToolBox\n",
    "\n",
    "# BAC_root_dir = \"/home/molloi-lab/Desktop/Project BAC/BAC_Full_Data\"\n",
    "# excel_path = \"/home/molloi-lab/Desktop/Project BAC/BAC project/Ca mass calculation Final.xlsx\"\n",
    "# V_P_dict = Dict(\"LCC\" => 1, \"LMLO\" => 2, \"RCC\" => 3, \"RMLO\" => 4)\n",
    "# strs = [\"LCC\", \"LMLO\", \"RCC\", \"RMLO\"]\n",
    "\n",
    "# image_dirs = [\"Patientstudy_BAC_2013a/data_from_KP\", \n",
    "# \"Patientstudy_BAC_2013b/data_from_KP\", \n",
    "# \"Patientstudy_BAC_2014/data_from_KP\", \n",
    "# \"Patientstudy_BAC_2015a/data_from_KP\", \n",
    "# \"Patientstudy_BAC_2015b/data_from_KP\", \n",
    "# \"Patientstudy_BAC_2016/Data from KP\"]\n",
    "\n",
    "# save_dir = \"/media/molloi-lab/System Files/BAC_dataset/Clean_Dataset_full\"\n",
    "# save_csv_dir = \"/media/molloi-lab/System Files/BAC_dataset/splited_data.csv\"\n",
    "train_output_dir = \"/media/molloi-lab/System Files/BAC_dataset/dataset_for_ML_full\"\n",
    "\n",
    "patch_size = 256\n",
    "patch_size_half = round(Int, patch_size/2)\n",
    "\n",
    "# SIDs = readdir(save_dir)\n",
    "# num_SIDs = size(SIDs)[1];"
   ]
  },
  {
   "cell_type": "markdown",
   "metadata": {},
   "source": [
    "# 1. Prepare Data"
   ]
  },
  {
   "cell_type": "markdown",
   "metadata": {},
   "source": [
    "## 1.1 Helper functions"
   ]
  },
  {
   "cell_type": "code",
   "execution_count": 2,
   "metadata": {},
   "outputs": [
    {
     "data": {
      "text/plain": [
       "get_num_of_imgs"
      ]
     },
     "metadata": {},
     "output_type": "display_data"
    }
   ],
   "source": [
    "\"\"\"\n",
    "    This function zoom all pixel values into [0, 1].\n",
    "\"\"\"\n",
    "function zoom_pxiel_values(img)\n",
    "    a, b = minimum(img), maximum(img)\n",
    "    img_ = (img .- a) ./ (b - a)\n",
    "    return img_\n",
    "end\n",
    "\n",
    "function normalize_img(img)\n",
    "    m = maximum(img)\n",
    "    img = m .- img\n",
    "    a = mean(img)\n",
    "    s = std(img)\n",
    "    img = (img .- a) ./ s \n",
    "    # println(\"mean = $(mean(img)), std = $(std(img))\")\n",
    "    return img\n",
    "end\n",
    "\n",
    "\"\"\"\n",
    "    This function takes in a img of various size, \n",
    "    returns patches with size = patch_size * patch_size.\n",
    "\"\"\"\n",
    "function patch_image(img, mask, lbl, num_patches_empty, num_patches_non_empty)\n",
    "    # img_max = maximum(img)\n",
    "    # img = img_max .- img\n",
    "    img = normalize_img(img)\n",
    "    s = size(img)\n",
    "    x = ceil(Int, s[1]/patch_size) + floor(Int, (s[1]-patch_size_half)/patch_size)\n",
    "    y = ceil(Int, s[2]/patch_size) + floor(Int, (s[2]-patch_size_half)/patch_size)\n",
    "    img_patches_empty = Array{Float16, 4}(undef, patch_size, patch_size, 1, num_patches_empty)\n",
    "    img_patches_non_empty  = Array{Float16, 4}(undef, patch_size, patch_size, 1, num_patches_non_empty)\n",
    "    lbl_patches_non_empty  = Array{Float16, 4}(undef, patch_size, patch_size, 1, num_patches_non_empty)\n",
    "    ct_empty , ct_non_empty = 0, 0\n",
    "    for i = 1 : x-1\n",
    "        x_start = 1+(i-1)*patch_size_half\n",
    "        x_end = x_start+patch_size-1\n",
    "        for j = 1 : y-1\n",
    "            y_start = 1+(j-1)*patch_size_half\n",
    "            y_end = y_start+patch_size-1\n",
    "            # check patch\n",
    "            if mean(mask[x_start:x_end, y_start:y_end]) > 0.35\n",
    "                # save patch\n",
    "                if sum(lbl[x_start:x_end, y_start:y_end]) > 0\n",
    "                    ct_non_empty += 1\n",
    "                    img_patches_non_empty[:, :, 1, ct_non_empty] = img[x_start:x_end, y_start:y_end]\n",
    "                    lbl_patches_non_empty[:, :, 1, ct_non_empty] = lbl[x_start:x_end, y_start:y_end]\n",
    "                else\n",
    "                    ct_empty += 1\n",
    "                    img_patches_empty[:, :, 1, ct_empty] = img[x_start:x_end, y_start:y_end]\n",
    "                end\n",
    "            end\n",
    "        end\n",
    "        # right col\n",
    "        y_start, y_end = s[2]-patch_size+1, s[2]\n",
    "        # check patch\n",
    "        if mean(mask[x_start:x_end, y_start:y_end]) > 0.35\n",
    "            # save patch\n",
    "            if sum(lbl[x_start:x_end, y_start:y_end]) > 0\n",
    "                ct_non_empty += 1\n",
    "                img_patches_non_empty[:, :, 1, ct_non_empty] = (img[x_start:x_end, y_start:y_end])\n",
    "                lbl_patches_non_empty[:, :, 1, ct_non_empty] = lbl[x_start:x_end, y_start:y_end]\n",
    "            else\n",
    "                ct_empty += 1\n",
    "                img_patches_empty[:, :, 1, ct_empty] = (img[x_start:x_end, y_start:y_end])\n",
    "            end\n",
    "        end\n",
    "    end\n",
    "    # last row\n",
    "    x_start, x_end = s[1]-patch_size+1, s[1]\n",
    "    for j = 1 : y-1\n",
    "        y_start = 1+(j-1)*patch_size_half\n",
    "        y_end = y_start+patch_size-1\n",
    "        # check patch\n",
    "        if mean(mask[x_start:x_end, y_start:y_end]) > 0.35\n",
    "            # save patch\n",
    "            if sum(lbl[x_start:x_end, y_start:y_end]) > 0\n",
    "                ct_non_empty += 1\n",
    "                img_patches_non_empty[:, :, 1, ct_non_empty] = (img[x_start:x_end, y_start:y_end])\n",
    "                lbl_patches_non_empty[:, :, 1, ct_non_empty] = lbl[x_start:x_end, y_start:y_end]\n",
    "            else\n",
    "                ct_empty += 1\n",
    "                img_patches_empty[:, :, 1, ct_empty] = (img[x_start:x_end, y_start:y_end])\n",
    "            end\n",
    "        end\n",
    "    end\n",
    "    # right col\n",
    "    y_start, y_end = s[2]-patch_size+1, s[2]\n",
    "    # check patch\n",
    "    if mean(mask[x_start:x_end, y_start:y_end]) > 0.35\n",
    "        # save patch\n",
    "        if sum(lbl[x_start:x_end, y_start:y_end]) > 0\n",
    "            ct_non_empty += 1\n",
    "            img_patches_non_empty[:, :, 1, ct_non_empty] = (img[x_start:x_end, y_start:y_end])\n",
    "            lbl_patches_non_empty[:, :, 1, ct_non_empty] = lbl[x_start:x_end, y_start:y_end]\n",
    "        else\n",
    "            ct_empty += 1\n",
    "            img_patches_empty[:, :, 1, ct_empty] = (img[x_start:x_end, y_start:y_end])\n",
    "        end\n",
    "    end\n",
    "    # return\n",
    "    return img_patches_empty, img_patches_non_empty, lbl_patches_non_empty\n",
    "end\n",
    "\n",
    "\"\"\"\n",
    "    This function fixs the path to the images and labels.\n",
    "\"\"\"\n",
    "function fix_path!(data_set)\n",
    "    num_data = size(data_set)[1]\n",
    "    Threads.@threads for i = 1 : num_data\n",
    "        for j = 1 : 2\n",
    "            for k = 1 : 4\n",
    "                # modify img path\n",
    "                splited = split(deepcopy(data_set[i][j][k]), \"\\\\\")\n",
    "                if size(splited)[1] > 1\n",
    "                    new_path = joinpath(\"../collected_dataset_for_ML\", joinpath(splited[4:end]))\n",
    "                    data_set[i][j][k] = new_path\n",
    "                end\n",
    "            end\n",
    "        end\n",
    "    end\n",
    "end\n",
    "\n",
    "\"\"\"\n",
    "    Helper functions for `get_num_of_imgs(data_set)`.\n",
    "\"\"\"\n",
    "function get_num_of_forgound_patches(img, lbl)\n",
    "    s = size(img)\n",
    "    x = ceil(Int, s[1]/patch_size) + floor(Int, (s[1]-patch_size_half)/patch_size)\n",
    "    y = ceil(Int, s[2]/patch_size) + floor(Int, (s[2]-patch_size_half)/patch_size)\n",
    "    ct_empty, ct_non_empty = 0, 0\n",
    "    for i = 1 : x-1\n",
    "        x_start = 1+(i-1)*patch_size_half\n",
    "        x_end = x_start+patch_size-1\n",
    "        for j = 1 : y-1\n",
    "            y_start = 1+(j-1)*patch_size_half\n",
    "            y_end = y_start+patch_size-1\n",
    "            # check patch\n",
    "            if mean(img[x_start:x_end, y_start:y_end]) > 0.35\n",
    "                if sum(lbl[x_start:x_end, y_start:y_end]) > 0\n",
    "                    ct_non_empty += 1\n",
    "                else\n",
    "                    ct_empty += 1\n",
    "                end\n",
    "            end\n",
    "        end\n",
    "        # right col\n",
    "        y_start, y_end = s[2]-patch_size+1, s[2]\n",
    "        # check patch\n",
    "        if mean(img[x_start:x_end, y_start:y_end]) > 0.35\n",
    "            if sum(lbl[x_start:x_end, y_start:y_end]) > 0\n",
    "                ct_non_empty += 1\n",
    "            else\n",
    "                ct_empty += 1\n",
    "            end\n",
    "        end\n",
    "    end\n",
    "    # last row\n",
    "    x_start, x_end = s[1]-patch_size+1, s[1]\n",
    "    for j = 1 : y-1\n",
    "        y_start = 1+(j-1)*patch_size_half\n",
    "        y_end = y_start+patch_size-1\n",
    "        # check patch\n",
    "        if mean(img[x_start:x_end, y_start:y_end]) > 0.35\n",
    "            if sum(lbl[x_start:x_end, y_start:y_end]) > 0\n",
    "                ct_non_empty += 1\n",
    "            else\n",
    "                ct_empty += 1\n",
    "            end\n",
    "        end\n",
    "    end\n",
    "    # right col\n",
    "    y_start, y_end = s[2]-patch_size+1, s[2]\n",
    "    # check patch\n",
    "    if mean(img[x_start:x_end, y_start:y_end]) > 0.35\n",
    "        if sum(lbl[x_start:x_end, y_start:y_end]) > 0\n",
    "            ct_non_empty += 1\n",
    "        else\n",
    "            ct_empty += 1\n",
    "        end\n",
    "    end\n",
    "    return ct_empty, ct_non_empty\n",
    "end\n",
    "\n",
    "\"\"\"\n",
    "    This function check how many number of images and labels there will be after patching.\n",
    "\"\"\"\n",
    "function get_num_of_imgs(data_set)\n",
    "    num_data = size(data_set)[1]\n",
    "    cts_empty = Array{Int}(undef, num_data*4)\n",
    "    cts_non_empty = Array{Int}(undef, num_data*4)\n",
    "    Threads.@threads for i = 1 : num_data\n",
    "        @views t = train_set[i]\n",
    "        for j = 1 : 4\n",
    "            # read DICOM\n",
    "            img = Float32.(read_dicom(t[1][j])[4])\n",
    "            # read png mask images\n",
    "            mask = get_breast_mask(img)\n",
    "            # read label patching\n",
    "            lbl = Images.load(t[2][j])\n",
    "            # count non-background patches and save\n",
    "            cts_empty[(i-1)*4+j], cts_non_empty[(i-1)*4+j] = get_num_of_forgound_patches(mask, lbl)\n",
    "        end\n",
    "    end\n",
    "    return cts_empty, cts_non_empty\n",
    "end"
   ]
  },
  {
   "cell_type": "markdown",
   "metadata": {},
   "source": [
    "## 1.2 Prepare Data"
   ]
  },
  {
   "cell_type": "code",
   "execution_count": 3,
   "metadata": {},
   "outputs": [],
   "source": [
    "data_dir1 = \"/home/molloi-lab/Desktop/BAC Dataset/\";\n",
    "data_dir2 = joinpath(data_dir1, \"collected_dataset_for_ML/train\");"
   ]
  },
  {
   "cell_type": "code",
   "execution_count": 4,
   "metadata": {},
   "outputs": [
    {
     "data": {
      "text/plain": [
       "true"
      ]
     },
     "metadata": {},
     "output_type": "display_data"
    }
   ],
   "source": [
    "isdir(data_dir2)"
   ]
  },
  {
   "cell_type": "code",
   "execution_count": 5,
   "metadata": {},
   "outputs": [],
   "source": [
    "@load \"clean_set_step2_for_ubuntu.jld2\" train_set valid_set\n",
    "\n",
    "for i = 1: size(train_set)[1]\n",
    "    for k = 1 : 2\n",
    "        for j = 1: size(train_set[i][k])[1]\n",
    "            splited = split(train_set[i][k][j], '/')\n",
    "            p = data_dir2\n",
    "            for w = 1 : size(splited)[1]\n",
    "                if length(splited[w]) >= 5 && (splited[w][1:5] == \"image\" || splited[w][1:5] == \"label\")\n",
    "                    p = joinpath(p, joinpath(splited[w:end]))\n",
    "                    break\n",
    "                end\n",
    "            end\n",
    "            train_set[i][k][j] = p\n",
    "            if !isfile(p)\n",
    "                println(i)\n",
    "            end\n",
    "        end\n",
    "    end\n",
    "end"
   ]
  },
  {
   "cell_type": "markdown",
   "metadata": {},
   "source": [
    "### 1.2.1 Load train set & valid set\n",
    "container format: patch_size * patch_size * 1 * num_imgs"
   ]
  },
  {
   "cell_type": "code",
   "execution_count": 6,
   "metadata": {},
   "outputs": [
    {
     "data": {
      "text/plain": [
       "(269453, 61334)"
      ]
     },
     "metadata": {},
     "output_type": "display_data"
    }
   ],
   "source": [
    "# get num of total patches(train)\n",
    "cts_empty, cts_non_empty = get_num_of_imgs(train_set)\n",
    "total_empty, total_non_empty = sum(cts_empty), sum(cts_non_empty)\n",
    "# num_patches_train_ = sum(ct_patches_train)"
   ]
  },
  {
   "cell_type": "code",
   "execution_count": 7,
   "metadata": {},
   "outputs": [
    {
     "data": {
      "text/plain": [
       "269453"
      ]
     },
     "metadata": {},
     "output_type": "display_data"
    }
   ],
   "source": [
    "total_empty"
   ]
  },
  {
   "cell_type": "code",
   "execution_count": 8,
   "metadata": {},
   "outputs": [
    {
     "data": {
      "text/plain": [
       "61334"
      ]
     },
     "metadata": {},
     "output_type": "display_data"
    }
   ],
   "source": [
    "total_non_empty"
   ]
  },
  {
   "cell_type": "code",
   "execution_count": 9,
   "metadata": {},
   "outputs": [],
   "source": []
  },
  {
   "cell_type": "code",
   "execution_count": 10,
   "metadata": {},
   "outputs": [
    {
     "name": "stderr",
     "output_type": "stream",
     "text": [
      "┌ Info: Cutting size to 20%...\n",
      "└ @ Main /home/molloi-lab/Desktop/Project BAC/BAC project/Legacy code/4.1_Create_data_loader.ipynb:38\n",
      "┌ Info: Merging...\n",
      "└ @ Main /home/molloi-lab/Desktop/Project BAC/BAC project/Legacy code/4.1_Create_data_loader.ipynb:46\n"
     ]
    },
    {
     "name": "stderr",
     "output_type": "stream",
     "text": [
      "┌ Info: Shuffling...\n",
      "└ @ Main /home/molloi-lab/Desktop/Project BAC/BAC project/Legacy code/4.1_Create_data_loader.ipynb:55\n",
      "┌ Info: num_empty = 61334, num_non_empty = 61334\n",
      "└ @ Main /home/molloi-lab/Desktop/Project BAC/BAC project/Legacy code/4.1_Create_data_loader.ipynb:60\n"
     ]
    }
   ],
   "source": [
    "GC.gc(true)\n",
    "# runtime: 60s\n",
    "num_train_data = size(train_set)[1]\n",
    "train_container_images_empty = Array{Float16, 4}(undef, patch_size, patch_size, 1, total_empty)\n",
    "train_container_images_non_empty = Array{Float16, 4}(undef, patch_size, patch_size, 1, total_non_empty)\n",
    "train_container_masks_non_empty = Array{Float16, 4}(undef, patch_size, patch_size, 1, total_non_empty)\n",
    "\n",
    "Threads.@threads for i = 1 : num_train_data\n",
    "    start_idx_empty = sum(cts_empty[1:(i-1)*4])+1\n",
    "    start_idx_non_empty = sum(cts_non_empty[1:(i-1)*4])+1\n",
    "    for j = 1 : 4 # 4 images each patient\n",
    "        num_patches_empty = cts_empty[(i-1)*4+j]\n",
    "        num_patches_non_empty = cts_non_empty[(i-1)*4+j]\n",
    "        # read dicom image\n",
    "        img = dcm_parse(train_set[i][1][j])[(0x7fe0, 0x0010)]\n",
    "        # read png mask\n",
    "        # mask = Images.load(train_set[i][1][j][1:end-3] * \"png\") commemted out because some masks are not correct\n",
    "        mask = deepcopy(Float32.(img))\n",
    "        mask = 1f0 .- round.(zoom_pxiel_values(mask))\n",
    "        # read png image\n",
    "        lbl = Images.load(train_set[i][2][j])\n",
    "        # process image\n",
    "        img_patches_empty, img_patches_non_empty, lbl_patches_non_empty = patch_image(img, mask, lbl, num_patches_empty, num_patches_non_empty)\n",
    "        # set end idx \n",
    "        end_idx_empty = start_idx_empty+num_patches_empty-1\n",
    "        end_idx_non_empty = start_idx_non_empty+num_patches_non_empty-1\n",
    "        # save\n",
    "        train_container_images_empty[:, :, 1, start_idx_empty : end_idx_empty] = img_patches_empty\n",
    "        train_container_images_non_empty[:, :, 1, start_idx_non_empty : end_idx_non_empty] = img_patches_non_empty\n",
    "        train_container_masks_non_empty[:, :, 1, start_idx_non_empty : end_idx_non_empty] = lbl_patches_non_empty\n",
    "        # set idx\n",
    "        start_idx_empty = end_idx_empty\n",
    "        start_idx_non_empty = end_idx_non_empty\n",
    "    end\n",
    "end\n",
    "# 1. Empty : non-empty ~= 1:1\n",
    "# cut size to 20%\n",
    "@info \"Cutting size to 20%...\"\n",
    "# reduced_size = div(size(train_container_images_empty, 4), 5)\n",
    "reduced_size = total_non_empty\n",
    "random_indices = randperm(size(train_container_images_empty, 4))\n",
    "selected_indices = random_indices[1:reduced_size]\n",
    "train_container_images_empty = train_container_images_empty[:, :, :, selected_indices]\n",
    "train_container_masks_empty = zeros(Float32, size(train_container_images_empty))\n",
    "# combine \n",
    "@info \"Merging...\"\n",
    "total_size = total_non_empty + reduced_size\n",
    "train_container_images = Array{Float16, 4}(undef, patch_size, patch_size, 1, total_size)\n",
    "train_container_images[:, :, :, 1:total_non_empty] .= train_container_images_non_empty\n",
    "train_container_images[:, :, :, total_non_empty + 1:end] .= train_container_images_empty\n",
    "train_container_masks = Array{Float16, 4}(undef, patch_size, patch_size, 1, total_size)\n",
    "train_container_masks[:, :, :, 1:total_non_empty] .= train_container_masks_non_empty\n",
    "train_container_masks[:, :, :, total_non_empty + 1:end] .= train_container_masks_empty\n",
    "# shuffle\n",
    "@info \"Shuffling...\"\n",
    "random_indices = randperm(size(train_container_images, 4))\n",
    "train_container_images = train_container_images[:, :, :, random_indices]\n",
    "train_container_masks = train_container_masks[:, :, :, random_indices]\n",
    "# summary\n",
    "@info \"num_empty = $(size(train_container_images_empty)[4]), num_non_empty = $(size(train_container_images_non_empty)[4])\"\n",
    "\n",
    "# # 2. Only non-empty\n",
    "# # combine \n",
    "# train_container_images = train_container_images_non_empty\n",
    "# train_container_masks = train_container_masks_non_empty\n",
    "# # summary\n",
    "# @info \"num_non_empty = $(size(train_container_images_non_empty[4]))\"\n",
    "\n",
    "\n",
    "GC.gc(true)"
   ]
  },
  {
   "cell_type": "code",
   "execution_count": 11,
   "metadata": {},
   "outputs": [],
   "source": [
    "# # get num of total patches(valid)\n",
    "# ct_patches_valid = get_num_of_imgs(valid_set)\n",
    "# num_patches_valid = sum(ct_patches_valid)\n",
    "# GC.gc(true)"
   ]
  },
  {
   "cell_type": "code",
   "execution_count": 12,
   "metadata": {},
   "outputs": [],
   "source": [
    "# # runtime: 7.5s\n",
    "# num_valid_data = size(valid_set)[1]\n",
    "# valid_container_images = Array{Float16, 4}(undef, patch_size, patch_size, 1, num_patches_valid)\n",
    "# valid_container_masks = Array{Float16, 4}(undef, patch_size, patch_size, 1, num_patches_valid)\n",
    "# Threads.@threads for i = 1 : num_valid_data\n",
    "#     start_idx = sum(ct_patches_valid[1:(i-1)*4])+1\n",
    "#     for j = 1 : 4 # 4 images each patient\n",
    "#         num_patches = ct_patches_valid[(i-1)*4+j]\n",
    "#         # read dicom image\n",
    "#         img = dcm_parse(valid_set[i][1][j])[(0x7fe0, 0x0010)]\n",
    "#         # read png mask\n",
    "#         mask = Images.load(valid_set[i][1][j][1:end-3] * \"png\")\n",
    "#         # read png image\n",
    "#         lbl = Images.load(valid_set[i][2][j])\n",
    "#         # process image\n",
    "#         img_patches, lbl_patches = patch_image(img, mask, lbl, num_patches)\n",
    "#         # set end idx \n",
    "#         end_idx = start_idx+num_patches-1\n",
    "#         # save\n",
    "#         valid_container_images[:, :, 1, start_idx : end_idx] = img_patches\n",
    "#         valid_container_masks[:, :, 1, start_idx : end_idx] = lbl_patches\n",
    "#         start_idx = end_idx\n",
    "#     end\n",
    "# end"
   ]
  },
  {
   "cell_type": "markdown",
   "metadata": {},
   "source": [
    "### 1.2.2 Save data"
   ]
  },
  {
   "cell_type": "code",
   "execution_count": 13,
   "metadata": {},
   "outputs": [
    {
     "data": {
      "text/plain": [
       "122668"
      ]
     },
     "metadata": {},
     "output_type": "display_data"
    }
   ],
   "source": [
    "total_num_patches = size(train_container_images)[4]"
   ]
  },
  {
   "cell_type": "code",
   "execution_count": 14,
   "metadata": {},
   "outputs": [
    {
     "data": {
      "text/plain": [
       "30667"
      ]
     },
     "metadata": {},
     "output_type": "display_data"
    }
   ],
   "source": [
    "each_gpu_num_patches = round(Int, total_num_patches/4)"
   ]
  },
  {
   "cell_type": "code",
   "execution_count": 15,
   "metadata": {},
   "outputs": [
    {
     "data": {
      "text/plain": [
       "7"
      ]
     },
     "metadata": {},
     "output_type": "display_data"
    }
   ],
   "source": [
    "GC.gc(true)\n",
    "b_s = 7"
   ]
  },
  {
   "cell_type": "code",
   "execution_count": 16,
   "metadata": {},
   "outputs": [
    {
     "data": {
      "text/plain": [
       "256×256×1×122668 Array{Float32, 4}:\n",
       "[:, :, 1, 1] =\n",
       " 0.0  0.0  0.0  0.0  0.0  0.0  0.0  0.0  …  0.0  0.0  0.0  0.0  0.0  0.0  0.0\n",
       " 0.0  0.0  0.0  0.0  0.0  0.0  0.0  0.0     0.0  0.0  0.0  0.0  0.0  0.0  0.0\n",
       " 0.0  0.0  0.0  0.0  0.0  0.0  0.0  0.0     0.0  0.0  0.0  0.0  0.0  0.0  0.0\n",
       " 0.0  0.0  0.0  0.0  0.0  0.0  0.0  0.0     0.0  0.0  0.0  0.0  0.0  0.0  0.0\n",
       " 0.0  0.0  0.0  0.0  0.0  0.0  0.0  0.0     0.0  0.0  0.0  0.0  0.0  0.0  0.0\n",
       " 0.0  0.0  0.0  0.0  0.0  0.0  0.0  0.0  …  0.0  0.0  0.0  0.0  0.0  0.0  0.0\n",
       " 0.0  0.0  0.0  0.0  0.0  0.0  0.0  0.0     0.0  0.0  0.0  0.0  0.0  0.0  0.0\n",
       " 0.0  0.0  0.0  0.0  0.0  0.0  0.0  0.0     0.0  0.0  0.0  0.0  0.0  0.0  0.0\n",
       " 0.0  0.0  0.0  0.0  0.0  0.0  0.0  0.0     0.0  0.0  0.0  0.0  0.0  0.0  0.0\n",
       " 0.0  0.0  0.0  0.0  0.0  0.0  0.0  0.0     0.0  0.0  0.0  0.0  0.0  0.0  0.0\n",
       " ⋮                        ⋮              ⋱       ⋮                        ⋮\n",
       " 0.0  0.0  0.0  0.0  0.0  0.0  0.0  0.0     0.0  0.0  0.0  0.0  0.0  0.0  0.0\n",
       " 0.0  0.0  0.0  0.0  0.0  0.0  0.0  0.0     0.0  0.0  0.0  0.0  0.0  0.0  0.0\n",
       " 0.0  0.0  0.0  0.0  0.0  0.0  0.0  0.0     0.0  0.0  0.0  0.0  0.0  0.0  0.0\n",
       " 0.0  0.0  0.0  0.0  0.0  0.0  0.0  0.0  …  0.0  0.0  0.0  0.0  0.0  0.0  0.0\n",
       " 0.0  0.0  0.0  0.0  0.0  0.0  0.0  0.0     0.0  0.0  0.0  0.0  0.0  0.0  0.0\n",
       " 0.0  0.0  0.0  0.0  0.0  0.0  0.0  0.0     0.0  0.0  0.0  0.0  0.0  0.0  0.0\n",
       " 0.0  0.0  0.0  0.0  0.0  0.0  0.0  0.0     0.0  0.0  0.0  0.0  0.0  0.0  0.0\n",
       " 0.0  0.0  0.0  0.0  0.0  0.0  0.0  0.0     0.0  0.0  0.0  0.0  0.0  0.0  0.0\n",
       " 0.0  0.0  0.0  0.0  0.0  0.0  0.0  0.0  …  0.0  0.0  0.0  0.0  0.0  0.0  0.0\n",
       "\n",
       "[:, :, 1, 2] =\n",
       " 0.0  0.0  0.0  0.0  0.0  0.0  0.0  0.0  …  0.0  0.0  0.0  0.0  0.0  0.0  0.0\n",
       " 0.0  0.0  0.0  0.0  0.0  0.0  0.0  0.0     0.0  0.0  0.0  0.0  0.0  0.0  0.0\n",
       " 0.0  0.0  0.0  0.0  0.0  0.0  0.0  0.0     0.0  0.0  0.0  0.0  0.0  0.0  0.0\n",
       " 0.0  0.0  0.0  0.0  0.0  0.0  0.0  0.0     0.0  0.0  0.0  0.0  0.0  0.0  0.0\n",
       " 0.0  0.0  0.0  0.0  0.0  0.0  0.0  0.0     0.0  0.0  0.0  0.0  0.0  0.0  0.0\n",
       " 0.0  0.0  0.0  0.0  0.0  0.0  0.0  0.0  …  0.0  0.0  0.0  0.0  0.0  0.0  0.0\n",
       " 0.0  0.0  0.0  0.0  0.0  0.0  0.0  0.0     0.0  0.0  0.0  0.0  0.0  0.0  0.0\n",
       " 0.0  0.0  0.0  0.0  0.0  0.0  0.0  0.0     0.0  0.0  0.0  0.0  0.0  0.0  0.0\n",
       " 0.0  0.0  0.0  0.0  0.0  0.0  0.0  0.0     0.0  0.0  0.0  0.0  0.0  0.0  0.0\n",
       " 0.0  0.0  0.0  0.0  0.0  0.0  0.0  0.0     0.0  0.0  0.0  0.0  0.0  0.0  0.0\n",
       " ⋮                        ⋮              ⋱       ⋮                        ⋮\n",
       " 0.0  0.0  0.0  0.0  0.0  0.0  0.0  0.0     0.0  0.0  0.0  0.0  0.0  0.0  0.0\n",
       " 0.0  0.0  0.0  0.0  0.0  0.0  0.0  0.0     0.0  0.0  0.0  0.0  0.0  0.0  0.0\n",
       " 0.0  0.0  0.0  0.0  0.0  0.0  0.0  0.0     0.0  0.0  0.0  0.0  0.0  0.0  0.0\n",
       " 0.0  0.0  0.0  0.0  0.0  0.0  0.0  0.0  …  0.0  0.0  0.0  0.0  0.0  0.0  0.0\n",
       " 0.0  0.0  0.0  0.0  0.0  0.0  0.0  0.0     0.0  0.0  0.0  0.0  0.0  0.0  0.0\n",
       " 0.0  0.0  0.0  0.0  0.0  0.0  0.0  0.0     0.0  0.0  0.0  0.0  0.0  0.0  0.0\n",
       " 0.0  0.0  0.0  0.0  0.0  0.0  0.0  0.0     0.0  0.0  0.0  0.0  0.0  0.0  0.0\n",
       " 0.0  0.0  0.0  0.0  0.0  0.0  0.0  0.0     0.0  0.0  0.0  0.0  0.0  0.0  0.0\n",
       " 0.0  0.0  0.0  0.0  0.0  0.0  0.0  0.0  …  0.0  0.0  0.0  0.0  0.0  0.0  0.0\n",
       "\n",
       "[:, :, 1, 3] =\n",
       " 0.0  0.0  0.0  0.0  0.0  0.0  0.0  0.0  …  0.0  0.0  0.0  0.0  0.0  0.0  0.0\n",
       " 0.0  0.0  0.0  0.0  0.0  0.0  0.0  0.0     0.0  0.0  0.0  0.0  0.0  0.0  0.0\n",
       " 0.0  0.0  0.0  0.0  0.0  0.0  0.0  0.0     0.0  0.0  0.0  0.0  0.0  0.0  0.0\n",
       " 0.0  0.0  0.0  0.0  0.0  0.0  0.0  0.0     0.0  0.0  0.0  0.0  0.0  0.0  0.0\n",
       " 0.0  0.0  0.0  0.0  0.0  0.0  0.0  0.0     0.0  0.0  0.0  0.0  0.0  0.0  0.0\n",
       " 0.0  0.0  0.0  0.0  0.0  0.0  0.0  0.0  …  0.0  0.0  0.0  0.0  0.0  0.0  0.0\n",
       " 0.0  0.0  0.0  0.0  0.0  0.0  0.0  0.0     0.0  0.0  0.0  0.0  0.0  0.0  0.0\n",
       " 0.0  0.0  0.0  0.0  0.0  0.0  0.0  0.0     0.0  0.0  0.0  0.0  0.0  0.0  0.0\n",
       " 0.0  0.0  0.0  0.0  0.0  0.0  0.0  0.0     0.0  0.0  0.0  0.0  0.0  0.0  0.0\n",
       " 0.0  0.0  0.0  0.0  0.0  0.0  0.0  0.0     0.0  0.0  0.0  0.0  0.0  0.0  0.0\n",
       " ⋮                        ⋮              ⋱       ⋮                        ⋮\n",
       " 0.0  0.0  0.0  0.0  0.0  0.0  0.0  0.0     0.0  0.0  0.0  0.0  0.0  0.0  0.0\n",
       " 0.0  0.0  0.0  0.0  0.0  0.0  0.0  0.0     0.0  0.0  0.0  0.0  0.0  0.0  0.0\n",
       " 0.0  0.0  0.0  0.0  0.0  0.0  0.0  0.0     0.0  0.0  0.0  0.0  0.0  0.0  0.0\n",
       " 0.0  0.0  0.0  0.0  0.0  0.0  0.0  0.0  …  0.0  0.0  0.0  0.0  0.0  0.0  0.0\n",
       " 0.0  0.0  0.0  0.0  0.0  0.0  0.0  0.0     0.0  0.0  0.0  0.0  0.0  0.0  0.0\n",
       " 0.0  0.0  0.0  0.0  0.0  0.0  0.0  0.0     0.0  0.0  0.0  0.0  0.0  0.0  0.0\n",
       " 0.0  0.0  0.0  0.0  0.0  0.0  0.0  0.0     0.0  0.0  0.0  0.0  0.0  0.0  0.0\n",
       " 0.0  0.0  0.0  0.0  0.0  0.0  0.0  0.0     0.0  0.0  0.0  0.0  0.0  0.0  0.0\n",
       " 0.0  0.0  0.0  0.0  0.0  0.0  0.0  0.0  …  0.0  0.0  0.0  0.0  0.0  0.0  0.0\n",
       "\n",
       ";;;; … \n",
       "\n",
       "[:, :, 1, 122666] =\n",
       " 0.0  0.0  0.0  0.0  0.0  0.0  0.0  0.0  …  0.0  0.0  0.0  0.0  0.0  0.0  0.0\n",
       " 0.0  0.0  0.0  0.0  0.0  0.0  0.0  0.0     0.0  0.0  0.0  0.0  0.0  0.0  0.0\n",
       " 0.0  0.0  0.0  0.0  0.0  0.0  0.0  0.0     0.0  0.0  0.0  0.0  0.0  0.0  0.0\n",
       " 0.0  0.0  0.0  0.0  0.0  0.0  0.0  0.0     0.0  0.0  0.0  0.0  0.0  0.0  0.0\n",
       " 0.0  0.0  0.0  0.0  0.0  0.0  0.0  0.0     0.0  0.0  0.0  0.0  0.0  0.0  0.0\n",
       " 0.0  0.0  0.0  0.0  0.0  0.0  0.0  0.0  …  0.0  0.0  0.0  0.0  0.0  0.0  0.0\n",
       " 0.0  0.0  0.0  0.0  0.0  0.0  0.0  0.0     0.0  0.0  0.0  0.0  0.0  0.0  0.0\n",
       " 0.0  0.0  0.0  0.0  0.0  0.0  0.0  0.0     0.0  0.0  0.0  0.0  0.0  0.0  0.0\n",
       " 0.0  0.0  0.0  0.0  0.0  0.0  0.0  0.0     0.0  0.0  0.0  0.0  0.0  0.0  0.0\n",
       " 0.0  0.0  0.0  0.0  0.0  0.0  0.0  0.0     0.0  0.0  0.0  0.0  0.0  0.0  0.0\n",
       " ⋮                        ⋮              ⋱       ⋮                        ⋮\n",
       " 0.0  0.0  0.0  0.0  0.0  0.0  0.0  0.0     0.0  0.0  0.0  0.0  0.0  0.0  0.0\n",
       " 0.0  0.0  0.0  0.0  0.0  0.0  0.0  0.0     0.0  0.0  0.0  0.0  0.0  0.0  0.0\n",
       " 0.0  0.0  0.0  0.0  0.0  0.0  0.0  0.0     0.0  0.0  0.0  0.0  0.0  0.0  0.0\n",
       " 0.0  0.0  0.0  0.0  0.0  0.0  0.0  0.0  …  0.0  0.0  0.0  0.0  0.0  0.0  0.0\n",
       " 0.0  0.0  0.0  0.0  0.0  0.0  0.0  0.0     0.0  0.0  0.0  0.0  0.0  0.0  0.0\n",
       " 0.0  0.0  0.0  0.0  0.0  0.0  0.0  0.0     0.0  0.0  0.0  0.0  0.0  0.0  0.0\n",
       " 0.0  0.0  0.0  0.0  0.0  0.0  0.0  0.0     0.0  0.0  0.0  0.0  0.0  0.0  0.0\n",
       " 0.0  0.0  0.0  0.0  0.0  0.0  0.0  0.0     0.0  0.0  0.0  0.0  0.0  0.0  0.0\n",
       " 0.0  0.0  0.0  0.0  0.0  0.0  0.0  0.0  …  0.0  0.0  0.0  0.0  0.0  0.0  0.0\n",
       "\n",
       "[:, :, 1, 122667] =\n",
       " 0.0  0.0  0.0  0.0  0.0  0.0  0.0  0.0  …  0.0  0.0  0.0  0.0  0.0  0.0  0.0\n",
       " 0.0  0.0  0.0  0.0  0.0  0.0  0.0  0.0     0.0  0.0  0.0  0.0  0.0  0.0  0.0\n",
       " 0.0  0.0  0.0  0.0  0.0  0.0  0.0  0.0     0.0  0.0  0.0  0.0  0.0  0.0  0.0\n",
       " 0.0  0.0  0.0  0.0  0.0  0.0  0.0  0.0     0.0  0.0  0.0  0.0  0.0  0.0  0.0\n",
       " 0.0  0.0  0.0  0.0  0.0  0.0  0.0  0.0     0.0  0.0  0.0  0.0  0.0  0.0  0.0\n",
       " 0.0  0.0  0.0  0.0  0.0  0.0  0.0  0.0  …  0.0  0.0  0.0  0.0  0.0  0.0  0.0\n",
       " 0.0  0.0  0.0  0.0  0.0  0.0  0.0  0.0     0.0  0.0  0.0  0.0  0.0  0.0  0.0\n",
       " 0.0  0.0  0.0  0.0  0.0  0.0  0.0  0.0     0.0  0.0  0.0  0.0  0.0  0.0  0.0\n",
       " 0.0  0.0  0.0  0.0  0.0  0.0  0.0  0.0     0.0  0.0  0.0  0.0  0.0  0.0  0.0\n",
       " 0.0  0.0  0.0  0.0  0.0  0.0  0.0  0.0     0.0  0.0  0.0  0.0  0.0  0.0  0.0\n",
       " ⋮                        ⋮              ⋱       ⋮                        ⋮\n",
       " 0.0  0.0  0.0  0.0  0.0  0.0  0.0  0.0     0.0  0.0  0.0  0.0  0.0  0.0  0.0\n",
       " 0.0  0.0  0.0  0.0  0.0  0.0  0.0  0.0     0.0  0.0  0.0  0.0  0.0  0.0  0.0\n",
       " 0.0  0.0  0.0  0.0  0.0  0.0  0.0  0.0     0.0  0.0  0.0  0.0  0.0  0.0  0.0\n",
       " 0.0  0.0  0.0  0.0  0.0  0.0  0.0  0.0  …  0.0  0.0  0.0  0.0  0.0  0.0  0.0\n",
       " 0.0  0.0  0.0  0.0  0.0  0.0  0.0  0.0     0.0  0.0  0.0  0.0  0.0  0.0  0.0\n",
       " 0.0  0.0  0.0  0.0  0.0  0.0  0.0  0.0     0.0  0.0  0.0  0.0  0.0  0.0  0.0\n",
       " 0.0  0.0  0.0  0.0  0.0  0.0  0.0  0.0     0.0  0.0  0.0  0.0  0.0  0.0  0.0\n",
       " 0.0  0.0  0.0  0.0  0.0  0.0  0.0  0.0     0.0  0.0  0.0  0.0  0.0  0.0  0.0\n",
       " 0.0  0.0  0.0  0.0  0.0  0.0  0.0  0.0  …  0.0  0.0  0.0  0.0  0.0  0.0  0.0\n",
       "\n",
       "[:, :, 1, 122668] =\n",
       " 0.0  0.0  0.0  0.0  0.0  0.0  0.0  0.0  …  0.0  0.0  0.0  0.0  0.0  0.0  0.0\n",
       " 0.0  0.0  0.0  0.0  0.0  0.0  0.0  0.0     0.0  0.0  0.0  0.0  0.0  0.0  0.0\n",
       " 0.0  0.0  0.0  0.0  0.0  0.0  0.0  0.0     0.0  0.0  0.0  0.0  0.0  0.0  0.0\n",
       " 0.0  0.0  0.0  0.0  0.0  0.0  0.0  0.0     0.0  0.0  0.0  0.0  0.0  0.0  0.0\n",
       " 0.0  0.0  0.0  0.0  0.0  0.0  0.0  0.0     0.0  0.0  0.0  0.0  0.0  0.0  0.0\n",
       " 0.0  0.0  0.0  0.0  0.0  0.0  0.0  0.0  …  0.0  0.0  0.0  0.0  0.0  0.0  0.0\n",
       " 0.0  0.0  0.0  0.0  0.0  0.0  0.0  0.0     0.0  0.0  0.0  0.0  0.0  0.0  0.0\n",
       " 0.0  0.0  0.0  0.0  0.0  0.0  0.0  0.0     0.0  0.0  0.0  0.0  0.0  0.0  0.0\n",
       " 0.0  0.0  0.0  0.0  0.0  0.0  0.0  0.0     0.0  0.0  0.0  0.0  0.0  0.0  0.0\n",
       " 0.0  0.0  0.0  0.0  0.0  0.0  0.0  0.0     0.0  0.0  0.0  0.0  0.0  0.0  0.0\n",
       " ⋮                        ⋮              ⋱       ⋮                        ⋮\n",
       " 0.0  0.0  0.0  0.0  0.0  0.0  0.0  0.0     0.0  0.0  0.0  0.0  0.0  0.0  0.0\n",
       " 0.0  0.0  0.0  0.0  0.0  0.0  0.0  0.0     0.0  0.0  0.0  0.0  0.0  0.0  0.0\n",
       " 0.0  0.0  0.0  0.0  0.0  0.0  0.0  0.0     0.0  0.0  0.0  0.0  0.0  0.0  0.0\n",
       " 0.0  0.0  0.0  0.0  0.0  0.0  0.0  0.0  …  0.0  0.0  0.0  0.0  0.0  0.0  0.0\n",
       " 0.0  0.0  0.0  0.0  0.0  0.0  0.0  0.0     0.0  0.0  0.0  0.0  0.0  0.0  0.0\n",
       " 0.0  0.0  0.0  0.0  0.0  0.0  0.0  0.0     0.0  0.0  0.0  0.0  0.0  0.0  0.0\n",
       " 0.0  0.0  0.0  0.0  0.0  0.0  0.0  0.0     0.0  0.0  0.0  0.0  0.0  0.0  0.0\n",
       " 0.0  0.0  0.0  0.0  0.0  0.0  0.0  0.0     0.0  0.0  0.0  0.0  0.0  0.0  0.0\n",
       " 0.0  0.0  0.0  0.0  0.0  0.0  0.0  0.0  …  0.0  0.0  0.0  0.0  0.0  0.0  0.0"
      ]
     },
     "metadata": {},
     "output_type": "display_data"
    }
   ],
   "source": [
    "train_container_images = Float32.(train_container_images)\n",
    "train_container_masks = Float32.(train_container_masks);"
   ]
  },
  {
   "cell_type": "code",
   "execution_count": 17,
   "metadata": {},
   "outputs": [],
   "source": [
    "Threads.@threads for i = 1 : 4\n",
    "    start_idx = 1 + each_gpu_num_patches*(i-1)\n",
    "    end_idx = i==4 ? total_num_patches : each_gpu_num_patches*i\n",
    "    train_loader = MLUtils.DataLoader((data=train_container_images[:,:,:,start_idx:end_idx], \n",
    "        label=train_container_masks[:,:,:,start_idx:end_idx]), batchsize=b_s)\n",
    "    @save \"../train_loader_$(i)_small.jld2\" train_loader\n",
    "    train_loader = nothing\n",
    "end\n",
    "GC.gc(true)"
   ]
  },
  {
   "cell_type": "code",
   "execution_count": 18,
   "metadata": {},
   "outputs": [],
   "source": [
    "# @sync begin\n",
    "#     @async begin\n",
    "#         train_loader_1 = MLUtils.DataLoader((data=train_container_images[:,:,:,1:each_gpu_num_patches], \n",
    "#         label=train_container_masks[:,:,:,1:each_gpu_num_patches]), batchsize=b_s)\n",
    "#         @save \"train_loader_1.jld2\" train_loader_1\n",
    "#         train_loader_1 = nothing\n",
    "#     end\n",
    "#     @async begin\n",
    "#         train_loader_2 = MLUtils.DataLoader((data=train_container_images[:,:,:,1+each_gpu_num_patches : each_gpu_num_patches*2], \n",
    "#         label=train_container_masks[:,:,:,1+each_gpu_num_patches : each_gpu_num_patches*2]), batchsize=b_s)\n",
    "#         @save \"train_loader_2.jld2\" train_loader_2\n",
    "#         train_loader_2 = nothing\n",
    "#     end\n",
    "#     @async begin\n",
    "#         train_loader_3 = MLUtils.DataLoader((data=train_container_images[:,:,:,1+each_gpu_num_patches*2 : each_gpu_num_patches*3], \n",
    "#         label=train_container_masks[:,:,:,1+each_gpu_num_patches*2 : each_gpu_num_patches*3]), batchsize=b_s)\n",
    "#         @save \"train_loader_3.jld2\" train_loader_3\n",
    "#         train_loader_3 = nothing\n",
    "#     end\n",
    "#     @async begin\n",
    "#         train_loader_4 = MLUtils.DataLoader((data=train_container_images[:,:,:,1+each_gpu_num_patches*3 : end], \n",
    "#         label=train_container_masks[:,:,:,1+each_gpu_num_patches*3 : end]), batchsize=b_s)\n",
    "#         @save \"train_loader_4.jld2\" train_loader_4\n",
    "#         train_loader_4 = nothing\n",
    "#     end\n",
    "# end\n",
    "# GC.gc(true)"
   ]
  },
  {
   "cell_type": "code",
   "execution_count": 19,
   "metadata": {},
   "outputs": [],
   "source": [
    "# sum(train_container_images[:,:,:,1+each_gpu_num_patches*3+15000])"
   ]
  },
  {
   "cell_type": "code",
   "execution_count": 20,
   "metadata": {},
   "outputs": [],
   "source": [
    "# imshow(train_container_images[:,:,:,1+each_gpu_num_patches*3+15000])"
   ]
  }
 ],
 "metadata": {
  "kernelspec": {
   "display_name": "Julia 1.9.2",
   "language": "julia",
   "name": "julia-1.9"
  },
  "language_info": {
   "file_extension": ".jl",
   "mimetype": "application/julia",
   "name": "julia",
   "version": "1.9.2"
  },
  "orig_nbformat": 4
 },
 "nbformat": 4,
 "nbformat_minor": 2
}
