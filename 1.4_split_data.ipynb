{
 "cells": [
  {
   "cell_type": "code",
   "execution_count": 1,
   "metadata": {},
   "outputs": [
    {
     "name": "stderr",
     "output_type": "stream",
     "text": [
      "\u001b[32m\u001b[1m  Activating\u001b[22m\u001b[39m project at `~/Desktop/Project BAC/BAC project/libs`\n"
     ]
    },
    {
     "name": "stderr",
     "output_type": "stream",
     "text": [
      "/snap/core20/current/lib/x86_64-linux-gnu/libstdc++.so.6: version `GLIBCXX_3.4.29' not found (required by /lib/x86_64-linux-gnu/libproxy.so.1)\n",
      "Failed to load module: /home/molloi-lab/snap/code/common/.cache/gio-modules/libgiolibproxy.so\n",
      "/snap/core20/current/lib/x86_64-linux-gnu/libstdc++.so.6: version `GLIBCXX_3.4.29' not found (required by /lib/x86_64-linux-gnu/libproxy.so.1)\n",
      "Failed to load module: /home/molloi-lab/snap/code/common/.cache/gio-modules/libgiolibproxy.so\n"
     ]
    }
   ],
   "source": [
    "using Pkg\n",
    "Pkg.activate(\"libs/\")\n",
    "using JLD2\n",
    "using DICOM\n",
    "using Dates\n",
    "using XLSX\n",
    "using Plots\n",
    "using ImageView\n",
    "using Images\n",
    "using Statistics\n",
    "\n",
    "BAC_root_dir = \"/home/molloi-lab/Desktop/Project BAC/BAC_Full_Data\"\n",
    "excel_path = \"/home/molloi-lab/Desktop/Project BAC/BAC project/Ca mass calculation Final.xlsx\"\n",
    "V_P_dict = Dict(\"LCC\" => 1, \"LMLO\" => 2, \"RCC\" => 3, \"RMLO\" => 4)\n",
    "strs = [\"LCC\", \"LMLO\", \"RCC\", \"RMLO\"]\n",
    "\n",
    "image_dirs = [\"Patientstudy_BAC_2013a/data_from_KP\", \n",
    "\"Patientstudy_BAC_2013b/data_from_KP\", \n",
    "\"Patientstudy_BAC_2014/data_from_KP\", \n",
    "\"Patientstudy_BAC_2015a/data_from_KP\", \n",
    "\"Patientstudy_BAC_2015b/data_from_KP\", \n",
    "\"Patientstudy_BAC_2016/Data from KP\"]\n",
    "\n",
    "save_dir = \"/media/molloi-lab/System Files/BAC_dataset/Clean_Dataset_full\"\n",
    "save_csv_dir = \"/media/molloi-lab/System Files/BAC_dataset/splited_data.csv\"\n",
    "train_output_dir = \"/media/molloi-lab/System Files/BAC_dataset/dataset_for_ML_full\"\n",
    "patch_size = 256\n",
    "patch_size_half = round(Int, patch_size/2)\n",
    "\n",
    "SIDs = readdir(save_dir)\n",
    "num_SIDs = size(SIDs)[1];"
   ]
  },
  {
   "cell_type": "markdown",
   "metadata": {},
   "source": [
    "# Helper functions"
   ]
  },
  {
   "cell_type": "code",
   "execution_count": 2,
   "metadata": {},
   "outputs": [
    {
     "data": {
      "text/plain": [
       "normalize_img (generic function with 1 method)"
      ]
     },
     "metadata": {},
     "output_type": "display_data"
    }
   ],
   "source": [
    "function clean_directory(directory::String)\n",
    "    for item in readdir(directory)\n",
    "        item_path = joinpath(directory, item)\n",
    "        rm(item_path, recursive=true)\n",
    "    end\n",
    "end\n",
    "\n",
    "function zoom_pixel_values(img)\n",
    "    a, b = minimum(img), maximum(img)\n",
    "    img_ = (img .- a) ./ (b - a)\n",
    "    return img_\n",
    "end\n",
    "\n",
    "function normalize_img(img)\n",
    "    m = maximum(img)\n",
    "    img = m .- img\n",
    "    a = mean(img)\n",
    "    s = std(img)\n",
    "    img = (img .- a) ./ s \n",
    "    # println(\"mean = $(mean(img)), std = $(std(img))\")\n",
    "    return img\n",
    "end"
   ]
  },
  {
   "cell_type": "code",
   "execution_count": 13,
   "metadata": {},
   "outputs": [
    {
     "data": {
      "text/plain": [
       "patch_image (generic function with 1 method)"
      ]
     },
     "metadata": {},
     "output_type": "display_data"
    }
   ],
   "source": [
    "function save_image(curr_save_path, file_name, image_patch, label_patch)\n",
    "    # save image\n",
    "    @save joinpath(curr_save_path, \"img\", file_name*\"jld\") image_patch\n",
    "    # save lable\n",
    "    @save joinpath(curr_save_path, \"lbl\", file_name*\"jld\") label_patch\n",
    "end\n",
    "\n",
    "function super_sample_and_save_patch(img, lbl, prob_non_BAC, prob_BAC, super_rate, f_n, currkey_str, x_start, x_end, y_start, y_end)\n",
    "    ct = 0\n",
    "    # see if this has BAC\n",
    "    is_BAC = sum(lbl[x_start:x_end, y_start:y_end]) > 0 ? true : false\n",
    "    BAC_str = is_BAC ? \"BAC\" : \"non-BAC\"\n",
    "    prob = is_BAC ? prob_BAC : prob_non_BAC\n",
    "\n",
    "    # get patch\n",
    "    curr_image = img[x_start:x_end, y_start:y_end]\n",
    "    curr_label = lbl[x_start:x_end, y_start:y_end]\n",
    "\n",
    "    # save patch\n",
    "    file_name_ = f_n * \".$x_start.$x_end.$y_start.$y_end.\"\n",
    "    curr_save_path = joinpath(train_output_dir, currkey_str, BAC_str)\n",
    "    next_idx = 1\n",
    "\n",
    "    # super sample\n",
    "    if is_BAC\n",
    "        for super = 1 : super_rate\n",
    "            ct += 1\n",
    "            file_name = file_name_ * \"$super.\"\n",
    "            save_image(curr_save_path, file_name, curr_image, curr_label)\n",
    "        end\n",
    "        next_idx = super_rate + 1\n",
    "    end\n",
    "    # random pick\n",
    "    is_choosen = rand() < prob\n",
    "    if is_choosen\n",
    "        ct += 1\n",
    "        file_name = file_name_ * \"$next_idx.\"\n",
    "        save_image(curr_save_path, file_name, curr_image, curr_label)\n",
    "    end\n",
    "    # return ct\n",
    "    if is_BAC\n",
    "        return 0, ct\n",
    "    end\n",
    "    return ct, 0\n",
    "end\n",
    "\n",
    "function patch_image(img, mask, lbl, prob_non_BAC, prob_BAC, super_rate, f_n, currkey_str)\n",
    "    img = normalize_img(img)\n",
    "    s = size(img)\n",
    "    x = ceil(Int, s[1]/patch_size) + floor(Int, (s[1]-patch_size_half)/patch_size)\n",
    "    y = ceil(Int, s[2]/patch_size) + floor(Int, (s[2]-patch_size_half)/patch_size)\n",
    "    \n",
    "    ct_empty , ct_non_empty = 0, 0\n",
    "    for i = 1 : x-1\n",
    "        x_start = 1+(i-1)*patch_size_half\n",
    "        x_end = x_start+patch_size-1\n",
    "        for j = 1 : y-1\n",
    "            y_start = 1+(j-1)*patch_size_half\n",
    "            y_end = y_start+patch_size-1\n",
    "            # check patch\n",
    "            if mean(mask[x_start:x_end, y_start:y_end]) > 0.35\n",
    "                ct1, ct2 = super_sample_and_save_patch(img, lbl, prob_non_BAC, prob_BAC, super_rate, f_n, currkey_str, x_start, x_end, y_start, y_end)\n",
    "                ct_empty += ct1\n",
    "                ct_non_empty += ct2\n",
    "            end\n",
    "        end\n",
    "        # right col\n",
    "        y_start, y_end = s[2]-patch_size+1, s[2]\n",
    "        # check patch\n",
    "        if mean(mask[x_start:x_end, y_start:y_end]) > 0.35\n",
    "            ct1, ct2 = super_sample_and_save_patch(img, lbl, prob_non_BAC, prob_BAC, super_rate, f_n, currkey_str, x_start, x_end, y_start, y_end)\n",
    "            ct_empty += ct1\n",
    "            ct_non_empty += ct2\n",
    "        end\n",
    "    end\n",
    "    # last row\n",
    "    x_start, x_end = s[1]-patch_size+1, s[1]\n",
    "    for j = 1 : y-1\n",
    "        y_start = 1+(j-1)*patch_size_half\n",
    "        y_end = y_start+patch_size-1\n",
    "        # check patch\n",
    "        if mean(mask[x_start:x_end, y_start:y_end]) > 0.35\n",
    "            ct1, ct2 = super_sample_and_save_patch(img, lbl, prob_non_BAC, prob_BAC, super_rate, f_n, currkey_str, x_start, x_end, y_start, y_end)\n",
    "            ct_empty += ct1\n",
    "            ct_non_empty += ct2\n",
    "        end\n",
    "    end\n",
    "    # right col\n",
    "    y_start, y_end = s[2]-patch_size+1, s[2]\n",
    "    # check patch\n",
    "    if mean(mask[x_start:x_end, y_start:y_end]) > 0.35\n",
    "        ct1, ct2 = super_sample_and_save_patch(img, lbl, prob_non_BAC, prob_BAC, super_rate, f_n, currkey_str, x_start, x_end, y_start, y_end)\n",
    "        ct_empty += ct1\n",
    "        ct_non_empty += ct2\n",
    "    end\n",
    "    return ct_empty, ct_non_empty\n",
    "end"
   ]
  },
  {
   "cell_type": "markdown",
   "metadata": {},
   "source": [
    "# 1. Build dataset"
   ]
  },
  {
   "cell_type": "markdown",
   "metadata": {},
   "source": [
    "We need to know how many images and patches we have."
   ]
  },
  {
   "cell_type": "code",
   "execution_count": 4,
   "metadata": {},
   "outputs": [],
   "source": [
    "# # get total number of images\n",
    "# total_number_images = zeros(Int, (4, 3))\n",
    "\n",
    "# for i = 1 : num_SIDs\n",
    "#     SID = SIDs[i]\n",
    "#     files = readdir(joinpath(save_dir, SID))\n",
    "#     for f in files\n",
    "#         splited = split(f, '.') \n",
    "#         if splited[end] == \"dcm\"\n",
    "#             # total ct\n",
    "#             splited_ = split(splited[1], '_') \n",
    "#             currkey = V_P_dict[splited_[1] * splited_[2]]\n",
    "#             total_number_images[currkey, 1] += 1\n",
    "#             # patch ct\n",
    "#             ct_empty, ct_non_empty = split(splited[end-1], '_')\n",
    "#             total_number_images[currkey, 2] += parse(Int, ct_empty)\n",
    "#             total_number_images[currkey, 3] += parse(Int, ct_non_empty)\n",
    "#         end\n",
    "#     end\n",
    "# end\n",
    "# println(\"       img_ct  non_BAC    BAC\")\n",
    "# for i = 1:4\n",
    "#     print(strs[i],\":\\t\")\n",
    "#     for j = 1:3\n",
    "#         print(total_number_images[i, j],\"   \")\n",
    "#     end\n",
    "#     println()\n",
    "# end"
   ]
  },
  {
   "cell_type": "markdown",
   "metadata": {},
   "source": [
    "Total number of BAC patches = 103085  \n",
    "Total number of wihout BAC patches = 5122436\n",
    "\n",
    "|   Train+Valid   | img count | non-BAC patches   | BAC patches |\n",
    "|------|--------|----------|------|\n",
    "| LCC  |  5111  | 1200903  | 23272|\n",
    "| LMLO |  5116  | 1376274  | 26455|\n",
    "| RCC  |  5112  | 1173377  | 24514|\n",
    "| RMLO |  5113  | 1371882  | 28844|\n",
    "\n",
    "Now, Pick some patients for the validation set:"
   ]
  },
  {
   "cell_type": "code",
   "execution_count": 5,
   "metadata": {},
   "outputs": [],
   "source": [
    "# target_num_BAC_patch_each_VP_valid_Set = 2500\n",
    "# choose_poss = target_num_BAC_patch_each_VP_valid_Set / mean(total_number_images[:, 3])"
   ]
  },
  {
   "cell_type": "code",
   "execution_count": 6,
   "metadata": {},
   "outputs": [],
   "source": [
    "# valid_pool, train_pool = [] , [] # SIDs' indexes\n",
    "# total_number_images_valid = zeros(Int, (4, 3))\n",
    "# total_number_images_train = zeros(Int, (4, 3))\n",
    "\n",
    "# for i = 1 : num_SIDs\n",
    "#     SID = SIDs[i]\n",
    "#     is_choosen = rand() < choose_poss\n",
    "#     if is_choosen\n",
    "#         push!(valid_pool, i)\n",
    "#     else\n",
    "#         push!(train_pool, i)\n",
    "#     end\n",
    "#     files = readdir(joinpath(save_dir, SID))\n",
    "#     for f in files\n",
    "#         splited = split(f, '.') \n",
    "#         if splited[end] == \"dcm\"\n",
    "#             splited_ = split(splited[1], '_') \n",
    "#             currkey = V_P_dict[splited_[1] * splited_[2]]\n",
    "#             ct_empty, ct_non_empty = split(splited[end-1], '_')\n",
    "\n",
    "#             if is_choosen\n",
    "#                 # total ct\n",
    "#                 total_number_images_valid[currkey, 1] += 1\n",
    "#                 # patch ct\n",
    "#                 total_number_images_valid[currkey, 2] += parse(Int, ct_empty)\n",
    "#                 total_number_images_valid[currkey, 3] += parse(Int, ct_non_empty)\n",
    "#             else\n",
    "#                 # total ct\n",
    "#                 total_number_images_train[currkey, 1] += 1\n",
    "#                 # patch ct\n",
    "#                 total_number_images_train[currkey, 2] += parse(Int, ct_empty)\n",
    "#                 total_number_images_train[currkey, 3] += parse(Int, ct_non_empty)\n",
    "#             end\n",
    "#         end\n",
    "#     end\n",
    "# end\n",
    "# println(size(valid_pool)[1], \" patients in valid set.\")\n",
    "# println(\"       img_ct  non_BAC    BAC\")\n",
    "# for i = 1:4\n",
    "#     print(strs[i],\":\\t\")\n",
    "#     for j = 1:3\n",
    "#         print(total_number_images_valid[i, j],\"   \")\n",
    "#     end\n",
    "#     println()\n",
    "# end\n",
    "# println(\"\\n\", size(train_pool)[1], \" patients in train set.\")\n",
    "# println(\"       img_ct  non_BAC    BAC\")\n",
    "# for i = 1:4\n",
    "#     print(strs[i],\":\\t\")\n",
    "#     for j = 1:3\n",
    "#         print(total_number_images_train[i, j],\"   \")\n",
    "#     end\n",
    "#     println()\n",
    "# end"
   ]
  },
  {
   "cell_type": "markdown",
   "metadata": {},
   "source": [
    "Save SIDs info to csv:"
   ]
  },
  {
   "cell_type": "code",
   "execution_count": 7,
   "metadata": {},
   "outputs": [],
   "source": [
    "# valid_SIDs, train_SIDs = SIDs[valid_pool], SIDs[train_pool]\n",
    "# @save \"data_loader_pools_SIDs_2.jld\" valid_pool train_pool valid_SIDs train_SIDs total_number_images_train"
   ]
  },
  {
   "cell_type": "code",
   "execution_count": 8,
   "metadata": {},
   "outputs": [
    {
     "data": {
      "text/plain": [
       "5-element Vector{Symbol}:\n",
       " :valid_pool\n",
       " :train_pool\n",
       " :valid_SIDs\n",
       " :train_SIDs\n",
       " :total_number_images_train"
      ]
     },
     "metadata": {},
     "output_type": "display_data"
    }
   ],
   "source": [
    "@load \"data_loader_pools_SIDs.jld\" valid_pool train_pool valid_SIDs train_SIDs total_number_images_train"
   ]
  },
  {
   "cell_type": "markdown",
   "metadata": {},
   "source": [
    "Now, blance the train set."
   ]
  },
  {
   "cell_type": "code",
   "execution_count": 9,
   "metadata": {},
   "outputs": [],
   "source": [
    "# generate supersampling and downsampling rate\n",
    "target_num_BAC_patch_each_VP_train_Set = 50000\n",
    "oversample_factor = floor.(Int, 50000 ./ total_number_images_train[:, 3])\n",
    "choose_poss_BAC, choose_poss_non_BAC = zeros(4), zeros(4)\n",
    "for i = 1:4\n",
    "    # BAC\n",
    "    choose_poss_BAC[i] = (target_num_BAC_patch_each_VP_train_Set / total_number_images_train[i, 3]) - oversample_factor[i]\n",
    "    # non-BAC\n",
    "    curr_ct = total_number_images_train[i, 2]\n",
    "    choose_poss_non_BAC[i] = target_num_BAC_patch_each_VP_train_Set / curr_ct\n",
    "end"
   ]
  },
  {
   "cell_type": "markdown",
   "metadata": {},
   "source": [
    "# 2. Save patches to local."
   ]
  },
  {
   "cell_type": "code",
   "execution_count": 15,
   "metadata": {},
   "outputs": [
    {
     "name": "stderr",
     "output_type": "stream",
     "text": [
      "┌ Info: Started\n",
      "└ @ Main /home/molloi-lab/Desktop/Project BAC/BAC project/1.4_split_data.ipynb:30\n"
     ]
    },
    {
     "name": "stdout",
     "output_type": "stream",
     "text": [
      "       non_BAC    BAC\n",
      "LCC:\t  49772        49910        \n",
      "LMLO:\t  50154        49980        \n",
      "RCC:\t  49963        50039        \n",
      "RMLO:\t  49561        49952        \n"
     ]
    }
   ],
   "source": [
    "# runtime ~= 15min\n",
    "# Create and clean folder\n",
    "for i = 1:4\n",
    "    curr_dir = joinpath(train_output_dir, strs[i])\n",
    "    isdir(curr_dir) || mkdir(curr_dir)\n",
    "    clean_directory(curr_dir)\n",
    "\n",
    "    curr_dir_ = joinpath(curr_dir, \"BAC\")\n",
    "    isdir(curr_dir_) || mkdir(curr_dir_)\n",
    "    clean_directory(curr_dir_)\n",
    "\n",
    "    curr_dir__ = joinpath(curr_dir_, \"img\")\n",
    "    isdir(curr_dir__) || mkdir(curr_dir__)\n",
    "    clean_directory(curr_dir__)\n",
    "    curr_dir__ = joinpath(curr_dir_, \"lbl\")\n",
    "    isdir(curr_dir__) || mkdir(curr_dir__)\n",
    "    clean_directory(curr_dir__)\n",
    "\n",
    "    curr_dir_ = joinpath(curr_dir, \"non-BAC\")\n",
    "    isdir(curr_dir_) || mkdir(curr_dir_)\n",
    "    clean_directory(curr_dir_)\n",
    "\n",
    "    curr_dir__ = joinpath(curr_dir_, \"img\")\n",
    "    isdir(curr_dir__) || mkdir(curr_dir__)\n",
    "    clean_directory(curr_dir__)\n",
    "    curr_dir__ = joinpath(curr_dir_, \"lbl\")\n",
    "    isdir(curr_dir__) || mkdir(curr_dir__)\n",
    "    clean_directory(curr_dir__)\n",
    "end\n",
    "@info \"Started\"\n",
    "# Let's go\n",
    "tmp_s = size(train_SIDs)[1]\n",
    "total_number_images_train_ = zeros(Int, (tmp_s, 8)) # \"LCC-non\", \"LCC-BAC\", \"LMLO-non\", \"LMLO-BAC\", \"RCC-non\", \"RCC-BAC\", \"RMLO-non\", \"RMLO-BAC\"\n",
    "Threads.@threads for i = 1 : tmp_s\n",
    "# for i = 1 : 1\n",
    "    SID = train_SIDs[i]\n",
    "    files = readdir(joinpath(save_dir, SID))\n",
    "    for f in files\n",
    "        splited = split(f, '.') \n",
    "        if splited[end] == \"dcm\"\n",
    "            # set up path\n",
    "            img_path = joinpath(save_dir, SID, f)\n",
    "            lbl_path = joinpath(save_dir, SID, splitext(f)[1]*\".png\")\n",
    "            # get V_P idx\n",
    "            splited_ = split(splited[1], '_') \n",
    "            currkey_str = splited_[1] * splited_[2]\n",
    "            currkey_idx = V_P_dict[currkey_str]\n",
    "            f_n = SID *\".\"*splited[1]\n",
    "            # read dicom image\n",
    "            img = Float32.(dcm_parse(img_path)[(0x7fe0, 0x0010)])\n",
    "            # read label\n",
    "            lbl = Float32.(Images.load(lbl_path))\n",
    "            # get mask\n",
    "            mask = Float32.(1 .- round.(zoom_pxiel_values(img)))\n",
    "            # get probabilities\n",
    "            prob_non_BAC = choose_poss_non_BAC[currkey_idx]\n",
    "            prob_BAC = choose_poss_BAC[currkey_idx]\n",
    "            super_rate = oversample_factor[currkey_idx]\n",
    "            # get num of batch\n",
    "            ct_non_BAC, ct_BAC = patch_image(img, mask, lbl, prob_non_BAC, prob_BAC, super_rate, f_n, currkey_str)\n",
    "            total_number_images_train_[i, 2*(currkey_idx-1)+1 ] += ct_non_BAC\n",
    "            total_number_images_train_[i, 2*(currkey_idx-1)+2 ] += ct_BAC\n",
    "        end\n",
    "    end\n",
    "    GC.gc(true)\n",
    "end\n",
    "\n",
    "# visualize data\n",
    "total_number_images_train = zeros(Int, (4, 2))\n",
    "for i = 1:tmp_s\n",
    "    rslt = total_number_images_train_[i, :, :]\n",
    "    for j = 1 : 4\n",
    "        for k = 1 : 2\n",
    "            total_number_images_train[j, k] += rslt[(j-1)*2+k]\n",
    "        end\n",
    "    end\n",
    "end\n",
    "\n",
    "println(\"       non_BAC    BAC\")\n",
    "for i = 1:4\n",
    "    print(strs[i],\":\\t  \")\n",
    "    for j = 1:2\n",
    "        print(total_number_images_train[i, j],\"        \")\n",
    "    end\n",
    "    println()\n",
    "end"
   ]
  },
  {
   "cell_type": "markdown",
   "metadata": {},
   "source": [
    "|   Train   | non-BAC patches   | BAC patches |\n",
    "|------|----------|------|\n",
    "| LCC  | 49772  | 49910|\n",
    "| LMLO | 50154  | 49980|\n",
    "| RCC  | 49963  | 50039|\n",
    "| RMLO | 49561  | 49952|"
   ]
  },
  {
   "cell_type": "markdown",
   "metadata": {},
   "source": []
  }
 ],
 "metadata": {
  "kernelspec": {
   "display_name": "Julia 1.9.2",
   "language": "julia",
   "name": "julia-1.9"
  },
  "language_info": {
   "file_extension": ".jl",
   "mimetype": "application/julia",
   "name": "julia",
   "version": "1.9.2"
  },
  "orig_nbformat": 4
 },
 "nbformat": 4,
 "nbformat_minor": 2
}
