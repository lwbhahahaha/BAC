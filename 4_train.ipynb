{
 "cells": [
  {
   "cell_type": "code",
   "execution_count": 1,
   "metadata": {},
   "outputs": [
    {
     "name": "stderr",
     "output_type": "stream",
     "text": [
      "\u001b[32m\u001b[1m  Activating\u001b[22m\u001b[39m project at `~/Desktop/Project BAC/BAC project/libs`\n"
     ]
    }
   ],
   "source": [
    "using Pkg\n",
    "Pkg.activate(\"libs/\")\n",
    "# Pkg.instantiate()\n",
    "# Pkg.add(\"MLUtils\")\n",
    "using CSV\n",
    "using JLD2\n",
    "using CUDA\n",
    "using Glob\n",
    "using Dates\n",
    "# using Zygote\n",
    "using DICOM\n",
    "using Images\n",
    "using MLUtils\n",
    "using Setfield\n",
    "using ImageView\n",
    "using ImageDraw\n",
    "using Statistics\n",
    "using DataFrames\n",
    "using StaticArrays\n",
    "using MLDataPattern\n",
    "using ChainRulesCore\n",
    "using Distributions: Normal\n",
    "using FastAI, FastVision, Flux, Metalhead\n",
    "import CairoMakie; CairoMakie.activate!(type=\"png\")"
   ]
  },
  {
   "cell_type": "markdown",
   "metadata": {},
   "source": [
    "Check how many threads we have"
   ]
  },
  {
   "cell_type": "code",
   "execution_count": null,
   "metadata": {},
   "outputs": [],
   "source": [
    "Threads.nthreads()"
   ]
  },
  {
   "cell_type": "markdown",
   "metadata": {},
   "source": [
    "List all CUDA devices"
   ]
  },
  {
   "cell_type": "code",
   "execution_count": null,
   "metadata": {},
   "outputs": [],
   "source": [
    "CUDA.allowscalar(false)\n",
    "CUDA.devices()"
   ]
  },
  {
   "attachments": {},
   "cell_type": "markdown",
   "metadata": {},
   "source": [
    "# Notes"
   ]
  },
  {
   "attachments": {},
   "cell_type": "markdown",
   "metadata": {},
   "source": [
    "1. In this training, images' pixel values are zoomed into range = [0, 1]. This should not be applied to final plan since different images have different min and max.\n",
    "\n",
    "2. In this training, only `pixel values` are being used. In future, we can feed more features to the NN to get a better information like `L_mass` or `R_mass`."
   ]
  },
  {
   "cell_type": "code",
   "execution_count": null,
   "metadata": {},
   "outputs": [],
   "source": [
    "patch_size = 256\n",
    "patch_size_half = round(Int, patch_size/2);"
   ]
  },
  {
   "attachments": {},
   "cell_type": "markdown",
   "metadata": {},
   "source": [
    "# Helper functions"
   ]
  },
  {
   "cell_type": "code",
   "execution_count": null,
   "metadata": {},
   "outputs": [],
   "source": [
    "\"\"\"\n",
    "    This function zoom all pixel values into [0, 1].\n",
    "\"\"\"\n",
    "function zoom_pxiel_values(img)\n",
    "    a, b = minimum(img), maximum(img)\n",
    "    if b-a != 0\n",
    "        img = (img .- a) / (b - a)\n",
    "    end\n",
    "    return img\n",
    "end"
   ]
  },
  {
   "cell_type": "code",
   "execution_count": null,
   "metadata": {},
   "outputs": [],
   "source": [
    "\"\"\"\n",
    "    This function takes in a img of various size, \n",
    "    returns patches with size = patch_size * patch_size.\n",
    "\"\"\"\n",
    "function patch_image(img, lbl)\n",
    "    s = size(img)\n",
    "    x = ceil(Int, s[1]/patch_size) + floor(Int, (s[1]-patch_size_half)/patch_size)\n",
    "    y = ceil(Int, s[2]/patch_size) + floor(Int, (s[2]-patch_size_half)/patch_size)\n",
    "    num_patches = x*y\n",
    "    img_patches = Array{Float32, 4}(undef, patch_size, patch_size, 1, num_patches)\n",
    "    lbl_patches = Array{Float32, 4}(undef, patch_size, patch_size, 1, num_patches)\n",
    "    ct = 0\n",
    "    for i = 1 : x-1\n",
    "        x_start = 1+(i-1)*patch_size_half\n",
    "        x_end = x_start+patch_size-1\n",
    "        for j = 1 : y-1\n",
    "            y_start = 1+(j-1)*patch_size_half\n",
    "            y_end = y_start+patch_size-1\n",
    "            # save patch\n",
    "            ct += 1\n",
    "            img_patches[:, :, 1, ct] = zoom_pxiel_values(img[x_start:x_end, y_start:y_end])\n",
    "            lbl_patches[:, :, 1, ct] = lbl[x_start:x_end, y_start:y_end]\n",
    "        end\n",
    "        # right col\n",
    "        y_start, y_end = s[2]-patch_size+1, s[2]\n",
    "        # save patch\n",
    "        ct += 1\n",
    "        img_patches[:, :, 1, ct] = zoom_pxiel_values(img[x_start:x_end, y_start:y_end])\n",
    "        lbl_patches[:, :, 1, ct] = lbl[x_start:x_end, y_start:y_end]\n",
    "    end\n",
    "    # last row\n",
    "    x_start, x_end = s[1]-patch_size+1, s[1]\n",
    "    for j = 1 : y-1\n",
    "        y_start = 1+(j-1)*patch_size_half\n",
    "        y_end = y_start+patch_size-1\n",
    "        # save patch\n",
    "        ct += 1\n",
    "        img_patches[:, :, 1, ct] = zoom_pxiel_values(img[x_start:x_end, y_start:y_end])\n",
    "        lbl_patches[:, :, 1, ct] = lbl[x_start:x_end, y_start:y_end]\n",
    "    end\n",
    "    # right col\n",
    "    y_start, y_end = s[2]-patch_size+1, s[2]\n",
    "    # save patch\n",
    "    ct += 1\n",
    "    img_patches[:, :, 1, ct] = zoom_pxiel_values(img[x_start:x_end, y_start:y_end])\n",
    "    lbl_patches[:, :, 1, ct] = lbl[x_start:x_end, y_start:y_end]\n",
    "    # return\n",
    "    return num_patches, img_patches, lbl_patches\n",
    "end"
   ]
  },
  {
   "cell_type": "code",
   "execution_count": null,
   "metadata": {},
   "outputs": [],
   "source": [
    "\"\"\"\n",
    "    This function fixs the path to the images and labels.\n",
    "\"\"\"\n",
    "function fix_path!(data_set)\n",
    "    num_data = size(data_set)[1]\n",
    "    Threads.@threads for i = 1 : num_data\n",
    "        for j = 1 : 2\n",
    "            for k = 1 : 4\n",
    "                # modify img path\n",
    "                splited = split(deepcopy(data_set[i][j][k]), \"\\\\\")\n",
    "                if size(splited)[1] > 1\n",
    "                    new_path = joinpath(\"../collected_dataset_for_ML\", joinpath(splited[4:end]))\n",
    "                    data_set[i][j][k] = new_path\n",
    "                end\n",
    "            end\n",
    "        end\n",
    "    end\n",
    "end"
   ]
  },
  {
   "cell_type": "code",
   "execution_count": null,
   "metadata": {},
   "outputs": [],
   "source": [
    "\"\"\"\n",
    "    This function check how many number of images and labels there will be after patching.\n",
    "\"\"\"\n",
    "function get_num_of_imgs(data_set)\n",
    "    num_data = size(data_set)[1]\n",
    "    cts = Array{Int}(undef, num_data*4)\n",
    "    Threads.@threads for i = 1 : num_data\n",
    "        @views t = train_set[i]\n",
    "        for j = 1 : 4\n",
    "            # read dicom images\n",
    "            s = size(dcm_parse(t[1][j])[(0x7fe0, 0x0010)])\n",
    "            x = ceil(Int, s[1]/patch_size) + floor(Int, (s[1]-patch_size_half)/patch_size)\n",
    "            y = ceil(Int, s[2]/patch_size) + floor(Int, (s[2]-patch_size_half)/patch_size)\n",
    "            # save \n",
    "            cts[(i-1)*4+j] = x*y\n",
    "        end\n",
    "    end\n",
    "    return cts\n",
    "end"
   ]
  },
  {
   "attachments": {},
   "cell_type": "markdown",
   "metadata": {},
   "source": [
    "# 1. Prepare"
   ]
  },
  {
   "cell_type": "code",
   "execution_count": null,
   "metadata": {},
   "outputs": [],
   "source": [
    "@load \"clean_set_step2_for_ubuntu.jld2\" train_set valid_set"
   ]
  },
  {
   "cell_type": "code",
   "execution_count": null,
   "metadata": {},
   "outputs": [],
   "source": [
    "data_dir = \"../collected_dataset_for_ML\";"
   ]
  },
  {
   "cell_type": "markdown",
   "metadata": {},
   "source": [
    "Check if dataset is found"
   ]
  },
  {
   "cell_type": "code",
   "execution_count": null,
   "metadata": {},
   "outputs": [],
   "source": [
    "isdir(data_dir)"
   ]
  },
  {
   "attachments": {},
   "cell_type": "markdown",
   "metadata": {},
   "source": [
    "## 1.1 Load train set & valid set\n",
    "container format: patch_size * patch_size * 1 * num_imgs"
   ]
  },
  {
   "cell_type": "code",
   "execution_count": null,
   "metadata": {},
   "outputs": [],
   "source": [
    "# get num of total patches(train)\n",
    "ct_patches_train = get_num_of_imgs(train_set)\n",
    "num_patches_train = sum(ct_patches_train)"
   ]
  },
  {
   "cell_type": "code",
   "execution_count": null,
   "metadata": {},
   "outputs": [],
   "source": [
    "# runtime: 50s\n",
    "num_train_data = size(train_set)[1]\n",
    "train_container_images = Array{Float16, 4}(undef, patch_size, patch_size, 1, num_patches_train)\n",
    "train_container_masks = Array{Float16, 4}(undef, patch_size, patch_size, 1, num_patches_train)\n",
    "Threads.@threads for i = 1 : num_train_data\n",
    "    start_idx = sum(ct_patches_train[1:i-1])+1\n",
    "    for j = 1 : 4 # 4 images each patient\n",
    "        # read dicom images\n",
    "        img = Float16.(dcm_parse(train_set[i][1][j])[(0x7fe0, 0x0010)])\n",
    "        # read png images\n",
    "        lbl = Float16.(Images.load(train_set[i][2][j]))\n",
    "        # process image\n",
    "        num_patches, img_patches, lbl_patches = patch_image(img, lbl)\n",
    "        # save \n",
    "        end_idx = start_idx+num_patches-1\n",
    "        train_container_images[:, :, 1, start_idx : end_idx] = img_patches\n",
    "        train_container_masks[:, :, 1, start_idx : end_idx] = lbl_patches\n",
    "        start_idx = end_idx\n",
    "    end\n",
    "end"
   ]
  },
  {
   "cell_type": "code",
   "execution_count": null,
   "metadata": {},
   "outputs": [],
   "source": [
    "# get num of total patches(valid)\n",
    "ct_patches_valid = get_num_of_imgs(valid_set)\n",
    "num_patches_valid = sum(ct_patches_valid)"
   ]
  },
  {
   "cell_type": "code",
   "execution_count": null,
   "metadata": {},
   "outputs": [],
   "source": [
    "# runtime: 7.5s\n",
    "num_valid_data = size(valid_set)[1]\n",
    "valid_container_images = Array{Float16, 4}(undef, patch_size, patch_size, 1, num_patches_valid)\n",
    "valid_container_masks = Array{Float16, 4}(undef, patch_size, patch_size, 1, num_patches_valid)\n",
    "Threads.@threads for i = 1 : num_valid_data\n",
    "    start_idx = sum(ct_patches_valid[1:i-1])+1\n",
    "    for j = 1 : 4 # 4 images each patient\n",
    "        # read dicom images\n",
    "        img = Float16.(dcm_parse(valid_set[i][1][j])[(0x7fe0, 0x0010)])\n",
    "        # read png images\n",
    "        lbl = Float16.(Images.load(valid_set[i][2][j]))\n",
    "        # process image\n",
    "        num_patches, img_patches, lbl_patches = patch_image(img, lbl)\n",
    "        # save \n",
    "        end_idx = start_idx+num_patches-1\n",
    "        valid_container_images[:, :, 1, start_idx : end_idx] = img_patches\n",
    "        valid_container_masks[:, :, 1, start_idx : end_idx] = lbl_patches\n",
    "        start_idx = end_idx\n",
    "    end\n",
    "end"
   ]
  },
  {
   "cell_type": "code",
   "execution_count": null,
   "metadata": {},
   "outputs": [],
   "source": [
    "GC.gc(true)"
   ]
  },
  {
   "attachments": {},
   "cell_type": "markdown",
   "metadata": {},
   "source": [
    "## 1.2 Create dataloaders"
   ]
  },
  {
   "cell_type": "code",
   "execution_count": null,
   "metadata": {},
   "outputs": [],
   "source": [
    "b_s = 10\n",
    "batch_size = b_s*4\n",
    "# batch_size = 20\n",
    "train_loader = MLUtils.DataLoader((data=train_container_images, label=train_container_masks), batchsize=batch_size)\n",
    "test_loader = MLUtils.DataLoader((data=valid_container_images, label=valid_container_masks), batchsize=b_s);"
   ]
  },
  {
   "attachments": {},
   "cell_type": "markdown",
   "metadata": {},
   "source": [
    "## 1.3 Create Model"
   ]
  },
  {
   "cell_type": "code",
   "execution_count": null,
   "metadata": {},
   "outputs": [],
   "source": [
    "function _random_normal(shape...)\n",
    "    return Float16.(rand(Normal(0.0,0.02),shape...))\n",
    "end\n",
    "\n",
    "# _conv = (stride, in, out) -> Conv((3, 3), in=>out, stride=stride, pad=SamePad();init=_random_normal)\n",
    "# _tran = (stride, in, out) -> ConvTranspose((2, 2), in=>out, stride=stride, pad=SamePad();init=_random_normal)\n",
    "_conv = (stride, in, out) -> Conv((3, 3), in=>out, stride=stride, pad=SamePad())\n",
    "_tran = (stride, in, out) -> ConvTranspose((2, 2), in=>out, stride=stride, pad=SamePad())\n",
    "\n",
    "conv1 = (in, out) -> Chain(_conv(1, in, out), BatchNorm(out, leakyrelu))\n",
    "conv2 = (in, out) -> Chain(_conv(2, in, out), BatchNorm(out, leakyrelu))\n",
    "conv3 = (in, out) -> Chain(_conv(1, in, out), x -> softmax(x; dims = 3))\n",
    "# conv3 = (in, out) -> Chain(_conv(1, in, out), sigmoid)\n",
    "tran2 = (in, out) -> Chain(_tran(2, in, out), BatchNorm(out, leakyrelu))\n",
    "\n",
    "\n",
    "\n",
    "function unet2D(in_chs, lbl_chs)\n",
    "    # Contracting layers\n",
    "    l1 = Chain(conv1(in_chs, 64), conv1(64, 64))\n",
    "    l2 = Chain(l1, MaxPool((2,2), stride=2), conv1(64, 128), conv1(128, 128))\n",
    "    l3 = Chain(l2, MaxPool((2,2), stride=2), conv1(128, 256), conv1(256, 256))\n",
    "    l4 = Chain(l3, MaxPool((2,2), stride=2), conv1(256, 512), conv1(512, 512))\n",
    "    l5 = Chain(l4, MaxPool((2,2), stride=2), conv1(512, 1024), conv1(1024, 1024), tran2(1024, 512))\n",
    "\n",
    "    # Expanding layers\n",
    "    l6 = Chain(Parallel(FastVision.Models.catchannels,l5,l4), \n",
    "                conv1(512+512, 512),\n",
    "                conv1(512, 512),\n",
    "                tran2(512, 256))\n",
    "    l7 = Chain(Parallel(FastVision.Models.catchannels,l6,l3), \n",
    "                conv1(256+256, 256),\n",
    "                conv1(256, 256),\n",
    "                tran2(256, 128))\n",
    "    l8 = Chain(Parallel(FastVision.Models.catchannels,l7,l2), \n",
    "                conv1(128+128, 128),\n",
    "                conv1(128, 128),\n",
    "                tran2(128, 64))\n",
    "    l9 = Chain(Parallel(FastVision.Models.catchannels,l8,l1), \n",
    "                conv1(64+64, 64),\n",
    "                conv1(64, 64),\n",
    "                conv3(64, lbl_chs))\n",
    "end"
   ]
  },
  {
   "attachments": {},
   "cell_type": "markdown",
   "metadata": {},
   "source": [
    "## 1.4 Create Loss"
   ]
  },
  {
   "cell_type": "code",
   "execution_count": null,
   "metadata": {},
   "outputs": [],
   "source": [
    "function dice_loss(ŷ, y; ϵ=1f-5)\n",
    "    # ŷ, y = Float32.(ŷ), Float32.(y)\n",
    "\n",
    "    @inbounds loss_dice = \n",
    "        1f0 - (muladd(2f0, sum(ŷ[:,:,2,:] .* y[:,:,1,:]), ϵ) / (sum(ŷ[:,:,2,:] .^ 2) + sum(y[:,:,1,:] .^ 2) + ϵ))\n",
    "    return loss_dice\n",
    "    # loss_dice = 0f0\n",
    "    # for chan_idx = 1 : 2\n",
    "    #     @inbounds loss_dice += \n",
    "    #     1f0 - (muladd(2f0, sum(ŷ[:,:,chan_idx,:] .* y[:,:,chan_idx,:]), ϵ) / (sum(ŷ[:,:,chan_idx,:] .^ 2) + sum(y[:,:,chan_idx,:] .^ 2) + ϵ))\n",
    "    # end\n",
    "    # return loss_dice/2f0\n",
    "end\n",
    "lossfn = dice_loss\n",
    "# lossfn = Flux.Losses.dice_coeff_loss"
   ]
  },
  {
   "attachments": {},
   "cell_type": "markdown",
   "metadata": {},
   "source": [
    "## 1.5 Loop"
   ]
  },
  {
   "cell_type": "code",
   "execution_count": null,
   "metadata": {},
   "outputs": [],
   "source": [
    "function data_parallel(device_id, x, y, model)\n",
    "\tdevice!(device_id)\n",
    "\tx_gpu = x |> gpu\n",
    "\ty_gpu = Float32.(y) |> gpu\n",
    "\tls, gs = Flux.withgradient(Flux.params(model)) do \n",
    "\t\tlossfn(model(x_gpu), y_gpu)\n",
    "\tend\n",
    "\tCUDA.unsafe_free!(x_gpu)\n",
    "\tCUDA.unsafe_free!(y_gpu)\n",
    "\treturn ls, gs\n",
    "end\n",
    "\n",
    "# function update_params!(id_from, id_to, ps_from, ps_to)\n",
    "# \tThreads.@threads for i = 1 : 90\n",
    "# \t\tdevice!(id_from)\n",
    "# \t\tp = ps_from[i] |> cpu\n",
    "# \t\tdevice!(id_to)\n",
    "# \t\t# ps_to[i] .= nothing\n",
    "# \t\tps_to[i] .= p |> gpu\n",
    "# \tend\n",
    "# end\n",
    "\n",
    "function gradient_to_array(device_id, gs)\n",
    "    device!(device_id)\n",
    "    gs_array_gpu = [gs[p] for p in gs.params]\n",
    "\tgs_array_cpu = gs_array_gpu |> cpu\n",
    "\tThreads.@threads for i = 1 : 90\n",
    "\t\tCUDA.unsafe_free!(gs_array_gpu[i])\n",
    "\tend\n",
    "\tfor p in gs.params\n",
    "\t\tCUDA.unsafe_free!(gs.grads[p])\n",
    "\t\t# CUDA.unsafe_free!(p)\n",
    "\tend\n",
    "\n",
    "    device!(0)\n",
    "    return gs_array_cpu |> gpu\n",
    "end\n",
    "\n",
    "function train_1_epoch!(epoch_idx, model_gpu0, model_gpu1, model_gpu2, model_gpu3, train_dl, optimizer)\n",
    "\t\n",
    "\t# Epoch start\n",
    "\tlosses = Float32[]\n",
    "\tstep_ct = 0\n",
    "\tfor (x, y) in train_dl\n",
    "\t\tgs, gs_gpu0, gs_gpu1, gs_gpu2, gs_gpu3 = nothing, nothing, nothing, nothing, nothing\n",
    "\t\tls0, ls1, ls2, ls3 = nothing, nothing, nothing, nothing\n",
    "\t\t@sync begin\n",
    "\t\t\t# Step start\n",
    "\t\t\t@async begin\n",
    "\t\t\t\t@views x_gpu0, y_gpu0 = x[:, :, :, 1:10], y[:, :, :, 1:10]\n",
    "\t\t\t\tls0, gs = data_parallel(0, x_gpu0, y_gpu0, model_gpu0)\n",
    "\t\t\t\tgs_gpu0 = [gs[p] for p in gs.params]\n",
    "\t\t\tend\n",
    "\t\t\t@async begin\n",
    "\t\t\t\t@views x_gpu1, y_gpu1 = x[:, :, :, 11:20], y[:, :, :, 11:20]\n",
    "\t\t\t\tls1, gs_gpu1_temp = data_parallel(1, x_gpu1, y_gpu1, model_gpu1)\n",
    "\t\t\t\tgs_gpu1 = gradient_to_array(1, gs_gpu1_temp)\n",
    "\t\t\tend\n",
    "\t\t\t@async begin\n",
    "\t\t\t\t@views x_gpu2, y_gpu2 = x[:, :, :, 21:30], y[:, :, :, 21:30]\n",
    "\t\t\t\tls2, gs_gpu2_temp = data_parallel(2, x_gpu2, y_gpu2, model_gpu2)\n",
    "\t\t\t\tgs_gpu2 = gradient_to_array(2, gs_gpu2_temp)\n",
    "\t\t\tend\n",
    "\t\t\t@async begin\n",
    "\t\t\t\t@views x_gpu3, y_gpu3 = x[:, :, :, 31:end], y[:, :, :, 31:end]\n",
    "\t\t\t\tls3, gs_gpu3_temp = data_parallel(3, x_gpu3, y_gpu3, model_gpu3)\n",
    "\t\t\t\tgs_gpu3 = gradient_to_array(3, gs_gpu3_temp)\n",
    "\t\t\tend\n",
    "\t\tend\n",
    "\t\t# @info \"step $step_ct\\tloss = $ls0, $ls1, $ls2, $ls3\"\n",
    "\t\tpush!(losses, (ls0+ls1+ls2+ls3)/4)\n",
    "\t\tls0, ls1, ls2, ls3 = nothing, nothing, nothing, nothing\n",
    "\t\t\n",
    "\n",
    "\t\tdevice!(0)\n",
    "\t\tgs_gpu0 = gs_gpu0 .+ gs_gpu1 .+ gs_gpu2 .+ gs_gpu3\n",
    "\n",
    "\t\tThreads.@threads for i = 1 : 90\n",
    "\t\t\tgs.grads[Flux.params(model_gpu0)[i]] .= gs_gpu0[i]\n",
    "\t\tend\n",
    "\t\told_para = Flux.params(model_gpu0)\n",
    "\t  \tFlux.update!(optimizer, old_para, gs)\n",
    "\t\t# model_gpu0.params = old_para\n",
    "\t\tmodel_cpu = model_gpu0 |> cpu\n",
    "\n",
    "\t\t# sync new params to GPUs\n",
    "\t\t@sync begin\n",
    "\t\t\t@async begin\n",
    "\t\t\t\tdevice!(0)\n",
    "\t\t\t\tfor p in gs.params\n",
    "\t\t\t\t\tCUDA.unsafe_free!(gs.grads[p])\n",
    "\t\t\t\t\t# CUDA.unsafe_free!(p)\n",
    "\t\t\t\tend\n",
    "\t\t\t\tThreads.@threads for i = 1 : 90\n",
    "\t\t\t\t\tCUDA.unsafe_free!(gs_gpu0[i])\n",
    "\t\t\t\tend\n",
    "\t\t\tend\n",
    "\t\t\t@async begin\n",
    "\t\t\t\tdevice!(1)\n",
    "\t\t\t\tThreads.@threads for i = 1 : 90\n",
    "\t\t\t\t\tCUDA.unsafe_free!(gs_gpu1[i])\n",
    "\t\t\t\tend\n",
    "\t\t\t\tmodel_gpu1 = nothing\n",
    "\t\t\t\tmodel_gpu1 = model_cpu |> gpu\n",
    "\t\t\t\t# model_ps_gpu1 = Flux.params(model_gpu1)\n",
    "\t\t\t\t# update_params!(0, 1, model_ps_gpu0, model_ps_gpu1)\n",
    "\t\t\tend\n",
    "\t\t\t@async begin\n",
    "\t\t\t\tdevice!(2)\n",
    "\t\t\t\tThreads.@threads for i = 1 : 90\n",
    "\t\t\t\t\tCUDA.unsafe_free!(gs_gpu2[i])\n",
    "\t\t\t\tend\n",
    "\t\t\t\tmodel_gpu2 = nothing\n",
    "\t\t\t\tmodel_gpu2 = model_cpu |> gpu\n",
    "\t\t\t\t# model_ps_gpu2 = Flux.params(model_gpu2)\n",
    "\t\t\t\t# update_params!(0, 2, model_ps_gpu0, model_ps_gpu2)\n",
    "\t\t\tend\n",
    "\t\t\t@async begin\n",
    "\t\t\t\tdevice!(3)\n",
    "\t\t\t\tThreads.@threads for i = 1 : 90\n",
    "\t\t\t\t\tCUDA.unsafe_free!(gs_gpu3[i])\n",
    "\t\t\t\tend\n",
    "\t\t\t\tmodel_gpu3 = nothing\n",
    "\t\t\t\tmodel_gpu3 = model_cpu |> gpu\n",
    "\t\t\t\t# model_ps_gpu3 = Flux.params(model_gpu3)\n",
    "\t\t\t\t# update_params!(0, 3, model_ps_gpu0, model_ps_gpu3)\n",
    "\t\t\tend\n",
    "\t\tend\n",
    "\t\tgs, gs_gpu0, gs_gpu1, gs_gpu2, gs_gpu3 = nothing, nothing, nothing, nothing, nothing\n",
    "\t\t\n",
    "\t  \t# Step finished\n",
    "\t\tstep_ct += 1\n",
    "\t\tif step_ct % 1000 == 0 \n",
    "\t\t\t@info \"step $step_ct\\tloss = $(mean(losses))\"\n",
    "\t\t\tlosses = Float32[]\n",
    "\t\t\tGC.gc(true)\n",
    "\t\t\tCUDA.reclaim()\n",
    "\t\tend\n",
    "\t\tflush(stdout)\n",
    "\tend\n",
    "\t# Epoch finished\n",
    "\t# if epoch_idx % 5 == 0\n",
    "\t# \t@info \"loss = $(mean(losses))\"\n",
    "\t# end\n",
    "\t# return model_ps_gpu0, model_ps_gpu1, model_ps_gpu2, model_ps_gpu3\n",
    "end"
   ]
  },
  {
   "cell_type": "code",
   "execution_count": null,
   "metadata": {},
   "outputs": [],
   "source": [
    "# function report_loss(model, train_dl, valid_dl)\n",
    "# \t# train set\n",
    "# \tlosses = []\n",
    "# \tfor (x, y) in train_dl\n",
    "#         ignore_derivatives() do\n",
    "#             y_cated = cat(Float16(1) .- y, y, dims = 3)\n",
    "#             x = x |> gpu\n",
    "#             pred_y = model(x) |> cpu\n",
    "#             loss = lossfn(pred_y, y_cated)\n",
    "#             push!(losses, loss)\n",
    "#         end\n",
    "# \tend\n",
    "# \tprintln(\"train Loss = $(mean(losses))\")\n",
    "\t\n",
    "# \t# valid set\n",
    "# \tlosses = []\n",
    "# \tfor (x, y) in valid_dl\n",
    "#         ignore_derivatives() do\n",
    "#             y_cated = cat(Float16(1) .- y, y, dims = 3)\n",
    "#             x = x |> gpu\n",
    "#             pred_y = model(x) |> cpu\n",
    "#             loss = lossfn(pred_y, y_cated)\n",
    "#             push!(losses, loss)\n",
    "#         end\n",
    "# \tend\n",
    "# \tprintln(\"Valid Loss = $(mean(losses))\")\n",
    "#     flush(stdout)\n",
    "# end"
   ]
  },
  {
   "attachments": {},
   "cell_type": "markdown",
   "metadata": {},
   "source": [
    "# 2. Train\n",
    "\n",
    "[:,:,1,:] --> background  \n",
    "[:,:,2,:] --> foreground"
   ]
  },
  {
   "cell_type": "code",
   "execution_count": null,
   "metadata": {},
   "outputs": [],
   "source": [
    "# lossfn = dice_loss\n",
    "model = unet2D(1, 2);"
   ]
  },
  {
   "cell_type": "markdown",
   "metadata": {},
   "source": [
    "## 2.1 Debug"
   ]
  },
  {
   "cell_type": "code",
   "execution_count": 23,
   "metadata": {},
   "outputs": [],
   "source": [
    "step_ct_sample = 0\n",
    "for (x, y) in train_loader\n",
    "    step_ct_sample += 1\n",
    "    if step_ct_sample == 75\n",
    "        global x_sample = x\n",
    "        global y_sample = y\n",
    "        # println(size(x))\n",
    "        # println(typeof(x))\n",
    "        # println(size(y))\n",
    "        # println(typeof(y))\n",
    "        break\n",
    "    end\n",
    "end"
   ]
  },
  {
   "cell_type": "markdown",
   "metadata": {},
   "source": [
    "### 2.1.1 Debug for NAN in Loss function"
   ]
  },
  {
   "cell_type": "code",
   "execution_count": 72,
   "metadata": {},
   "outputs": [],
   "source": [
    "device!(0)\n",
    "model_test = model |> gpu\n",
    "x_sample_gpu = x_sample |> gpu\n",
    "y_sample_cated = Float32.(y_sample)\n",
    "y_sample_pred = model_test(x_sample_gpu) |> cpu;"
   ]
  },
  {
   "cell_type": "code",
   "execution_count": 25,
   "metadata": {},
   "outputs": [
    {
     "data": {
      "text/plain": [
       "(Float16(1.0), Float16(0.0))"
      ]
     },
     "metadata": {},
     "output_type": "display_data"
    }
   ],
   "source": [
    "maximum(x_sample), minimum(x_sample)"
   ]
  },
  {
   "cell_type": "code",
   "execution_count": 26,
   "metadata": {},
   "outputs": [
    {
     "data": {
      "image/png": "[encoded data removed]",
      "text/html": [
       "<img src=\"data:image/png;base64,iVBORw0KGgoAAAANSUhEUgAAAQAAAAEACAAAAAB5Gfe6AAAABGdBTUEAALGPC/xhBQAAAAFzUkdCAK7OHOkAAAAgY0hSTQAAeiYAAICEAAD6AAAAgOgAAHUwAADqYAAAOpgAABdwnLpRPAAAIABJREFUeAEkwduyrVtWndev1tbH3DtDQhYYywJhGUHIIUX4whd+/0dxYEjIA5koD/uw1vh7q9Vz41LO//3xzbfffvsn//6v/q//8xxXMRS1Hah1LWo1qhsE5YOvilzHbsDaHBppmryyVlyppBOB0Ja5HJeCtjKB9hAMfjKzFN9Xo7o9jTrpq22qOOqhpUItr7RugEqWFvXy0naqdLpIREh6dED0ejtTB7kN05PN7r7fP/zqb/9tXBxXmC2VBDFDJbwGOtdBn6CiMmVTtU6ctgi4EpzSufV0ERcUiaiRI6gLBRopajUMTCZRKt+dhPDJONAqCNSGSFAFU5WfJCp1nZVTI8gLEVTJSFSpu1YVnWj37n1/989/+DeKZHYaOqfbEldJV1MRl9PT7olqIm052Zl9NHXLCKZALNXtdZXeV2F67YXl40ZRQVqLKp7IVeWLKaNk9uRSCfvWqM101JRkMl3ZsWjrqjsWL7LD0LyKFrv7AkWXb5qqCytWcDi52vu8ni8//ON/+JBUuKaiKwRRNVm7q0KBok4cqraDpEUxFaZlRStXFLmiuHRg1m6hLjIRmWuquad2Cq1FQOu4TCh5bSAoatUgPg1SVbVeeXPiUqqKuDWoDlRVhorAZKJmGnqi02T33vf7h1/9/nWkO1OlgoljN0v82mXWghQtrGMauY3GUnV1EHdPVbBQqan2sA0vaeOI85Z65ZDImTVB0FK95Z5VtEY9jcJMsJho+P+pgyhhyKH0wRhQaYpCU8knSG3cVfV4eXV0zbm47mnz6bnPl3/55z8LzA4xggXKJzsBrgVOLQEy1GTiUKSo4pNwhJw6FSmarWZZS5W6ElhmgQikViWGSjTg1p2qrau6O8RxwXG8IXIkdaJ4XS12S9NRFeSdSpTyyQWjFl2vlqpw2t02z5cv3//6b+fa3XFdUBv7amCWxbQuGZnOJfshFxa14Sd6Tx1ZtUgL7Wy/+lW7aSVFKm8NklKseiuBGhuLJ+xIsrp9OA7SUbR2IZnR6+0hURk35xl1sVohZ824XK8e4Ruh2Wkjzyq2tkdvv3US7SbP/fL1N7/9y1a4SN1T9wBeCRcJNcSuQG6tVs1QTaOqHSaiRAhqy1sEKpHKGms6RbQUEfUsbTmwOFMEVC1UBpUizA4BWmPENERQajUQU0kTtUhuJRE5yghtZwW0ZWLMadz7nnuf7373y//lNbg9g9igTOmpkSLJ85UhMav0dRlXH632RDk8OqzI8OGvFrSrGtOG4XpMVztdhR5Jkasg5WSSAbf5oPJW0TdNxStEdhOpXhw6q8qPL/CR1WnleYgaEarmlC4HsZjrU1VanI8sp9uT7MCd9/v5/hf/9UCiBl+5RZDWWtFWQBXKaZRRY/pJKRZqEabiqhmj19atKIOIhMsQl3UM0toRYZGcnpsaqqrI6tOxfGVAKq6go/jSEiQytyOhgpiaiNISS3RnLQsyFLwCtZSTKNnJPl9/+M0v/rbxN80tJj2syrSbI157ERPRjk6swqLMA0wCEiu56wqBej2ZRaamJq1mdPPNCrp4uWYahbdot3IWJwjuqbyp1GXWunUrjFpRmc6SjrZRO1Dp6axkVJYYxUpeffPwQhnvEGOdZrqa+7rvr9//6m9WKFQgyS2on7izkaALhGiIkVTIa1WokCNWVfAqdEpcOaWgklrrcvikEtvXLcVRLG+F142qSFQdB3ACyHqmgngFO32tM1WR6+UnQnIE0oKsRJ9aFdUV98QUetqsvPfu+3759ff/5vgJeYFOQpGoNJVCSoe5mMTq9IqKTlviUa2CW6VoT33NNu7o4t6ZxheTMYksctRWYp4ew2lkDo8R3dotim4+2rQ6tKR12ymbCm/Xiz3dHn9sPKCHGkXValIyiB7WyZ1UnDhp0rvP16+///l/Y+0IB2gFcUMIs8SSIq8dPkkZyHQlpjTjrfmJytSJRrdLC9VZuXiRdqhrb9eqFFciUutIVYXiCkEjrwMlYkSLGgsixy1YZu66KCARgSIiolLlJK8FqhapEkftetJu3z/88PO/+TZUzU7VaSNqAtNwRlxUZjs5WcwyCPdyKj3RWO9+NLgZVe0zdZLJEHUPwYmz7tHumRR0VMX9pBFbqdKEnFbWdkpGlhq5R9XdV+VkuryyrjQqTg/eI3LiHbenYuuMajV5RV1M7lnFpHf2eb7++Ntf/dWRorqVaahplCmtfA2CZkpVIqWqilQyPS1U1WwmVHDVRphDZlUESK0RrJViYrwnpU4jFQk6V0CE8aaAKQWquBm1QrSlbqleq1Y7WyOvQCkquG6N49BSgU7brK73Oe/nxz/+/C9cS1ZqNHUEy6Gx68ZML1ZVjlcZw/pscfb1+kqwmlhVPnIoz4hWGW3bnaoxUhwdRDq+D5wWW/bs0Ct6eAGZEMvlWjkuYcuYhBJpCMdxHceZ60ZdPyCoRC3wTqNe05PXJqOjRt1Xunff7+9//T6uq09REUJSq2oyURXhqu3AdQusfStvpfWdilZu4KKi6QRXTesMqowVR5UpbUSh2nhEJ5b4SVSLTiP5mqpelQk5JfaViihNR45W6+uYUp2USuhK7augOAekuVJPGGVWz9y77y+//7v/9oEa6b7uSpRgCBrOXj3KMdXDKVOguU5P1+iiuXKECYoI8jRqaZXW0fTqzNKuHSO1Jt18SKmyh6vy4opV3NA+tmO0W+KVfWVdToPiKWrqPrV1Vs5rboPbvXqxbkyVFim6TNMTNUqy18/Xr1++//nfvmyJzDpyJaiCm6YUnFPVKeAU2UDVgutKFZ86iyqpK8G5WmHA1Ip24kLqqOpPvFNUGmFKM5JLGrmC7hAJx6gVi9rpeojqqpMaEAyFCK+Xoq5gtMyiFlXtIY6S9f3Ifvn2u9/97mfEO8TlHpHJKxXcqupL5dJa5jJ74nyo0FhJPnpiMV/76pnEKarjh06HaFhcVREGseZsKeSjiVqpxu2+GtKX5BaCGh9K7WteKLfyW6fLetQQqbTEOUo/1AwGrw7bD6JAUduMTt0mpb3zfPM8f/j5/+pB1MxzVJd/tbjlU2ZR1TqBuK2iGkqxiOikVDREVYHWgBCZiXBpT0qLYB45UqQRoUVQpxIXCaHFYAVQIiUI1CAcjJPABOEOUFXEDQipldUiKQRq5zSq2LneO8/XL1//+e1nKFWOlqou9gqnRlpZyYswcw++Dk4ZpeJmVD1I7YIP6Jnqkdwucu9xWYIWrswSCFgiupLWe18K9WrO9kSqVZG0L+Ws4mA5QdoOi2TFaGjEatHc0uKswFRfx+CoakZvjmmJ4+5298cff/Pr/0wRiAoqaIVMcaVqXaQ41lRxzRUlxS3GdeSovBKwCpRWIIlZWntVYRwyAcVVJdEqVdFqS3GaQaq0ULWKahRoEFoXIVWm0LURqkDcaSOpQnGo70SthXpKVLdN7nPerx++//u//Jlup0pvOSWIdkdD/ZY+HqYbUPDbqNNPcYmFG22PqgECd9weX2arLrqhFjZ4W6tgPGG5ehFlVLUKTmZrw6K1TIKWb3bbqpwqPU5VSGRxaXetT6FRMWq9ec3jDi+RnpDpEaK0Sbr35uv3v/7uYwZaVITVltatxRq3LrWKFuNqIbNGjRz6SR4i1EoRjqTIeKFaqZEIqzYjh5yiApEcK64iBhh8VemspGfqKtQxstpOdrrQGjIFamJQVaOCqhpGFwiYWddnQhvvabt33+8ffvtP/27NiTtSi9jKQ3eWHHam5ZWVF03KFfI65CS6Fa99kFuheThcd0eqOr6QydPTPdoTxysjLpIOmGtTZTXGCSFHlVUqXd+jhQ4JLd1h1l1S4Z2AI4dJ+xFVe2ClFaSnZjtN6YGqhSYhd+/7h3/4m2/rKgqrnrDmUx1VQsXrno1nwRFroFqbrVRCp6iVVBEXoThrMi2i4lBSVHmnuKCKyLXSyhJVaCFqq/bBKqF8kvA1qBfkB4HAWiZMaRtBxNKJ48rqJyF2OEzTT1H2zt4v3/7461/855eL4giXHJVm5Iy/9tW1uo+mZemevqhs6Nsv7txO67S4G6ufvLSgMs6knjUx4Wq2By3msag0F1hGw4MEUoKvypiWWBeuq+umXiK5L5HG5u0jEiPzIIbHw/SRXOMVvbLpkRDtqmmS93l/+eM//CcLqZUErTMtalCdoLqg1pE6pUWu6QE1SDUVUFVUSEdKgEzcuqKtKCJG4IIqqJe1MKW1StVCRlutBGpnS4lbyZVwplUkpZOmVpGvQLWoGqNqJy60E3EiE1Vt0mzu1/ePv/nuT4kfN6d0zqqZVDSfBpdqqDQx26KmpxE8OGjbUkOmGWhP0hdraycx6mu3U2W6M21XFSJSweS0fphaCZ2ONsOtZV+yJ3Ulb6dGvQJW6ipj7Qy92pyuvJola1S7UyEjew9UjWmcNMm+37/75Z86mkRSLIrcmqBZE9MaBfC15mq2qHVL49R6qHauiigCVWvTDrIIkSpdVap3+szsSU3cKarJFKlop2pl0CgUr+JQDCrM8hNJLaiuiOqmmVCRjEb0k+tUZIIPOAjuSL6avffrd//4X+W0lJKDvNiqCz/buCrkxVUbf4BL/XXYlwRSU+SoZLSx8JXaPVCHOFIlpZpGjaNRwVH0AJIK4i1SKW6gQlpSHtWRpl2RnoBpURhWzUubUWvpKVPibg93hmo1RVftiSMaA22Tu1++//Y3v/mLPahCVJWCFalVRKUC4fRaiVVhp6KOg8AhUnElhAtMaAccFTGZBVPVVCGy0qjKFK8U5CJ3jYgcHFFlFgOtrHZoRqkLcSqnkSiiQS6SXLQqbtUKL3Ag0wYnSvZ+3Dxf//h3f35iR6mh7NCiGgIKH4u39fYlSjArN/fQdqoWe03k2WrHE4b4SrHUcM+yvnLtKIjqfeStJ07LkLqPvuGgLjC1Hhrz0Rqu0fWwPQyTaNy8EraRCFJoPeQyu3u0rHfcZhIOUb1Np83qPnP36/f/9N2fqBUQ8FMM5EVKEcUxDpNClLOWqU6KQC1xpoxSOb2OIKVmtlbpClWolJqdru6JwycVpWq9EKS6JogJAat35oQ2BnF9sgV1cEVEKoKjop2EIjGoE1eK4BTFaqUoa+3e+/z4+5//9wx1gUfCrM3moJSThcSSvbo6rNyLKcopas9sqgHU1cG9ojvHDRnUb7KO3Apac8q5jgVSt4fHu99wXKsPM8r0rchSt1E3+SitD7we+yNrnIocqTU1PUE3196+kinTQJFDDi1QmslPevd9v3z38/9jmolUTYXXTeMMUqPWsUtFzTqEDAJrBwVHBlrhRMQUC6lloqpS44q6FClqORQEyJEG+Wa8oCg40tn2rFTFGcktWsmkqAWalkKF2sZIqkwlLVPxqRCdqhQUadrc07vv94+//fVfuTBN36LjKj1tcdnObEv7EUc0yvpFeWssXcQXSwWkMkqTOjvtAyfqdH1avfooyPGDGKlDUpSQnElp30IdPV0NGqi1quLNTJXtK27i/Thv6GudSqyA+YYLHL8ZlZ3V7dRmJ0dFtaPSNrma+7y/fPf//KdQBbXIazcHuW6ppqAY5qIWOY2qqUPIQEUsVi6pi4dFcih13ZLMWqoRDadqJiqmEIRptBKVqZgIIuY6JTO02sqlBV5KtarSik6iE6hKCi5uhVO5dnTctFHVqHGS+359fX/51f/4szGdq3SK4hclatGLe0o6DeiqUQVRTCU0T78tOnuFm9SXcWSIJbVaqt0ROW3l9FUp7BoLRWIogf1oJtweCdBKfYSRC3JkJbIgqybTOnWCepJ5kFykJuqrbCVfWnMql0LdRkm63Xu/fP93/34irpmYXkcqtIzuIbiJRSoQKgg7dVSU1urJnmIitS5MWwmnQnUjzxqLEqu0+slVXORtAxLxdlCsBGfdoJFWriiQ2VmRCmPSalIVRw6FRaEpS0xLjY5QKmgktc317n794cd//O96KRI7Zpt+tCbianJR4JSg9BXyajw8LWjng20Q8rX5ZDp+TiiRk04r5rRXaU01pNEgLasXxaxez7QZgvZjnZSqR6sq+zPySFRun4Zv2L5+dtk68uWl2x3iQKVUbad9qZjR5lRVBkX9VyH7fr2/fv/DL/86I2pHtFGhVDVVyYmiKhKhXusTIopoq0it1FIrHVX3YxWIaICIIG+1RuVKxZMCUVmjWIrW0T3XCKR1Jap1iFzh1aeaIK5XrZSpK5qTFe4nXCUdWiEvOi5QSoY2yTq9z/vH3/38fzuqEhTSj64bv27pdCoq8Zw4cpGSXJ2mdrSxPsVK1+fK8JXy7lGsFStmEqGrMrJuX3rgtuqrEQKrjWn6AUYXfFjtmuFDXyU5VxE/SRiWR55H13BXlrdVH9lJ1DPPTsLkq/ecCqhw2kbtzj33vr/++Js/Hld0MhVBynhD01SVFGYlq5nY7ECDIQiIROsQOzWt1B5aMRfuEVWF+VS1MjGESq0MVKa2SPdUhLWE8EY4agEBdaRFEbACSZU7wgmIYP0E1TvIOzkUlIhGcVvSZPf94+//4d9yHDyVdZ1+NBovV4IaXDtoz4X6Vb3Vc1Fe3UatOhnMJfvyTZ1H2k5EXSTA1RWsk85Z0cyKj2YP5TEZb3sCUjeow66jgov2JSHTiyLaILeUk9kj9HpOkVKTnmCzsquDKpCgNMqn3dzny9cf/uUZUtG47UL5JEQV1zTWFLklFkLqkpdbKXjdui5KTStB7KrhBBV2JlPUTJBIS0emZc0nRUqQ4rigWFpLtEWt6qpQTKJWCFFRL/FKui6oUexWFJzM9lBU71iNu9OL5nHu+4df/e4v+nrWaOsjVBDtCQhlWvdhvJn0ExpG17DyrjVpkZTsC1rkHXQWuLKfxy/GReoUVyrwTXZKfbjT4AEeIUYNtRtdftIqL9pRuhqhajVElSgSLVQjAno1jZtwgNnliJ8IvIqcuL1zntf76x/+/j/2qfFjy4FaVdQik0OpVNopamMq4l47lfXJxesKFSFhXBzKpLakfpqokbdmUOKGUlsVsUAYA51QV3EAuaIuFwl1OkBNJqIKVduRCVCYKvyrsohTocoRirquss7e58t3f/Lr//Hnmipk9LbDzlZb70Sze0xb1pVDaemAukSGlrVvW522O1qJHaTU5WRUaNXjuDs3QxL1hE3EHonrckpL1RaHToZVC5chqNZWSeW9H410xwvquZltmVUwVfXytbrUpyKuCgpVEie7uffLH//wiz9b+w4mgiqvLgRhGlH6yRepqhRJEaJWDS2TSNGUDhu7WiuCqnIqa/Nt+Eml4FAXhMAUhiqCYFlx1SlIpsq+wOGTGvvKW6SVjXBVBEtRUQUu1U5hOI2o1BgKLK82eeb98fUPv/ybn72WdA+vLOuvrqbSGux1wKtTMuC1wCsnMqa4TyNERFubx2qvQSRYXTR+pKxedUsY3TbCTD/xKcMqGK8E2pVL4LUqbSyiaZc+5rFeq425sYZmatQoFXMbTXCrk6klGZctVa927rnP8+N3//Lr/33dqhEuYWKYetdyXT4polBKRhWgSSf9RN3WOHLDCVVVeQsSRa68xVERlxMhFwrUXjopESq9cwEpoaXaxrCmcokBx+kghLJTUYzi1kVVVEdqqx5ifqJSEy0i6/f03h/++PO/NJIybq6GAhsDQ/LqxVq1H7nK9aSG2Ax3kJf2xBBindZRxdkYvLIgPN7XNb3qTKOp1sjDI+Xj6ZaLsFj2EJSZGqlhioLLDqOqPXm1VXzQyG1OVtJWUJWdJSfq9SmRiQNOqWiU9j6v95ff//Pv/0MrRkVgXSaI1UBcjOuYSpGEWmWkLqauo8rSVnZRMEow1K1rLRCi4OAs6oCD2qDwNp/UDo0f7UhVOx0q4qoTpNeVw6xk1FlQFbfMTjDIpDhToLTiiLauppXXHRp1h75fX7///T/9zzpR3xxpglrcExqlXhpHy7bgK437EVqdVoiztKEmrRy9eFMJSX0BlRDN4dR1VdFWQkp7DyeonkiTdFCWFylsXZkTcZT1bOI1lwM3uE+P1k7bEVrLTV4pmjcT6xS1JchFUNqs987s8+XHf/wv/+6OtYCgUtxWa5LBkSt524pMWCE1Qg2TSihFwiuqEqEUg0QcCakDBfeTaCVtFRwtXlmBXlGXSnSWWAUUIGPorDKEqBGKJqqgTVt3hKCJ3Out1RO3jSh2G0cuJNd+f/N895tf/QmphixBAyqJi4+KdSmvs6PFFwMX8k0enMVZa5ohC7RaDbFctuCKR8ZbVSiKF6+kEnstR0MYHuxGyZQgXcWtVCraisYllnRdBpdXoG5Rt2xVISmzkoftEUEMFbMQVXG0J9nn/f2Xv//rcdwWZVpHGQTCKopiqFtRl1YVjgRU0UCqWipqTAwitSpyCOAr4aigKEiVCy2oaulSCVSpqokMAmKFnHWQCtQV1adWd8JcB+EWQWVopIqWo6j1muigqqaL2Nnc5+uP//Lb/1jFuviQbjta3GmVTvxSV0VSP0U9lFUJqALb3WuuVGu7Ojwq8laPdNKL0OWgTHxau5sO6pY92rWGE1yEEibqMLpyB4sc1g4EkQ5Xp0yc0ldvhYSuRlenJm3lI5dGFe1ERP2UneTe99cffvh///wIt1Jb/lUkItcN7KDIojRyA62KKypqaVW7okKRok60I4R95Wql4k7LtJggJAVUVWhCI4paJGhZJiCv1I5KrcK+FisCQkOlUteLqiIRgwPRATUWNHumq25VkWST/fLdL7//U5R8U9UtTfzhOCpXsL6D1BZOs3Ih45spvlYpNVsThtP6URW14xWviB7dTvs+QxcXtR88FYeSBM3jlC4ulnqa6BLw7Sujp1pL3qnwSiQOihQHetVquvtqWFxXPaJOC1TxRBVN0mQ398v3f/zF/4RRifEiiqSVyKSIoS32qu2ETOSVMbU6rcpEQOS4JcxKUVUgUBUUiY0IqqMU2oLDT9aKaKQcaB3AAbUytVUkZ+ryE3Gigio7ciBCkVECLodPivmUHCvQkuzcuXefL9///V9/GzXyglpZD6NzpcWt8ZvJ4MVTsUrU9FQIBE5XEs7d/48luNG1Nbuu69rHXGvfEhJIgmNKiWQIcGAk7/9ERoA4liySochi3Z+zvzl6TlFp7RVJZhIPQp0OERr54BU8+UF4hIAjQ1Z8ODkO0Z0d6/hl9NzlyZDT2C+bjGkkLTnV2UMC0QQejZfu5MIYBIbNDGKnVXff7/fHL//v7/8hmbSniQSZ5gnI3extUtQghMOiQ1IZpJOdTD2MgCOGaWanQNKEU6aQTYo7nmaWX5VPOU5aPKbjHMRoT8QehgSo0AnCbA5PmGc67IkGxxgmAl5CNkLKXc4aMN3n9Lnv9/fvv/zzPxzNjHvayZfQ9q/cmWw87SuNM6tBdw4QyjqNdfeFa5pBxrJz+4Qqefmwk5ShHsI7IbyYsyhZU/1iyKkPkc48jrcn7012JjFtju9cuzGyk3R6xmVvHsjAJoFsr3BBggTo7KQ92NPa7j77/v4vv8yMGJpJh43QaXakc9BGkbMcA1PBQOdQY5r00phgsEWYFI0YMSg4eVBCAOM44nQw6ySdNBIiIQN3L51OzwakiSadFpJ2Fkwa5BRIh0YujvzKCCHGv+jz6r7v+/v3P/73//KlE7neeUbH6ZvpA5PR+mJNMpuawJ7CpB4lHhrIdrhdz9mivEzWh9xO0tAX20um89qaJpJCufq8XFOcMXotzXsEc8uYHvTldvIcdDJ28iMTfGCmtxqZTiLhJhCwidtLMA1o97T9+Pj29Z//6b7YId2cpllxHsjsRZJYPjUZBqMMjYU9xYQ9mGnhIDDLrCVwGOLwZGzo5Kgg85x2BhKIsyH2i8YgiYGkmCDKr5whDQd0pjEwIjumSY/CrNfLUEBTzDOme9RYreu+v/7p55943ckzLKvJ6TCEe7czUCdQwl1Mb56es8485+FWc5aXmxqnApe3wzg+OaI9WV7LXcJgm05OU16bDGR7eyZippmK4sf54veT4ETeuX3nmKGAnYeP8+RcYWDPUMztDFw7McwSacoU7Fit7X78+PbHf/nN3rAJNDv0BJ0pIjuTLE3iOJpIZ5QYPsVEhk46GDrGNIQQ1BNhFubwF2mmCcRjp0EUs+E8k8zebCYl4BiMgyQzdiYlG1gZk+whOuMTcC9ZuFDCNJKOMaN2Sffs+zzPj+/ffvvjr2KZAn4RyvaGuwvjm5eakVDO1GbokkyCm1hvnHIt5fSYXjYENku5BMMUdnz3zJzNs2f0xCkm4VR2Ojw8hj2NficTIb5T6S1pw7LzEmegQLPPZHjnC1DwIjAMCzRCREGzx358ed6//On3/8nTEGfjWSQDbIIEmc3E5lQFSWQyirPlSOSYwFRGMnsmopPS5FhIMTM1AVPuIB3WCc0RQ9E0MdEJU3Y6xjBjDJukjhLFQJogo0Yyj9FriA6jRqKHgkLT3f3x+vj2x//xDw8XGp9cp0yxYXdSD+WgIQayXM+aBsswJPgkH5eFfOmbTx46VCbmy5KOs6k/VWZg2cx0dCj1mHR+4lk0kw47Mzl7js6RcizhsEPJyzPJ5eGElnB8nx5TCZ25AYIZ1hixg5+w0z73eb9/fP3997/RLAqDCdMJlmgnMdCOMZA+yVETCQyYThOekD3QmQZ4LhKi6W0vkqyETk046zMTWSZkAnW2kaQGR2EnNaQ5GhunoSN7hgcDpAEP0zSgc7ydhBiGx/DJTOmIrV33eX/9w2//Jjsh3PsgJ3vW2+lmESidY5/LYoZ2TORaxjZ5uOmNdc8hGmNNoq98pDWz7JkPXmgzMT07UHgtH756+JH1clKbY9IIL1tf/T6vPUBhZ55TTnbDpMbMmd43sznMcoZcQBJgTsEYwNim3dl93j++/fl//OekGUo9FUemZJyHJJ1CITgSEtMggspUxqCTGcBQaGJwmnBogaROTzmQ6XRfjT2Vs2lNAcn4FyM45ZOZTHeaDomIBLnZAAAgAElEQVRDItGgNE2I4DEoGK87kx6iowliiG5IdZ99nufb737/mzPpid541leepJOPHZKVDIYImtPB++bajsvA1N1JW6AzCc2LT042pslrc4UzH5s8Tp1y9vTlG5hxnsntw32OuUoNQ3mG2flJs+8vjpwdaJKxHN/JxJ7OUEgNjd6IDhQzChFiekPT5Tx9f3z7+V//w7Bk3DTlL5xAmMAE5pGAwdJE0tkpI1JoBEb2wPZEpoQjTKSaUA9TdI7uYJxmDE0nCQu9xGgGRnqaiHsM00B2zu50zCi/qodqjHdDZJnLyAm/cvYUgVHc4JMr7/vx8aff/u/0UOeAcDDIdgjLTnx58mxmZhnr4Th2fzLzJmenkVCW5Il704TkEU6wHt+G93ROidznuk4Txhw1cW51SdZMOzT0uhnvefulsGGyklOCfGRIzBoHTlm/tKdcgmIMGlMMGtAOPvO+/fj27Y+/+0fi1ESaBhgaL0/K3kAKwTpKSLPDOOl4inggTO1JDoGMGBMQxzQwsoCkgBoM5YQe2JlmmkYlGCcmND6kGHolT6ihkRiT7VHiAuF+hL1I0EwMn0IN0/Tqxu7znvvx9ef/5zc/NQxlTjdpPU3i3I85m3l3ZmjD0XmcHH2/hkbDcQQ7wy0bzj7T1ZEz63M5jgfOMztQT+FNst4nTj4gBNuZjd5d7vkYpr2JxB5KnOB4JVBhslxP5ItvTRjWOHONA8HBngoqTEeUjt19frz/+M//8T/flHgwyQ5xNMikg2PoYKinjCRPzgYhNiX7iqQNznNwgwmdY5DplEtxgIjj7AFiCGMZTzNNmSZMjqZnGgmHhGiYRrL59JwlOE1AEOLEhLkhCWYgfJIAElGeuLvPPj9++bf/63/5uw45T1+GdnacPONMaDlXz3iTpibxY14u0Tnsvti5rRfEQ3vzwpPlqDU46tvTAwakdDqjm+xrTfb2nKfDWF+uJdzUcbRm3Bw3Y+S17M7CePd45tGJV/J2uHtNgBGIxjTIABqwUZ/9/v7+x3/5m5+INMQQxjLH2ZcMzSZ6apJnUGJDIZvMypBC8TTjYJilYSdMDE7sNPJJgmOHOpgYYPqi6uh0qgwmezaZJXRA0tumg5kApsPZAnsIGE25CKExEEQiGFHsztn32ffH969ff/f3v0nP+1JvD5M96eTBIrNOU2C989wxgqEGPRcIB09+9FCzZBsO7/DJGNBrmE2czWzOuxm8iesV+BgGIclTekxcntiZsxMvJBM0757Ekfjk9YTIMN0b5gQuBgOC8ikGQ+jBT+2+z5f98eOX3/3+b+cwCgaQTpwkJtBJOO+LboOn4DSGNJseyAZxpiJTmKbYJO1kEXGS2Xwy1ElK0gRhVDhLSpgiHccYG0I6dloBcwjRSYoBw1jIZqcn1xCN0QDBSAwdAQVt+/Hjzz/97u9/0iFm2jRmeIwPdDxAQ50eQ9qTTp4XT8bTl82bn7rAm2kOyvYkI/FWwkmDD2YzCQ+vxpfYDKT7etXnGTr11TnvGY7mSDB5CsOkHI9NNr4QMaW56YSn58tzyQVFmEb5dzEmdGjajn0/H9/ut9/+7j94JaHDp8GEOBjINqc6jgky9naPIuPYpDp1TEpSByETKp82fUk2U6ZiYEzQZDAjKdbZUyfGQtOw0XBWIk6Z3QOO58FxEjCjGQkTI3tjZHCDREAIMC0j85Dd/Th93t9/+7/+NcQx5by9YjyzkFMTMkPRM5k3681MKWEaZ+I6PJzcxpE5+2bKAefx7EN66LQzsySD9YxCk4bueDye6DZnzIzwYGIZzDBssnCwyT6vmXxM55ynAodDLdfg0AAOEYMJFGJodLvPfvz07ed/+9e/3tNx6lkFZtMQYCSGEsfAinbSEe4yGzZAE9xzdM+IIRA7IT0FYhhoE6eBGc1OOoSS1ObkYYc6QRAGyqe7pjEcPsVoihnSL5KNBxtIrhAJ1BBUCBhPdZDu7HOfj/fHt5//9R//Z+LFgdGx7WXsFIzPNMedwzudpO5sbjgywFR24BLrEX4wea4N9rgnwDcujHnmBHfi2/E+M5slseXQ3ELPiU+mptdw8oRYc1CSp9cZW3LE96S3X6xtj1wgMk3AEE34VYqx09Rtn358+f71z7/7a3ryTCdCyadK9kYlDSTvHBYNwjyngUaPoTGCAYUQLvV1hMnCJEbqROd9Bp0mnclbAo5MngAdYYM9Jup4pBkBD9scI0xHpqd1iMUwhjtiKA3BJHySCBrpoTt9Xs/zfr7+8vv/9Lq8Yd4HLDm3kN5iwEA9Zxfm4Dp2BDmWZ0iYJwWM00TiQZ2CUZjjyHhsDxI4G2aNJ8+wI82SyZc3Q6cpMrpN9q7xIXsyKGmY4VJg3TCdzZeWK5hIkPApPUB2CNooe3b3ed4/3n/+0y9/0zQyIxJdmI7QCY6OJenRwZyCpEPOvp6YkZwlBoTRUTvPRCTJITCmI2XYCWfHKZFkR9QoNujpdJwlaT5BBKZtMGYcewpkIQEdBS9/ITExJsGMGaYwapO27/P4/Pj+9Q9/vXM0J6gvemQHyjVnS+/8YIjpzt3O8PhQcHYYm0Ohw5MTZhfKX/mBktSGd74Ux+OOuR1M4iwmcywybE/ehOHV45e+ZzxWekwvThF7Nes0AjO8jeH6kes1IKPyKzMNQWAU7VF37fN+/fjxy+//iV70SFCPEk1shpKJY9xpRpOFJqBDOoUOpmoIt2tjNGGKs6NJ5w1j6Akw7+yLzp5Og/QKmEFkA51s8oRPhmAcwRjXiNnBUyNI0vGCERMwHcppEkEI0tHqc97vZz++//yn30xlmgMjG8QBhncSxKE9jInzQZ4XjQY4pMOIjg6KZ8NhOzy82oRT8T3lYc55j9098phMpk6Pp2ROwzwN4dMzwZMnV3coI/Me1BOMZVh+5NLMPL62uZIAJqbHEI7EaAwjKm33eT/vH7/8/Off2CR1YHbiOpAdEn5VmZ7g0AQZAQlNNNBptAMROiQyJSkRzelOTpPeTsfEMu5J8p5T9ry/hB2HcZYOxrE3s29GIqQTT7EBOQZGTWBJJ7kYieFTxIlgggghNDbP1P348uPbz3/++mVOctDRSjKwpwKdl53VsTfG96ssR++a8ORmZyi3cThsrw/HR3pZxtTU0cwGp/GkGhqnBG7JxXLYPMOY8WMm8pGb6pXZ9PDyy77lGS5PymSshzrKegnR8MnR9IooEQyfdOO+77Pv5+Prb//uP7pfWGAz2cTQKdFEPY2BaZw9hTtCHYSJkU+JidTs9EDw4OwoVBqTU/5CIRpmJ8gnA6c0GXQwR3Y4QkyZzTNJJRxjJEIAB5Boz40YJYBCdjhqQgQatFif573v99c//fE3r/Pg2QxGkk3oMScP6xODdXq4PDk9cV8tt8+bvXkCE2abkMlrirNEZ/IBs72c0bA/XhPoyROYeWai57YmB3aPU9iZR8xQmWQ3Dm+m3+KeaScx9nROnI+knetlQD4VCAEpIGBI0J72bLcff/X++NMfvv7tkkDmPR1QzOkQmJ3TSY3EwU7CEjPLeUgacCw2ms0ZYYxMxTDhBNbzhhuM0PTURo+hjFN+5ZoIPSXOEkpD6mBBg0MqDRumcLaclKuBBBPi8Ckpv3KUGLXt2ef95f08f/72/a/vMnxhX6FsTw47T6IdOA+ZnvHw5PKwPf3gdR4vz5SRlezIcmSnkWEdFrJ9zYP6JMSe5sBLs5HLuy/s1R2Bc6g1PZofkNfr+0jZTQjnu5wPPmUI3THN0EvPJWAQmBEICsQQkBFt3dP9+LLPt5//7Tcl0hATkvDJee5RiCTq6IEgDdkDHTmNROTEeCAYDGFECZ20JGMZSMYxi4wzJhNNmuCYksSGSuPUHQGno8YwJUxhFBFIE48XYwBDkpoYidIBE8HGZXef94+f3v/2x+8/HU05W69NaJh9PWcoO55yQj5IhmMit4WBMhnG5TkbPZmJmWHBE3n6E01SDS7jk1h1ejA7HL3zdObJgYP2THjmZTVPX5YEGvH5qe/XF1oIcuZ9iCyyuWDACAmnbRoJAuEvBA0u+/7xV3/+5Y9/L0PKpyWkecY48QhO04Ewe4RMScSzyTiQbfhVMsYIHZ2Tplx6lWSjGU5DO8akVxxIIc4QBA2Jt0FKjyGUgeRJHSUGHAqOzkAnFwyijJ1MKkIh/ErSdNqdeT7u835//PHnv89oMJdlmuH1DjP6HNcvgSdmuJwsGxFmA00j5m4f0imlc9jNdOCD6/pjIrcw8RL1gMdmGyC1k/bMxzBvBnvy8CNKp6cjwaQe4JXNOz2HDaV0OK3xRgyUdJDxEwkdlkgg0NGdl32e9/vnXz5+GpPQAXKgJyHobBh2MjsGEiFCpAbjOGab2ds046eQNMNOIiZ74Z3nwMwSBhgRxiknSw1sPp0OOZJg0hk5HQpnT5mmkWR2MhtIBzdhcyUYA/aMcp4QHIqJxgBPetj369mP5/ufv355OPVM1jTVkJNnk3otrZNPz1mB83CT7GymmzeBOvVQyuWJg+GFLGFpljsD82NGSPgU9lzi25mHA9qrkUDP83rKCUX23mU9MXd2yJmPoDQn8M4Rj7chksbwyWQa/n9mSkSobX3ez/Pj/fN3bxujs2aT4XDcSafEOA3YMdAjLGMZiJmelTjlUyJDnVEIiQaJnpAGGSMhPWKIwGmaiaQcwNQd5ywxBqUxn8RRd6ZBRhKlZi6/SoZSEmBMGhw+SXRsbGvLx5dv3742vpqpp04bvxAer8SRJTn29LaXDUtPNgPGl15fD4ecH9yMxPhMBQWG4OxMajmpw8bGcfiYy0Cx+eR7jukCRQ+ezREkTlBkmrihZK6d+sUF0otxEPm0Jx0DEYhADB2D3bbv+/H+9vGnvz+F82AmnT10PPPQNOSU4IjSGDHGDgrOdiCdziifNJ9MI0RwFNNyVmAkhnGZiJ41SDB00jSfZNKphrExQmNCZAwkWY5hk83sXGMkEjUwpFGJAWNINSpP7vP0eX7+/T+dkzTR5PhX/OAKQcJxM1ku5diMRGdwnWkPjnvw0/jyPYXOqQ5ngcnT9FBvnpPRnSGp4ePcbl+b7Ey2YYAiZ0Z68k78GDy9jTlR6/HDmb1xNOHpue7xAgEjKekQxymCOASINmPTuvv+9vUPT08ZTKYgIZWmGUlEYpwNwqyJnZyUoYmInirQobAgyKcxfEqdhlPIXgZ6PUpmzUzHymBIkzRpD1OKk0pkD6Azz2BdggmdbQrcgCGQgnVCQoAxGCAjPZ0enrsfrx9//sPX/2mADcjJOlnE0i8sm4fr00Bh4Rg+2ZR5ks7WlE8/esI0CdB4UME56/CR2J3sUcgw8HqYB/bMk8MyJr1rJPoepoCZbKbwRA5vel+V4zM00TDZXAm/igRBQwBHfhU77Al0uvOc3fe3r//8m+dCnAoaaQbjkBBCTYCUcZpmAr1kdpTpZjCQSUkCJOrpFJM920wMr+4MlJLGznPATM8mjimnxGmYYeip6UtiQtLJnk3aZDrNhPdgMnOboAPEIDoxEgiMkjhN4cn008dP/eVf92rPNUw3PV7JS1MaSBOYZeLZh4R2ZuurR6P81E2E6RTbmBnpzsOckPWFJe+cseOYva8nCwaPJqGVpL745Lj+tJdxdk3rbURuX8wb54dMXUNn2L0BxJjYIR2NAZOOg01qo0D30/v5+off/yPO2Im975EozMZCppMNZFg8byYxNKQQwXkMEkZSZuhkjcPodCKhvYWSniAD5uDGNNMoQmdMpx3ZbHOcpiHqeQjTdJpOHYFohs30OpDRYDBEdpiEEGJgb0DFjrvv9/ef/vDf/s7JIE/Sl9MlTcdRR5OZGrnZTGPTjuGZePPmvH4QErrjSOQ5YepJ8Xwweaf+yEk82E2dLY3NZJP4JJN0OrVe5LXbu1Rv3LvdcCLO5lBGE5xkTZYb4giaABJAE4UYGSWKrYrd5/31v/2ffxNMMybwjDFGdErShAN1OgvOYiSkIyWnxtHTOHlOI6KhoecRiTKcNpIoiRD14NjLOMSRTsLigZLILH5KltGIZJPR4ZPprBsvlCYIHokJDJ3IJIbZBuzs6Z597u772+//5W/j4zGDenyZPGcJOe9Mi0waayQeyrHh1nj40SFxlwm+bEK0tzX3yR1HD0OBYk5TwmCuMY1Yp76y2aFlJGfg6AnlGe6zL8vddmAHOMblZDy9xCAB06QDCDEGk8BZUiTtPKfPed4/vv7f/4UjPdMEOKGl6KSjQ2KAncbETwcTLOI05LyTDk3siZi0mnR6DKYznWeAkJmBINIzzGbkkxLZkzSYmcV5B+WIjhgxKIFETfmLixggEmg6MYAJdIBIgp9Q9nn1+/3y7be//Yde0mcmWPDUlJdC5KAOhuOhnR4kA9KdBbphDrDOFAIMYyTnnZwmK2ZqPE8ex1fJlB5yWwfzAgb0Uq8r3ZFxIOEn6pizoWTJOOwgyTOXfyfQEYOJiYYESDMV1M1Ofea+39//9F//t2NkMAkNJhoEE8SrySazM2ycMhLDEWbv01MGnGDs4VdlDpJkCGgco6BlocJ0+FUkHUiQDgjCAGEawfSsECQcETOLB+MN4PApBsEElDggOIQEDIK77e5+/dc//u0XOmSyCVHODqRBJqAZr7vX5jqYtzPjm4v6DMJzp9gb0XF6HTtX9vJwXWg9vcg1lZOP8mTMERQlPR0kTR4518Yj+MZ9sTqMt3RMDCemuQZw+JRONAg4BtNEQzhL97Yb2z7vH99//ue/3QODBjI+Tho2kCBI0GnkFD3IBCclaWgnjmRnEGzsLMJOGoHGCDhGCklT2EwnKSTEJymhBMiAEEhoxEYCjEyNO3jex3AxRINEE+2MAURCY5h2Nu2h2j6vjx/vn//7/3F6BqZE395yHI9AEuvL5p07noftlx2Hes1JnlwaM/Px3KEkMpN1/anjmBSywXFGNiFZ8G3GSXJ24vTJyRqXF8VmSKZAK+TVmjAkqOBt/W6PvZEQCf8uoHH+P57whmu7LD2o69a69nmqFUKwSMAk/ojHcLCH//8fCsMYNUJCQqK7q+q9z75Wnmpw5gwTxDJmzxI7e+fu59kfP//Nf/xXXxpJU76HnWmNC8cGv2W+iMRZIne8tjPbzm327I4mVLhEsM2sWfvsicxydmj45ma0Isaw7mzMirGzuGPNhXUHYXfWxB2W8/BNAsOEJAZogFxcXcrotX3P0/vrj3/8N/+ir3VPcaf9yXfuajAGD3/y8Yt31B6+3fqJ2+/edd3Pw3MvTzSybJyhh2hPk67MZ7/I5ZQ4Llim7fHuDLPrPPvyujW5zMLu846Hy0Mmvc3ociUh3wcakhQL4luIgHeExKR22L1zP++Pn37++W/++E9z2QkDqllXIWocLeZ9OrCC0GDscXZgT0D4LbkT5nlHhmFu5IGdoEVWCYNKY9xhtYjVJRO4nVnp6qZhLN/O9uxpgfERCJDElDD5tmOGO4Cc3ag9xOenz49f//5v/xtm3Qvj2dIFhkEvd37aMr6ua61HZOntqTtTe59uXyTpocssERK+eucAD6/w09JDrMwacC240z59wvTZ8mH5usDMjYTTexcz1olUWh8s5TehYGSi/BcRTcxyOe3ufZ/P5/3l19//Tz9VuCcczrsN2Q66MC3MLswyCyK/0fbgMiWT3K8a5nZw+SaLI4YOzOJ1XmdtZ8+6d2ZznRgDduysY2XDRvM6d/jIFEaLWGDTk1IDO8WQ8s2M0iSgaXfo22537/t5//DXf/8vHeTwCqXvnqcGXma7Tu+5ncn0dH319NPqkQtb8/hynpf1cBZjOa0IdrLuswn2EgEZ+bhnCcTX9wwyHa5g6/UvftwGR+QBXn8o7qnOnvn00IDNmpBi/Cax5JsFYe7stNu97/vrL//wN/9yD7KKuYwORHUYwSCNGqJFYrmnnYb1FCLDpjd3DXDPXpF0wZ09bLqFrDyvtYllw7w/Td9YYmbNXixXu4NGg4a+tQjPDr9J2gMkJIllWK58mxZr9569b+/745e/+v/8k0XPzqLV8MLZ7uTZ5uPD192M95TP8mftKDQwXWdBvCrZV9KpLze8QfVOMGMO3z5sA+FXuBx6hJPTdblcj+C4052HPSiIgaeGM/tQEr8xiW9BWZMBGUFMJ7a90/2c9/Pz3/39Xzyx83w4t9qjO+wMtHhnSZfkcIUsyXugqDFdMCPZWZ2bNbhq2CLeozucpvaEMHDHhZXZg3eySb3D5DQNjMlCHFhfB2aPzQOJAZZkSAoZgVIKKEvs7N75fP345U//+Ff/r521u/P68Zz4FhxnYZnWYE64gzuwbrkDs197OwXRMLz7aH1Mznr3zGrz9ImBXGg7vn1FQ8wOLy/28Wu6NV5mrq87XM/7flGHl7Ecf9cyt4IHiAyEVQwJIbEaSKCAgdb22/v++Pk//vpTQjDLLK7kMlz3eU+yg6GtSb/RhX1iVlqB80pzdRaZZk8s7LjNzu1MRrOEDJxXc11JXWeBBJU0LZxldmJdwVUKBYwHSCBLvgXsoJkCoSRwHb7t7J39vPfz89/+zX97zjQ0TuvKxE9mug+FIO/+xBPlyn327BAuPLUsO7n3et7oa4/dPeNYhztvw3VhIdl7lo+0fXFN1mYPHziXajYhsTviLs88nV3oMk017jyYgaFNKN8SEjIaCCE3c8/e03Z//PTrn37/30bZrCGDGPsgkol8W7tDRM7eCWeBaT3bLC3T3E695/FOriNp43L8IX4rxvZELOLZaBAiZkcmLNdz40QGp3u2iTWCFHlYkzAUMWhghwaSlrOYct47sc3e+/n68ePXP/51X8+8n92vlmWyZ15+7XflcR3CBkdf3IdbzbKyfhiu+ZOfc3zhafaL98ggd/Y63gPbw04TZ6fV9HVGon1m61Tm9aysw+GeH4A/3ZMfvpLYOb68yblf+2QmBBjGt4wd+Wau166StgPuPbuf5/P+/J/+YSbbidk7d4xczsq3czuXEs7nzHL0VbLJ2easS6uwNHeYdVMiUPREzGyBJSpNwo6QZtZlAox5J8TFOJ13sshitVSceIBcw0hBQBq+7QExELAooHZvu/fz8x/+zT9/Dz7g9Us3Y+csXK/DLO4su9s5l6JhFnYuZ161lbjMK84dRi9TrczHQ/twweVlWO+R7QCfPZzW3QtN9viRj/cn3vnV37Hnh2cshxwSzgD7ujykmHwTJAnJOsMOvwkDm42yb+/X+/74/PHfvw9ig1ZzdbmDC8rseeGe1nFVaqQ9CowW3a/Ozsvz+i3LHZTroOguwywgswzFrA0zeydWSmCfZhnWcAJ32Aa0uUPE6EXWffhN8v/XLL9paJyEhAzCFpmt+5774/Pr3//t/8DiunPwE5bacnoqbk3I8urTzlcwktUL885x/HhlD7beOVBSK1+tO9OZ28dJTsLzXiDN8TrDQvhc044f6XcL19lD1NtwpZLPCDkP/6dl5JvZjrKas6nJb8LagXbv3Pu+P3790//+39lBH7cmaMJsz0bnBQ5eUkmyJKIBlh2ITGowV9mzg0Argu2s7sxO0yI7SELcZ01DgTvym/JqG8SdHRJc3YMw8JAhNJlCwERCxMR/EYPrrjt0T3Xv5/Pjb//wT7/ieQ8dbl+sqwzvfZArsHXM7d0vHvd2l69IBGJZZ1pZ1hbGj2eHPDbb2aX0ayPuOfuEe8/MLoNz9jMTd9iZnUV7lSavc+cM65kfDsuUrDyJhKxCQMoeIIQmDLJIpL3H7tn77def/+Gv/68McY/mAFfWJAy9R16hHT+nEPMEYXcakm/edop7RKfpXGav1C6ma0AS7eTKsoDbjO6ZJdjxeU2kwTs0rls2zebO3kd6yIZvkqwiZCEtww7HC5lTsyBF936e9/Onn//qf94zPAsv35ZzgThtdpqdPbOk+zuXX08MKI4cr28fZ9hpXGchX7+kneXi5NxlgO24c3uk4cywc3VeXt3ptR2Wndl12JmuccetmV+YGuKi9+yTuZIRICZCYJQxKwSywuQy7X22+76fP/7dH/6SqxLNLERCTaz6WhPiSjjF6hZ1bECnndlaVyONwBoCi/x2OSS5PEy9D0ETewz2KRFcHIg+Xzk77KwUOOIK+9M7D5YmSEJKwg5IYckpSINoGfbeE58fn5//8Nf/t0bnntc+42F63X7yR6eXcd3VWQk1x7BOd+pyGO+0OLOud+zrQiF7ooHZNt2L4RnwMz4Ip49ZeyCppfHjFNzZ5266zSxf3kpWfdNHoJU1bBISJAGzHc4beyTLgl27e9/z+fzyh7/6n6UbKodZQewOFFMLUsOfrRaoTDtYVnfYnpteae7UdvRiWdxhVol0x+6BuUwuMpcpLJtEwwJDYHWy2T1xfPfs2bNPJJggpPFNch13EmLqEOgCRdB1zv311z/9/T/+c5g9noXH6yXG3rcv5ezxtYkcfpzR5J3Zue7neGJPPf7q9Z6OnTu1KrcYFvty9xgXmdozy92xrjuHkffx9eNfAO5ZeCrPOsW6szaKH4YdxIcEVv6rhQESMPYghnxzSd3+jHva+35++Yf/8Je4eZFZ5lJAjg67ruwoE8w+SLaa+UX3rGELxE6dzgbDhG5AzAJr7JCBrpqgFuvU7BC4LrRuXy2K7553oHVe0HGlBxJoAOObZBKsVpxCyCbBsH3zqffz/vj5P//+//1PnH5lPLus9NXDZWbTdsBqLurMvewM0H3IGYZ+2ssUBt1w0Nt5eHaTlxCX5gR6l9VEJhdk0UVeT0ss7umyNONhuswZl0O1j8vDt4DA5Dc7yTcFd1oRI8SFYQ9Ku9vn8+vPf/OHv7BBCnJVronsyBj35GZFbM+a14e5XptkNjz8kGjurOZg2A7mcmAPGa02C0E8L1PDt2gONJc6YDl7IlgH7+4weyfBnhAmwcAwMzMIiWiyDpizxUhx37P3fn7+z7//FzoPQ6GctnimV4nbdNjxNHuAmevwQ5vbpsm9fnt9FnBnwm8AACAASURBVI53mCVf6YVDwPPZsSt6ev2cPXc1fHVYVy49RuyeWYShQevy5XLPF64ed+jug0TUJKRNIkZ8M3bUcCfxW/zmju3eX3/34w+//99mMtItmDubl3FlDHfOPbIDjXcnp1E/nJXfmGESKUiJxAmBdAdtiueOQw2w2HyMrnh4dT7uM+XCrLgw0zb3gNtkCk8ImdFAmhK/aYxvmdAkksru7Lmn+z77+fWX//g3//2rZi2ykfPhtF0v5sOTu2dPd5y4ztbMw0VmP9ADc5eB5WDD55n7RXPvVIOdOJ9pn+4+Z/bdL6/2K08PvzL9GGnr2eGbs+u8s8/ci8zqHde44DPxLUEEdyD5ZoaZsCPyrSHNcm331ufzy5/+j/9u3p/qMELNMuEOTfymWVeXmibWyc3XUdgUiEX6Bmsyi17nx7M0s3zrjfBcWUHyxHBtBnNPBM2dYJXlgDCxg3fQNdceTCHA1VwFTASSwaS5OwMxa9/cs6/zOefHr3/6/R/+2Wy8U+YDHT6HfN5TYbLMjEvUOUN8Js6y2/HhPrGeDb3nx4zXL/B6OzwtoO+8ug+38U48sWOWp/3qMrOEbrTavIdX+Thr7Cz7eCeOnIdvgfJfyYpBQkIm8a0wmQXK7Td77y9//M9/888WRG9DYuM71pAEiRDXtVa4c/bUXPzG7D5QKEwDq+85zZ4igikTnOIQ8x6S1XBTBOW8NSI518ydvi4J+Q4rnBieFDIk9wgYv5lAktRkKtFodtWu2937+fz8h9//jz/NcZnAdbecadN41mafvX0lg8bl0KwXBPbcgc69ZoMSO9MbXEy+9vZ0YPDDsEDzwznr8rx5vDrdHQfeM/sss/cnTjT3i5dcZy5Du915yBCJb8HEb+JbgtCOAUIDSfKt/Xbn/fHLH//9z2fYTjDxbc0Q4w66pN1nG8F1KNgdMcTnA1dmZQlIEgkm3hladgaVWTO2tZ1YhZslszIoZ+lyfKHZcQmE5oqb8MAyaDRIrgEySQkkZIaIECyzWu37tXt//k//7n/dD15+0uUy26kAPZnM9drntPNwZ69cjmeFE5+5OZcJHn+cD0csvklczzQLycvxVTnvyESCS7BjXLb2SK0M71y803WHnR2yPMvyIP/VJLk2kCYlY0IuYJhU8/HOqfaeez/vL3/4d/86ZliIiIGG2Gm8Z2deZ49gETI74R2YbciHrTM3mu0A5o7brELBeMFYVs4auMxi4E4shDrgbhhnWDQyZoQLukCPWNAUZCBkIEwEIkJT7CG+nfVAu93t/fH+8td/9//86bNfsJ9zZA977v2Jd815jW6H3ON25tcTw+XZc3PvY/O283Z8ee4Dfe1lLsoT3oa9MTDtMy8xwHoYcrzP7s6stY+X6eTu/OAA600juSNylnmf+E2uCPItMAWCBDEwzCTEdmftPu07P3788o+//1eLCQdszPVrXp3KcQmYjqute+4JdDWOLtxBZoc9l7oandiBGDx3j7HYDbE4RbKz8zbFtIvROxETukjrJMRotEPzJN8EBDFTSUBqIFwFgVjnprBBvN5vnx9/+j/+t/2/sHxm2OeGeGOW1/jyyjzR2Z7X7bDDNNtzY+46dZqZl10ZDvC1nny9e9x5p52CwTytH6Z7zHY4zI/77GUGrueOX/uyTKN7rAU+ul8LyOAjoakxWUAiDUgkrBAIbQ/zMpfu19Lu3ff98ePnv/8P/8M9IDAvBxJYmk3B3B3W1rTMhly+OQlNrTBxlueGXsZ9pmbZDlCagBC4k7iOTfJfRBPrBAwsxKkGjrE8K5cnvjWxQ5IkKWTATgOmkQg7nva87nJ2uvfcz4/7D//7f9+PmafOp4drTXTg0CscnNiBaVu+Wla46A7Pe38H3h3KeVmXp2y/CriN6xcfp1nmrj5N190JT3VoVpnAndrXv9hPH5u3r3dYvuCscLnIw58FpmSSpDUgZbam/CZAEdc9l92979f9/PzLv//jM+5x0rmUwckA+VZhO2kSwpTfEt5rzm0C5P0quMJUK5WjQLq4eWpW+jbsCvEtdwPmsLKBMDUNxGxq0rl7HhqMwIREvqWE2B6CQMAImUvWTqd2aX98fv3Hv/5LhiWYi3PJYZWPDzS3+Hb3d/t1p+tOiSx5OhvbAZYdc2cCIrjDc7mz9NNeik47P/qLBs71TCvu9en1YRsvpR/dGebHEgwRdEymeTIBAdOwQP4sld/sgSSlMvO8FOvuvp9zP7/+6d/+67MCM9f7JBNMk+IO1tnE6w7ZbLJntR0TmVLQA3Kf2mGnZ13WbPZaRnCh+DbRsGsIwmLMzjYZ01xtFmjZ0yHzJx6TTCBJQKHkzyyYlgNIRsDEuWbU7t57f/njf/i7f7HjOD1RufCenljz6tOH42euX3HocvzM7Qufd8/sDhkozyudlzk3O4xXz8JiPQs4sTUszOLCJHop4/3JeixG3pk7DTzNx7kvizpPkIVkxoTZ1MQIBJGJ4NoO35S9z667e+/98btf/+Gv//nj8562Zz5ntZ7tDkjCzqy4c5t75TdDhrdph06Rs97TEhSMwTVvUwfYeece16MurnPvIFgQws662krXac7t2XPLmntYmh5AMASRIPakO8aEDTjEbwx2sJR2an/z3s+PX37/v+CVSy9zIUW2uc36Hl/m3q+Xn5Yr8XzOcHZdyYGW85ndkyELy/Hjl5nDm9z5nHtc9na4pPsTn9nVlQ5362sn7nDTy9OeOw887Gfwh+fO0IcHMpH4jTBlgNmsrumqYNiOiHAucYf23vb+/Mvf/Kf/OxjsICdDSEbl6bAxzeBlZ24w5ZChMZLIngZk7nOHicXgXJK+2OokE0mazeXbIChrBKWQiDtMzEwMDA32IIlhfAuvEoI7a3y7x3UkAxoKi5WuTnd/PM8f//Gv/h97Wua5TnX4cB6KaU/jLGehPSN3pymuwZ5lYZs9O3a7B7iTNe7S03uNlXY44D2f+1NKrzw/ktP2iwhFz2HzOs5OD7tLHtdcBu74CESSmBKCQALBEPEtZALCAM9b1LZ95v18fv79//K7o81Ody5gw22anQSGlQCRGiGDHc9nIGPVOy/UCVu+ddhxsomVWLjhQjLX0jADI3dcpjQ6P2wXsRGz4frtSTD+LEAEA4xgWvkmOxBI8Ztxpyx2Nz4//fLz3//Dv1q++jidvu76eBuZzR1fmtmPXz+GmrBvEpPvyOpJ9tKz6zS8xld5tutdfmKnSaZhz/E+/uDe0yS7KAfOj609n9s4z5VRj3W9Dl/ZbbWHBIQAA7QsE+JbCCG/KUCycHan3Xb3Pu/78z/82395J07JXFcJXaCIWLR7gMFNS+e97rneyd0vms/oDu5TKkwkIt9coGOz547tdCYUTGDPm5POisWiPXtx4tsiul2fwIAE5P8kTZMsf5aW0bBsAtEsSrT33t6f//Pvf/zTITF21g1F+fCcZTm9718EH07DIXZkPcdtIfIij3daOT382mladobBrKZY2ll2+50ft+lK7MGvz4yrN4cIWHj5Nuh0tZm3n3iEJEyhyczAWPm2w59FYpkJ5DCtUffZ+77vL3//H/+Jm2hTsApLCq1rDbYDss9GYwlM7jXEFexkWAHtZsx1bSTguWCyiauzNdR63pZZakIXLDQDMn4zRTwJJAHyZwkWQhMEGqyJLjvBKOum3eF99n1//Pj53/yP1Vf3vDxnmTLhsONwnjuMV5uWFz3BeJc9s7Oz+1w2E7Wks6zOzu4JemfW62ee805Kyzo3jYfrqkUfmEFe3T364RjTwJ7ufVofEMQkMEkgILEGNCa+ZVAJe3ZsSljYfe/98ae//sM/yzycNb3TnZjZ7jERjclMSA12mCYCi2bPTZMdLIg1RL6lyeC1SEDuc7y2Y5HmHWEdB/iCxD19A1aOwSN/FqDJt5BZIdAIppqkELrHrMB2ndr3PO3nlz/+/p/8jsA1aHJn2ztjrOj+GHdYdgZZcP1pXxYZ8w48srCzYz/5MvdpnTvzY4ahcmWWKbg/zcY72LKc2LMMHTCME/jTBebsZQ15z/oQJojEbxQIchAIyogkflMNlUhNFPfu+/n1D//2f93BYcvOnSaJjnfJcKj71EDoEuzMRhNnF6OYO9J11l3Xe+bse8paJyTUC14k5z1O0FxD2oOzXmRaIODqHQNmxyf+iwwmEbCMVgxSwkAgwQwNcWv3/brTve8vf/rbf/xvlBq+3S4Th0+Pnm1ZS9uzUoMn6IOwD7vbAYlildOPnrO2P/kKOyx+9fZ4J5ZpoR74GJC7+Y2dKxsWKoN73FXuaZD3PEBC0wBCQvxGIEBCMpmVCswY8txiZ8/ee99ff/7Dv/unnoba4x2iPUw0zTa4SDuSsyJwri7CuM5eZz40N3hHn5e1gqtN0qZrvs8ma76TQztxEonVZsKVubDcQwGrJ2DuA5gYNSYGZiImQgzh7ChN1j00U8J6irqfZ/fHf/7//uvnEvP1wrGf1nu9ftiTYo5ry9PG4uHds0ntFM36w9PpqX1033nRhJ/uzJ532hGwueE5+DnBfvG5h2VsvGfYgcI4q3GtHh83qPUB4jeTrJLRoBBkAolGK21Bq0A7FrU7u/f9/Prz3/3jXz5D3T01u2XR2D1wv5ZiFeaeHe4JsD0uOyvR3DF2OlMUvykS0nWguVhCTscd6/AtO27DzmkbSBhwmj4D7o47xANJYoCEiUhICEQrQYYWCcHGOLe6OvW+9/PrH37/l48fbJLmFf9/NcHrsqhbllDV3sf81kkwAlAoJLgFhigIP3z/1xGoS1LWhSwyz9l7fXN01z6JrUWH67PGXXs6CzHX9NX2+TRWe+7VnY9qnzq7SD95gdM927BwjwiOYN25Z1xbHYF3Iq4zdOnxbTrMfu4Hs8COu88+/BAmJJkJK2BCulBGubPOCu0pTGinO3v3/Xy/f//5//k/frKRCs8iOGznumcTVjywTDis2rQjXzQVyfVpnbVacmcwmprxYsyy0849yskl51rZXENjWUzYcVS4mGU+IMivbDAJxcAaygJWgiSIoQ4U007tnTvd/fz2V3/7m3N8Z4g+Pa86OA3z6WHjPl1nPhuyD/xl5HD7CKKpZ022swu8MDBenYtnKK7dPhg8Ml3OLHL3Cnr3qS5xfMePJT/Pypqx53I+5wFCfiXxgyEQYEIETSZfjClZFZB2dmv3/fLt25/+U/tQSpgF6tkM3JmzaxAhUu+MQjrnNXoWydnnhrGC5UgzrbGMrAyrce6K58I097yTeGWZatZY2MbZTaDTtPFkIEhi/Eow44sRP4gMSgyIsAM7uDu29+zez2+//O6//Ie//+HTe1ZgLsO+z950Tldq5sJ8tM4O3N/0QuMnV8vXGO/ntNGqtLM72pX2as4+m1xg7uj3Z7l9zJ7Z4HwKOdE0LZ67Vw+0Mzc585AIIQRJfDHRAIUVURoT0aIxc2ep9su9d9/vP//Nf/03O2mSISHJeGV7Gkrc1GV1YrbZwHClgSxqFXeEnVlxgkN4S1k72E6zIrU2Aqsmhq7cjzWzuRmE7CPIFxNITBOBQL6EAhLYcMAiSIRkz1Z73/v+8vv//K/ZJs5y9WPzdXcYF73PjXRXzD2X8nY46z7FOjPpdL3OELM8LMwL2VonhtskO+x8dvrwsrLI+WjR5cBhzY/tzDnfebxcl3r2CSQMIUiIH5IMN43BgCBzWP4ovux9gr3nvvfz+x/+8u/+EWbMfdqFK8HOVJ5QTomsrW5CqxxZBiPWwWlWBNMKYZ8LpIbh7DpYsk12lnOhcfiSuK5ue2zJTjbFQ7PDr2LCBCEEYwKErGFHAl0pJROXOnem5d33+9/89h/M+8id7gjx8H2c7z4dTZcX9rn53YHn5fBw6UoE8yp353qYJoTuLDMv5pkubMDTt/nYweZ+m4N7VuB2ODgXmJWT57lzf3q35c5g8gDDr7KdMMkwCUqJgQYz5MvkAtJ4dfW6bHc/319+/k//u5Mze0riy9MyqcA0F6hZHTenbGSBs9B2uufOzDWBeFp0YdjTD84nA0y32WlndoZJaNgENU3CfM1VwnExHiShCTAhMMz4spAjYMJOsqgrttJqZbvb3vf7b77/4a/+9k/sne1Msx0Tp2XJ3clzdZY951y4x6V39gBv41nivDtsuPhlObazp/XKoDvZZdiGCo9enC4G7c6yhyld18XXneanbSyfzIQkENZAiD8y+SGQhDiKkyBkzkZf7tz3+fz85e/+7E/Aewyba2yAMbHcs0h7ODyxTqtNg1cOxIqYjBvDjo01XQY0t9kyBoF1dgDzhjt4O8xnsrMHNyems7pQyUNDmEkGJiBmgCXRWTXK5ItLAtIARb2z3fv9l8/f/9l/dObJvgzXS8ydw7KnHONF6LPHbYa46NIxm9iGYQdOGyu9O5/rLC77zN3UM7eP9lSbsGRsnuvhbeZz5p1SZz47XXRno495LCW+JF9WkC+uIQ2ICYlCwThhyB+10z3bPe/u5y9/89d/4perS9AOemwoGIESdtZMIjBn94kAmXUdQpJ7bMJRuS47BkQQtDrruQNzz0VWrs2evUPOVYphNpZZ4lmBNDN+EIkfQjLki1DQ7MBOzPKDKxA7XOfsvvfb99/95382m4Y8XUcaXoI57a6zP0XdgT2ut+FUyyvEl+wJcoPntOfsuef7HE97amdDVm6cAR/uGHwQ67EGh8POkr4zHWyo2eHeRyCBTONXASU/NEKIIZLrIc1mQQHZ6Ye92/v+8oc//b//noE0zWKxGqztAuv0/ZDr/QAUdhY6rTaxfAnaAX0fmDsXDA80zsI22FydFe6zk5I1KmFrE7PkuHuevTToPElSw5dioEbCJIFEXDEhZAecpWkaSLJ0997P5/P7t7/7i3/1kyvWy7Ce84buc79Pjst6eBA/vjtn3o/1nm63Izpw+ezQfHRZYEkHIWruR2hO7Wzw6Vm9tXvmpS/cPWvT9Ww4tR2WYxuf5xFIvuSaAcavEhBJk/+hoR2ZFthprIjdyz179/v77ff/6V/ux3WuoM2exWh20obYybyTjjEZWE2c3LN5NnUJeK572oQdvpyKdhZdpeEdC7FOyh3NxInz/Wh6m87bSIcHVqPVQHIVAjKR+GINCUaDfNFVmkTboaLdz4/32+9++7v/eeBOz7L74d2cuUmc3pGPN0LgN3O7aWc5H5vzie3EPC+3uZjL7J0dxvN2znY4vaTrkOi9cPbt4Tqsw+1jD/bc4CogWwHrfR5SfggwCdYQRAUNkpAmgalE5Us2kXuubrv3fn5+/9s/+8fFOAKuSN46E6tR/A+5RdyPava07QEbTLkecnWhyayZxdhkvKSFYV7n2hTDlpmYXBF2ZukekH7aJ0iYCK+YECYoIT/kLCDsQIbJKgmLZux0T93Pz++///P/8+MxrieZzWLuuBru9OqOrnz34dnrd2199+wHsKNXxRhzenm8U+88NAM7u+PcnfsxCz3NbfrpsoymCOzDJ88ZP2enPeQdd+Q8kCk/hASJGSMIIc2OZSneGQvmXHPHBmvPUrvd9/PbL3/11/9rxQTq3FXzy+JGWLQzKIuZCDVE+4ARirEYQ+5hp7OAKdCmUD0X7rgDpO9PgjLcHWSl6M6endH12gMCO+JaQkJ82cFyBBKkMXeGWodZEWhWJdgv93Pez89vv/uLf7rzcJ1PfIecTVqi4OSp8/bT2s6eWsZNFnMXBto5sTWE5jr6OvRld4rx8vZ09zQ752PBOi8Dss19hw05b497n/O5M5frkyAmK5YKgUmgmHxpSjL2wJ6dVEBaGK5N7Z159/389vs/+/f/EyY7i7sQEwGNsDvxpetwm/fxnT1MXlcSXrTnWnND9vFzhh/Mzd1je9Ygl41Ddxnih9gOnRvTvM8Fbqe9gsYjGbKjgQSYEGNAhWQgSmTEDrPxqwx22jXZ+3775Q9/9Zf/er4fC2iYdqExRnrt1YefKiLmM7yrzWCDXNsP7h7fe5iEnXPPNoMvs35sjQ7L9aPr7rMP9/pUDK8fuS+nZX76PJtrd3/al8PhAVIwA/liGEYKhpD8YBg/5DJYagzmArHv7O2+v/z3//yv3qc8F7guA+FVvog0odeUpONZtNMdiCZhtbMMIpxmjT3tcWYxrlIhK76uZNCsDl5pz5LQJELzEvakQChf4lcxgTSUgAVYJl+E7gEiYEeG7rB39p37+Xz//P2f/+4fpHNXmPjoPTSzXadh3NjVPvjF3+xB+IDPZLiwh2E9u4y7O3O2j+4YvPPR7nF6sk+Hl0/dD7cuz6fT8J6Hpabu2d17nxl2P3j5uJ/zwQOZQEhgCa3IHyVkqSQZKbmKK0gIEnVn7/ve/faHv/3T/2s5hbjTHV12FmuCbcCmZWpegffkNiuu7uxTDAtMcytrxIV8NDHP8iXGcrOEycdopVk0nIGuObvO2R4hQr6EhCHEBIsWgkspIE0oBJuw7HiG9z4U2+793M/f/9n/9puPy7DM0OZ+d/bZN94R2XP27LzO7OTxE5lz70N9ZFnjSx2mu8fPI9h6P6Yt7XDX4WSxnhPb8dtMzqfzBJMXnaZ33A+mX3xYH37IkDIRQiC+CGnCrMqvbCCMLDEjR/ry/nTPvff792+//et/nnhPJd6fFqbXQFZXmQ1yz0LmisI7kaT3mVnG1iDvdCpnWcTccWbPXIsvPbuwwzILNjvxRWOxJmXsypOhfEm+SAoIhsEBwmgyiSZjCJySL+2R1vXc6b7fz08//+4v/kULTtuY2/Fy+Oh42Y4X5+6J5+7QPn0bdlyYiOG6m2O4ascX6yxwXmybaWMXnm9j97z98NNu4ZHbwp12hY4fvsKznnwMCMyARIwQJCF+CEgxJBOCgDK+7JwtaXvPvffz8/Mvfv8PG7zjRDu4gCWspmvI+HIW9ln3jGhomDQ7FAvjzk46S3PHRbsHtVk5oSscd2lomqVpxeaOMsmecFqeIJBQgxgilbRECJMyE+KLa0ANSVCzVjs7+37s/vLzX/2//8hz5nPRYb4PM7tDb890uQPTbDR49Xuap7kfOyw0Lqfhk6d9ZwVvK3BOL5Pj+USYwvF2pDki35+Nm82Z3ek3uQN3YlZ75kn+SFibBMGEgMgwEjIQRZEJMMmm2RHZ2S/1vp8//92f/cvf5ILIlywmrFzuB2PDeKMrrONOMeQ12mEPrH0RddFdRypWS0jcXBYz72ScHWNyD5zXNfmyfGxA+0j80Q6YhhArhhKQfMmEhuSPylhhJJnVWdvtPd9/+v7zf/l3f+KOZq0/7WlWL8fbTLcJHJ3mJ9+nHSZB5u7k9PkxVLNbO/M2vk4P64tihi6z+vgLeJopO356vHoGdj28wz67c/q0XHoSMtwDCZmrAWkddhJMviiEIF8mI2clbEBj5+52Pz+//e6v/8m2wh2G6yzshDKwTtwDa7bHNw1qgmanlsxlG18GrNOC3BLX7YQJm+imNRAOuyNRwpLm8Q5b77M+5IrhjjUZKSYQ7kyToSU1SMqXoNnYAVnXkmX21r6f337/23/z97ieK5R8Gwj9FC8zsg/rSu3G4R2NDd2Prg9U5sSJO4LNfnN2bM/RrujFczl7Z9uRc7dtcGcuh9eaaQo/Np2xeRAlgYBEfmWSQpCJ/MrkV5Y0QcYUauyJuvfO/fz2y3/9w9/faW1a6tzjcko3z7odWmg6i0TMirRnwbmGwDKtB1JoFRfcYzvyZerODjBYYlaa65eGPcup62wJPaZABhphQwPxK0MSAnZMftjBwhAaQr5Y2Jf9fO59P//bb/9hZ3LedP147toKM6/Ny7Dnqu+MEccarbU9LN6enrbt8Gxw3XxWxjvru4e1le1jV5Dv53BdPPd5yeYTqPHlmdde5wnfecT4QSCShOFXSYCJZLZiE0ZKIOA6YYDtgd333P38/OW//8W/1R2xZDe+7IyTezRh0WZF71lnz0LTnpCkMALvhHBuyMzC2SYyzVkXsmE7ycFXQsOcGIx7JsLOPhiSIBIImfHFUkRJIcs96zC5E8QfrQIGXbB9P5/7fv78X3/3J/uwwHS4xvQG4bw4ge3MntIPt9b51rPzrO3APnyWH+fi3vEsjssFdjqQznybt582F4e5HfPl8fDJ8ryHd8d63RGzlfMQXwQSEMhMfmgK0IbAJE3UnWabyAwRoUW3bffu3s//9mf/WFqjqDP3jhMursMYeJZkcnVt8Z6JVuzM24Q3cxSiPQtCzHYHVpTZa8JajOtOQ3FhABfXctM6PWEkiYEhX0y+GAlEgBi2x8zTNO0QSggl3hlou/fzvL/88tt/fz59WHIsz+40XGcfcaGzMc3KN93TMIfyZK+cuzTVNCnJ1HjPnna+MbZnf+raztDZnZ3lJC0rM+t2aGcXYeP63NkHAfkiyB8ZaQYSAg2BxBAkmCsx8UMKrILtbvfe7/eXv/nbf9a0Z8XwnUzA3AdPO5MNO2hgXvfsdOmcpjkUAu1hxRh2SFyx1AUuCEuvPAtznQsaCLnYKeaie+AxSJqS/0FICgQEkhVDYhWIqUl+CEFACYT2fvn89u2///afzfhx1U2mwb0SXB4/OVy2QT6Hs1wcWl6N96d9+ZzjLow7t9Mp2LN3jWAZrsXqZt+DeIF57vJlOTrv2Y9PP8ITwz1enowvhgFJprAHA8TAhIjokIF3iES+iGlJ7axt+/ns+/78F//hgy5QinNBmz0YMLE8EnvWnWx3KplrQZO8Zx8IQ1xlzTuSO+AO22Ms2FnJmfUeqiODyZeYkJHgISCBJIkvoa4BhkKC1AABJoLr8CVjHVDAas9+uff7z//t7/7RYPfx+sC6s4f18hH7+H0Od9jFxzpRefYuySLnvsrDfR/5uH7vY68gT0BPK6yO/rQU7m+Kez13tuaw+zl5enZpXXl9z+nhB5MvyRcBwWWAhORL5ACto6G50jQLhvGlWftyz3328/38+W/+4p+knR2m8TbrpttB85S9z+xsO6xowfol+WE6oVgNzKsoHwAABVZJREFUtcy6zw7WRXaa1JVp19NOjDRXhcUacrZZzxa2PHwxvoiA/FEoackPYcQXqRVKhIJZExAC7lB7ve/H57fPb3/+b39zz2ljbkdeZJad5bsfl6mn9ak+eP3h4rhNc9W5vg/Lujy7PC6dlbmkfB71uc6uy0Hr4sK6e3r8zuBSwTu5kZ5dnuSL8YOBgPwqA0R+SCAzm2QHCJsgEAKUXOue9r33+7e/+u+/Gc3pQmyuTLq6uTSddzJtB/JcLnN31pVPrpk7iHUuyCxghp0NHdiE5nP4IdAgw2U2aEi9U2mPNHwxpEEEUhrSICGDCWPNdRhKyGZhQNeE2gM79077vn/43Z/+L7fLM1rX67Cs40mJTvdOl3PdYTm7Z2VH1Lh8LNjTcVmuhwuzwMfOTJxV33M7vMYZ7jLbnc68LgRJ9ATrAeYdHpiUL6EQaCaTEiYZZiQ/hDs7fHFxXRIWDATa2a33vt/en//s342zYjEpTj1vkhaYkMmE1SGDFbzCGp53JL+s0A6uu6JBMCjN1tRhccf7cYdTkimuazLXnvYBBKbh/xdfksAEigECEhWlAWFpneFLxABxdXa4076f337+q999qHnST2YQbrD91AvzXdkegmRhtlPQzO5wtnvc3HcM4sW1BxvOfleJxqe6zBuPb4fjTuftAPeEXZ77U8Dn9CoPJF8kERrIMr5kCIoQIiaxsocEw/VOIpbOkju7y/087+f3v/vtPwZdTxjNTq3gcgI1CHf3GMboRaXO5nr4onskgoxWswXWTnPPJuyIARIxTJAr6G0q1j109gGSLxGIgCEgiKZACAlL1FiLKV+CRr4ISV/wnnvuvt+/f/vL/8hy/XhjdsPFa8eF887jJw/h7MTj3XVxmbu4jfCd6Zk7l3Vax9rovNO48wK37dgebBt0TyxnvjM7ztz2nLsNrD0dHsi0ZjX5IRBJQQwkMyFM/ihGkIjINCHdwZ394b6//PzbP/zDxspdGIPMWZk15Qyfp6mJ4GQyF68z5WzU5Qohhy+zuoNzxVzqZBZlfdCFs3Oj5wYkd3DdZg/4gEAQBAEKQvKrxoBEKDFqpzQQMTcRbBYpktj9zm9++fa7//QffgLT8T6hMNdPPir5dLq0z72+TuuJ6Xx2+Pg8BctzuEz6CseFfbDbzLpnuimfMwu8Hr3bib4LKQ07yuTOgqy3J/mSZBI/hAmBoWSKGUkwZQY00GAiwbCuemfP7j33ufd+/+VP/90OTk2n+6QLrLmizqL3ObtDapiQ69Ernj1p0ATtCswd9KpsM+ExdpjlaoB8UUFnV8tldRb27ENaJhhCILkjGF8yfhCBECSjg3v4QVpGESZgZ+2+Z/n8/v3nv/7Lf+7DO3PR88r5AJwA40byvHFOe+6ec7kzcpbb1J7TvI3Lyblngk9mZ9N59+MusTEehZvcPmIP2+k6rZFvuo/77F15gDB+kAQJsYHABAGBAGkystnD7ICVmQGpAe2e7t59v/38t7/9F4CtlgPvA0yayAjNgq3ePV4LDnIuX8ZoinlHtCHB+e60S1eCO+5Jvkxzwp1ZFVkgZ/kymwuDT4hA8itBAoSQ+JKZlJAEhuQOXwKGAJkCl5W6PrufH5/ffv7z//j3Pk8xGhKvF5WQBhhmHRZ7iu7ELs+OMef1k4ecj8/T9w9eV+mN5WO3s4N8Gaeu9VxYD5QDznJnZ1Y5u5491gMZrgFCQvwQkoAJlgaJmSxiSQaERKTALMme9s773u9/+Ou//Jee7QFMphZZ+UEML8runO4sSmPueM87F0wgzjImDWDmbWdZDiAUssNcRXc+ByV2zk0adiqHvf8fqdZ0m+Wb6RgAAAAASUVORK5C\">"
      ],
      "text/plain": [
       "256×256 Array{Gray{Float16},2} with eltype Gray{Float16}:\n",
       "\u001b[0m\u001b[38;5;233;48;5;234m▀\u001b[38;5;238;48;5;241m▀\u001b[38;5;243;48;5;252m▀\u001b[38;5;243;48;5;254m▀\u001b[38;5;243;48;5;254m▀\u001b[38;5;243;48;5;254m▀\u001b[38;5;243;48;5;254m▀\u001b[38;5;243;48;5;254m▀\u001b[38;5;243;48;5;254m▀\u001b[38;5;243;48;5;254m▀\u001b[38;5;243;48;5;254m▀\u001b[38;5;243;48;5;254m▀\u001b[38;5;243;48;5;254m▀\u001b[38;5;243;48;5;254m▀\u001b[38;5;243;48;5;254m▀\u001b[38;5;243;48;5;254m▀\u001b[38;5;243;48;5;254m▀\u001b[38;5;243;48;5;254m▀\u001b[38;5;243;48;5;254m▀\u001b[38;5;243;48;5;254m▀\u001b[38;5;243;48;5;254m▀\u001b[38;5;243;48;5;254m▀\u001b[38;5;243;48;5;254m▀\u001b[38;5;243;48;5;254m▀\u001b[38;5;243;48;5;254m▀\u001b[38;5;243;48;5;254m▀\u001b[38;5;243;48;5;254m▀\u001b[38;5;243;48;5;254m▀\u001b[38;5;243;48;5;254m▀\u001b[38;5;243;48;5;254m▀\u001b[38;5;243;48;5;254m▀\u001b[38;5;243;48;5;254m▀\u001b[38;5;238;48;5;243m▀\u001b[0m\n",
       "\u001b[0m\u001b[38;5;234;48;5;233m▀\u001b[38;5;238;48;5;236m▀\u001b[38;5;249;48;5;244m▀\u001b[38;5;254;48;5;254m▀\u001b[38;5;254;48;5;254m▀\u001b[38;5;254;48;5;254m▀\u001b[38;5;254;48;5;254m▀\u001b[38;5;254;48;5;254m▀\u001b[38;5;254;48;5;254m▀\u001b[38;5;254;48;5;254m▀\u001b[38;5;254;48;5;254m▀\u001b[38;5;254;48;5;254m▀\u001b[38;5;254;48;5;254m▀\u001b[38;5;254;48;5;254m▀\u001b[38;5;254;48;5;254m▀\u001b[38;5;254;48;5;254m▀\u001b[38;5;254;48;5;254m▀\u001b[38;5;254;48;5;254m▀\u001b[38;5;254;48;5;254m▀\u001b[38;5;254;48;5;254m▀\u001b[38;5;254;48;5;254m▀\u001b[38;5;254;48;5;254m▀\u001b[38;5;254;48;5;254m▀\u001b[38;5;254;48;5;254m▀\u001b[38;5;254;48;5;254m▀\u001b[38;5;254;48;5;254m▀\u001b[38;5;254;48;5;254m▀\u001b[38;5;254;48;5;254m▀\u001b[38;5;254;48;5;254m▀\u001b[38;5;254;48;5;254m▀\u001b[38;5;254;48;5;254m▀\u001b[38;5;254;48;5;254m▀\u001b[38;5;243;48;5;243m▀\u001b[0m\n",
       "\u001b[0m\u001b[38;5;233;48;5;233m▀\u001b[38;5;235;48;5;235m▀\u001b[38;5;240;48;5;237m▀\u001b[38;5;251;48;5;247m▀\u001b[38;5;254;48;5;254m▀\u001b[38;5;254;48;5;254m▀\u001b[38;5;254;48;5;254m▀\u001b[38;5;254;48;5;254m▀\u001b[38;5;254;48;5;254m▀\u001b[38;5;254;48;5;254m▀\u001b[38;5;254;48;5;254m▀\u001b[38;5;254;48;5;254m▀\u001b[38;5;254;48;5;254m▀\u001b[38;5;254;48;5;254m▀\u001b[38;5;254;48;5;254m▀\u001b[38;5;254;48;5;254m▀\u001b[38;5;254;48;5;254m▀\u001b[38;5;254;48;5;254m▀\u001b[38;5;254;48;5;254m▀\u001b[38;5;254;48;5;254m▀\u001b[38;5;254;48;5;254m▀\u001b[38;5;254;48;5;254m▀\u001b[38;5;254;48;5;254m▀\u001b[38;5;254;48;5;254m▀\u001b[38;5;254;48;5;254m▀\u001b[38;5;254;48;5;254m▀\u001b[38;5;254;48;5;254m▀\u001b[38;5;254;48;5;254m▀\u001b[38;5;254;48;5;254m▀\u001b[38;5;254;48;5;254m▀\u001b[38;5;254;48;5;254m▀\u001b[38;5;254;48;5;254m▀\u001b[38;5;243;48;5;243m▀\u001b[0m\n",
       "\u001b[0m\u001b[38;5;233;48;5;233m▀\u001b[38;5;234;48;5;234m▀\u001b[38;5;236;48;5;235m▀\u001b[38;5;242;48;5;238m▀\u001b[38;5;253;48;5;249m▀\u001b[38;5;254;48;5;254m▀\u001b[38;5;254;48;5;254m▀\u001b[38;5;254;48;5;254m▀\u001b[38;5;254;48;5;254m▀\u001b[38;5;254;48;5;254m▀\u001b[38;5;254;48;5;254m▀\u001b[38;5;254;48;5;254m▀\u001b[38;5;254;48;5;254m▀\u001b[38;5;254;48;5;254m▀\u001b[38;5;254;48;5;254m▀\u001b[38;5;254;48;5;254m▀\u001b[38;5;254;48;5;254m▀\u001b[38;5;254;48;5;254m▀\u001b[38;5;254;48;5;254m▀\u001b[38;5;254;48;5;254m▀\u001b[38;5;254;48;5;254m▀\u001b[38;5;254;48;5;254m▀\u001b[38;5;254;48;5;254m▀\u001b[38;5;254;48;5;254m▀\u001b[38;5;254;48;5;254m▀\u001b[38;5;254;48;5;254m▀\u001b[38;5;254;48;5;254m▀\u001b[38;5;254;48;5;254m▀\u001b[38;5;254;48;5;254m▀\u001b[38;5;254;48;5;254m▀\u001b[38;5;254;48;5;254m▀\u001b[38;5;254;48;5;254m▀\u001b[38;5;243;48;5;243m▀\u001b[0m\n",
       "\u001b[0m\u001b[38;5;233;48;5;233m▀\u001b[38;5;234;48;5;234m▀\u001b[38;5;235;48;5;234m▀\u001b[38;5;236;48;5;235m▀\u001b[38;5;244;48;5;240m▀\u001b[38;5;254;48;5;251m▀\u001b[38;5;254;48;5;254m▀\u001b[38;5;254;48;5;254m▀\u001b[38;5;254;48;5;254m▀\u001b[38;5;254;48;5;254m▀\u001b[38;5;254;48;5;254m▀\u001b[38;5;254;48;5;254m▀\u001b[38;5;254;48;5;254m▀\u001b[38;5;254;48;5;254m▀\u001b[38;5;254;48;5;254m▀\u001b[38;5;254;48;5;254m▀\u001b[38;5;254;48;5;254m▀\u001b[38;5;254;48;5;254m▀\u001b[38;5;254;48;5;254m▀\u001b[38;5;254;48;5;254m▀\u001b[38;5;254;48;5;254m▀\u001b[38;5;254;48;5;254m▀\u001b[38;5;254;48;5;254m▀\u001b[38;5;254;48;5;254m▀\u001b[38;5;254;48;5;254m▀\u001b[38;5;254;48;5;254m▀\u001b[38;5;254;48;5;254m▀\u001b[38;5;254;48;5;254m▀\u001b[38;5;254;48;5;254m▀\u001b[38;5;254;48;5;254m▀\u001b[38;5;254;48;5;254m▀\u001b[38;5;254;48;5;254m▀\u001b[38;5;243;48;5;243m▀\u001b[0m\n",
       "\u001b[0m\u001b[38;5;233;48;5;233m▀\u001b[38;5;234;48;5;234m▀\u001b[38;5;234;48;5;234m▀\u001b[38;5;235;48;5;234m▀\u001b[38;5;237;48;5;236m▀\u001b[38;5;247;48;5;242m▀\u001b[38;5;254;48;5;252m▀\u001b[38;5;254;48;5;254m▀\u001b[38;5;254;48;5;254m▀\u001b[38;5;254;48;5;254m▀\u001b[38;5;254;48;5;254m▀\u001b[38;5;254;48;5;254m▀\u001b[38;5;254;48;5;254m▀\u001b[38;5;254;48;5;254m▀\u001b[38;5;254;48;5;254m▀\u001b[38;5;254;48;5;254m▀\u001b[38;5;254;48;5;254m▀\u001b[38;5;254;48;5;254m▀\u001b[38;5;254;48;5;254m▀\u001b[38;5;254;48;5;254m▀\u001b[38;5;254;48;5;254m▀\u001b[38;5;254;48;5;254m▀\u001b[38;5;254;48;5;254m▀\u001b[38;5;254;48;5;254m▀\u001b[38;5;254;48;5;254m▀\u001b[38;5;254;48;5;254m▀\u001b[38;5;254;48;5;254m▀\u001b[38;5;254;48;5;254m▀\u001b[38;5;254;48;5;254m▀\u001b[38;5;254;48;5;254m▀\u001b[38;5;254;48;5;254m▀\u001b[38;5;254;48;5;254m▀\u001b[38;5;243;48;5;243m▀\u001b[0m\n",
       "\u001b[0m\u001b[38;5;233;48;5;233m▀\u001b[38;5;234;48;5;234m▀\u001b[38;5;234;48;5;234m▀\u001b[38;5;234;48;5;234m▀\u001b[38;5;235;48;5;235m▀\u001b[38;5;238;48;5;237m▀\u001b[38;5;248;48;5;244m▀\u001b[38;5;254;48;5;254m▀\u001b[38;5;254;48;5;254m▀\u001b[38;5;254;48;5;254m▀\u001b[38;5;254;48;5;254m▀\u001b[38;5;254;48;5;254m▀\u001b[38;5;254;48;5;254m▀\u001b[38;5;254;48;5;254m▀\u001b[38;5;254;48;5;254m▀\u001b[38;5;254;48;5;254m▀\u001b[38;5;254;48;5;254m▀\u001b[38;5;254;48;5;254m▀\u001b[38;5;254;48;5;254m▀\u001b[38;5;254;48;5;254m▀\u001b[38;5;254;48;5;254m▀\u001b[38;5;254;48;5;254m▀\u001b[38;5;254;48;5;254m▀\u001b[38;5;254;48;5;254m▀\u001b[38;5;254;48;5;254m▀\u001b[38;5;254;48;5;254m▀\u001b[38;5;254;48;5;254m▀\u001b[38;5;254;48;5;254m▀\u001b[38;5;254;48;5;254m▀\u001b[38;5;254;48;5;254m▀\u001b[38;5;254;48;5;254m▀\u001b[38;5;254;48;5;254m▀\u001b[38;5;243;48;5;243m▀\u001b[0m\n",
       "\u001b[0m\u001b[38;5;233;48;5;233m▀\u001b[38;5;234;48;5;234m▀\u001b[38;5;234;48;5;234m▀\u001b[38;5;234;48;5;234m▀\u001b[38;5;234;48;5;234m▀\u001b[38;5;236;48;5;235m▀\u001b[38;5;241;48;5;238m▀\u001b[38;5;252;48;5;249m▀\u001b[38;5;254;48;5;254m▀\u001b[38;5;254;48;5;254m▀\u001b[38;5;254;48;5;254m▀\u001b[38;5;254;48;5;254m▀\u001b[38;5;254;48;5;254m▀\u001b[38;5;254;48;5;254m▀\u001b[38;5;254;48;5;254m▀\u001b[38;5;254;48;5;254m▀\u001b[38;5;254;48;5;254m▀\u001b[38;5;254;48;5;254m▀\u001b[38;5;254;48;5;254m▀\u001b[38;5;254;48;5;254m▀\u001b[38;5;254;48;5;254m▀\u001b[38;5;254;48;5;254m▀\u001b[38;5;254;48;5;254m▀\u001b[38;5;254;48;5;254m▀\u001b[38;5;254;48;5;254m▀\u001b[38;5;254;48;5;254m▀\u001b[38;5;254;48;5;254m▀\u001b[38;5;254;48;5;254m▀\u001b[38;5;254;48;5;254m▀\u001b[38;5;254;48;5;254m▀\u001b[38;5;254;48;5;254m▀\u001b[38;5;254;48;5;254m▀\u001b[38;5;243;48;5;243m▀\u001b[0m\n",
       "\u001b[0m\u001b[38;5;233;48;5;233m▀\u001b[38;5;234;48;5;234m▀\u001b[38;5;234;48;5;234m▀\u001b[38;5;234;48;5;234m▀\u001b[38;5;235;48;5;234m▀\u001b[38;5;235;48;5;235m▀\u001b[38;5;236;48;5;235m▀\u001b[38;5;244;48;5;240m▀\u001b[38;5;254;48;5;251m▀\u001b[38;5;254;48;5;254m▀\u001b[38;5;254;48;5;254m▀\u001b[38;5;254;48;5;254m▀\u001b[38;5;254;48;5;254m▀\u001b[38;5;254;48;5;254m▀\u001b[38;5;254;48;5;254m▀\u001b[38;5;254;48;5;254m▀\u001b[38;5;254;48;5;254m▀\u001b[38;5;254;48;5;254m▀\u001b[38;5;254;48;5;254m▀\u001b[38;5;254;48;5;254m▀\u001b[38;5;254;48;5;254m▀\u001b[38;5;254;48;5;254m▀\u001b[38;5;254;48;5;254m▀\u001b[38;5;254;48;5;254m▀\u001b[38;5;254;48;5;254m▀\u001b[38;5;254;48;5;254m▀\u001b[38;5;254;48;5;254m▀\u001b[38;5;254;48;5;254m▀\u001b[38;5;254;48;5;254m▀\u001b[38;5;254;48;5;254m▀\u001b[38;5;254;48;5;254m▀\u001b[38;5;254;48;5;254m▀\u001b[38;5;243;48;5;243m▀\u001b[0m\n",
       "\u001b[0m\u001b[38;5;233;48;5;232m▀\u001b[38;5;233;48;5;233m▀\u001b[38;5;234;48;5;234m▀\u001b[38;5;234;48;5;234m▀\u001b[38;5;234;48;5;234m▀\u001b[38;5;234;48;5;234m▀\u001b[38;5;235;48;5;234m▀\u001b[38;5;237;48;5;236m▀\u001b[38;5;247;48;5;243m▀\u001b[38;5;254;48;5;253m▀\u001b[38;5;254;48;5;254m▀\u001b[38;5;254;48;5;254m▀\u001b[38;5;254;48;5;254m▀\u001b[38;5;254;48;5;254m▀\u001b[38;5;254;48;5;254m▀\u001b[38;5;254;48;5;254m▀\u001b[38;5;254;48;5;254m▀\u001b[38;5;254;48;5;254m▀\u001b[38;5;254;48;5;254m▀\u001b[38;5;254;48;5;254m▀\u001b[38;5;254;48;5;254m▀\u001b[38;5;254;48;5;254m▀\u001b[38;5;254;48;5;254m▀\u001b[38;5;254;48;5;254m▀\u001b[38;5;254;48;5;254m▀\u001b[38;5;254;48;5;254m▀\u001b[38;5;254;48;5;254m▀\u001b[38;5;254;48;5;254m▀\u001b[38;5;254;48;5;254m▀\u001b[38;5;254;48;5;254m▀\u001b[38;5;254;48;5;254m▀\u001b[38;5;254;48;5;254m▀\u001b[38;5;243;48;5;243m▀\u001b[0m\n",
       "\u001b[0m\u001b[38;5;232;48;5;232m▀\u001b[38;5;233;48;5;233m▀\u001b[38;5;233;48;5;233m▀\u001b[38;5;234;48;5;234m▀\u001b[38;5;234;48;5;234m▀\u001b[38;5;234;48;5;234m▀\u001b[38;5;234;48;5;234m▀\u001b[38;5;235;48;5;235m▀\u001b[38;5;239;48;5;237m▀\u001b[38;5;250;48;5;246m▀\u001b[38;5;254;48;5;254m▀\u001b[38;5;254;48;5;254m▀\u001b[38;5;254;48;5;254m▀\u001b[38;5;254;48;5;254m▀\u001b[38;5;254;48;5;254m▀\u001b[38;5;254;48;5;254m▀\u001b[38;5;254;48;5;254m▀\u001b[38;5;254;48;5;254m▀\u001b[38;5;254;48;5;254m▀\u001b[38;5;254;48;5;254m▀\u001b[38;5;254;48;5;254m▀\u001b[38;5;254;48;5;254m▀\u001b[38;5;254;48;5;254m▀\u001b[38;5;254;48;5;254m▀\u001b[38;5;254;48;5;254m▀\u001b[38;5;254;48;5;254m▀\u001b[38;5;254;48;5;254m▀\u001b[38;5;254;48;5;254m▀\u001b[38;5;254;48;5;254m▀\u001b[38;5;254;48;5;254m▀\u001b[38;5;254;48;5;254m▀\u001b[38;5;254;48;5;254m▀\u001b[38;5;243;48;5;243m▀\u001b[0m\n",
       "\u001b[0m\u001b[38;5;232;48;5;232m▀\u001b[38;5;233;48;5;233m▀\u001b[38;5;233;48;5;233m▀\u001b[38;5;234;48;5;234m▀\u001b[38;5;234;48;5;234m▀\u001b[38;5;234;48;5;234m▀\u001b[38;5;234;48;5;234m▀\u001b[38;5;235;48;5;234m▀\u001b[38;5;236;48;5;235m▀\u001b[38;5;242;48;5;238m▀\u001b[38;5;253;48;5;250m▀\u001b[38;5;254;48;5;254m▀\u001b[38;5;254;48;5;254m▀\u001b[38;5;254;48;5;254m▀\u001b[38;5;254;48;5;254m▀\u001b[38;5;254;48;5;254m▀\u001b[38;5;254;48;5;254m▀\u001b[38;5;254;48;5;254m▀\u001b[38;5;254;48;5;254m▀\u001b[38;5;254;48;5;254m▀\u001b[38;5;254;48;5;254m▀\u001b[38;5;254;48;5;254m▀\u001b[38;5;254;48;5;254m▀\u001b[38;5;254;48;5;254m▀\u001b[38;5;254;48;5;254m▀\u001b[38;5;254;48;5;254m▀\u001b[38;5;254;48;5;254m▀\u001b[38;5;254;48;5;254m▀\u001b[38;5;254;48;5;254m▀\u001b[38;5;254;48;5;254m▀\u001b[38;5;254;48;5;254m▀\u001b[38;5;254;48;5;254m▀\u001b[38;5;243;48;5;243m▀\u001b[0m\n",
       "\u001b[0m\u001b[38;5;232;48;5;232m▀\u001b[38;5;233;48;5;233m▀\u001b[38;5;233;48;5;233m▀\u001b[38;5;233;48;5;233m▀\u001b[38;5;234;48;5;234m▀\u001b[38;5;234;48;5;234m▀\u001b[38;5;234;48;5;234m▀\u001b[38;5;234;48;5;234m▀\u001b[38;5;235;48;5;234m▀\u001b[38;5;237;48;5;236m▀\u001b[38;5;245;48;5;241m▀\u001b[38;5;254;48;5;252m▀\u001b[38;5;254;48;5;254m▀\u001b[38;5;254;48;5;254m▀\u001b[38;5;254;48;5;254m▀\u001b[38;5;254;48;5;254m▀\u001b[38;5;254;48;5;254m▀\u001b[38;5;254;48;5;254m▀\u001b[38;5;254;48;5;254m▀\u001b[38;5;254;48;5;254m▀\u001b[38;5;254;48;5;254m▀\u001b[38;5;254;48;5;254m▀\u001b[38;5;254;48;5;254m▀\u001b[38;5;254;48;5;254m▀\u001b[38;5;254;48;5;254m▀\u001b[38;5;254;48;5;254m▀\u001b[38;5;254;48;5;254m▀\u001b[38;5;254;48;5;254m▀\u001b[38;5;254;48;5;254m▀\u001b[38;5;254;48;5;254m▀\u001b[38;5;254;48;5;254m▀\u001b[38;5;254;48;5;254m▀\u001b[38;5;243;48;5;243m▀\u001b[0m\n",
       "\u001b[0m\u001b[38;5;232;48;5;232m▀\u001b[38;5;233;48;5;232m▀\u001b[38;5;233;48;5;233m▀\u001b[38;5;233;48;5;233m▀\u001b[38;5;233;48;5;233m▀\u001b[38;5;234;48;5;234m▀\u001b[38;5;234;48;5;234m▀\u001b[38;5;234;48;5;234m▀\u001b[38;5;234;48;5;235m▀\u001b[38;5;235;48;5;235m▀\u001b[38;5;238;48;5;236m▀\u001b[38;5;249;48;5;244m▀\u001b[38;5;254;48;5;254m▀\u001b[38;5;254;48;5;254m▀\u001b[38;5;254;48;5;254m▀\u001b[38;5;254;48;5;254m▀\u001b[38;5;254;48;5;254m▀\u001b[38;5;254;48;5;254m▀\u001b[38;5;254;48;5;254m▀\u001b[38;5;254;48;5;254m▀\u001b[38;5;254;48;5;254m▀\u001b[38;5;254;48;5;254m▀\u001b[38;5;254;48;5;254m▀\u001b[38;5;254;48;5;254m▀\u001b[38;5;254;48;5;254m▀\u001b[38;5;254;48;5;254m▀\u001b[38;5;254;48;5;254m▀\u001b[38;5;254;48;5;254m▀\u001b[38;5;254;48;5;254m▀\u001b[38;5;254;48;5;254m▀\u001b[38;5;254;48;5;254m▀\u001b[38;5;254;48;5;254m▀\u001b[38;5;243;48;5;243m▀\u001b[0m\n",
       "\u001b[0m\u001b[38;5;232;48;5;232m▀\u001b[38;5;232;48;5;232m▀\u001b[38;5;232;48;5;232m▀\u001b[38;5;233;48;5;233m▀\u001b[38;5;233;48;5;233m▀\u001b[38;5;233;48;5;233m▀\u001b[38;5;234;48;5;234m▀\u001b[38;5;234;48;5;234m▀\u001b[38;5;234;48;5;234m▀\u001b[38;5;235;48;5;234m▀\u001b[38;5;235;48;5;235m▀\u001b[38;5;240;48;5;237m▀\u001b[38;5;251;48;5;247m▀\u001b[38;5;254;48;5;254m▀\u001b[38;5;254;48;5;254m▀\u001b[38;5;254;48;5;254m▀\u001b[38;5;254;48;5;254m▀\u001b[38;5;254;48;5;254m▀\u001b[38;5;254;48;5;254m▀\u001b[38;5;254;48;5;254m▀\u001b[38;5;254;48;5;254m▀\u001b[38;5;254;48;5;254m▀\u001b[38;5;254;48;5;254m▀\u001b[38;5;254;48;5;254m▀\u001b[38;5;254;48;5;254m▀\u001b[38;5;254;48;5;254m▀\u001b[38;5;254;48;5;254m▀\u001b[38;5;254;48;5;254m▀\u001b[38;5;254;48;5;254m▀\u001b[38;5;254;48;5;254m▀\u001b[38;5;254;48;5;254m▀\u001b[38;5;254;48;5;254m▀\u001b[38;5;243;48;5;243m▀\u001b[0m\n",
       "\u001b[0m\u001b[38;5;232;48;5;232m▀\u001b[38;5;232;48;5;232m▀\u001b[38;5;232;48;5;232m▀\u001b[38;5;233;48;5;233m▀\u001b[38;5;233;48;5;233m▀\u001b[38;5;233;48;5;233m▀\u001b[38;5;234;48;5;233m▀\u001b[38;5;234;48;5;234m▀\u001b[38;5;234;48;5;234m▀\u001b[38;5;235;48;5;235m▀\u001b[38;5;235;48;5;235m▀\u001b[38;5;236;48;5;235m▀\u001b[38;5;243;48;5;239m▀\u001b[38;5;253;48;5;251m▀\u001b[38;5;254;48;5;254m▀\u001b[38;5;254;48;5;254m▀\u001b[38;5;254;48;5;254m▀\u001b[38;5;254;48;5;254m▀\u001b[38;5;254;48;5;254m▀\u001b[38;5;254;48;5;254m▀\u001b[38;5;254;48;5;254m▀\u001b[38;5;254;48;5;254m▀\u001b[38;5;254;48;5;254m▀\u001b[38;5;254;48;5;254m▀\u001b[38;5;254;48;5;254m▀\u001b[38;5;254;48;5;254m▀\u001b[38;5;254;48;5;254m▀\u001b[38;5;254;48;5;254m▀\u001b[38;5;254;48;5;254m▀\u001b[38;5;254;48;5;254m▀\u001b[38;5;254;48;5;254m▀\u001b[38;5;254;48;5;254m▀\u001b[38;5;243;48;5;243m▀\u001b[0m\n",
       "\u001b[0m\u001b[38;5;232m▀\u001b[38;5;232m▀\u001b[38;5;232m▀\u001b[38;5;232m▀\u001b[38;5;232m▀\u001b[38;5;233m▀\u001b[38;5;233m▀\u001b[38;5;233m▀\u001b[38;5;233m▀\u001b[38;5;233m▀\u001b[38;5;234m▀\u001b[38;5;234m▀\u001b[38;5;235m▀\u001b[38;5;240m▀\u001b[38;5;243m▀\u001b[38;5;243m▀\u001b[38;5;243m▀\u001b[38;5;243m▀\u001b[38;5;243m▀\u001b[38;5;243m▀\u001b[38;5;243m▀\u001b[38;5;243m▀\u001b[38;5;243m▀\u001b[38;5;243m▀\u001b[38;5;243m▀\u001b[38;5;243m▀\u001b[38;5;243m▀\u001b[38;5;243m▀\u001b[38;5;243m▀\u001b[38;5;243m▀\u001b[38;5;243m▀\u001b[38;5;243m▀\u001b[38;5;238m▀\u001b[0m"
      ]
     },
     "metadata": {},
     "output_type": "display_data"
    }
   ],
   "source": [
    "Gray.(zoom_pxiel_values(x_sample[:,:,1,2]))"
   ]
  },
  {
   "cell_type": "code",
   "execution_count": 27,
   "metadata": {},
   "outputs": [
    {
     "data": {
      "text/plain": [
       "(0.0f0, 0.0f0)"
      ]
     },
     "metadata": {},
     "output_type": "display_data"
    }
   ],
   "source": [
    "maximum(y_sample_cated), minimum(y_sample_cated)"
   ]
  },
  {
   "cell_type": "code",
   "execution_count": 28,
   "metadata": {},
   "outputs": [
    {
     "data": {
      "text/plain": [
       "(0.5352258f0, 0.46477422f0)"
      ]
     },
     "metadata": {},
     "output_type": "display_data"
    }
   ],
   "source": [
    "maximum(y_sample_pred), minimum(y_sample_pred)"
   ]
  },
  {
   "cell_type": "code",
   "execution_count": 29,
   "metadata": {},
   "outputs": [
    {
     "data": {
      "text/plain": [
       "2"
      ]
     },
     "metadata": {},
     "output_type": "display_data"
    }
   ],
   "source": [
    "chnl_idx = 2"
   ]
  },
  {
   "cell_type": "code",
   "execution_count": 30,
   "metadata": {},
   "outputs": [
    {
     "data": {
      "image/png": "[encoded data removed]",
      "text/html": [
       "<img src=\"data:image/png;base64,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\">"
      ],
      "text/plain": [
       "256×256 Array{Gray{Float32},2} with eltype Gray{Float32}:\n",
       "\u001b[0m\u001b[38;5;235;48;5;238m▀\u001b[38;5;238;48;5;243m▀\u001b[38;5;237;48;5;243m▀\u001b[38;5;237;48;5;243m▀\u001b[38;5;237;48;5;243m▀\u001b[38;5;237;48;5;243m▀\u001b[38;5;237;48;5;243m▀\u001b[38;5;237;48;5;243m▀\u001b[38;5;237;48;5;243m▀\u001b[38;5;237;48;5;243m▀\u001b[38;5;237;48;5;243m▀\u001b[38;5;237;48;5;243m▀\u001b[38;5;237;48;5;243m▀\u001b[38;5;237;48;5;243m▀\u001b[38;5;237;48;5;243m▀\u001b[38;5;237;48;5;243m▀\u001b[38;5;237;48;5;243m▀\u001b[38;5;237;48;5;243m▀\u001b[38;5;237;48;5;243m▀\u001b[38;5;237;48;5;243m▀\u001b[38;5;237;48;5;243m▀\u001b[38;5;237;48;5;243m▀\u001b[38;5;237;48;5;243m▀\u001b[38;5;237;48;5;243m▀\u001b[38;5;237;48;5;243m▀\u001b[38;5;237;48;5;243m▀\u001b[38;5;237;48;5;243m▀\u001b[38;5;237;48;5;243m▀\u001b[38;5;237;48;5;243m▀\u001b[38;5;237;48;5;243m▀\u001b[38;5;237;48;5;243m▀\u001b[38;5;237;48;5;243m▀\u001b[38;5;235;48;5;238m▀\u001b[0m\n",
       "\u001b[0m\u001b[38;5;238;48;5;238m▀\u001b[38;5;243;48;5;243m▀\u001b[38;5;243;48;5;243m▀\u001b[38;5;243;48;5;243m▀\u001b[38;5;243;48;5;243m▀\u001b[38;5;243;48;5;243m▀\u001b[38;5;243;48;5;243m▀\u001b[38;5;243;48;5;243m▀\u001b[38;5;243;48;5;243m▀\u001b[38;5;243;48;5;243m▀\u001b[38;5;243;48;5;243m▀\u001b[38;5;243;48;5;243m▀\u001b[38;5;243;48;5;243m▀\u001b[38;5;243;48;5;243m▀\u001b[38;5;243;48;5;243m▀\u001b[38;5;243;48;5;243m▀\u001b[38;5;243;48;5;243m▀\u001b[38;5;243;48;5;243m▀\u001b[38;5;243;48;5;243m▀\u001b[38;5;243;48;5;243m▀\u001b[38;5;243;48;5;243m▀\u001b[38;5;243;48;5;243m▀\u001b[38;5;243;48;5;243m▀\u001b[38;5;243;48;5;243m▀\u001b[38;5;243;48;5;243m▀\u001b[38;5;243;48;5;243m▀\u001b[38;5;243;48;5;243m▀\u001b[38;5;243;48;5;243m▀\u001b[38;5;243;48;5;243m▀\u001b[38;5;243;48;5;243m▀\u001b[38;5;243;48;5;243m▀\u001b[38;5;243;48;5;243m▀\u001b[38;5;238;48;5;238m▀\u001b[0m\n",
       "\u001b[0m\u001b[38;5;238;48;5;238m▀\u001b[38;5;243;48;5;243m▀\u001b[38;5;243;48;5;243m▀\u001b[38;5;243;48;5;243m▀\u001b[38;5;243;48;5;243m▀\u001b[38;5;243;48;5;243m▀\u001b[38;5;243;48;5;243m▀\u001b[38;5;243;48;5;243m▀\u001b[38;5;243;48;5;243m▀\u001b[38;5;243;48;5;243m▀\u001b[38;5;243;48;5;243m▀\u001b[38;5;243;48;5;243m▀\u001b[38;5;243;48;5;243m▀\u001b[38;5;243;48;5;243m▀\u001b[38;5;243;48;5;243m▀\u001b[38;5;243;48;5;243m▀\u001b[38;5;243;48;5;243m▀\u001b[38;5;243;48;5;243m▀\u001b[38;5;243;48;5;243m▀\u001b[38;5;243;48;5;243m▀\u001b[38;5;243;48;5;243m▀\u001b[38;5;243;48;5;243m▀\u001b[38;5;243;48;5;243m▀\u001b[38;5;243;48;5;243m▀\u001b[38;5;243;48;5;243m▀\u001b[38;5;243;48;5;243m▀\u001b[38;5;243;48;5;243m▀\u001b[38;5;243;48;5;243m▀\u001b[38;5;243;48;5;243m▀\u001b[38;5;243;48;5;243m▀\u001b[38;5;243;48;5;243m▀\u001b[38;5;243;48;5;243m▀\u001b[38;5;238;48;5;238m▀\u001b[0m\n",
       "\u001b[0m\u001b[38;5;238;48;5;238m▀\u001b[38;5;243;48;5;243m▀\u001b[38;5;243;48;5;243m▀\u001b[38;5;243;48;5;243m▀\u001b[38;5;243;48;5;243m▀\u001b[38;5;243;48;5;243m▀\u001b[38;5;243;48;5;243m▀\u001b[38;5;243;48;5;243m▀\u001b[38;5;243;48;5;243m▀\u001b[38;5;243;48;5;243m▀\u001b[38;5;243;48;5;243m▀\u001b[38;5;243;48;5;243m▀\u001b[38;5;243;48;5;243m▀\u001b[38;5;243;48;5;243m▀\u001b[38;5;243;48;5;243m▀\u001b[38;5;243;48;5;243m▀\u001b[38;5;243;48;5;243m▀\u001b[38;5;243;48;5;243m▀\u001b[38;5;243;48;5;243m▀\u001b[38;5;243;48;5;243m▀\u001b[38;5;243;48;5;243m▀\u001b[38;5;243;48;5;243m▀\u001b[38;5;243;48;5;243m▀\u001b[38;5;243;48;5;243m▀\u001b[38;5;243;48;5;243m▀\u001b[38;5;243;48;5;243m▀\u001b[38;5;243;48;5;243m▀\u001b[38;5;243;48;5;243m▀\u001b[38;5;243;48;5;243m▀\u001b[38;5;243;48;5;243m▀\u001b[38;5;243;48;5;243m▀\u001b[38;5;243;48;5;243m▀\u001b[38;5;238;48;5;238m▀\u001b[0m\n",
       "\u001b[0m\u001b[38;5;238;48;5;238m▀\u001b[38;5;243;48;5;243m▀\u001b[38;5;243;48;5;243m▀\u001b[38;5;243;48;5;243m▀\u001b[38;5;243;48;5;243m▀\u001b[38;5;243;48;5;243m▀\u001b[38;5;243;48;5;243m▀\u001b[38;5;243;48;5;243m▀\u001b[38;5;243;48;5;243m▀\u001b[38;5;243;48;5;243m▀\u001b[38;5;243;48;5;243m▀\u001b[38;5;243;48;5;243m▀\u001b[38;5;243;48;5;243m▀\u001b[38;5;243;48;5;243m▀\u001b[38;5;243;48;5;243m▀\u001b[38;5;243;48;5;243m▀\u001b[38;5;243;48;5;243m▀\u001b[38;5;243;48;5;243m▀\u001b[38;5;243;48;5;243m▀\u001b[38;5;243;48;5;243m▀\u001b[38;5;243;48;5;243m▀\u001b[38;5;243;48;5;243m▀\u001b[38;5;243;48;5;243m▀\u001b[38;5;243;48;5;243m▀\u001b[38;5;243;48;5;243m▀\u001b[38;5;243;48;5;243m▀\u001b[38;5;243;48;5;243m▀\u001b[38;5;243;48;5;243m▀\u001b[38;5;243;48;5;243m▀\u001b[38;5;243;48;5;243m▀\u001b[38;5;243;48;5;243m▀\u001b[38;5;243;48;5;243m▀\u001b[38;5;238;48;5;238m▀\u001b[0m\n",
       "\u001b[0m\u001b[38;5;238;48;5;238m▀\u001b[38;5;243;48;5;243m▀\u001b[38;5;243;48;5;243m▀\u001b[38;5;243;48;5;243m▀\u001b[38;5;243;48;5;243m▀\u001b[38;5;243;48;5;243m▀\u001b[38;5;243;48;5;243m▀\u001b[38;5;243;48;5;243m▀\u001b[38;5;243;48;5;243m▀\u001b[38;5;243;48;5;243m▀\u001b[38;5;243;48;5;243m▀\u001b[38;5;243;48;5;243m▀\u001b[38;5;243;48;5;243m▀\u001b[38;5;243;48;5;243m▀\u001b[38;5;243;48;5;243m▀\u001b[38;5;243;48;5;243m▀\u001b[38;5;243;48;5;243m▀\u001b[38;5;243;48;5;243m▀\u001b[38;5;243;48;5;243m▀\u001b[38;5;243;48;5;243m▀\u001b[38;5;243;48;5;243m▀\u001b[38;5;243;48;5;243m▀\u001b[38;5;243;48;5;243m▀\u001b[38;5;243;48;5;243m▀\u001b[38;5;243;48;5;243m▀\u001b[38;5;243;48;5;243m▀\u001b[38;5;243;48;5;243m▀\u001b[38;5;243;48;5;243m▀\u001b[38;5;243;48;5;243m▀\u001b[38;5;243;48;5;243m▀\u001b[38;5;243;48;5;243m▀\u001b[38;5;243;48;5;243m▀\u001b[38;5;238;48;5;238m▀\u001b[0m\n",
       "\u001b[0m\u001b[38;5;238;48;5;238m▀\u001b[38;5;243;48;5;243m▀\u001b[38;5;243;48;5;243m▀\u001b[38;5;243;48;5;243m▀\u001b[38;5;243;48;5;243m▀\u001b[38;5;243;48;5;243m▀\u001b[38;5;243;48;5;243m▀\u001b[38;5;243;48;5;243m▀\u001b[38;5;243;48;5;243m▀\u001b[38;5;243;48;5;243m▀\u001b[38;5;243;48;5;243m▀\u001b[38;5;243;48;5;243m▀\u001b[38;5;243;48;5;243m▀\u001b[38;5;243;48;5;243m▀\u001b[38;5;243;48;5;243m▀\u001b[38;5;243;48;5;243m▀\u001b[38;5;243;48;5;243m▀\u001b[38;5;243;48;5;243m▀\u001b[38;5;243;48;5;243m▀\u001b[38;5;243;48;5;243m▀\u001b[38;5;243;48;5;243m▀\u001b[38;5;243;48;5;243m▀\u001b[38;5;243;48;5;243m▀\u001b[38;5;243;48;5;243m▀\u001b[38;5;243;48;5;243m▀\u001b[38;5;243;48;5;243m▀\u001b[38;5;243;48;5;243m▀\u001b[38;5;243;48;5;243m▀\u001b[38;5;243;48;5;243m▀\u001b[38;5;243;48;5;243m▀\u001b[38;5;243;48;5;243m▀\u001b[38;5;243;48;5;243m▀\u001b[38;5;238;48;5;238m▀\u001b[0m\n",
       "\u001b[0m\u001b[38;5;238;48;5;238m▀\u001b[38;5;243;48;5;243m▀\u001b[38;5;243;48;5;243m▀\u001b[38;5;243;48;5;243m▀\u001b[38;5;243;48;5;243m▀\u001b[38;5;243;48;5;243m▀\u001b[38;5;243;48;5;243m▀\u001b[38;5;243;48;5;243m▀\u001b[38;5;243;48;5;243m▀\u001b[38;5;243;48;5;243m▀\u001b[38;5;243;48;5;243m▀\u001b[38;5;243;48;5;243m▀\u001b[38;5;243;48;5;243m▀\u001b[38;5;243;48;5;243m▀\u001b[38;5;243;48;5;243m▀\u001b[38;5;243;48;5;243m▀\u001b[38;5;243;48;5;243m▀\u001b[38;5;243;48;5;243m▀\u001b[38;5;243;48;5;243m▀\u001b[38;5;243;48;5;243m▀\u001b[38;5;243;48;5;243m▀\u001b[38;5;243;48;5;243m▀\u001b[38;5;243;48;5;243m▀\u001b[38;5;243;48;5;243m▀\u001b[38;5;243;48;5;243m▀\u001b[38;5;243;48;5;243m▀\u001b[38;5;243;48;5;243m▀\u001b[38;5;243;48;5;243m▀\u001b[38;5;243;48;5;243m▀\u001b[38;5;243;48;5;243m▀\u001b[38;5;243;48;5;243m▀\u001b[38;5;243;48;5;243m▀\u001b[38;5;238;48;5;238m▀\u001b[0m\n",
       "\u001b[0m\u001b[38;5;238;48;5;238m▀\u001b[38;5;243;48;5;243m▀\u001b[38;5;243;48;5;243m▀\u001b[38;5;243;48;5;243m▀\u001b[38;5;243;48;5;243m▀\u001b[38;5;243;48;5;243m▀\u001b[38;5;243;48;5;243m▀\u001b[38;5;243;48;5;243m▀\u001b[38;5;243;48;5;243m▀\u001b[38;5;243;48;5;243m▀\u001b[38;5;243;48;5;243m▀\u001b[38;5;243;48;5;243m▀\u001b[38;5;243;48;5;243m▀\u001b[38;5;243;48;5;243m▀\u001b[38;5;243;48;5;243m▀\u001b[38;5;243;48;5;243m▀\u001b[38;5;243;48;5;243m▀\u001b[38;5;243;48;5;243m▀\u001b[38;5;243;48;5;243m▀\u001b[38;5;243;48;5;243m▀\u001b[38;5;243;48;5;243m▀\u001b[38;5;243;48;5;243m▀\u001b[38;5;243;48;5;243m▀\u001b[38;5;243;48;5;243m▀\u001b[38;5;243;48;5;243m▀\u001b[38;5;243;48;5;243m▀\u001b[38;5;243;48;5;243m▀\u001b[38;5;243;48;5;243m▀\u001b[38;5;243;48;5;243m▀\u001b[38;5;243;48;5;243m▀\u001b[38;5;243;48;5;243m▀\u001b[38;5;243;48;5;243m▀\u001b[38;5;238;48;5;238m▀\u001b[0m\n",
       "\u001b[0m\u001b[38;5;238;48;5;238m▀\u001b[38;5;243;48;5;243m▀\u001b[38;5;243;48;5;243m▀\u001b[38;5;243;48;5;243m▀\u001b[38;5;243;48;5;243m▀\u001b[38;5;243;48;5;243m▀\u001b[38;5;243;48;5;243m▀\u001b[38;5;243;48;5;243m▀\u001b[38;5;243;48;5;243m▀\u001b[38;5;243;48;5;243m▀\u001b[38;5;243;48;5;243m▀\u001b[38;5;243;48;5;243m▀\u001b[38;5;243;48;5;243m▀\u001b[38;5;243;48;5;243m▀\u001b[38;5;243;48;5;243m▀\u001b[38;5;243;48;5;243m▀\u001b[38;5;243;48;5;243m▀\u001b[38;5;243;48;5;243m▀\u001b[38;5;243;48;5;243m▀\u001b[38;5;243;48;5;243m▀\u001b[38;5;243;48;5;243m▀\u001b[38;5;243;48;5;243m▀\u001b[38;5;243;48;5;243m▀\u001b[38;5;243;48;5;243m▀\u001b[38;5;243;48;5;243m▀\u001b[38;5;243;48;5;243m▀\u001b[38;5;243;48;5;243m▀\u001b[38;5;243;48;5;243m▀\u001b[38;5;243;48;5;243m▀\u001b[38;5;243;48;5;243m▀\u001b[38;5;243;48;5;243m▀\u001b[38;5;243;48;5;243m▀\u001b[38;5;238;48;5;238m▀\u001b[0m\n",
       "\u001b[0m\u001b[38;5;238;48;5;238m▀\u001b[38;5;243;48;5;243m▀\u001b[38;5;243;48;5;243m▀\u001b[38;5;243;48;5;243m▀\u001b[38;5;243;48;5;243m▀\u001b[38;5;243;48;5;243m▀\u001b[38;5;243;48;5;243m▀\u001b[38;5;243;48;5;243m▀\u001b[38;5;243;48;5;243m▀\u001b[38;5;243;48;5;243m▀\u001b[38;5;243;48;5;243m▀\u001b[38;5;243;48;5;243m▀\u001b[38;5;243;48;5;243m▀\u001b[38;5;243;48;5;243m▀\u001b[38;5;243;48;5;243m▀\u001b[38;5;243;48;5;243m▀\u001b[38;5;243;48;5;243m▀\u001b[38;5;243;48;5;243m▀\u001b[38;5;243;48;5;243m▀\u001b[38;5;243;48;5;243m▀\u001b[38;5;243;48;5;243m▀\u001b[38;5;243;48;5;243m▀\u001b[38;5;243;48;5;243m▀\u001b[38;5;243;48;5;243m▀\u001b[38;5;243;48;5;243m▀\u001b[38;5;243;48;5;243m▀\u001b[38;5;243;48;5;243m▀\u001b[38;5;243;48;5;243m▀\u001b[38;5;243;48;5;243m▀\u001b[38;5;243;48;5;243m▀\u001b[38;5;243;48;5;243m▀\u001b[38;5;243;48;5;243m▀\u001b[38;5;238;48;5;238m▀\u001b[0m\n",
       "\u001b[0m\u001b[38;5;238;48;5;238m▀\u001b[38;5;243;48;5;243m▀\u001b[38;5;243;48;5;243m▀\u001b[38;5;243;48;5;243m▀\u001b[38;5;243;48;5;243m▀\u001b[38;5;243;48;5;243m▀\u001b[38;5;243;48;5;243m▀\u001b[38;5;243;48;5;243m▀\u001b[38;5;243;48;5;243m▀\u001b[38;5;243;48;5;243m▀\u001b[38;5;243;48;5;243m▀\u001b[38;5;243;48;5;243m▀\u001b[38;5;243;48;5;243m▀\u001b[38;5;243;48;5;243m▀\u001b[38;5;243;48;5;243m▀\u001b[38;5;243;48;5;243m▀\u001b[38;5;243;48;5;243m▀\u001b[38;5;243;48;5;243m▀\u001b[38;5;243;48;5;243m▀\u001b[38;5;243;48;5;243m▀\u001b[38;5;243;48;5;243m▀\u001b[38;5;243;48;5;243m▀\u001b[38;5;243;48;5;243m▀\u001b[38;5;243;48;5;243m▀\u001b[38;5;243;48;5;243m▀\u001b[38;5;243;48;5;243m▀\u001b[38;5;243;48;5;243m▀\u001b[38;5;243;48;5;243m▀\u001b[38;5;243;48;5;243m▀\u001b[38;5;243;48;5;243m▀\u001b[38;5;243;48;5;243m▀\u001b[38;5;243;48;5;243m▀\u001b[38;5;238;48;5;238m▀\u001b[0m\n",
       "\u001b[0m\u001b[38;5;238;48;5;238m▀\u001b[38;5;243;48;5;243m▀\u001b[38;5;243;48;5;243m▀\u001b[38;5;243;48;5;243m▀\u001b[38;5;243;48;5;243m▀\u001b[38;5;243;48;5;243m▀\u001b[38;5;243;48;5;243m▀\u001b[38;5;243;48;5;243m▀\u001b[38;5;243;48;5;243m▀\u001b[38;5;243;48;5;243m▀\u001b[38;5;243;48;5;243m▀\u001b[38;5;243;48;5;243m▀\u001b[38;5;243;48;5;243m▀\u001b[38;5;243;48;5;243m▀\u001b[38;5;243;48;5;243m▀\u001b[38;5;243;48;5;243m▀\u001b[38;5;243;48;5;243m▀\u001b[38;5;243;48;5;243m▀\u001b[38;5;243;48;5;243m▀\u001b[38;5;243;48;5;243m▀\u001b[38;5;243;48;5;243m▀\u001b[38;5;243;48;5;243m▀\u001b[38;5;243;48;5;243m▀\u001b[38;5;243;48;5;243m▀\u001b[38;5;243;48;5;243m▀\u001b[38;5;243;48;5;243m▀\u001b[38;5;243;48;5;243m▀\u001b[38;5;243;48;5;243m▀\u001b[38;5;243;48;5;243m▀\u001b[38;5;243;48;5;243m▀\u001b[38;5;243;48;5;243m▀\u001b[38;5;243;48;5;243m▀\u001b[38;5;238;48;5;238m▀\u001b[0m\n",
       "\u001b[0m\u001b[38;5;238;48;5;238m▀\u001b[38;5;243;48;5;243m▀\u001b[38;5;243;48;5;243m▀\u001b[38;5;243;48;5;243m▀\u001b[38;5;243;48;5;243m▀\u001b[38;5;243;48;5;243m▀\u001b[38;5;243;48;5;243m▀\u001b[38;5;243;48;5;243m▀\u001b[38;5;243;48;5;243m▀\u001b[38;5;243;48;5;243m▀\u001b[38;5;243;48;5;243m▀\u001b[38;5;243;48;5;243m▀\u001b[38;5;243;48;5;243m▀\u001b[38;5;243;48;5;243m▀\u001b[38;5;243;48;5;243m▀\u001b[38;5;243;48;5;243m▀\u001b[38;5;243;48;5;243m▀\u001b[38;5;243;48;5;243m▀\u001b[38;5;243;48;5;243m▀\u001b[38;5;243;48;5;243m▀\u001b[38;5;243;48;5;243m▀\u001b[38;5;243;48;5;243m▀\u001b[38;5;243;48;5;243m▀\u001b[38;5;243;48;5;243m▀\u001b[38;5;243;48;5;243m▀\u001b[38;5;243;48;5;243m▀\u001b[38;5;243;48;5;243m▀\u001b[38;5;243;48;5;243m▀\u001b[38;5;243;48;5;243m▀\u001b[38;5;243;48;5;243m▀\u001b[38;5;243;48;5;243m▀\u001b[38;5;243;48;5;243m▀\u001b[38;5;238;48;5;238m▀\u001b[0m\n",
       "\u001b[0m\u001b[38;5;238;48;5;238m▀\u001b[38;5;243;48;5;243m▀\u001b[38;5;243;48;5;243m▀\u001b[38;5;243;48;5;243m▀\u001b[38;5;243;48;5;243m▀\u001b[38;5;243;48;5;243m▀\u001b[38;5;243;48;5;243m▀\u001b[38;5;243;48;5;243m▀\u001b[38;5;243;48;5;243m▀\u001b[38;5;243;48;5;243m▀\u001b[38;5;243;48;5;243m▀\u001b[38;5;243;48;5;243m▀\u001b[38;5;243;48;5;243m▀\u001b[38;5;243;48;5;243m▀\u001b[38;5;243;48;5;243m▀\u001b[38;5;243;48;5;243m▀\u001b[38;5;243;48;5;243m▀\u001b[38;5;243;48;5;243m▀\u001b[38;5;243;48;5;243m▀\u001b[38;5;243;48;5;243m▀\u001b[38;5;243;48;5;243m▀\u001b[38;5;243;48;5;243m▀\u001b[38;5;243;48;5;243m▀\u001b[38;5;243;48;5;243m▀\u001b[38;5;243;48;5;243m▀\u001b[38;5;243;48;5;243m▀\u001b[38;5;243;48;5;243m▀\u001b[38;5;243;48;5;243m▀\u001b[38;5;243;48;5;243m▀\u001b[38;5;243;48;5;243m▀\u001b[38;5;243;48;5;243m▀\u001b[38;5;243;48;5;243m▀\u001b[38;5;238;48;5;238m▀\u001b[0m\n",
       "\u001b[0m\u001b[38;5;238;48;5;238m▀\u001b[38;5;243;48;5;243m▀\u001b[38;5;243;48;5;243m▀\u001b[38;5;243;48;5;243m▀\u001b[38;5;243;48;5;243m▀\u001b[38;5;243;48;5;243m▀\u001b[38;5;243;48;5;243m▀\u001b[38;5;243;48;5;243m▀\u001b[38;5;243;48;5;243m▀\u001b[38;5;243;48;5;243m▀\u001b[38;5;243;48;5;243m▀\u001b[38;5;243;48;5;243m▀\u001b[38;5;243;48;5;243m▀\u001b[38;5;243;48;5;243m▀\u001b[38;5;243;48;5;243m▀\u001b[38;5;243;48;5;243m▀\u001b[38;5;243;48;5;243m▀\u001b[38;5;243;48;5;243m▀\u001b[38;5;243;48;5;243m▀\u001b[38;5;243;48;5;243m▀\u001b[38;5;243;48;5;243m▀\u001b[38;5;243;48;5;243m▀\u001b[38;5;243;48;5;243m▀\u001b[38;5;243;48;5;243m▀\u001b[38;5;243;48;5;243m▀\u001b[38;5;243;48;5;243m▀\u001b[38;5;243;48;5;243m▀\u001b[38;5;243;48;5;243m▀\u001b[38;5;243;48;5;243m▀\u001b[38;5;243;48;5;243m▀\u001b[38;5;243;48;5;243m▀\u001b[38;5;243;48;5;243m▀\u001b[38;5;238;48;5;238m▀\u001b[0m\n",
       "\u001b[0m\u001b[38;5;235m▀\u001b[38;5;238m▀\u001b[38;5;238m▀\u001b[38;5;238m▀\u001b[38;5;238m▀\u001b[38;5;238m▀\u001b[38;5;238m▀\u001b[38;5;238m▀\u001b[38;5;238m▀\u001b[38;5;238m▀\u001b[38;5;238m▀\u001b[38;5;238m▀\u001b[38;5;238m▀\u001b[38;5;238m▀\u001b[38;5;238m▀\u001b[38;5;238m▀\u001b[38;5;238m▀\u001b[38;5;238m▀\u001b[38;5;238m▀\u001b[38;5;238m▀\u001b[38;5;238m▀\u001b[38;5;238m▀\u001b[38;5;238m▀\u001b[38;5;238m▀\u001b[38;5;238m▀\u001b[38;5;238m▀\u001b[38;5;238m▀\u001b[38;5;238m▀\u001b[38;5;238m▀\u001b[38;5;238m▀\u001b[38;5;238m▀\u001b[38;5;238m▀\u001b[38;5;235m▀\u001b[0m"
      ]
     },
     "metadata": {},
     "output_type": "display_data"
    }
   ],
   "source": [
    "Gray.(y_sample_pred[:,:,chnl_idx,2])"
   ]
  },
  {
   "cell_type": "code",
   "execution_count": 31,
   "metadata": {},
   "outputs": [
    {
     "data": {
      "image/png": "[encoded data removed]",
      "text/html": [
       "<img src=\"data:image/png;base64,iVBORw0KGgoAAAANSUhEUgAAAQAAAAEACAAAAAB5Gfe6AAAABGdBTUEAALGPC/xhBQAAAAFzUkdCAK7OHOkAAAAgY0hSTQAAeiYAAICEAAD6AAAAgOgAAHUwAADqYAAAOpgAABdwnLpRPAAAAZVJREFUeAHlwTEBAAAAQDCH/pkFscmczMmczMmczMmczMmczMmczMmczMmczMmczMmczMmczMmczMmczMmczMmczMmczMmczMmczMmczMmczMmczMmczMmczMmczMmczMmczMmczMmczMmczMmczMmczMmczMmczMmczMmczMmczMmczMmczMmczMmczMmczMmczMmczMmczMmczMmczMmczMmczMmczMmczMmczMmczMmczMmczMmczMmczMmczMmczMmczMmczMmczMmczMmczMmczMmczMmczMmczMmczMmczMmczMmczMmczMmczMmczMmczMmczMmczMmczMmczMmczMmczMmczMmczMmczMmczMmczMmczMmczMmczMmczMmczMmczMmczMmczMmczMmczMmczMmczMmczMmczMmczMmczMmczMmczMmczMmczMmczMmczMmczMmczMmczMmczMmczMmczMmczMmczMmczMmczMmczMmczMmczMmczMmczMmczMmczMmczMmczMmczAUhSwQB2U1QRQAAAABJRU5ErkJg\">"
      ],
      "text/plain": [
       "256×256 Array{Gray{Float32},2} with eltype Gray{Float32}:\n",
       "\u001b[0m\u001b[38;5;232;48;5;232m▀\u001b[38;5;232;48;5;232m▀\u001b[38;5;232;48;5;232m▀\u001b[38;5;232;48;5;232m▀\u001b[38;5;232;48;5;232m▀\u001b[38;5;232;48;5;232m▀\u001b[38;5;232;48;5;232m▀\u001b[38;5;232;48;5;232m▀\u001b[38;5;232;48;5;232m▀\u001b[38;5;232;48;5;232m▀\u001b[38;5;232;48;5;232m▀\u001b[38;5;232;48;5;232m▀\u001b[38;5;232;48;5;232m▀\u001b[38;5;232;48;5;232m▀\u001b[38;5;232;48;5;232m▀\u001b[38;5;232;48;5;232m▀\u001b[38;5;232;48;5;232m▀\u001b[38;5;232;48;5;232m▀\u001b[38;5;232;48;5;232m▀\u001b[38;5;232;48;5;232m▀\u001b[38;5;232;48;5;232m▀\u001b[38;5;232;48;5;232m▀\u001b[38;5;232;48;5;232m▀\u001b[38;5;232;48;5;232m▀\u001b[38;5;232;48;5;232m▀\u001b[38;5;232;48;5;232m▀\u001b[38;5;232;48;5;232m▀\u001b[38;5;232;48;5;232m▀\u001b[38;5;232;48;5;232m▀\u001b[38;5;232;48;5;232m▀\u001b[38;5;232;48;5;232m▀\u001b[38;5;232;48;5;232m▀\u001b[38;5;232;48;5;232m▀\u001b[0m\n",
       "\u001b[0m\u001b[38;5;232;48;5;232m▀\u001b[38;5;232;48;5;232m▀\u001b[38;5;232;48;5;232m▀\u001b[38;5;232;48;5;232m▀\u001b[38;5;232;48;5;232m▀\u001b[38;5;232;48;5;232m▀\u001b[38;5;232;48;5;232m▀\u001b[38;5;232;48;5;232m▀\u001b[38;5;232;48;5;232m▀\u001b[38;5;232;48;5;232m▀\u001b[38;5;232;48;5;232m▀\u001b[38;5;232;48;5;232m▀\u001b[38;5;232;48;5;232m▀\u001b[38;5;232;48;5;232m▀\u001b[38;5;232;48;5;232m▀\u001b[38;5;232;48;5;232m▀\u001b[38;5;232;48;5;232m▀\u001b[38;5;232;48;5;232m▀\u001b[38;5;232;48;5;232m▀\u001b[38;5;232;48;5;232m▀\u001b[38;5;232;48;5;232m▀\u001b[38;5;232;48;5;232m▀\u001b[38;5;232;48;5;232m▀\u001b[38;5;232;48;5;232m▀\u001b[38;5;232;48;5;232m▀\u001b[38;5;232;48;5;232m▀\u001b[38;5;232;48;5;232m▀\u001b[38;5;232;48;5;232m▀\u001b[38;5;232;48;5;232m▀\u001b[38;5;232;48;5;232m▀\u001b[38;5;232;48;5;232m▀\u001b[38;5;232;48;5;232m▀\u001b[38;5;232;48;5;232m▀\u001b[0m\n",
       "\u001b[0m\u001b[38;5;232;48;5;232m▀\u001b[38;5;232;48;5;232m▀\u001b[38;5;232;48;5;232m▀\u001b[38;5;232;48;5;232m▀\u001b[38;5;232;48;5;232m▀\u001b[38;5;232;48;5;232m▀\u001b[38;5;232;48;5;232m▀\u001b[38;5;232;48;5;232m▀\u001b[38;5;232;48;5;232m▀\u001b[38;5;232;48;5;232m▀\u001b[38;5;232;48;5;232m▀\u001b[38;5;232;48;5;232m▀\u001b[38;5;232;48;5;232m▀\u001b[38;5;232;48;5;232m▀\u001b[38;5;232;48;5;232m▀\u001b[38;5;232;48;5;232m▀\u001b[38;5;232;48;5;232m▀\u001b[38;5;232;48;5;232m▀\u001b[38;5;232;48;5;232m▀\u001b[38;5;232;48;5;232m▀\u001b[38;5;232;48;5;232m▀\u001b[38;5;232;48;5;232m▀\u001b[38;5;232;48;5;232m▀\u001b[38;5;232;48;5;232m▀\u001b[38;5;232;48;5;232m▀\u001b[38;5;232;48;5;232m▀\u001b[38;5;232;48;5;232m▀\u001b[38;5;232;48;5;232m▀\u001b[38;5;232;48;5;232m▀\u001b[38;5;232;48;5;232m▀\u001b[38;5;232;48;5;232m▀\u001b[38;5;232;48;5;232m▀\u001b[38;5;232;48;5;232m▀\u001b[0m\n",
       "\u001b[0m\u001b[38;5;232;48;5;232m▀\u001b[38;5;232;48;5;232m▀\u001b[38;5;232;48;5;232m▀\u001b[38;5;232;48;5;232m▀\u001b[38;5;232;48;5;232m▀\u001b[38;5;232;48;5;232m▀\u001b[38;5;232;48;5;232m▀\u001b[38;5;232;48;5;232m▀\u001b[38;5;232;48;5;232m▀\u001b[38;5;232;48;5;232m▀\u001b[38;5;232;48;5;232m▀\u001b[38;5;232;48;5;232m▀\u001b[38;5;232;48;5;232m▀\u001b[38;5;232;48;5;232m▀\u001b[38;5;232;48;5;232m▀\u001b[38;5;232;48;5;232m▀\u001b[38;5;232;48;5;232m▀\u001b[38;5;232;48;5;232m▀\u001b[38;5;232;48;5;232m▀\u001b[38;5;232;48;5;232m▀\u001b[38;5;232;48;5;232m▀\u001b[38;5;232;48;5;232m▀\u001b[38;5;232;48;5;232m▀\u001b[38;5;232;48;5;232m▀\u001b[38;5;232;48;5;232m▀\u001b[38;5;232;48;5;232m▀\u001b[38;5;232;48;5;232m▀\u001b[38;5;232;48;5;232m▀\u001b[38;5;232;48;5;232m▀\u001b[38;5;232;48;5;232m▀\u001b[38;5;232;48;5;232m▀\u001b[38;5;232;48;5;232m▀\u001b[38;5;232;48;5;232m▀\u001b[0m\n",
       "\u001b[0m\u001b[38;5;232;48;5;232m▀\u001b[38;5;232;48;5;232m▀\u001b[38;5;232;48;5;232m▀\u001b[38;5;232;48;5;232m▀\u001b[38;5;232;48;5;232m▀\u001b[38;5;232;48;5;232m▀\u001b[38;5;232;48;5;232m▀\u001b[38;5;232;48;5;232m▀\u001b[38;5;232;48;5;232m▀\u001b[38;5;232;48;5;232m▀\u001b[38;5;232;48;5;232m▀\u001b[38;5;232;48;5;232m▀\u001b[38;5;232;48;5;232m▀\u001b[38;5;232;48;5;232m▀\u001b[38;5;232;48;5;232m▀\u001b[38;5;232;48;5;232m▀\u001b[38;5;232;48;5;232m▀\u001b[38;5;232;48;5;232m▀\u001b[38;5;232;48;5;232m▀\u001b[38;5;232;48;5;232m▀\u001b[38;5;232;48;5;232m▀\u001b[38;5;232;48;5;232m▀\u001b[38;5;232;48;5;232m▀\u001b[38;5;232;48;5;232m▀\u001b[38;5;232;48;5;232m▀\u001b[38;5;232;48;5;232m▀\u001b[38;5;232;48;5;232m▀\u001b[38;5;232;48;5;232m▀\u001b[38;5;232;48;5;232m▀\u001b[38;5;232;48;5;232m▀\u001b[38;5;232;48;5;232m▀\u001b[38;5;232;48;5;232m▀\u001b[38;5;232;48;5;232m▀\u001b[0m\n",
       "\u001b[0m\u001b[38;5;232;48;5;232m▀\u001b[38;5;232;48;5;232m▀\u001b[38;5;232;48;5;232m▀\u001b[38;5;232;48;5;232m▀\u001b[38;5;232;48;5;232m▀\u001b[38;5;232;48;5;232m▀\u001b[38;5;232;48;5;232m▀\u001b[38;5;232;48;5;232m▀\u001b[38;5;232;48;5;232m▀\u001b[38;5;232;48;5;232m▀\u001b[38;5;232;48;5;232m▀\u001b[38;5;232;48;5;232m▀\u001b[38;5;232;48;5;232m▀\u001b[38;5;232;48;5;232m▀\u001b[38;5;232;48;5;232m▀\u001b[38;5;232;48;5;232m▀\u001b[38;5;232;48;5;232m▀\u001b[38;5;232;48;5;232m▀\u001b[38;5;232;48;5;232m▀\u001b[38;5;232;48;5;232m▀\u001b[38;5;232;48;5;232m▀\u001b[38;5;232;48;5;232m▀\u001b[38;5;232;48;5;232m▀\u001b[38;5;232;48;5;232m▀\u001b[38;5;232;48;5;232m▀\u001b[38;5;232;48;5;232m▀\u001b[38;5;232;48;5;232m▀\u001b[38;5;232;48;5;232m▀\u001b[38;5;232;48;5;232m▀\u001b[38;5;232;48;5;232m▀\u001b[38;5;232;48;5;232m▀\u001b[38;5;232;48;5;232m▀\u001b[38;5;232;48;5;232m▀\u001b[0m\n",
       "\u001b[0m\u001b[38;5;232;48;5;232m▀\u001b[38;5;232;48;5;232m▀\u001b[38;5;232;48;5;232m▀\u001b[38;5;232;48;5;232m▀\u001b[38;5;232;48;5;232m▀\u001b[38;5;232;48;5;232m▀\u001b[38;5;232;48;5;232m▀\u001b[38;5;232;48;5;232m▀\u001b[38;5;232;48;5;232m▀\u001b[38;5;232;48;5;232m▀\u001b[38;5;232;48;5;232m▀\u001b[38;5;232;48;5;232m▀\u001b[38;5;232;48;5;232m▀\u001b[38;5;232;48;5;232m▀\u001b[38;5;232;48;5;232m▀\u001b[38;5;232;48;5;232m▀\u001b[38;5;232;48;5;232m▀\u001b[38;5;232;48;5;232m▀\u001b[38;5;232;48;5;232m▀\u001b[38;5;232;48;5;232m▀\u001b[38;5;232;48;5;232m▀\u001b[38;5;232;48;5;232m▀\u001b[38;5;232;48;5;232m▀\u001b[38;5;232;48;5;232m▀\u001b[38;5;232;48;5;232m▀\u001b[38;5;232;48;5;232m▀\u001b[38;5;232;48;5;232m▀\u001b[38;5;232;48;5;232m▀\u001b[38;5;232;48;5;232m▀\u001b[38;5;232;48;5;232m▀\u001b[38;5;232;48;5;232m▀\u001b[38;5;232;48;5;232m▀\u001b[38;5;232;48;5;232m▀\u001b[0m\n",
       "\u001b[0m\u001b[38;5;232;48;5;232m▀\u001b[38;5;232;48;5;232m▀\u001b[38;5;232;48;5;232m▀\u001b[38;5;232;48;5;232m▀\u001b[38;5;232;48;5;232m▀\u001b[38;5;232;48;5;232m▀\u001b[38;5;232;48;5;232m▀\u001b[38;5;232;48;5;232m▀\u001b[38;5;232;48;5;232m▀\u001b[38;5;232;48;5;232m▀\u001b[38;5;232;48;5;232m▀\u001b[38;5;232;48;5;232m▀\u001b[38;5;232;48;5;232m▀\u001b[38;5;232;48;5;232m▀\u001b[38;5;232;48;5;232m▀\u001b[38;5;232;48;5;232m▀\u001b[38;5;232;48;5;232m▀\u001b[38;5;232;48;5;232m▀\u001b[38;5;232;48;5;232m▀\u001b[38;5;232;48;5;232m▀\u001b[38;5;232;48;5;232m▀\u001b[38;5;232;48;5;232m▀\u001b[38;5;232;48;5;232m▀\u001b[38;5;232;48;5;232m▀\u001b[38;5;232;48;5;232m▀\u001b[38;5;232;48;5;232m▀\u001b[38;5;232;48;5;232m▀\u001b[38;5;232;48;5;232m▀\u001b[38;5;232;48;5;232m▀\u001b[38;5;232;48;5;232m▀\u001b[38;5;232;48;5;232m▀\u001b[38;5;232;48;5;232m▀\u001b[38;5;232;48;5;232m▀\u001b[0m\n",
       "\u001b[0m\u001b[38;5;232;48;5;232m▀\u001b[38;5;232;48;5;232m▀\u001b[38;5;232;48;5;232m▀\u001b[38;5;232;48;5;232m▀\u001b[38;5;232;48;5;232m▀\u001b[38;5;232;48;5;232m▀\u001b[38;5;232;48;5;232m▀\u001b[38;5;232;48;5;232m▀\u001b[38;5;232;48;5;232m▀\u001b[38;5;232;48;5;232m▀\u001b[38;5;232;48;5;232m▀\u001b[38;5;232;48;5;232m▀\u001b[38;5;232;48;5;232m▀\u001b[38;5;232;48;5;232m▀\u001b[38;5;232;48;5;232m▀\u001b[38;5;232;48;5;232m▀\u001b[38;5;232;48;5;232m▀\u001b[38;5;232;48;5;232m▀\u001b[38;5;232;48;5;232m▀\u001b[38;5;232;48;5;232m▀\u001b[38;5;232;48;5;232m▀\u001b[38;5;232;48;5;232m▀\u001b[38;5;232;48;5;232m▀\u001b[38;5;232;48;5;232m▀\u001b[38;5;232;48;5;232m▀\u001b[38;5;232;48;5;232m▀\u001b[38;5;232;48;5;232m▀\u001b[38;5;232;48;5;232m▀\u001b[38;5;232;48;5;232m▀\u001b[38;5;232;48;5;232m▀\u001b[38;5;232;48;5;232m▀\u001b[38;5;232;48;5;232m▀\u001b[38;5;232;48;5;232m▀\u001b[0m\n",
       "\u001b[0m\u001b[38;5;232;48;5;232m▀\u001b[38;5;232;48;5;232m▀\u001b[38;5;232;48;5;232m▀\u001b[38;5;232;48;5;232m▀\u001b[38;5;232;48;5;232m▀\u001b[38;5;232;48;5;232m▀\u001b[38;5;232;48;5;232m▀\u001b[38;5;232;48;5;232m▀\u001b[38;5;232;48;5;232m▀\u001b[38;5;232;48;5;232m▀\u001b[38;5;232;48;5;232m▀\u001b[38;5;232;48;5;232m▀\u001b[38;5;232;48;5;232m▀\u001b[38;5;232;48;5;232m▀\u001b[38;5;232;48;5;232m▀\u001b[38;5;232;48;5;232m▀\u001b[38;5;232;48;5;232m▀\u001b[38;5;232;48;5;232m▀\u001b[38;5;232;48;5;232m▀\u001b[38;5;232;48;5;232m▀\u001b[38;5;232;48;5;232m▀\u001b[38;5;232;48;5;232m▀\u001b[38;5;232;48;5;232m▀\u001b[38;5;232;48;5;232m▀\u001b[38;5;232;48;5;232m▀\u001b[38;5;232;48;5;232m▀\u001b[38;5;232;48;5;232m▀\u001b[38;5;232;48;5;232m▀\u001b[38;5;232;48;5;232m▀\u001b[38;5;232;48;5;232m▀\u001b[38;5;232;48;5;232m▀\u001b[38;5;232;48;5;232m▀\u001b[38;5;232;48;5;232m▀\u001b[0m\n",
       "\u001b[0m\u001b[38;5;232;48;5;232m▀\u001b[38;5;232;48;5;232m▀\u001b[38;5;232;48;5;232m▀\u001b[38;5;232;48;5;232m▀\u001b[38;5;232;48;5;232m▀\u001b[38;5;232;48;5;232m▀\u001b[38;5;232;48;5;232m▀\u001b[38;5;232;48;5;232m▀\u001b[38;5;232;48;5;232m▀\u001b[38;5;232;48;5;232m▀\u001b[38;5;232;48;5;232m▀\u001b[38;5;232;48;5;232m▀\u001b[38;5;232;48;5;232m▀\u001b[38;5;232;48;5;232m▀\u001b[38;5;232;48;5;232m▀\u001b[38;5;232;48;5;232m▀\u001b[38;5;232;48;5;232m▀\u001b[38;5;232;48;5;232m▀\u001b[38;5;232;48;5;232m▀\u001b[38;5;232;48;5;232m▀\u001b[38;5;232;48;5;232m▀\u001b[38;5;232;48;5;232m▀\u001b[38;5;232;48;5;232m▀\u001b[38;5;232;48;5;232m▀\u001b[38;5;232;48;5;232m▀\u001b[38;5;232;48;5;232m▀\u001b[38;5;232;48;5;232m▀\u001b[38;5;232;48;5;232m▀\u001b[38;5;232;48;5;232m▀\u001b[38;5;232;48;5;232m▀\u001b[38;5;232;48;5;232m▀\u001b[38;5;232;48;5;232m▀\u001b[38;5;232;48;5;232m▀\u001b[0m\n",
       "\u001b[0m\u001b[38;5;232;48;5;232m▀\u001b[38;5;232;48;5;232m▀\u001b[38;5;232;48;5;232m▀\u001b[38;5;232;48;5;232m▀\u001b[38;5;232;48;5;232m▀\u001b[38;5;232;48;5;232m▀\u001b[38;5;232;48;5;232m▀\u001b[38;5;232;48;5;232m▀\u001b[38;5;232;48;5;232m▀\u001b[38;5;232;48;5;232m▀\u001b[38;5;232;48;5;232m▀\u001b[38;5;232;48;5;232m▀\u001b[38;5;232;48;5;232m▀\u001b[38;5;232;48;5;232m▀\u001b[38;5;232;48;5;232m▀\u001b[38;5;232;48;5;232m▀\u001b[38;5;232;48;5;232m▀\u001b[38;5;232;48;5;232m▀\u001b[38;5;232;48;5;232m▀\u001b[38;5;232;48;5;232m▀\u001b[38;5;232;48;5;232m▀\u001b[38;5;232;48;5;232m▀\u001b[38;5;232;48;5;232m▀\u001b[38;5;232;48;5;232m▀\u001b[38;5;232;48;5;232m▀\u001b[38;5;232;48;5;232m▀\u001b[38;5;232;48;5;232m▀\u001b[38;5;232;48;5;232m▀\u001b[38;5;232;48;5;232m▀\u001b[38;5;232;48;5;232m▀\u001b[38;5;232;48;5;232m▀\u001b[38;5;232;48;5;232m▀\u001b[38;5;232;48;5;232m▀\u001b[0m\n",
       "\u001b[0m\u001b[38;5;232;48;5;232m▀\u001b[38;5;232;48;5;232m▀\u001b[38;5;232;48;5;232m▀\u001b[38;5;232;48;5;232m▀\u001b[38;5;232;48;5;232m▀\u001b[38;5;232;48;5;232m▀\u001b[38;5;232;48;5;232m▀\u001b[38;5;232;48;5;232m▀\u001b[38;5;232;48;5;232m▀\u001b[38;5;232;48;5;232m▀\u001b[38;5;232;48;5;232m▀\u001b[38;5;232;48;5;232m▀\u001b[38;5;232;48;5;232m▀\u001b[38;5;232;48;5;232m▀\u001b[38;5;232;48;5;232m▀\u001b[38;5;232;48;5;232m▀\u001b[38;5;232;48;5;232m▀\u001b[38;5;232;48;5;232m▀\u001b[38;5;232;48;5;232m▀\u001b[38;5;232;48;5;232m▀\u001b[38;5;232;48;5;232m▀\u001b[38;5;232;48;5;232m▀\u001b[38;5;232;48;5;232m▀\u001b[38;5;232;48;5;232m▀\u001b[38;5;232;48;5;232m▀\u001b[38;5;232;48;5;232m▀\u001b[38;5;232;48;5;232m▀\u001b[38;5;232;48;5;232m▀\u001b[38;5;232;48;5;232m▀\u001b[38;5;232;48;5;232m▀\u001b[38;5;232;48;5;232m▀\u001b[38;5;232;48;5;232m▀\u001b[38;5;232;48;5;232m▀\u001b[0m\n",
       "\u001b[0m\u001b[38;5;232;48;5;232m▀\u001b[38;5;232;48;5;232m▀\u001b[38;5;232;48;5;232m▀\u001b[38;5;232;48;5;232m▀\u001b[38;5;232;48;5;232m▀\u001b[38;5;232;48;5;232m▀\u001b[38;5;232;48;5;232m▀\u001b[38;5;232;48;5;232m▀\u001b[38;5;232;48;5;232m▀\u001b[38;5;232;48;5;232m▀\u001b[38;5;232;48;5;232m▀\u001b[38;5;232;48;5;232m▀\u001b[38;5;232;48;5;232m▀\u001b[38;5;232;48;5;232m▀\u001b[38;5;232;48;5;232m▀\u001b[38;5;232;48;5;232m▀\u001b[38;5;232;48;5;232m▀\u001b[38;5;232;48;5;232m▀\u001b[38;5;232;48;5;232m▀\u001b[38;5;232;48;5;232m▀\u001b[38;5;232;48;5;232m▀\u001b[38;5;232;48;5;232m▀\u001b[38;5;232;48;5;232m▀\u001b[38;5;232;48;5;232m▀\u001b[38;5;232;48;5;232m▀\u001b[38;5;232;48;5;232m▀\u001b[38;5;232;48;5;232m▀\u001b[38;5;232;48;5;232m▀\u001b[38;5;232;48;5;232m▀\u001b[38;5;232;48;5;232m▀\u001b[38;5;232;48;5;232m▀\u001b[38;5;232;48;5;232m▀\u001b[38;5;232;48;5;232m▀\u001b[0m\n",
       "\u001b[0m\u001b[38;5;232;48;5;232m▀\u001b[38;5;232;48;5;232m▀\u001b[38;5;232;48;5;232m▀\u001b[38;5;232;48;5;232m▀\u001b[38;5;232;48;5;232m▀\u001b[38;5;232;48;5;232m▀\u001b[38;5;232;48;5;232m▀\u001b[38;5;232;48;5;232m▀\u001b[38;5;232;48;5;232m▀\u001b[38;5;232;48;5;232m▀\u001b[38;5;232;48;5;232m▀\u001b[38;5;232;48;5;232m▀\u001b[38;5;232;48;5;232m▀\u001b[38;5;232;48;5;232m▀\u001b[38;5;232;48;5;232m▀\u001b[38;5;232;48;5;232m▀\u001b[38;5;232;48;5;232m▀\u001b[38;5;232;48;5;232m▀\u001b[38;5;232;48;5;232m▀\u001b[38;5;232;48;5;232m▀\u001b[38;5;232;48;5;232m▀\u001b[38;5;232;48;5;232m▀\u001b[38;5;232;48;5;232m▀\u001b[38;5;232;48;5;232m▀\u001b[38;5;232;48;5;232m▀\u001b[38;5;232;48;5;232m▀\u001b[38;5;232;48;5;232m▀\u001b[38;5;232;48;5;232m▀\u001b[38;5;232;48;5;232m▀\u001b[38;5;232;48;5;232m▀\u001b[38;5;232;48;5;232m▀\u001b[38;5;232;48;5;232m▀\u001b[38;5;232;48;5;232m▀\u001b[0m\n",
       "\u001b[0m\u001b[38;5;232;48;5;232m▀\u001b[38;5;232;48;5;232m▀\u001b[38;5;232;48;5;232m▀\u001b[38;5;232;48;5;232m▀\u001b[38;5;232;48;5;232m▀\u001b[38;5;232;48;5;232m▀\u001b[38;5;232;48;5;232m▀\u001b[38;5;232;48;5;232m▀\u001b[38;5;232;48;5;232m▀\u001b[38;5;232;48;5;232m▀\u001b[38;5;232;48;5;232m▀\u001b[38;5;232;48;5;232m▀\u001b[38;5;232;48;5;232m▀\u001b[38;5;232;48;5;232m▀\u001b[38;5;232;48;5;232m▀\u001b[38;5;232;48;5;232m▀\u001b[38;5;232;48;5;232m▀\u001b[38;5;232;48;5;232m▀\u001b[38;5;232;48;5;232m▀\u001b[38;5;232;48;5;232m▀\u001b[38;5;232;48;5;232m▀\u001b[38;5;232;48;5;232m▀\u001b[38;5;232;48;5;232m▀\u001b[38;5;232;48;5;232m▀\u001b[38;5;232;48;5;232m▀\u001b[38;5;232;48;5;232m▀\u001b[38;5;232;48;5;232m▀\u001b[38;5;232;48;5;232m▀\u001b[38;5;232;48;5;232m▀\u001b[38;5;232;48;5;232m▀\u001b[38;5;232;48;5;232m▀\u001b[38;5;232;48;5;232m▀\u001b[38;5;232;48;5;232m▀\u001b[0m\n",
       "\u001b[0m\u001b[38;5;232m▀\u001b[38;5;232m▀\u001b[38;5;232m▀\u001b[38;5;232m▀\u001b[38;5;232m▀\u001b[38;5;232m▀\u001b[38;5;232m▀\u001b[38;5;232m▀\u001b[38;5;232m▀\u001b[38;5;232m▀\u001b[38;5;232m▀\u001b[38;5;232m▀\u001b[38;5;232m▀\u001b[38;5;232m▀\u001b[38;5;232m▀\u001b[38;5;232m▀\u001b[38;5;232m▀\u001b[38;5;232m▀\u001b[38;5;232m▀\u001b[38;5;232m▀\u001b[38;5;232m▀\u001b[38;5;232m▀\u001b[38;5;232m▀\u001b[38;5;232m▀\u001b[38;5;232m▀\u001b[38;5;232m▀\u001b[38;5;232m▀\u001b[38;5;232m▀\u001b[38;5;232m▀\u001b[38;5;232m▀\u001b[38;5;232m▀\u001b[38;5;232m▀\u001b[38;5;232m▀\u001b[0m"
      ]
     },
     "metadata": {},
     "output_type": "display_data"
    }
   ],
   "source": [
    "Gray.(y_sample_cated[:,:,1,2])"
   ]
  },
  {
   "cell_type": "code",
   "execution_count": 42,
   "metadata": {},
   "outputs": [
    {
     "data": {
      "text/plain": [
       "1.0f0"
      ]
     },
     "metadata": {},
     "output_type": "display_data"
    }
   ],
   "source": [
    "lossfn(y_sample_pred[:,:,:,2], y_sample_cated[:,:,:,2])"
   ]
  },
  {
   "cell_type": "code",
   "execution_count": 43,
   "metadata": {},
   "outputs": [
    {
     "data": {
      "text/plain": [
       "0.0f0"
      ]
     },
     "metadata": {},
     "output_type": "display_data"
    }
   ],
   "source": [
    "a = sum(y_sample_pred[:,:,chnl_idx,2] .* y_sample_cated[:,:,1,2])"
   ]
  },
  {
   "cell_type": "code",
   "execution_count": 44,
   "metadata": {},
   "outputs": [
    {
     "data": {
      "text/plain": [
       "16410.203f0"
      ]
     },
     "metadata": {},
     "output_type": "display_data"
    }
   ],
   "source": [
    "b = sum(y_sample_pred[:,:,chnl_idx,2] .^ 2)"
   ]
  },
  {
   "cell_type": "code",
   "execution_count": 45,
   "metadata": {},
   "outputs": [
    {
     "data": {
      "text/plain": [
       "0.0f0"
      ]
     },
     "metadata": {},
     "output_type": "display_data"
    }
   ],
   "source": [
    "c = sum(y_sample_cated[:,:,1,2] .^ 2)"
   ]
  },
  {
   "cell_type": "code",
   "execution_count": 46,
   "metadata": {},
   "outputs": [
    {
     "data": {
      "text/plain": [
       "6.0937694f-10"
      ]
     },
     "metadata": {},
     "output_type": "display_data"
    }
   ],
   "source": [
    "d = (muladd(2f0, a, 1f-5) / (b + c + 1f-5))"
   ]
  },
  {
   "cell_type": "code",
   "execution_count": 47,
   "metadata": {},
   "outputs": [
    {
     "data": {
      "text/plain": [
       "1.0f0"
      ]
     },
     "metadata": {},
     "output_type": "display_data"
    }
   ],
   "source": [
    "d_loss = 1f0 - d"
   ]
  },
  {
   "cell_type": "code",
   "execution_count": null,
   "metadata": {},
   "outputs": [],
   "source": []
  },
  {
   "cell_type": "code",
   "execution_count": null,
   "metadata": {},
   "outputs": [],
   "source": []
  },
  {
   "cell_type": "markdown",
   "metadata": {},
   "source": [
    "### 2.1.2 Debug for GRAM leak"
   ]
  },
  {
   "cell_type": "code",
   "execution_count": 26,
   "metadata": {},
   "outputs": [
    {
     "name": "stdout",
     "output_type": "stream",
     "text": [
      "Effective GPU memory usage: 1.78% (404.312 MiB/22.159 GiB)\n",
      "Memory pool usage: 0 bytes (0 bytes reserved)\n"
     ]
    },
    {
     "data": {
      "text/plain": [
       "(val = 1.0f0, grad = Grads(...))"
      ]
     },
     "metadata": {},
     "output_type": "display_data"
    }
   ],
   "source": [
    "device!(0)\n",
    "CUDA.memory_status() \n",
    "\n",
    "model_gpu0 = model |> gpu\n",
    "x_gpu0, y_gpu0 = x_sample[:, :, :, 1:10], y_sample[:, :, :, 1:10]\n",
    "y_gpu0 = Float32.(y_gpu0) |> gpu\n",
    "x_gpu0 = x_gpu0 |> gpu\n",
    "ls, gs = Flux.withgradient(Flux.params(model_gpu0)) do \n",
    "    lossfn(model_gpu0(x_gpu0), y_gpu0)\n",
    "end"
   ]
  },
  {
   "cell_type": "code",
   "execution_count": 36,
   "metadata": {},
   "outputs": [
    {
     "name": "stdout",
     "output_type": "stream",
     "text": [
      "Effective GPU memory usage: 90.17% (19.981 GiB/22.159 GiB)\n",
      "Memory pool usage: 408.160 MiB (19.531 GiB reserved)\n"
     ]
    }
   ],
   "source": [
    "device!(0)\n",
    "CUDA.memory_status() "
   ]
  },
  {
   "cell_type": "code",
   "execution_count": 27,
   "metadata": {},
   "outputs": [
    {
     "name": "stdout",
     "output_type": "stream",
     "text": [
      "Effective GPU memory usage: 1.78% (404.312 MiB/22.159 GiB)\n",
      "Memory pool usage: 0 bytes (0 bytes reserved)\n"
     ]
    },
    {
     "data": {
      "text/plain": [
       "(val = 1.0f0, grad = Grads(...))"
      ]
     },
     "metadata": {},
     "output_type": "display_data"
    }
   ],
   "source": [
    "device!(3)\n",
    "CUDA.memory_status() \n",
    "\n",
    "model_gpu3 = model |> gpu\n",
    "x_gpu3, y_gpu3 = x_sample[:, :, :, 11:20], y_sample[:, :, :, 11:20]\n",
    "y_gpu3 = Float32.(y_gpu3) |> gpu\n",
    "x_gpu3 = x_gpu3 |> gpu\n",
    "ls3, gs3 = Flux.withgradient(Flux.params(model_gpu3)) do \n",
    "    lossfn(model_gpu3(x_gpu3), y_gpu3)\n",
    "end"
   ]
  },
  {
   "cell_type": "code",
   "execution_count": 33,
   "metadata": {},
   "outputs": [
    {
     "name": "stdout",
     "output_type": "stream",
     "text": [
      "Effective GPU memory usage: 99.90% (22.137 GiB/22.159 GiB)\n",
      "Memory pool usage: 17.330 GiB (21.688 GiB reserved)\n"
     ]
    }
   ],
   "source": [
    "device!(3)\n",
    "CUDA.memory_status() "
   ]
  },
  {
   "cell_type": "code",
   "execution_count": 37,
   "metadata": {},
   "outputs": [
    {
     "name": "stdout",
     "output_type": "stream",
     "text": [
      "Effective GPU memory usage: 90.17% (19.981 GiB/22.159 GiB)\n",
      "Memory pool usage: 408.160 MiB (19.531 GiB reserved)\n"
     ]
    }
   ],
   "source": [
    "device!(0)\n",
    "gs_gpu0 = [gs[p] for p in gs.params]\n",
    "CUDA.memory_status() "
   ]
  },
  {
   "cell_type": "code",
   "execution_count": 38,
   "metadata": {},
   "outputs": [
    {
     "name": "stdout",
     "output_type": "stream",
     "text": [
      "Effective GPU memory usage: 90.17% (19.981 GiB/22.159 GiB)\n",
      "Memory pool usage: 526.588 MiB (19.531 GiB reserved)\n"
     ]
    }
   ],
   "source": [
    "device!(3)\n",
    "gs_gpu3 = gradient_to_array(3, gs3)\n",
    "CUDA.memory_status() "
   ]
  },
  {
   "cell_type": "code",
   "execution_count": 40,
   "metadata": {},
   "outputs": [
    {
     "name": "stdout",
     "output_type": "stream",
     "text": [
      "Effective GPU memory usage: 90.17% (19.981 GiB/22.159 GiB)\n",
      "Memory pool usage: 763.446 MiB (19.531 GiB reserved)\n"
     ]
    }
   ],
   "source": [
    "device!(0)\n",
    "gs_gpu0 = gs_gpu0 .+ gs_gpu3\n",
    "CUDA.memory_status() "
   ]
  },
  {
   "cell_type": "code",
   "execution_count": 41,
   "metadata": {},
   "outputs": [
    {
     "name": "stdout",
     "output_type": "stream",
     "text": [
      "Effective GPU memory usage: 90.22% (19.991 GiB/22.159 GiB)\n",
      "Memory pool usage: 763.446 MiB (19.531 GiB reserved)\n"
     ]
    }
   ],
   "source": [
    "optimizer = AdaGrad(0.01)\n",
    "device!(0)\n",
    "Threads.@threads for i = 1 : 90\n",
    "    gs.grads[Flux.params(model_gpu0)[i]] .= gs_gpu0[i]\n",
    "end\n",
    "old_para = Flux.params(model_gpu0)\n",
    "Flux.update!(optimizer, old_para, gs)\n",
    "model_cpu = model_gpu0 |> cpu\n",
    "CUDA.memory_status() "
   ]
  },
  {
   "cell_type": "code",
   "execution_count": 42,
   "metadata": {},
   "outputs": [
    {
     "name": "stdout",
     "output_type": "stream",
     "text": [
      "Effective GPU memory usage: 90.26% (20.000 GiB/22.159 GiB)\n",
      "Memory pool usage: 526.588 MiB (19.531 GiB reserved)\n"
     ]
    }
   ],
   "source": [
    "device!(0)\n",
    "for p in gs.params\n",
    "    CUDA.unsafe_free!(gs.grads[p])\n",
    "    # CUDA.unsafe_free!(p)\n",
    "end\n",
    "Threads.@threads for i = 1 : 90\n",
    "    CUDA.unsafe_free!(gs_gpu0[i])\n",
    "end\n",
    "CUDA.memory_status() "
   ]
  },
  {
   "cell_type": "code",
   "execution_count": 43,
   "metadata": {},
   "outputs": [
    {
     "name": "stdout",
     "output_type": "stream",
     "text": [
      "Effective GPU memory usage: 99.95% (22.147 GiB/22.159 GiB)\n",
      "Memory pool usage: 245.712 MiB (21.688 GiB reserved)\n"
     ]
    }
   ],
   "source": [
    "device!(3)\n",
    "Threads.@threads for i = 1 : 90\n",
    "    CUDA.unsafe_free!(gs_gpu3[i])\n",
    "end\n",
    "model_gpu3 = nothing\n",
    "model_gpu3 = model_cpu |> gpu\n",
    "CUDA.memory_status() "
   ]
  },
  {
   "cell_type": "code",
   "execution_count": 44,
   "metadata": {},
   "outputs": [
    {
     "name": "stdout",
     "output_type": "stream",
     "text": [
      "Effective GPU memory usage: 90.26% (20.000 GiB/22.159 GiB)\n",
      "Memory pool usage: 408.160 MiB (19.531 GiB reserved)\n"
     ]
    }
   ],
   "source": [
    "gs, gs_gpu0, gs_gpu1, gs_gpu2, gs_gpu3 = nothing, nothing, nothing, nothing, nothing\n",
    "device!(0)\n",
    "CUDA.memory_status() "
   ]
  },
  {
   "cell_type": "code",
   "execution_count": null,
   "metadata": {},
   "outputs": [],
   "source": []
  },
  {
   "cell_type": "code",
   "execution_count": null,
   "metadata": {},
   "outputs": [],
   "source": []
  },
  {
   "cell_type": "code",
   "execution_count": null,
   "metadata": {},
   "outputs": [],
   "source": []
  },
  {
   "cell_type": "code",
   "execution_count": 81,
   "metadata": {},
   "outputs": [
    {
     "name": "stdout",
     "output_type": "stream",
     "text": [
      "Effective GPU memory usage: 95.95% (21.262 GiB/22.159 GiB)\n",
      "Memory pool usage: 18.358 GiB (20.812 GiB reserved)\n"
     ]
    }
   ],
   "source": []
  },
  {
   "cell_type": "code",
   "execution_count": 82,
   "metadata": {},
   "outputs": [
    {
     "name": "stdout",
     "output_type": "stream",
     "text": [
      "Effective GPU memory usage: 95.95% (21.262 GiB/22.159 GiB)\n",
      "Memory pool usage: 18.355 GiB (20.812 GiB reserved)\n"
     ]
    }
   ],
   "source": [
    "CUDA.unsafe_free!(x_sample)\n",
    "CUDA.unsafe_free!(y_sample_cated)\n",
    "CUDA.memory_status() "
   ]
  },
  {
   "cell_type": "code",
   "execution_count": 83,
   "metadata": {},
   "outputs": [
    {
     "name": "stdout",
     "output_type": "stream",
     "text": [
      "Effective GPU memory usage: 94.26% (20.887 GiB/22.159 GiB)\n",
      "Memory pool usage: 18.355 GiB (20.438 GiB reserved)\n"
     ]
    }
   ],
   "source": [
    "CUDA.reclaim()\n",
    "CUDA.memory_status() "
   ]
  },
  {
   "cell_type": "code",
   "execution_count": 90,
   "metadata": {},
   "outputs": [
    {
     "name": "stdout",
     "output_type": "stream",
     "text": [
      "Effective GPU memory usage: 94.26% (20.887 GiB/22.159 GiB)\n",
      "Memory pool usage: 0 bytes (20.438 GiB reserved)\n"
     ]
    }
   ],
   "source": [
    "model_test = nothing\n",
    "GC.gc(true)\n",
    "CUDA.memory_status() "
   ]
  },
  {
   "cell_type": "code",
   "execution_count": 91,
   "metadata": {},
   "outputs": [
    {
     "name": "stdout",
     "output_type": "stream",
     "text": [
      "Effective GPU memory usage: 2.03% (460.375 MiB/22.159 GiB)\n",
      "Memory pool usage: 0 bytes (0 bytes reserved)\n"
     ]
    }
   ],
   "source": [
    "CUDA.reclaim()\n",
    "CUDA.memory_status() "
   ]
  },
  {
   "cell_type": "code",
   "execution_count": 92,
   "metadata": {},
   "outputs": [
    {
     "name": "stdout",
     "output_type": "stream",
     "text": [
      "Effective GPU memory usage: 2.03% (460.375 MiB/22.159 GiB)\n",
      "Memory pool usage: 0 bytes (0 bytes reserved)\n"
     ]
    }
   ],
   "source": [
    "gs = nothing\n",
    "GC.gc(true)\n",
    "CUDA.memory_status() "
   ]
  },
  {
   "cell_type": "code",
   "execution_count": 93,
   "metadata": {},
   "outputs": [
    {
     "name": "stdout",
     "output_type": "stream",
     "text": [
      "Effective GPU memory usage: 2.03% (460.375 MiB/22.159 GiB)\n",
      "Memory pool usage: 0 bytes (0 bytes reserved)\n"
     ]
    }
   ],
   "source": [
    "CUDA.reclaim()\n",
    "CUDA.memory_status() "
   ]
  },
  {
   "cell_type": "code",
   "execution_count": null,
   "metadata": {},
   "outputs": [],
   "source": []
  },
  {
   "cell_type": "code",
   "execution_count": null,
   "metadata": {},
   "outputs": [],
   "source": []
  },
  {
   "cell_type": "code",
   "execution_count": 26,
   "metadata": {},
   "outputs": [],
   "source": []
  },
  {
   "cell_type": "markdown",
   "metadata": {},
   "source": [
    "## 2.2 Actual train"
   ]
  },
  {
   "cell_type": "code",
   "execution_count": null,
   "metadata": {},
   "outputs": [],
   "source": [
    "device!(0)\n",
    "model_0 = model |> gpu\n",
    "# model_ps_0 = Flux.params(model_0)\n",
    "device!(1)\n",
    "model_1 = model |> gpu\n",
    "# model_ps_1 = Flux.params(model_1)\n",
    "device!(2)\n",
    "model_2 = model |> gpu\n",
    "# model_ps_2 = Flux.params(model_2)\n",
    "device!(3)\n",
    "model_3 = model |> gpu\n",
    "# model_ps_3 = Flux.params(model_3);\n",
    "\"\""
   ]
  },
  {
   "cell_type": "code",
   "execution_count": null,
   "metadata": {},
   "outputs": [],
   "source": [
    "model_test = nothing\n",
    "x_sample = nothing\n",
    "y_sample = nothing\n",
    "device!(0)\n",
    "CUDA.reclaim()\n",
    "device!(1)\n",
    "CUDA.reclaim()\n",
    "device!(2)\n",
    "CUDA.reclaim()\n",
    "device!(3)\n",
    "CUDA.reclaim()\n",
    "GC.gc(true)\n",
    "device!(0)"
   ]
  },
  {
   "cell_type": "code",
   "execution_count": null,
   "metadata": {},
   "outputs": [],
   "source": [
    "# @sync begin\n",
    "#     # Step start\n",
    "#     @async begin\n",
    "#         device!(0)\n",
    "#         global model_0 = model |> gpu\n",
    "#         global model_ps_0 = Flux.params(model_0)\n",
    "#     end\n",
    "#     @async begin\n",
    "#         device!(1)\n",
    "#         global model_1 = model |> gpu\n",
    "#         global model_ps_1 = Flux.params(model_1)\n",
    "#     end\n",
    "#     @async begin\n",
    "#         device!(2)\n",
    "#         global model_2 = model |> gpu\n",
    "#         global model_ps_2 = Flux.params(model_2)\n",
    "#     end\n",
    "#     @async begin\n",
    "#         device!(3)\n",
    "#         global model_3 = model |> gpu\n",
    "#         global model_ps_3 = Flux.params(model_3)\n",
    "#     end\n",
    "# end\n",
    "# modelss = [model_0, model_1, model_2, model_3]\n",
    "# model_pss = [model_ps_0, model_ps_1, model_ps_2, model_ps_3];"
   ]
  },
  {
   "cell_type": "code",
   "execution_count": null,
   "metadata": {},
   "outputs": [],
   "source": [
    "optimizer = AdaGrad(0.01)\n",
    "for epoch_idx = 1:5\n",
    "    @info epoch_idx\n",
    "    # model_pss = train_1_epoch(epoch_idx, modelss, model_pss, train_loader, optimizer)\n",
    "    train_1_epoch!(epoch_idx, model_0, model_1, model_2, model_3, train_loader, optimizer)\n",
    "    flush(stdout)\n",
    "end"
   ]
  }
 ],
 "metadata": {
  "kernelspec": {
   "display_name": "Julia 1.9.1",
   "language": "julia",
   "name": "julia-1.9"
  },
  "language_info": {
   "file_extension": ".jl",
   "mimetype": "application/julia",
   "name": "julia",
   "version": "1.9.1"
  },
  "orig_nbformat": 4
 },
 "nbformat": 4,
 "nbformat_minor": 2
}
