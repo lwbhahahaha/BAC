{
 "cells": [
  {
   "cell_type": "code",
   "execution_count": 1,
   "metadata": {},
   "outputs": [
    {
     "name": "stderr",
     "output_type": "stream",
     "text": [
      "\u001b[32m\u001b[1m  Activating\u001b[22m\u001b[39m project at `c:\\Users\\wenbl13\\OneDrive - UCI Health\\Desktop\\BAC project\\libs`\n"
     ]
    }
   ],
   "source": [
    "using Pkg\n",
    "Pkg.activate(\"libs/\")\n",
    "using CSV\n",
    "using JLD2\n",
    "using CUDA\n",
    "using Glob\n",
    "using Dates\n",
    "using DICOM\n",
    "using Images\n",
    "using ImageView\n",
    "using ImageDraw\n",
    "using Statistics\n",
    "using DataFrames\n",
    "using StaticArrays\n",
    "using MLDataPattern\n",
    "using ChainRulesCore\n",
    "using FastAI, FastVision, Flux, Metalhead\n",
    "import CairoMakie; CairoMakie.activate!(type=\"png\")"
   ]
  },
  {
   "attachments": {},
   "cell_type": "markdown",
   "metadata": {},
   "source": [
    "# Notes"
   ]
  },
  {
   "attachments": {},
   "cell_type": "markdown",
   "metadata": {},
   "source": [
    "1. In this training, images' pixel values are zoomed into range = [0, 1]. This should not be applied to final plan since different images have different min and max.\n",
    "\n",
    "2. In this training, only `pixel values` are being used. In future, we can feed more features to the NN to get a better information like `L_mass` or `R_mass`."
   ]
  },
  {
   "attachments": {},
   "cell_type": "markdown",
   "metadata": {},
   "source": [
    "# Helper functions"
   ]
  },
  {
   "attachments": {},
   "cell_type": "markdown",
   "metadata": {},
   "source": [
    "# load data"
   ]
  },
  {
   "cell_type": "code",
   "execution_count": 2,
   "metadata": {},
   "outputs": [
    {
     "data": {
      "text/plain": [
       "2-element Vector{Symbol}:\n",
       " :train_set\n",
       " :valid_set"
      ]
     },
     "metadata": {},
     "output_type": "display_data"
    }
   ],
   "source": [
    "@load \"clean_set_step2.jld2\" train_set valid_set"
   ]
  },
  {
   "cell_type": "code",
   "execution_count": 4,
   "metadata": {},
   "outputs": [
    {
     "data": {
      "text/plain": [
       "\"C:\\\\BAC_dataset\\\\collected_dataset_for_ML\""
      ]
     },
     "metadata": {},
     "output_type": "display_data"
    }
   ],
   "source": [
    "data_dir = raw\"C:\\BAC_dataset\\collected_dataset_for_ML\""
   ]
  },
  {
   "attachments": {},
   "cell_type": "markdown",
   "metadata": {},
   "source": [
    "## Load train set"
   ]
  },
  {
   "cell_type": "code",
   "execution_count": 56,
   "metadata": {},
   "outputs": [],
   "source": [
    "num_train_data = size(train_set)[1]\n",
    "train_set_data = Array{Tuple{Vector{Matrix{Float32}}, Vector{Matrix{Float32}}}}(undef, num_train_data)\n",
    "for i = 1 : num_train_data\n",
    "    @views t = train_set[i]\n",
    "    curr_imgs = Array{Array{Float32,2}}(undef, 4)\n",
    "    curr_lbls = Array{Array{Float32,2}}(undef, 4)\n",
    "    for j = 1 : 4 # 4 images each patient\n",
    "        img_path = t[1][j]\n",
    "        lbl_path = t[2][j]\n",
    "        # read dicom images\n",
    "        img = Float32.(dcm_parse(img_path)[(0x7fe0, 0x0010)])\n",
    "        # read png images\n",
    "        lbl = Float32.(Images.load(lbl_path)) .+ 1f0 # class 0 and class 1 ----> class 1 and class 2\n",
    "        # save \n",
    "        curr_imgs[j] = img\n",
    "        curr_lbls[j] = lbl\n",
    "    end\n",
    "    train_set_data[i] = (curr_imgs, curr_lbls)\n",
    "    break\n",
    "end"
   ]
  },
  {
   "cell_type": "code",
   "execution_count": 57,
   "metadata": {},
   "outputs": [
    {
     "data": {
      "text/plain": [
       "300-element Vector{Tuple{Vector{Matrix{Float32}}, Vector{Matrix{Float32}}}}:\n",
       "    ([[16383.0 16383.0 … 16383.0 16383.0; 16383.0 16383.0 … 16383.0 16383.0; … ; 16383.0 16383.0 … 16383.0 16383.0; 16383.0 16383.0 … 16383.0 16383.0], [16383.0 16383.0 … 16383.0 16383.0; 16383.0 16383.0 … 16383.0 16383.0; … ; 16383.0 16383.0 … 16383.0 16383.0; 16383.0 16383.0 … 16383.0 16383.0], [16383.0 16383.0 … 16383.0 16383.0; 16383.0 16383.0 … 16383.0 16383.0; … ; 16383.0 16383.0 … 16383.0 16383.0; 16383.0 16383.0 … 16383.0 16383.0], [16383.0 16383.0 … 16383.0 16383.0; 16383.0 16383.0 … 16383.0 16383.0; … ; 16383.0 16383.0 … 16383.0 16383.0; 16383.0 16383.0 … 16383.0 16383.0]], [[1.0 1.0 … 1.0 1.0; 1.0 1.0 … 1.0 1.0; … ; 1.0 1.0 … 1.0 1.0; 1.0 1.0 … 1.0 1.0], [1.0 1.0 … 1.0 1.0; 1.0 1.0 … 1.0 1.0; … ; 1.0 1.0 … 1.0 1.0; 1.0 1.0 … 1.0 1.0], [1.0 1.0 … 1.0 1.0; 1.0 1.0 … 1.0 1.0; … ; 1.0 1.0 … 1.0 1.0; 1.0 1.0 … 1.0 1.0], [1.0 1.0 … 1.0 1.0; 1.0 1.0 … 1.0 1.0; … ; 1.0 1.0 … 1.0 1.0; 1.0 1.0 … 1.0 1.0]])\n",
       " #undef\n",
       " #undef\n",
       " #undef\n",
       " #undef\n",
       " #undef\n",
       " #undef\n",
       " #undef\n",
       " #undef\n",
       " #undef\n",
       "   ⋮\n",
       " #undef\n",
       " #undef\n",
       " #undef\n",
       " #undef\n",
       " #undef\n",
       " #undef\n",
       " #undef\n",
       " #undef\n",
       " #undef"
      ]
     },
     "metadata": {},
     "output_type": "display_data"
    }
   ],
   "source": [
    "train_set_data"
   ]
  },
  {
   "cell_type": "code",
   "execution_count": 58,
   "metadata": {},
   "outputs": [
    {
     "data": {
      "text/plain": [
       "(Matrix{Float32}[[16383.0 16383.0 … 16383.0 16383.0; 16383.0 16383.0 … 16383.0 16383.0; … ; 16383.0 16383.0 … 16383.0 16383.0; 16383.0 16383.0 … 16383.0 16383.0], [16383.0 16383.0 … 16383.0 16383.0; 16383.0 16383.0 … 16383.0 16383.0; … ; 16383.0 16383.0 … 16383.0 16383.0; 16383.0 16383.0 … 16383.0 16383.0], [16383.0 16383.0 … 16383.0 16383.0; 16383.0 16383.0 … 16383.0 16383.0; … ; 16383.0 16383.0 … 16383.0 16383.0; 16383.0 16383.0 … 16383.0 16383.0], [16383.0 16383.0 … 16383.0 16383.0; 16383.0 16383.0 … 16383.0 16383.0; … ; 16383.0 16383.0 … 16383.0 16383.0; 16383.0 16383.0 … 16383.0 16383.0]], Matrix{Float32}[[1.0 1.0 … 1.0 1.0; 1.0 1.0 … 1.0 1.0; … ; 1.0 1.0 … 1.0 1.0; 1.0 1.0 … 1.0 1.0], [1.0 1.0 … 1.0 1.0; 1.0 1.0 … 1.0 1.0; … ; 1.0 1.0 … 1.0 1.0; 1.0 1.0 … 1.0 1.0], [1.0 1.0 … 1.0 1.0; 1.0 1.0 … 1.0 1.0; … ; 1.0 1.0 … 1.0 1.0; 1.0 1.0 … 1.0 1.0], [1.0 1.0 … 1.0 1.0; 1.0 1.0 … 1.0 1.0; … ; 1.0 1.0 … 1.0 1.0; 1.0 1.0 … 1.0 1.0]])"
      ]
     },
     "metadata": {},
     "output_type": "display_data"
    }
   ],
   "source": [
    "train_set_data[1]"
   ]
  },
  {
   "cell_type": "code",
   "execution_count": 59,
   "metadata": {},
   "outputs": [
    {
     "data": {
      "text/plain": [
       "4-element Vector{Matrix{Float32}}:\n",
       " [16383.0 16383.0 … 16383.0 16383.0; 16383.0 16383.0 … 16383.0 16383.0; … ; 16383.0 16383.0 … 16383.0 16383.0; 16383.0 16383.0 … 16383.0 16383.0]\n",
       " [16383.0 16383.0 … 16383.0 16383.0; 16383.0 16383.0 … 16383.0 16383.0; … ; 16383.0 16383.0 … 16383.0 16383.0; 16383.0 16383.0 … 16383.0 16383.0]\n",
       " [16383.0 16383.0 … 16383.0 16383.0; 16383.0 16383.0 … 16383.0 16383.0; … ; 16383.0 16383.0 … 16383.0 16383.0; 16383.0 16383.0 … 16383.0 16383.0]\n",
       " [16383.0 16383.0 … 16383.0 16383.0; 16383.0 16383.0 … 16383.0 16383.0; … ; 16383.0 16383.0 … 16383.0 16383.0; 16383.0 16383.0 … 16383.0 16383.0]"
      ]
     },
     "metadata": {},
     "output_type": "display_data"
    }
   ],
   "source": [
    "train_set_data[1][1]"
   ]
  },
  {
   "cell_type": "code",
   "execution_count": 60,
   "metadata": {},
   "outputs": [
    {
     "data": {
      "text/plain": [
       "4-element Vector{Matrix{Float32}}:\n",
       " [1.0 1.0 … 1.0 1.0; 1.0 1.0 … 1.0 1.0; … ; 1.0 1.0 … 1.0 1.0; 1.0 1.0 … 1.0 1.0]\n",
       " [1.0 1.0 … 1.0 1.0; 1.0 1.0 … 1.0 1.0; … ; 1.0 1.0 … 1.0 1.0; 1.0 1.0 … 1.0 1.0]\n",
       " [1.0 1.0 … 1.0 1.0; 1.0 1.0 … 1.0 1.0; … ; 1.0 1.0 … 1.0 1.0; 1.0 1.0 … 1.0 1.0]\n",
       " [1.0 1.0 … 1.0 1.0; 1.0 1.0 … 1.0 1.0; … ; 1.0 1.0 … 1.0 1.0; 1.0 1.0 … 1.0 1.0]"
      ]
     },
     "metadata": {},
     "output_type": "display_data"
    }
   ],
   "source": [
    "train_set_data[1][2]"
   ]
  },
  {
   "cell_type": "code",
   "execution_count": 43,
   "metadata": {},
   "outputs": [
    {
     "data": {
      "text/plain": [
       "Tuple{Vector{Matrix{Float32}}, Vector{Matrix{Float32}}}"
      ]
     },
     "metadata": {},
     "output_type": "display_data"
    }
   ],
   "source": [
    "typeof(train_set_data[1])"
   ]
  },
  {
   "cell_type": "code",
   "execution_count": null,
   "metadata": {},
   "outputs": [],
   "source": []
  },
  {
   "cell_type": "code",
   "execution_count": null,
   "metadata": {},
   "outputs": [],
   "source": []
  }
 ],
 "metadata": {
  "kernelspec": {
   "display_name": "Julia 1.9.1",
   "language": "julia",
   "name": "julia-1.9"
  },
  "language_info": {
   "file_extension": ".jl",
   "mimetype": "application/julia",
   "name": "julia",
   "version": "1.9.1"
  },
  "orig_nbformat": 4
 },
 "nbformat": 4,
 "nbformat_minor": 2
}
