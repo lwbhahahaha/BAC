{
 "cells": [
  {
   "cell_type": "code",
   "execution_count": 1,
   "metadata": {},
   "outputs": [
    {
     "name": "stderr",
     "output_type": "stream",
     "text": [
      "\u001b[32m\u001b[1m  Activating\u001b[22m\u001b[39m project at `~/Desktop/Project BAC/BAC project/libs`\n"
     ]
    },
    {
     "name": "stderr",
     "output_type": "stream",
     "text": [
      "┌ Warning: MPI Implementation is not CUDA Aware.\n",
      "└ @ FluxMPI /home/molloi-lab/.julia/packages/FluxMPI/OM5f6/src/FluxMPI.jl:28\n"
     ]
    },
    {
     "name": "stderr",
     "output_type": "stream",
     "text": [
      "/snap/core20/current/lib/x86_64-linux-gnu/libstdc++.so.6: version `GLIBCXX_3.4.29' not found (required by /lib/x86_64-linux-gnu/libproxy.so.1)\n",
      "Failed to load module: /home/molloi-lab/snap/code/common/.cache/gio-modules/libgiolibproxy.so\n",
      "/snap/core20/current/lib/x86_64-linux-gnu/libstdc++.so.6: version `GLIBCXX_3.4.29' not found (required by /lib/x86_64-linux-gnu/libproxy.so.1)\n",
      "Failed to load module: /home/molloi-lab/snap/code/common/.cache/gio-modules/libgiolibproxy.so\n"
     ]
    },
    {
     "data": {
      "text/plain": [
       "399331"
      ]
     },
     "metadata": {},
     "output_type": "display_data"
    }
   ],
   "source": [
    "using Pkg\n",
    "Pkg.activate(\"libs/\")\n",
    "using Lux, Random, NNlib, Zygote, LuxCUDA, CUDA, FluxMPI, JLD2, DICOM\n",
    "using Images\n",
    "using ImageView\n",
    "using MLUtils\n",
    "using Optimisers, Statistics\n",
    "\n",
    "train_output_dir = \"/media/molloi-lab/System Files/BAC_dataset/dataset_for_ML_full\";\n",
    "\n",
    "patch_size = 256\n",
    "patch_size_half = round(Int, patch_size/2)\n",
    "\n",
    "total_num_patch = 49772+49910+50154+49980+49963+50039+49561+49952"
   ]
  },
  {
   "cell_type": "markdown",
   "metadata": {},
   "source": [
    "# 1. Load data into container"
   ]
  },
  {
   "cell_type": "code",
   "execution_count": 2,
   "metadata": {},
   "outputs": [
    {
     "data": {
      "text/plain": [
       "true"
      ]
     },
     "metadata": {},
     "output_type": "display_data"
    }
   ],
   "source": [
    "isdir(\"/media/molloi-lab/System Files/BAC_dataset/dataset_for_ML_full\")"
   ]
  },
  {
   "cell_type": "code",
   "execution_count": 3,
   "metadata": {},
   "outputs": [],
   "source": [
    "dirs = []\n",
    "for f1 in readdir(train_output_dir)\n",
    "    p1 = joinpath(train_output_dir, f1)\n",
    "    for f2 in readdir(p1)\n",
    "        p2 = joinpath(p1, f2)\n",
    "        tmp_dir = []\n",
    "        for f3 in readdir(p2)\n",
    "            p3 = joinpath(p2, f3)\n",
    "            push!(tmp_dir, p3)\n",
    "        end\n",
    "        push!(dirs, tmp_dir)\n",
    "    end\n",
    "end"
   ]
  },
  {
   "cell_type": "code",
   "execution_count": 4,
   "metadata": {},
   "outputs": [],
   "source": [
    "image_paths = Array{String, 1}(undef, total_num_patch)\n",
    "label_paths = Array{String, 1}(undef, total_num_patch)\n",
    "ct = 0\n",
    "for dir_ in dirs\n",
    "    img_dir, lbl_dir = dir_\n",
    "    for f in readdir(img_dir)\n",
    "        image_paths[ct+=1] = joinpath(img_dir, f)\n",
    "        label_paths[ct] = joinpath(lbl_dir, f)\n",
    "    end\n",
    "end"
   ]
  },
  {
   "cell_type": "code",
   "execution_count": 5,
   "metadata": {},
   "outputs": [],
   "source": [
    "# shuffle\n",
    "random_indices = randperm(total_num_patch)\n",
    "image_paths = image_paths[random_indices]\n",
    "label_paths = label_paths[random_indices];"
   ]
  },
  {
   "cell_type": "code",
   "execution_count": 6,
   "metadata": {},
   "outputs": [
    {
     "data": {
      "text/plain": [
       "99833"
      ]
     },
     "metadata": {},
     "output_type": "display_data"
    }
   ],
   "source": [
    "each_gpu_num_patches = round(Int, total_num_patch/4)"
   ]
  },
  {
   "cell_type": "code",
   "execution_count": 7,
   "metadata": {},
   "outputs": [
    {
     "name": "stderr",
     "output_type": "stream",
     "text": [
      "┌ Info: 1\n",
      "└ @ Main /home/molloi-lab/Desktop/Project BAC/BAC project/1.5_create_data_loader.ipynb:5\n"
     ]
    },
    {
     "name": "stderr",
     "output_type": "stream",
     "text": [
      "┌ Info: 2\n",
      "└ @ Main /home/molloi-lab/Desktop/Project BAC/BAC project/1.5_create_data_loader.ipynb:5\n"
     ]
    },
    {
     "name": "stderr",
     "output_type": "stream",
     "text": [
      "┌ Info: 3\n",
      "└ @ Main /home/molloi-lab/Desktop/Project BAC/BAC project/1.5_create_data_loader.ipynb:5\n"
     ]
    },
    {
     "name": "stderr",
     "output_type": "stream",
     "text": [
      "┌ Info: 4\n",
      "└ @ Main /home/molloi-lab/Desktop/Project BAC/BAC project/1.5_create_data_loader.ipynb:5\n"
     ]
    }
   ],
   "source": [
    "b_s = 6\n",
    "GC.gc(true)\n",
    "# split into 4 gpus\n",
    "for i = 1 : 4\n",
    "    @info i\n",
    "    start_idx = 1 + each_gpu_num_patches*(i-1)\n",
    "    end_idx = i==4 ? total_num_patch : each_gpu_num_patches*i\n",
    "    curr_num = end_idx - start_idx + 1\n",
    "    \n",
    "    # container\n",
    "    train_container_images = Array{Float32, 4}(undef, patch_size, patch_size, 1, curr_num)\n",
    "    train_container_masks = Array{Float32, 4}(undef, patch_size, patch_size, 1, curr_num)\n",
    "\n",
    "    Threads.@threads for i = start_idx : end_idx\n",
    "        idx = i-start_idx+1\n",
    "        p1, p2 = image_paths[i], label_paths[i]\n",
    "        @load p1 image_patch\n",
    "        train_container_images[:, :, 1, idx] = image_patch\n",
    "        @load p2 label_patch\n",
    "        train_container_masks[:, :, 1, idx] = label_patch\n",
    "    end\n",
    "\n",
    "    # data loader\n",
    "    train_loader = MLUtils.DataLoader((data=train_container_images, label=train_container_masks), batchsize=b_s)\n",
    "    @save \"train_loader_$i.jld2\" train_loader\n",
    "    train_loader = nothing\n",
    "    train_container_images = nothing\n",
    "    train_container_masks = nothing\n",
    "    GC.gc(true)\n",
    "end"
   ]
  }
 ],
 "metadata": {
  "kernelspec": {
   "display_name": "Julia 1.9.2",
   "language": "julia",
   "name": "julia-1.9"
  },
  "language_info": {
   "file_extension": ".jl",
   "mimetype": "application/julia",
   "name": "julia",
   "version": "1.9.2"
  },
  "orig_nbformat": 4
 },
 "nbformat": 4,
 "nbformat_minor": 2
}
