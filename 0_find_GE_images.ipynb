{
 "cells": [
  {
   "cell_type": "code",
   "execution_count": 1,
   "metadata": {},
   "outputs": [
    {
     "name": "stderr",
     "output_type": "stream",
     "text": [
      "\u001b[32m\u001b[1m  Activating\u001b[22m\u001b[39m project at `~/Desktop/Project BAC/BAC project/libs`\n"
     ]
    },
    {
     "name": "stderr",
     "output_type": "stream",
     "text": [
      "\u001b[32m\u001b[1m   Resolving\u001b[22m\u001b[39m package versions...\n"
     ]
    },
    {
     "name": "stderr",
     "output_type": "stream",
     "text": [
      "\u001b[32m\u001b[1m  No Changes\u001b[22m\u001b[39m to `~/Desktop/Project BAC/BAC project/libs/Project.toml`\n",
      "\u001b[32m\u001b[1m  No Changes\u001b[22m\u001b[39m to `~/Desktop/Project BAC/BAC project/libs/Manifest.toml`\n"
     ]
    }
   ],
   "source": [
    "using Pkg\n",
    "Pkg.activate(\"libs/\")\n",
    "Pkg.add(\"CSV\")\n",
    "# Pkg.add(\"DataFrames\")\n",
    "using JLD2\n",
    "using DICOM, CSV, DataFrames\n",
    "\n",
    "\n",
    "first_dir = \"/media/molloi-lab/2TB\"\n",
    "BAC_root_dir = joinpath(first_dir, \"Clean_Dataset_full\");"
   ]
  },
  {
   "cell_type": "markdown",
   "metadata": {},
   "source": [
    "# 1. Read through all images and count how many GE images\n",
    "read key (0x0008, 0x0070) and look for \"GE MEDICAL SYSTEMS\""
   ]
  },
  {
   "cell_type": "code",
   "execution_count": 16,
   "metadata": {},
   "outputs": [
    {
     "data": {
      "text/plain": [
       "1144×2 Matrix{String}:\n",
       " \"SID-101917\"  \"Senograph DS ADS_43.10.1\"\n",
       " \"SID-101963\"  \"Senograph DS ADS_43.10.1\"\n",
       " \"SID-102042\"  \"Senograph DS ADS_43.10.1\"\n",
       " \"SID-102225\"  \"Senograph DS ADS_43.10.1\"\n",
       " \"SID-102422\"  \"Senograph DS ADS_43.10.1\"\n",
       " \"SID-102423\"  \"Senograph DS ADS_43.10.1\"\n",
       " \"SID-102433\"  \"Senograph DS ADS_43.10.1\"\n",
       " \"SID-102651\"  \"Senograph DS ADS_43.10.1\"\n",
       " \"SID-103306\"  \"Senographe Essential VERSION ADS_54.11\"\n",
       " \"SID-103971\"  \"Senograph DS ADS_43.10.1\"\n",
       " ⋮             \n",
       " \"SID-137486\"  \"Senograph DS VERSION ADS_54.11\"\n",
       " \"SID-137509\"  \"Senographe Essential VERSION ADS_54.11\"\n",
       " \"SID-137600\"  \"Senographe Essential VERSION ADS_54.11\"\n",
       " \"SID-137612\"  \"Senographe Essential VERSION ADS_54.11\"\n",
       " \"SID-137764\"  \"Senograph DS VERSION ADS_54.11\"\n",
       " \"SID-137773\"  \"Senograph DS VERSION ADS_54.11\"\n",
       " \"SID-137858\"  \"Senographe Essential VERSION ADS_54.11\"\n",
       " \"SID-138012\"  \"Senograph DS VERSION ADS_54.11\"\n",
       " \"SID-138027\"  \"Senographe Essential VERSION ADS_54.11\""
      ]
     },
     "metadata": {},
     "output_type": "display_data"
    }
   ],
   "source": [
    "SIDs = readdir(BAC_root_dir)\n",
    "s = size(SIDs)[1]\n",
    "GE_SIDs = Array{String, 2}(undef, s, 2)\n",
    "indexes = falses(s)\n",
    "Threads.@threads for i = 1 : s\n",
    "    sid = SIDs[i] \n",
    "    curr_dir = joinpath(BAC_root_dir, sid)\n",
    "    for f in readdir(curr_dir)\n",
    "        f_name, f_ext = splitext(f)\n",
    "        if f_ext == \".dcm\"\n",
    "            # setup path\n",
    "            img_path = joinpath(curr_dir, f)\n",
    "            # read dcm\n",
    "            dcm_data = dcm_parse(img_path)\n",
    "            mnftr = dcm_data[(0x0008, 0x0070)]\n",
    "            mnftr_model = dcm_data[(0x0008, 0x1090)]\n",
    "            if mnftr == \"GE MEDICAL SYSTEMS\"\n",
    "                GE_SIDs[i, 1] = sid\n",
    "                GE_SIDs[i, 2] = mnftr_model\n",
    "                indexes[i] = true\n",
    "            else\n",
    "                GE_SIDs[i, 1] = \"\"\n",
    "                GE_SIDs[i, 2] = \"\"\n",
    "            end\n",
    "            break\n",
    "        end\n",
    "    end\n",
    "end\n",
    "\n",
    "GE_SIDs = GE_SIDs[indexes .== true, :]"
   ]
  },
  {
   "cell_type": "code",
   "execution_count": 20,
   "metadata": {},
   "outputs": [
    {
     "data": {
      "text/plain": [
       "3-element Vector{String}:\n",
       " \"Senograph DS ADS_43.10.1\"\n",
       " \"Senographe Essential VERSION ADS_54.11\"\n",
       " \"Senograph DS VERSION ADS_54.11\""
      ]
     },
     "metadata": {},
     "output_type": "display_data"
    }
   ],
   "source": [
    "unique(GE_SIDs[:, 2])"
   ]
  },
  {
   "cell_type": "markdown",
   "metadata": {},
   "source": [
    "# 2. Save GE SIDs as \".jld2\" and \".csv\""
   ]
  },
  {
   "cell_type": "code",
   "execution_count": 17,
   "metadata": {},
   "outputs": [],
   "source": [
    "@save \"GE_SIDs.jld2\" GE_SIDs"
   ]
  },
  {
   "cell_type": "code",
   "execution_count": 19,
   "metadata": {},
   "outputs": [
    {
     "data": {
      "text/plain": [
       "\"GE_images_info.csv\""
      ]
     },
     "metadata": {},
     "output_type": "display_data"
    }
   ],
   "source": [
    "# Convert the array to a DataFrame\n",
    "df = DataFrame(SID = GE_SIDs[:, 1], model = GE_SIDs[:, 2])\n",
    "\n",
    "# Save the DataFrame to a CSV file\n",
    "CSV.write(\"GE_images_info.csv\", df)"
   ]
  },
  {
   "cell_type": "code",
   "execution_count": null,
   "metadata": {},
   "outputs": [],
   "source": []
  }
 ],
 "metadata": {
  "kernelspec": {
   "display_name": "Julia 1.9.2",
   "language": "julia",
   "name": "julia-1.9"
  },
  "language_info": {
   "file_extension": ".jl",
   "mimetype": "application/julia",
   "name": "julia",
   "version": "1.9.2"
  },
  "orig_nbformat": 4
 },
 "nbformat": 4,
 "nbformat_minor": 2
}
