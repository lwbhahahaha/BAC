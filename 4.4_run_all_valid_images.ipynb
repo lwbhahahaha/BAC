{
 "cells": [
  {
   "cell_type": "code",
   "execution_count": 1,
   "metadata": {},
   "outputs": [
    {
     "name": "stderr",
     "output_type": "stream",
     "text": [
      "\u001b[32m\u001b[1m  Activating\u001b[22m\u001b[39m project at `~/Desktop/Project BAC/BAC project/libs`\n"
     ]
    },
    {
     "name": "stderr",
     "output_type": "stream",
     "text": [
      "Gtk-Message: 15:00:59.076: Failed to load module \"canberra-gtk-module\"\n",
      "Gtk-Message: 15:00:59.076: Failed to load module \"canberra-gtk-module\"\n"
     ]
    }
   ],
   "source": [
    "using Pkg\n",
    "Pkg.activate(raw\"libs/\")\n",
    "# Pkg.instantiate()\n",
    "# Pkg.add(\"ImageView\")\n",
    "using Lux, NNlib, Zygote, LuxCUDA, CUDA, JLD2, DICOM\n",
    "using Images, ImageView\n",
    "using MLUtils\n",
    "using Optimisers, ProgressBars\n",
    "using ImageMorphology, ChainRulesCore, Statistics\n",
    "using Plots\n",
    "\n",
    "CUDA.allowscalar(false)\n",
    "\n",
    "valid_data_dir = raw\"C:\\Users\\wenbl13\\Desktop\\BAC\\collected_dataset_for_ML\\valid\"\n",
    "saved_model_dir = raw\"C:\\Users\\wenbl13\\Desktop\\BAC\\BAC Project\"\n",
    "output_pred_dir = raw\"C:\\Users\\wenbl13\\Desktop\\BAC\\BAC Project\\Output\"\n",
    "output_images_dir = raw\"C:\\Users\\wenbl13\\Desktop\\BAC\\BAC Project\\images_Output\"\n",
    "patch_size = 256\n",
    "patch_size_half = round(Int, patch_size/2);"
   ]
  },
  {
   "cell_type": "code",
   "execution_count": 2,
   "metadata": {},
   "outputs": [],
   "source": [
    "using CSV, DataFrames"
   ]
  },
  {
   "cell_type": "markdown",
   "metadata": {},
   "source": [
    "# Helper functions"
   ]
  },
  {
   "cell_type": "code",
   "execution_count": 2,
   "metadata": {},
   "outputs": [
    {
     "data": {
      "text/plain": [
       "patch_image (generic function with 1 method)"
      ]
     },
     "metadata": {},
     "output_type": "display_data"
    }
   ],
   "source": [
    "_conv = (in, out) -> Conv((3, 3), in=>out, pad=1)\n",
    "\n",
    "conv1 = (in, out) -> Chain(_conv(in, out), BatchNorm(out, leakyrelu))\n",
    "# conv2 = (in, out) -> Chain(_conv(in, out), x -> softmax(x; dims = 3))\n",
    "conv2 = (in, out) -> Chain(Conv((1, 1), in=>out), sigmoid)\n",
    "\n",
    "_tran = (in, out) -> ConvTranspose((2, 2), in => out, stride = 2)\n",
    "tran = (in, out) -> Chain(_tran(in, out), BatchNorm(out, leakyrelu))\n",
    "\n",
    "my_cat = (x, y) -> cat(x, y; dims=Val(3))\n",
    "\n",
    "function unet2D(in_chs, lbl_chs)    \n",
    "    # Contracting layers\n",
    "    l1 = Chain(conv1(in_chs, 64), conv1(64, 64))\n",
    "    l2 = Chain(l1, MaxPool((2,2), stride=2), conv1(64, 128), conv1(128, 128))\n",
    "    l3 = Chain(l2, MaxPool((2,2), stride=2), conv1(128, 256), conv1(256, 256))\n",
    "    l4 = Chain(l3, MaxPool((2,2), stride=2), conv1(256, 512), conv1(512, 512))\n",
    "    l5 = Chain(l4, MaxPool((2,2), stride=2), conv1(512, 1024), conv1(1024, 1024), tran(1024, 512))\n",
    "    \n",
    "    # Expanding layers\n",
    "    l6 = Chain(Parallel(my_cat,l5,l4), conv1(512+512, 512), conv1(512, 512), tran(512, 256))\n",
    "    l7 = Chain(Parallel(my_cat,l6,l3), conv1(256+256, 256), conv1(256, 256), tran(256, 128))\n",
    "    l8 = Chain(Parallel(my_cat,l7,l2), conv1(128+128, 128), conv1(128, 128), tran(128, 64))\n",
    "    l9 = Chain(Parallel(my_cat,l8,l1), conv1(64+64, 64), conv1(64, 64), conv2(64, lbl_chs))\n",
    "end\n",
    "\n",
    "function zoom_pxiel_values(img)\n",
    "    a, b = minimum(img), maximum(img)\n",
    "    img_ = (img .- a) ./ (b - a)\n",
    "    return img_\n",
    "end\n",
    "\n",
    "function normalize_img(img)\n",
    "    m = maximum(img)\n",
    "    img = m .- img\n",
    "    a = mean(img)\n",
    "    s = std(img)\n",
    "    img = (img .- a) ./ s \n",
    "    # println(\"mean = $(mean(img)), std = $(std(img))\")\n",
    "    return img\n",
    "end\n",
    "\n",
    "function get_num_of_forgound_patches(mask, s)\n",
    "    x = ceil(Int, s[1]/patch_size) + floor(Int, (s[1]-patch_size_half)/patch_size)\n",
    "    y = ceil(Int, s[2]/patch_size) + floor(Int, (s[2]-patch_size_half)/patch_size)\n",
    "    ct = 0\n",
    "    for i = 1 : x-1\n",
    "        x_start = 1+(i-1)*patch_size_half\n",
    "        x_end = x_start+patch_size-1\n",
    "        for j = 1 : y-1\n",
    "            y_start = 1+(j-1)*patch_size_half\n",
    "            y_end = y_start+patch_size-1\n",
    "            # check patch\n",
    "            if mean(mask[x_start:x_end, y_start:y_end]) > 0.35\n",
    "                ct += 1\n",
    "            end\n",
    "        end\n",
    "        # right col\n",
    "        y_start, y_end = s[2]-patch_size+1, s[2]\n",
    "        # check patch\n",
    "        if mean(mask[x_start:x_end, y_start:y_end]) > 0.35\n",
    "            ct += 1\n",
    "        end\n",
    "    end\n",
    "    # last row\n",
    "    x_start, x_end = s[1]-patch_size+1, s[1]\n",
    "    for j = 1 : y-1\n",
    "        y_start = 1+(j-1)*patch_size_half\n",
    "        y_end = y_start+patch_size-1\n",
    "        # check patch\n",
    "        if mean(mask[x_start:x_end, y_start:y_end]) > 0.35\n",
    "            ct += 1\n",
    "        end\n",
    "    end\n",
    "    # right col\n",
    "    y_start, y_end = s[2]-patch_size+1, s[2]\n",
    "    # check patch\n",
    "    if mean(mask[x_start:x_end, y_start:y_end]) > 0.35\n",
    "        ct += 1\n",
    "    end\n",
    "    return ct\n",
    "end\n",
    "\n",
    "function patch_image(img, mask)\n",
    "    # img_max = maximum(img)\n",
    "    # img = img_max .- img\n",
    "    img = normalize_img(img)\n",
    "    s = size(img)\n",
    "    num_patches = get_num_of_forgound_patches(mask, s)\n",
    "    # @info \"num_patches = $num_patches\"\n",
    "    x = ceil(Int, s[1]/patch_size) + floor(Int, (s[1]-patch_size_half)/patch_size)\n",
    "    y = ceil(Int, s[2]/patch_size) + floor(Int, (s[2]-patch_size_half)/patch_size)\n",
    "\n",
    "    img_patches = Array{Float32, 4}(undef, patch_size, patch_size, 1, num_patches)\n",
    "    locations = Array{Tuple{Int64, Int64, Int64, Int64}, 1}(undef, num_patches)\n",
    "    ct = 0\n",
    "    for i = 1 : x-1\n",
    "        x_start = 1+(i-1)*patch_size_half\n",
    "        x_end = x_start+patch_size-1\n",
    "        for j = 1 : y-1\n",
    "            y_start = 1+(j-1)*patch_size_half\n",
    "            y_end = y_start+patch_size-1\n",
    "            # check patch\n",
    "            if mean(mask[x_start:x_end, y_start:y_end]) > 0.35\n",
    "                # save patch\n",
    "                ct += 1\n",
    "                img_patches[:, :, 1, ct] = (img[x_start:x_end, y_start:y_end])\n",
    "                locations[ct] = (x_start, x_end, y_start, y_end)\n",
    "            end\n",
    "        end\n",
    "        # right col\n",
    "        y_start, y_end = s[2]-patch_size+1, s[2]\n",
    "        # check patch\n",
    "        if mean(mask[x_start:x_end, y_start:y_end]) > 0.35\n",
    "            # save patch\n",
    "            ct += 1\n",
    "            img_patches[:, :, 1, ct] = (img[x_start:x_end, y_start:y_end])\n",
    "            locations[ct] = (x_start, x_end, y_start, y_end)\n",
    "        end\n",
    "    end\n",
    "    # last row\n",
    "    x_start, x_end = s[1]-patch_size+1, s[1]\n",
    "    for j = 1 : y-1\n",
    "        y_start = 1+(j-1)*patch_size_half\n",
    "        y_end = y_start+patch_size-1\n",
    "        # check patch\n",
    "        if mean(mask[x_start:x_end, y_start:y_end]) > 0.35\n",
    "            # save patch\n",
    "            ct += 1\n",
    "            img_patches[:, :, 1, ct] = (img[x_start:x_end, y_start:y_end])\n",
    "            locations[ct] = (x_start, x_end, y_start, y_end)\n",
    "        end\n",
    "    end\n",
    "    # right col\n",
    "    y_start, y_end = s[2]-patch_size+1, s[2]\n",
    "    # check patch\n",
    "    if mean(mask[x_start:x_end, y_start:y_end]) > 0.35\n",
    "        # save patch\n",
    "        ct += 1\n",
    "        img_patches[:, :, 1, ct] = (img[x_start:x_end, y_start:y_end])\n",
    "        locations[ct] = (x_start, x_end, y_start, y_end)\n",
    "    end\n",
    "    # return\n",
    "    return img_patches, locations, num_patches\n",
    "end"
   ]
  },
  {
   "cell_type": "code",
   "execution_count": 3,
   "metadata": {},
   "outputs": [
    {
     "data": {
      "text/plain": [
       "pred_img (generic function with 1 method)"
      ]
     },
     "metadata": {},
     "output_type": "display_data"
    }
   ],
   "source": [
    "function pred_img(img_in, model_info)\n",
    "    # get binary mask\n",
    "    # @info \"Getting binary mask...\"\n",
    "    img = deepcopy(img_in)\n",
    "    img_out = zeros(Float32, size(img))\n",
    "    img_mask = 1 .- round.(zoom_pxiel_values(img_in))\n",
    "    \n",
    "    # patch img_in\n",
    "    # @info \"Patching image...\"\n",
    "    img_patches, locations, num_patches = patch_image(img, img_mask)\n",
    "    pred_patches = Array{Float32, 3}(undef, patch_size, patch_size, num_patches)\n",
    "\n",
    "    # load model\n",
    "    # @info \"Loading model...\"\n",
    "    model, ps, st = model_info\n",
    "\n",
    "    # apply model on all patches\n",
    "    # @info \"Running predictions...\"\n",
    "    for i = 1 : num_patches\n",
    "        ignore_derivatives() do\n",
    "            curr_patch = (img_patches[:,:,:,i:i]) |> gpu # 256*256*1*1\n",
    "            curr_pred = model(curr_patch, ps, st)[1] |> cpu # 256*256*2*1\n",
    "            pred_patches[:,:,i] = curr_pred[:,:,1,1]\n",
    "        end\n",
    "    end\n",
    "\n",
    "    # combines patch to pred_out\n",
    "    # @info \"Gathering output\"\n",
    "    Threads.@threads for i = 1 : num_patches\n",
    "        x_start, x_end, y_start, y_end = locations[i]\n",
    "        for x = x_start : x_end\n",
    "            for y = y_start : y_end\n",
    "                img_out[x,y] = pred_patches[x-x_start+1,y-y_start+1,i]>=0.5 ? 1f0 : img_out[x,y]\n",
    "                # img_out[x,y] += pred_patches[x-x_start+1,y-y_start+1,i]\n",
    "            end\n",
    "        end\n",
    "    end\n",
    "    \n",
    "    return img_out, pred_patches\n",
    "end"
   ]
  },
  {
   "cell_type": "code",
   "execution_count": 4,
   "metadata": {},
   "outputs": [
    {
     "data": {
      "text/plain": [
       "pick_all_valid_images (generic function with 1 method)"
      ]
     },
     "metadata": {},
     "output_type": "display_data"
    }
   ],
   "source": [
    "function pick_all_valid_images(valid_dir)\n",
    "    picked_images = []\n",
    "    image_dir = joinpath(valid_dir,\"image\")\n",
    "    label_dir = joinpath(valid_dir,\"label\")\n",
    "    SIDs = readdir(image_dir)\n",
    "    for SID in SIDs\n",
    "        # set dir\n",
    "        curr_dir = joinpath(label_dir, SID)\n",
    "        if !isdir(curr_dir)\n",
    "            continue\n",
    "        end\n",
    "        # read files\n",
    "        for f in readdir(curr_dir)\n",
    "            f_name, f_ext = splitext(f)\n",
    "            if f_ext == \".png\"\n",
    "                curr_png = Float32.(Images.load(joinpath(curr_dir, f)))\n",
    "                img_path = joinpath(image_dir, SID, f_name*\".dcm\")\n",
    "                dcm_img = Float32.(dcm_parse(img_path)[(0x7fe0, 0x0010)])\n",
    "                push!(picked_images, [SID, f_name, dcm_img, curr_png])\n",
    "            end\n",
    "        end\n",
    "    end\n",
    "    return picked_images\n",
    "end"
   ]
  },
  {
   "cell_type": "markdown",
   "metadata": {},
   "source": [
    "# 1. Run all images"
   ]
  },
  {
   "cell_type": "code",
   "execution_count": 6,
   "metadata": {},
   "outputs": [],
   "source": [
    "# Read all images(runtime ~= 40s)\n",
    "picked_images = pick_all_valid_images(valid_data_dir);"
   ]
  },
  {
   "cell_type": "code",
   "execution_count": 47,
   "metadata": {},
   "outputs": [
    {
     "name": "stderr",
     "output_type": "stream",
     "text": [
      "┌ Info: 1\n",
      "└ @ Main c:\\Users\\wenbl13\\Desktop\\BAC\\BAC Project\\4.4_run_all_valid_images.ipynb:16\n"
     ]
    },
    {
     "name": "stderr",
     "output_type": "stream",
     "text": [
      "┌ Info: 2\n",
      "└ @ Main c:\\Users\\wenbl13\\Desktop\\BAC\\BAC Project\\4.4_run_all_valid_images.ipynb:16\n"
     ]
    },
    {
     "name": "stderr",
     "output_type": "stream",
     "text": [
      "┌ Info: 3\n",
      "└ @ Main c:\\Users\\wenbl13\\Desktop\\BAC\\BAC Project\\4.4_run_all_valid_images.ipynb:16\n"
     ]
    },
    {
     "name": "stderr",
     "output_type": "stream",
     "text": [
      "┌ Info: 4\n",
      "└ @ Main c:\\Users\\wenbl13\\Desktop\\BAC\\BAC Project\\4.4_run_all_valid_images.ipynb:16\n"
     ]
    },
    {
     "name": "stderr",
     "output_type": "stream",
     "text": [
      "┌ Info: 5\n",
      "└ @ Main c:\\Users\\wenbl13\\Desktop\\BAC\\BAC Project\\4.4_run_all_valid_images.ipynb:16\n"
     ]
    },
    {
     "name": "stderr",
     "output_type": "stream",
     "text": [
      "┌ Info: 6\n",
      "└ @ Main c:\\Users\\wenbl13\\Desktop\\BAC\\BAC Project\\4.4_run_all_valid_images.ipynb:16\n"
     ]
    },
    {
     "name": "stderr",
     "output_type": "stream",
     "text": [
      "┌ Info: 7\n",
      "└ @ Main c:\\Users\\wenbl13\\Desktop\\BAC\\BAC Project\\4.4_run_all_valid_images.ipynb:16\n"
     ]
    },
    {
     "name": "stderr",
     "output_type": "stream",
     "text": [
      "┌ Info: 8\n",
      "└ @ Main c:\\Users\\wenbl13\\Desktop\\BAC\\BAC Project\\4.4_run_all_valid_images.ipynb:16\n"
     ]
    },
    {
     "name": "stderr",
     "output_type": "stream",
     "text": [
      "┌ Info: 9\n",
      "└ @ Main c:\\Users\\wenbl13\\Desktop\\BAC\\BAC Project\\4.4_run_all_valid_images.ipynb:16\n"
     ]
    },
    {
     "name": "stderr",
     "output_type": "stream",
     "text": [
      "┌ Info: 10\n",
      "└ @ Main c:\\Users\\wenbl13\\Desktop\\BAC\\BAC Project\\4.4_run_all_valid_images.ipynb:16\n"
     ]
    },
    {
     "name": "stderr",
     "output_type": "stream",
     "text": [
      "┌ Info: 11\n",
      "└ @ Main c:\\Users\\wenbl13\\Desktop\\BAC\\BAC Project\\4.4_run_all_valid_images.ipynb:16\n"
     ]
    },
    {
     "name": "stderr",
     "output_type": "stream",
     "text": [
      "┌ Info: 12\n",
      "└ @ Main c:\\Users\\wenbl13\\Desktop\\BAC\\BAC Project\\4.4_run_all_valid_images.ipynb:16\n"
     ]
    },
    {
     "name": "stderr",
     "output_type": "stream",
     "text": [
      "┌ Info: 13\n",
      "└ @ Main c:\\Users\\wenbl13\\Desktop\\BAC\\BAC Project\\4.4_run_all_valid_images.ipynb:16\n"
     ]
    },
    {
     "name": "stderr",
     "output_type": "stream",
     "text": [
      "┌ Info: 14\n",
      "└ @ Main c:\\Users\\wenbl13\\Desktop\\BAC\\BAC Project\\4.4_run_all_valid_images.ipynb:16\n"
     ]
    },
    {
     "name": "stderr",
     "output_type": "stream",
     "text": [
      "┌ Info: 15\n",
      "└ @ Main c:\\Users\\wenbl13\\Desktop\\BAC\\BAC Project\\4.4_run_all_valid_images.ipynb:16\n"
     ]
    },
    {
     "name": "stderr",
     "output_type": "stream",
     "text": [
      "┌ Info: 16\n",
      "└ @ Main c:\\Users\\wenbl13\\Desktop\\BAC\\BAC Project\\4.4_run_all_valid_images.ipynb:16\n"
     ]
    },
    {
     "name": "stderr",
     "output_type": "stream",
     "text": [
      "┌ Info: 17\n",
      "└ @ Main c:\\Users\\wenbl13\\Desktop\\BAC\\BAC Project\\4.4_run_all_valid_images.ipynb:16\n"
     ]
    },
    {
     "name": "stderr",
     "output_type": "stream",
     "text": [
      "┌ Info: 18\n",
      "└ @ Main c:\\Users\\wenbl13\\Desktop\\BAC\\BAC Project\\4.4_run_all_valid_images.ipynb:16\n"
     ]
    },
    {
     "name": "stderr",
     "output_type": "stream",
     "text": [
      "┌ Info: 19\n",
      "└ @ Main c:\\Users\\wenbl13\\Desktop\\BAC\\BAC Project\\4.4_run_all_valid_images.ipynb:16\n"
     ]
    },
    {
     "name": "stderr",
     "output_type": "stream",
     "text": [
      "┌ Info: 20\n",
      "└ @ Main c:\\Users\\wenbl13\\Desktop\\BAC\\BAC Project\\4.4_run_all_valid_images.ipynb:16\n"
     ]
    },
    {
     "name": "stderr",
     "output_type": "stream",
     "text": [
      "┌ Info: 21\n",
      "└ @ Main c:\\Users\\wenbl13\\Desktop\\BAC\\BAC Project\\4.4_run_all_valid_images.ipynb:16\n"
     ]
    },
    {
     "name": "stderr",
     "output_type": "stream",
     "text": [
      "┌ Info: 22\n",
      "└ @ Main c:\\Users\\wenbl13\\Desktop\\BAC\\BAC Project\\4.4_run_all_valid_images.ipynb:16\n"
     ]
    },
    {
     "name": "stderr",
     "output_type": "stream",
     "text": [
      "┌ Info: 23\n",
      "└ @ Main c:\\Users\\wenbl13\\Desktop\\BAC\\BAC Project\\4.4_run_all_valid_images.ipynb:16\n"
     ]
    },
    {
     "name": "stderr",
     "output_type": "stream",
     "text": [
      "┌ Info: 24\n",
      "└ @ Main c:\\Users\\wenbl13\\Desktop\\BAC\\BAC Project\\4.4_run_all_valid_images.ipynb:16\n"
     ]
    },
    {
     "name": "stderr",
     "output_type": "stream",
     "text": [
      "┌ Info: 25\n",
      "└ @ Main c:\\Users\\wenbl13\\Desktop\\BAC\\BAC Project\\4.4_run_all_valid_images.ipynb:16\n"
     ]
    },
    {
     "name": "stderr",
     "output_type": "stream",
     "text": [
      "┌ Info: 26\n",
      "└ @ Main c:\\Users\\wenbl13\\Desktop\\BAC\\BAC Project\\4.4_run_all_valid_images.ipynb:16\n"
     ]
    },
    {
     "name": "stderr",
     "output_type": "stream",
     "text": [
      "┌ Info: 27\n",
      "└ @ Main c:\\Users\\wenbl13\\Desktop\\BAC\\BAC Project\\4.4_run_all_valid_images.ipynb:16\n"
     ]
    },
    {
     "name": "stderr",
     "output_type": "stream",
     "text": [
      "┌ Info: 28\n",
      "└ @ Main c:\\Users\\wenbl13\\Desktop\\BAC\\BAC Project\\4.4_run_all_valid_images.ipynb:16\n"
     ]
    },
    {
     "name": "stderr",
     "output_type": "stream",
     "text": [
      "┌ Info: 29\n",
      "└ @ Main c:\\Users\\wenbl13\\Desktop\\BAC\\BAC Project\\4.4_run_all_valid_images.ipynb:16\n"
     ]
    },
    {
     "name": "stderr",
     "output_type": "stream",
     "text": [
      "┌ Info: 30\n",
      "└ @ Main c:\\Users\\wenbl13\\Desktop\\BAC\\BAC Project\\4.4_run_all_valid_images.ipynb:16\n"
     ]
    },
    {
     "name": "stderr",
     "output_type": "stream",
     "text": [
      "┌ Info: 31\n",
      "└ @ Main c:\\Users\\wenbl13\\Desktop\\BAC\\BAC Project\\4.4_run_all_valid_images.ipynb:16\n"
     ]
    },
    {
     "name": "stderr",
     "output_type": "stream",
     "text": [
      "┌ Info: 32\n",
      "└ @ Main c:\\Users\\wenbl13\\Desktop\\BAC\\BAC Project\\4.4_run_all_valid_images.ipynb:16\n"
     ]
    },
    {
     "name": "stderr",
     "output_type": "stream",
     "text": [
      "┌ Info: 33\n",
      "└ @ Main c:\\Users\\wenbl13\\Desktop\\BAC\\BAC Project\\4.4_run_all_valid_images.ipynb:16\n"
     ]
    },
    {
     "name": "stderr",
     "output_type": "stream",
     "text": [
      "┌ Info: 34\n",
      "└ @ Main c:\\Users\\wenbl13\\Desktop\\BAC\\BAC Project\\4.4_run_all_valid_images.ipynb:16\n"
     ]
    },
    {
     "name": "stderr",
     "output_type": "stream",
     "text": [
      "┌ Info: 35\n",
      "└ @ Main c:\\Users\\wenbl13\\Desktop\\BAC\\BAC Project\\4.4_run_all_valid_images.ipynb:16\n"
     ]
    },
    {
     "name": "stderr",
     "output_type": "stream",
     "text": [
      "┌ Info: 36\n",
      "└ @ Main c:\\Users\\wenbl13\\Desktop\\BAC\\BAC Project\\4.4_run_all_valid_images.ipynb:16\n"
     ]
    },
    {
     "name": "stderr",
     "output_type": "stream",
     "text": [
      "┌ Info: 37\n",
      "└ @ Main c:\\Users\\wenbl13\\Desktop\\BAC\\BAC Project\\4.4_run_all_valid_images.ipynb:16\n"
     ]
    },
    {
     "name": "stderr",
     "output_type": "stream",
     "text": [
      "┌ Info: 38\n",
      "└ @ Main c:\\Users\\wenbl13\\Desktop\\BAC\\BAC Project\\4.4_run_all_valid_images.ipynb:16\n"
     ]
    },
    {
     "name": "stderr",
     "output_type": "stream",
     "text": [
      "┌ Info: 39\n",
      "└ @ Main c:\\Users\\wenbl13\\Desktop\\BAC\\BAC Project\\4.4_run_all_valid_images.ipynb:16\n"
     ]
    },
    {
     "name": "stderr",
     "output_type": "stream",
     "text": [
      "┌ Info: 40\n",
      "└ @ Main c:\\Users\\wenbl13\\Desktop\\BAC\\BAC Project\\4.4_run_all_valid_images.ipynb:16\n"
     ]
    },
    {
     "name": "stderr",
     "output_type": "stream",
     "text": [
      "┌ Info: 41\n",
      "└ @ Main c:\\Users\\wenbl13\\Desktop\\BAC\\BAC Project\\4.4_run_all_valid_images.ipynb:16\n"
     ]
    },
    {
     "name": "stderr",
     "output_type": "stream",
     "text": [
      "┌ Info: 42\n",
      "└ @ Main c:\\Users\\wenbl13\\Desktop\\BAC\\BAC Project\\4.4_run_all_valid_images.ipynb:16\n"
     ]
    },
    {
     "name": "stderr",
     "output_type": "stream",
     "text": [
      "┌ Info: 43\n",
      "└ @ Main c:\\Users\\wenbl13\\Desktop\\BAC\\BAC Project\\4.4_run_all_valid_images.ipynb:16\n"
     ]
    },
    {
     "name": "stderr",
     "output_type": "stream",
     "text": [
      "┌ Info: 44\n",
      "└ @ Main c:\\Users\\wenbl13\\Desktop\\BAC\\BAC Project\\4.4_run_all_valid_images.ipynb:16\n"
     ]
    },
    {
     "name": "stderr",
     "output_type": "stream",
     "text": [
      "┌ Info: 45\n",
      "└ @ Main c:\\Users\\wenbl13\\Desktop\\BAC\\BAC Project\\4.4_run_all_valid_images.ipynb:16\n"
     ]
    },
    {
     "name": "stderr",
     "output_type": "stream",
     "text": [
      "┌ Info: 46\n",
      "└ @ Main c:\\Users\\wenbl13\\Desktop\\BAC\\BAC Project\\4.4_run_all_valid_images.ipynb:16\n"
     ]
    },
    {
     "name": "stderr",
     "output_type": "stream",
     "text": [
      "┌ Info: 47\n",
      "└ @ Main c:\\Users\\wenbl13\\Desktop\\BAC\\BAC Project\\4.4_run_all_valid_images.ipynb:16\n"
     ]
    },
    {
     "name": "stderr",
     "output_type": "stream",
     "text": [
      "┌ Info: 48\n",
      "└ @ Main c:\\Users\\wenbl13\\Desktop\\BAC\\BAC Project\\4.4_run_all_valid_images.ipynb:16\n"
     ]
    },
    {
     "name": "stderr",
     "output_type": "stream",
     "text": [
      "┌ Info: 49\n",
      "└ @ Main c:\\Users\\wenbl13\\Desktop\\BAC\\BAC Project\\4.4_run_all_valid_images.ipynb:16\n"
     ]
    },
    {
     "name": "stderr",
     "output_type": "stream",
     "text": [
      "┌ Info: 50\n",
      "└ @ Main c:\\Users\\wenbl13\\Desktop\\BAC\\BAC Project\\4.4_run_all_valid_images.ipynb:16\n"
     ]
    },
    {
     "name": "stderr",
     "output_type": "stream",
     "text": [
      "┌ Info: 51\n",
      "└ @ Main c:\\Users\\wenbl13\\Desktop\\BAC\\BAC Project\\4.4_run_all_valid_images.ipynb:16\n"
     ]
    },
    {
     "name": "stderr",
     "output_type": "stream",
     "text": [
      "┌ Info: 52\n",
      "└ @ Main c:\\Users\\wenbl13\\Desktop\\BAC\\BAC Project\\4.4_run_all_valid_images.ipynb:16\n"
     ]
    },
    {
     "name": "stderr",
     "output_type": "stream",
     "text": [
      "┌ Info: 53\n",
      "└ @ Main c:\\Users\\wenbl13\\Desktop\\BAC\\BAC Project\\4.4_run_all_valid_images.ipynb:16\n"
     ]
    },
    {
     "name": "stderr",
     "output_type": "stream",
     "text": [
      "┌ Info: 54\n",
      "└ @ Main c:\\Users\\wenbl13\\Desktop\\BAC\\BAC Project\\4.4_run_all_valid_images.ipynb:16\n"
     ]
    },
    {
     "name": "stderr",
     "output_type": "stream",
     "text": [
      "┌ Info: 55\n",
      "└ @ Main c:\\Users\\wenbl13\\Desktop\\BAC\\BAC Project\\4.4_run_all_valid_images.ipynb:16\n"
     ]
    },
    {
     "name": "stderr",
     "output_type": "stream",
     "text": [
      "┌ Info: 56\n",
      "└ @ Main c:\\Users\\wenbl13\\Desktop\\BAC\\BAC Project\\4.4_run_all_valid_images.ipynb:16\n"
     ]
    },
    {
     "name": "stderr",
     "output_type": "stream",
     "text": [
      "┌ Info: 57\n",
      "└ @ Main c:\\Users\\wenbl13\\Desktop\\BAC\\BAC Project\\4.4_run_all_valid_images.ipynb:16\n"
     ]
    },
    {
     "name": "stderr",
     "output_type": "stream",
     "text": [
      "┌ Info: 58\n",
      "└ @ Main c:\\Users\\wenbl13\\Desktop\\BAC\\BAC Project\\4.4_run_all_valid_images.ipynb:16\n"
     ]
    },
    {
     "name": "stderr",
     "output_type": "stream",
     "text": [
      "┌ Info: 59\n",
      "└ @ Main c:\\Users\\wenbl13\\Desktop\\BAC\\BAC Project\\4.4_run_all_valid_images.ipynb:16\n"
     ]
    },
    {
     "name": "stderr",
     "output_type": "stream",
     "text": [
      "┌ Info: 60\n",
      "└ @ Main c:\\Users\\wenbl13\\Desktop\\BAC\\BAC Project\\4.4_run_all_valid_images.ipynb:16\n"
     ]
    },
    {
     "name": "stderr",
     "output_type": "stream",
     "text": [
      "┌ Info: 61\n",
      "└ @ Main c:\\Users\\wenbl13\\Desktop\\BAC\\BAC Project\\4.4_run_all_valid_images.ipynb:16\n"
     ]
    },
    {
     "name": "stderr",
     "output_type": "stream",
     "text": [
      "┌ Info: 62\n",
      "└ @ Main c:\\Users\\wenbl13\\Desktop\\BAC\\BAC Project\\4.4_run_all_valid_images.ipynb:16\n"
     ]
    },
    {
     "name": "stderr",
     "output_type": "stream",
     "text": [
      "┌ Info: 63\n",
      "└ @ Main c:\\Users\\wenbl13\\Desktop\\BAC\\BAC Project\\4.4_run_all_valid_images.ipynb:16\n"
     ]
    },
    {
     "name": "stderr",
     "output_type": "stream",
     "text": [
      "┌ Info: 64\n",
      "└ @ Main c:\\Users\\wenbl13\\Desktop\\BAC\\BAC Project\\4.4_run_all_valid_images.ipynb:16\n"
     ]
    },
    {
     "name": "stderr",
     "output_type": "stream",
     "text": [
      "┌ Info: 65\n",
      "└ @ Main c:\\Users\\wenbl13\\Desktop\\BAC\\BAC Project\\4.4_run_all_valid_images.ipynb:16\n"
     ]
    },
    {
     "name": "stderr",
     "output_type": "stream",
     "text": [
      "┌ Info: 66\n",
      "└ @ Main c:\\Users\\wenbl13\\Desktop\\BAC\\BAC Project\\4.4_run_all_valid_images.ipynb:16\n"
     ]
    },
    {
     "name": "stderr",
     "output_type": "stream",
     "text": [
      "┌ Info: 67\n",
      "└ @ Main c:\\Users\\wenbl13\\Desktop\\BAC\\BAC Project\\4.4_run_all_valid_images.ipynb:16\n"
     ]
    },
    {
     "name": "stderr",
     "output_type": "stream",
     "text": [
      "┌ Info: 68\n",
      "└ @ Main c:\\Users\\wenbl13\\Desktop\\BAC\\BAC Project\\4.4_run_all_valid_images.ipynb:16\n"
     ]
    },
    {
     "name": "stderr",
     "output_type": "stream",
     "text": [
      "┌ Info: 69\n",
      "└ @ Main c:\\Users\\wenbl13\\Desktop\\BAC\\BAC Project\\4.4_run_all_valid_images.ipynb:16\n"
     ]
    },
    {
     "name": "stderr",
     "output_type": "stream",
     "text": [
      "┌ Info: 70\n",
      "└ @ Main c:\\Users\\wenbl13\\Desktop\\BAC\\BAC Project\\4.4_run_all_valid_images.ipynb:16\n"
     ]
    },
    {
     "name": "stderr",
     "output_type": "stream",
     "text": [
      "┌ Info: 71\n",
      "└ @ Main c:\\Users\\wenbl13\\Desktop\\BAC\\BAC Project\\4.4_run_all_valid_images.ipynb:16\n"
     ]
    },
    {
     "name": "stderr",
     "output_type": "stream",
     "text": [
      "┌ Info: 72\n",
      "└ @ Main c:\\Users\\wenbl13\\Desktop\\BAC\\BAC Project\\4.4_run_all_valid_images.ipynb:16\n"
     ]
    },
    {
     "name": "stderr",
     "output_type": "stream",
     "text": [
      "┌ Info: 73\n",
      "└ @ Main c:\\Users\\wenbl13\\Desktop\\BAC\\BAC Project\\4.4_run_all_valid_images.ipynb:16\n"
     ]
    },
    {
     "name": "stderr",
     "output_type": "stream",
     "text": [
      "┌ Info: 74\n",
      "└ @ Main c:\\Users\\wenbl13\\Desktop\\BAC\\BAC Project\\4.4_run_all_valid_images.ipynb:16\n"
     ]
    },
    {
     "name": "stderr",
     "output_type": "stream",
     "text": [
      "┌ Info: 75\n",
      "└ @ Main c:\\Users\\wenbl13\\Desktop\\BAC\\BAC Project\\4.4_run_all_valid_images.ipynb:16\n"
     ]
    },
    {
     "name": "stderr",
     "output_type": "stream",
     "text": [
      "┌ Info: 76\n",
      "└ @ Main c:\\Users\\wenbl13\\Desktop\\BAC\\BAC Project\\4.4_run_all_valid_images.ipynb:16\n"
     ]
    },
    {
     "name": "stderr",
     "output_type": "stream",
     "text": [
      "┌ Info: 77\n",
      "└ @ Main c:\\Users\\wenbl13\\Desktop\\BAC\\BAC Project\\4.4_run_all_valid_images.ipynb:16\n"
     ]
    },
    {
     "name": "stderr",
     "output_type": "stream",
     "text": [
      "┌ Info: 78\n",
      "└ @ Main c:\\Users\\wenbl13\\Desktop\\BAC\\BAC Project\\4.4_run_all_valid_images.ipynb:16\n"
     ]
    },
    {
     "name": "stderr",
     "output_type": "stream",
     "text": [
      "┌ Info: 79\n",
      "└ @ Main c:\\Users\\wenbl13\\Desktop\\BAC\\BAC Project\\4.4_run_all_valid_images.ipynb:16\n"
     ]
    },
    {
     "name": "stderr",
     "output_type": "stream",
     "text": [
      "┌ Info: 80\n",
      "└ @ Main c:\\Users\\wenbl13\\Desktop\\BAC\\BAC Project\\4.4_run_all_valid_images.ipynb:16\n"
     ]
    },
    {
     "name": "stderr",
     "output_type": "stream",
     "text": [
      "┌ Info: 81\n",
      "└ @ Main c:\\Users\\wenbl13\\Desktop\\BAC\\BAC Project\\4.4_run_all_valid_images.ipynb:16\n"
     ]
    },
    {
     "name": "stderr",
     "output_type": "stream",
     "text": [
      "┌ Info: 82\n",
      "└ @ Main c:\\Users\\wenbl13\\Desktop\\BAC\\BAC Project\\4.4_run_all_valid_images.ipynb:16\n"
     ]
    },
    {
     "name": "stderr",
     "output_type": "stream",
     "text": [
      "┌ Info: 83\n",
      "└ @ Main c:\\Users\\wenbl13\\Desktop\\BAC\\BAC Project\\4.4_run_all_valid_images.ipynb:16\n"
     ]
    },
    {
     "name": "stderr",
     "output_type": "stream",
     "text": [
      "┌ Info: 84\n",
      "└ @ Main c:\\Users\\wenbl13\\Desktop\\BAC\\BAC Project\\4.4_run_all_valid_images.ipynb:16\n"
     ]
    },
    {
     "name": "stderr",
     "output_type": "stream",
     "text": [
      "┌ Info: 85\n",
      "└ @ Main c:\\Users\\wenbl13\\Desktop\\BAC\\BAC Project\\4.4_run_all_valid_images.ipynb:16\n"
     ]
    },
    {
     "name": "stderr",
     "output_type": "stream",
     "text": [
      "┌ Info: 86\n",
      "└ @ Main c:\\Users\\wenbl13\\Desktop\\BAC\\BAC Project\\4.4_run_all_valid_images.ipynb:16\n"
     ]
    },
    {
     "name": "stderr",
     "output_type": "stream",
     "text": [
      "┌ Info: 87\n",
      "└ @ Main c:\\Users\\wenbl13\\Desktop\\BAC\\BAC Project\\4.4_run_all_valid_images.ipynb:16\n"
     ]
    },
    {
     "name": "stderr",
     "output_type": "stream",
     "text": [
      "┌ Info: 88\n",
      "└ @ Main c:\\Users\\wenbl13\\Desktop\\BAC\\BAC Project\\4.4_run_all_valid_images.ipynb:16\n"
     ]
    },
    {
     "name": "stderr",
     "output_type": "stream",
     "text": [
      "┌ Info: 89\n",
      "└ @ Main c:\\Users\\wenbl13\\Desktop\\BAC\\BAC Project\\4.4_run_all_valid_images.ipynb:16\n"
     ]
    },
    {
     "name": "stderr",
     "output_type": "stream",
     "text": [
      "┌ Info: 90\n",
      "└ @ Main c:\\Users\\wenbl13\\Desktop\\BAC\\BAC Project\\4.4_run_all_valid_images.ipynb:16\n"
     ]
    },
    {
     "name": "stderr",
     "output_type": "stream",
     "text": [
      "┌ Info: 91\n",
      "└ @ Main c:\\Users\\wenbl13\\Desktop\\BAC\\BAC Project\\4.4_run_all_valid_images.ipynb:16\n"
     ]
    },
    {
     "name": "stderr",
     "output_type": "stream",
     "text": [
      "┌ Info: 92\n",
      "└ @ Main c:\\Users\\wenbl13\\Desktop\\BAC\\BAC Project\\4.4_run_all_valid_images.ipynb:16\n"
     ]
    },
    {
     "name": "stderr",
     "output_type": "stream",
     "text": [
      "┌ Info: 93\n",
      "└ @ Main c:\\Users\\wenbl13\\Desktop\\BAC\\BAC Project\\4.4_run_all_valid_images.ipynb:16\n"
     ]
    },
    {
     "name": "stderr",
     "output_type": "stream",
     "text": [
      "┌ Info: 94\n",
      "└ @ Main c:\\Users\\wenbl13\\Desktop\\BAC\\BAC Project\\4.4_run_all_valid_images.ipynb:16\n"
     ]
    },
    {
     "name": "stderr",
     "output_type": "stream",
     "text": [
      "┌ Info: 95\n",
      "└ @ Main c:\\Users\\wenbl13\\Desktop\\BAC\\BAC Project\\4.4_run_all_valid_images.ipynb:16\n"
     ]
    },
    {
     "name": "stderr",
     "output_type": "stream",
     "text": [
      "┌ Info: 96\n",
      "└ @ Main c:\\Users\\wenbl13\\Desktop\\BAC\\BAC Project\\4.4_run_all_valid_images.ipynb:16\n"
     ]
    },
    {
     "name": "stderr",
     "output_type": "stream",
     "text": [
      "┌ Info: 97\n",
      "└ @ Main c:\\Users\\wenbl13\\Desktop\\BAC\\BAC Project\\4.4_run_all_valid_images.ipynb:16\n"
     ]
    },
    {
     "name": "stderr",
     "output_type": "stream",
     "text": [
      "┌ Info: 98\n",
      "└ @ Main c:\\Users\\wenbl13\\Desktop\\BAC\\BAC Project\\4.4_run_all_valid_images.ipynb:16\n"
     ]
    },
    {
     "name": "stderr",
     "output_type": "stream",
     "text": [
      "┌ Info: 99\n",
      "└ @ Main c:\\Users\\wenbl13\\Desktop\\BAC\\BAC Project\\4.4_run_all_valid_images.ipynb:16\n"
     ]
    },
    {
     "name": "stderr",
     "output_type": "stream",
     "text": [
      "┌ Info: 100\n",
      "└ @ Main c:\\Users\\wenbl13\\Desktop\\BAC\\BAC Project\\4.4_run_all_valid_images.ipynb:16\n"
     ]
    },
    {
     "name": "stderr",
     "output_type": "stream",
     "text": [
      "┌ Info: 101\n",
      "└ @ Main c:\\Users\\wenbl13\\Desktop\\BAC\\BAC Project\\4.4_run_all_valid_images.ipynb:16\n"
     ]
    },
    {
     "name": "stderr",
     "output_type": "stream",
     "text": [
      "┌ Info: 102\n",
      "└ @ Main c:\\Users\\wenbl13\\Desktop\\BAC\\BAC Project\\4.4_run_all_valid_images.ipynb:16\n"
     ]
    },
    {
     "name": "stderr",
     "output_type": "stream",
     "text": [
      "┌ Info: 103\n",
      "└ @ Main c:\\Users\\wenbl13\\Desktop\\BAC\\BAC Project\\4.4_run_all_valid_images.ipynb:16\n"
     ]
    },
    {
     "name": "stderr",
     "output_type": "stream",
     "text": [
      "┌ Info: 104\n",
      "└ @ Main c:\\Users\\wenbl13\\Desktop\\BAC\\BAC Project\\4.4_run_all_valid_images.ipynb:16\n"
     ]
    },
    {
     "name": "stderr",
     "output_type": "stream",
     "text": [
      "┌ Info: 105\n",
      "└ @ Main c:\\Users\\wenbl13\\Desktop\\BAC\\BAC Project\\4.4_run_all_valid_images.ipynb:16\n"
     ]
    },
    {
     "name": "stderr",
     "output_type": "stream",
     "text": [
      "┌ Info: 106\n",
      "└ @ Main c:\\Users\\wenbl13\\Desktop\\BAC\\BAC Project\\4.4_run_all_valid_images.ipynb:16\n"
     ]
    },
    {
     "name": "stderr",
     "output_type": "stream",
     "text": [
      "┌ Info: 107\n",
      "└ @ Main c:\\Users\\wenbl13\\Desktop\\BAC\\BAC Project\\4.4_run_all_valid_images.ipynb:16\n"
     ]
    },
    {
     "name": "stderr",
     "output_type": "stream",
     "text": [
      "┌ Info: 108\n",
      "└ @ Main c:\\Users\\wenbl13\\Desktop\\BAC\\BAC Project\\4.4_run_all_valid_images.ipynb:16\n"
     ]
    },
    {
     "name": "stderr",
     "output_type": "stream",
     "text": [
      "┌ Info: 109\n",
      "└ @ Main c:\\Users\\wenbl13\\Desktop\\BAC\\BAC Project\\4.4_run_all_valid_images.ipynb:16\n"
     ]
    },
    {
     "name": "stderr",
     "output_type": "stream",
     "text": [
      "┌ Info: 110\n",
      "└ @ Main c:\\Users\\wenbl13\\Desktop\\BAC\\BAC Project\\4.4_run_all_valid_images.ipynb:16\n"
     ]
    },
    {
     "name": "stderr",
     "output_type": "stream",
     "text": [
      "┌ Info: 111\n",
      "└ @ Main c:\\Users\\wenbl13\\Desktop\\BAC\\BAC Project\\4.4_run_all_valid_images.ipynb:16\n"
     ]
    },
    {
     "name": "stderr",
     "output_type": "stream",
     "text": [
      "┌ Info: 112\n",
      "└ @ Main c:\\Users\\wenbl13\\Desktop\\BAC\\BAC Project\\4.4_run_all_valid_images.ipynb:16\n"
     ]
    },
    {
     "name": "stderr",
     "output_type": "stream",
     "text": [
      "┌ Info: 113\n",
      "└ @ Main c:\\Users\\wenbl13\\Desktop\\BAC\\BAC Project\\4.4_run_all_valid_images.ipynb:16\n"
     ]
    },
    {
     "name": "stderr",
     "output_type": "stream",
     "text": [
      "┌ Info: 114\n",
      "└ @ Main c:\\Users\\wenbl13\\Desktop\\BAC\\BAC Project\\4.4_run_all_valid_images.ipynb:16\n"
     ]
    },
    {
     "name": "stderr",
     "output_type": "stream",
     "text": [
      "┌ Info: 115\n",
      "└ @ Main c:\\Users\\wenbl13\\Desktop\\BAC\\BAC Project\\4.4_run_all_valid_images.ipynb:16\n"
     ]
    },
    {
     "name": "stderr",
     "output_type": "stream",
     "text": [
      "┌ Info: 116\n",
      "└ @ Main c:\\Users\\wenbl13\\Desktop\\BAC\\BAC Project\\4.4_run_all_valid_images.ipynb:16\n"
     ]
    },
    {
     "name": "stderr",
     "output_type": "stream",
     "text": [
      "┌ Info: 117\n",
      "└ @ Main c:\\Users\\wenbl13\\Desktop\\BAC\\BAC Project\\4.4_run_all_valid_images.ipynb:16\n"
     ]
    },
    {
     "name": "stderr",
     "output_type": "stream",
     "text": [
      "┌ Info: 118\n",
      "└ @ Main c:\\Users\\wenbl13\\Desktop\\BAC\\BAC Project\\4.4_run_all_valid_images.ipynb:16\n"
     ]
    },
    {
     "name": "stderr",
     "output_type": "stream",
     "text": [
      "┌ Info: 119\n",
      "└ @ Main c:\\Users\\wenbl13\\Desktop\\BAC\\BAC Project\\4.4_run_all_valid_images.ipynb:16\n"
     ]
    },
    {
     "name": "stderr",
     "output_type": "stream",
     "text": [
      "┌ Info: 120\n",
      "└ @ Main c:\\Users\\wenbl13\\Desktop\\BAC\\BAC Project\\4.4_run_all_valid_images.ipynb:16\n"
     ]
    },
    {
     "name": "stderr",
     "output_type": "stream",
     "text": [
      "┌ Info: 121\n",
      "└ @ Main c:\\Users\\wenbl13\\Desktop\\BAC\\BAC Project\\4.4_run_all_valid_images.ipynb:16\n"
     ]
    },
    {
     "name": "stderr",
     "output_type": "stream",
     "text": [
      "┌ Info: 122\n",
      "└ @ Main c:\\Users\\wenbl13\\Desktop\\BAC\\BAC Project\\4.4_run_all_valid_images.ipynb:16\n"
     ]
    },
    {
     "name": "stderr",
     "output_type": "stream",
     "text": [
      "┌ Info: 123\n",
      "└ @ Main c:\\Users\\wenbl13\\Desktop\\BAC\\BAC Project\\4.4_run_all_valid_images.ipynb:16\n"
     ]
    },
    {
     "name": "stderr",
     "output_type": "stream",
     "text": [
      "┌ Info: 124\n",
      "└ @ Main c:\\Users\\wenbl13\\Desktop\\BAC\\BAC Project\\4.4_run_all_valid_images.ipynb:16\n"
     ]
    },
    {
     "name": "stderr",
     "output_type": "stream",
     "text": [
      "┌ Info: 125\n",
      "└ @ Main c:\\Users\\wenbl13\\Desktop\\BAC\\BAC Project\\4.4_run_all_valid_images.ipynb:16\n"
     ]
    },
    {
     "name": "stderr",
     "output_type": "stream",
     "text": [
      "┌ Info: 126\n",
      "└ @ Main c:\\Users\\wenbl13\\Desktop\\BAC\\BAC Project\\4.4_run_all_valid_images.ipynb:16\n"
     ]
    },
    {
     "name": "stderr",
     "output_type": "stream",
     "text": [
      "┌ Info: 127\n",
      "└ @ Main c:\\Users\\wenbl13\\Desktop\\BAC\\BAC Project\\4.4_run_all_valid_images.ipynb:16\n"
     ]
    },
    {
     "name": "stderr",
     "output_type": "stream",
     "text": [
      "┌ Info: 128\n",
      "└ @ Main c:\\Users\\wenbl13\\Desktop\\BAC\\BAC Project\\4.4_run_all_valid_images.ipynb:16\n"
     ]
    },
    {
     "name": "stderr",
     "output_type": "stream",
     "text": [
      "┌ Info: 129\n",
      "└ @ Main c:\\Users\\wenbl13\\Desktop\\BAC\\BAC Project\\4.4_run_all_valid_images.ipynb:16\n"
     ]
    },
    {
     "name": "stderr",
     "output_type": "stream",
     "text": [
      "┌ Info: 130\n",
      "└ @ Main c:\\Users\\wenbl13\\Desktop\\BAC\\BAC Project\\4.4_run_all_valid_images.ipynb:16\n"
     ]
    },
    {
     "name": "stderr",
     "output_type": "stream",
     "text": [
      "┌ Info: 131\n",
      "└ @ Main c:\\Users\\wenbl13\\Desktop\\BAC\\BAC Project\\4.4_run_all_valid_images.ipynb:16\n"
     ]
    },
    {
     "name": "stderr",
     "output_type": "stream",
     "text": [
      "┌ Info: 132\n",
      "└ @ Main c:\\Users\\wenbl13\\Desktop\\BAC\\BAC Project\\4.4_run_all_valid_images.ipynb:16\n"
     ]
    },
    {
     "name": "stderr",
     "output_type": "stream",
     "text": [
      "┌ Info: 133\n",
      "└ @ Main c:\\Users\\wenbl13\\Desktop\\BAC\\BAC Project\\4.4_run_all_valid_images.ipynb:16\n"
     ]
    },
    {
     "name": "stderr",
     "output_type": "stream",
     "text": [
      "┌ Info: 134\n",
      "└ @ Main c:\\Users\\wenbl13\\Desktop\\BAC\\BAC Project\\4.4_run_all_valid_images.ipynb:16\n"
     ]
    },
    {
     "name": "stderr",
     "output_type": "stream",
     "text": [
      "┌ Info: 135\n",
      "└ @ Main c:\\Users\\wenbl13\\Desktop\\BAC\\BAC Project\\4.4_run_all_valid_images.ipynb:16\n"
     ]
    },
    {
     "name": "stderr",
     "output_type": "stream",
     "text": [
      "┌ Info: 136\n",
      "└ @ Main c:\\Users\\wenbl13\\Desktop\\BAC\\BAC Project\\4.4_run_all_valid_images.ipynb:16\n"
     ]
    },
    {
     "name": "stderr",
     "output_type": "stream",
     "text": [
      "┌ Info: 137\n",
      "└ @ Main c:\\Users\\wenbl13\\Desktop\\BAC\\BAC Project\\4.4_run_all_valid_images.ipynb:16\n"
     ]
    },
    {
     "name": "stderr",
     "output_type": "stream",
     "text": [
      "┌ Info: 138\n",
      "└ @ Main c:\\Users\\wenbl13\\Desktop\\BAC\\BAC Project\\4.4_run_all_valid_images.ipynb:16\n"
     ]
    },
    {
     "name": "stderr",
     "output_type": "stream",
     "text": [
      "┌ Info: 139\n",
      "└ @ Main c:\\Users\\wenbl13\\Desktop\\BAC\\BAC Project\\4.4_run_all_valid_images.ipynb:16\n"
     ]
    },
    {
     "name": "stderr",
     "output_type": "stream",
     "text": [
      "┌ Info: 140\n",
      "└ @ Main c:\\Users\\wenbl13\\Desktop\\BAC\\BAC Project\\4.4_run_all_valid_images.ipynb:16\n"
     ]
    },
    {
     "name": "stderr",
     "output_type": "stream",
     "text": [
      "┌ Info: 141\n",
      "└ @ Main c:\\Users\\wenbl13\\Desktop\\BAC\\BAC Project\\4.4_run_all_valid_images.ipynb:16\n"
     ]
    },
    {
     "name": "stderr",
     "output_type": "stream",
     "text": [
      "┌ Info: 142\n",
      "└ @ Main c:\\Users\\wenbl13\\Desktop\\BAC\\BAC Project\\4.4_run_all_valid_images.ipynb:16\n"
     ]
    },
    {
     "name": "stderr",
     "output_type": "stream",
     "text": [
      "┌ Info: 143\n",
      "└ @ Main c:\\Users\\wenbl13\\Desktop\\BAC\\BAC Project\\4.4_run_all_valid_images.ipynb:16\n"
     ]
    },
    {
     "name": "stderr",
     "output_type": "stream",
     "text": [
      "┌ Info: 144\n",
      "└ @ Main c:\\Users\\wenbl13\\Desktop\\BAC\\BAC Project\\4.4_run_all_valid_images.ipynb:16\n"
     ]
    },
    {
     "name": "stderr",
     "output_type": "stream",
     "text": [
      "┌ Info: 145\n",
      "└ @ Main c:\\Users\\wenbl13\\Desktop\\BAC\\BAC Project\\4.4_run_all_valid_images.ipynb:16\n"
     ]
    },
    {
     "name": "stderr",
     "output_type": "stream",
     "text": [
      "┌ Info: 146\n",
      "└ @ Main c:\\Users\\wenbl13\\Desktop\\BAC\\BAC Project\\4.4_run_all_valid_images.ipynb:16\n"
     ]
    },
    {
     "name": "stderr",
     "output_type": "stream",
     "text": [
      "┌ Info: 147\n",
      "└ @ Main c:\\Users\\wenbl13\\Desktop\\BAC\\BAC Project\\4.4_run_all_valid_images.ipynb:16\n"
     ]
    },
    {
     "name": "stderr",
     "output_type": "stream",
     "text": [
      "┌ Info: 148\n",
      "└ @ Main c:\\Users\\wenbl13\\Desktop\\BAC\\BAC Project\\4.4_run_all_valid_images.ipynb:16\n"
     ]
    },
    {
     "name": "stderr",
     "output_type": "stream",
     "text": [
      "┌ Info: 149\n",
      "└ @ Main c:\\Users\\wenbl13\\Desktop\\BAC\\BAC Project\\4.4_run_all_valid_images.ipynb:16\n"
     ]
    },
    {
     "name": "stderr",
     "output_type": "stream",
     "text": [
      "┌ Info: 150\n",
      "└ @ Main c:\\Users\\wenbl13\\Desktop\\BAC\\BAC Project\\4.4_run_all_valid_images.ipynb:16\n"
     ]
    },
    {
     "name": "stderr",
     "output_type": "stream",
     "text": [
      "┌ Info: 151\n",
      "└ @ Main c:\\Users\\wenbl13\\Desktop\\BAC\\BAC Project\\4.4_run_all_valid_images.ipynb:16\n"
     ]
    },
    {
     "name": "stderr",
     "output_type": "stream",
     "text": [
      "┌ Info: 152\n",
      "└ @ Main c:\\Users\\wenbl13\\Desktop\\BAC\\BAC Project\\4.4_run_all_valid_images.ipynb:16\n"
     ]
    },
    {
     "name": "stderr",
     "output_type": "stream",
     "text": [
      "┌ Info: 153\n",
      "└ @ Main c:\\Users\\wenbl13\\Desktop\\BAC\\BAC Project\\4.4_run_all_valid_images.ipynb:16\n"
     ]
    },
    {
     "name": "stderr",
     "output_type": "stream",
     "text": [
      "┌ Info: 154\n",
      "└ @ Main c:\\Users\\wenbl13\\Desktop\\BAC\\BAC Project\\4.4_run_all_valid_images.ipynb:16\n"
     ]
    },
    {
     "name": "stderr",
     "output_type": "stream",
     "text": [
      "┌ Info: 155\n",
      "└ @ Main c:\\Users\\wenbl13\\Desktop\\BAC\\BAC Project\\4.4_run_all_valid_images.ipynb:16\n"
     ]
    },
    {
     "name": "stderr",
     "output_type": "stream",
     "text": [
      "┌ Info: 156\n",
      "└ @ Main c:\\Users\\wenbl13\\Desktop\\BAC\\BAC Project\\4.4_run_all_valid_images.ipynb:16\n"
     ]
    },
    {
     "name": "stderr",
     "output_type": "stream",
     "text": [
      "┌ Info: 157\n",
      "└ @ Main c:\\Users\\wenbl13\\Desktop\\BAC\\BAC Project\\4.4_run_all_valid_images.ipynb:16\n"
     ]
    },
    {
     "name": "stderr",
     "output_type": "stream",
     "text": [
      "┌ Info: 158\n",
      "└ @ Main c:\\Users\\wenbl13\\Desktop\\BAC\\BAC Project\\4.4_run_all_valid_images.ipynb:16\n"
     ]
    },
    {
     "name": "stderr",
     "output_type": "stream",
     "text": [
      "┌ Info: 159\n",
      "└ @ Main c:\\Users\\wenbl13\\Desktop\\BAC\\BAC Project\\4.4_run_all_valid_images.ipynb:16\n"
     ]
    },
    {
     "name": "stderr",
     "output_type": "stream",
     "text": [
      "┌ Info: 160\n",
      "└ @ Main c:\\Users\\wenbl13\\Desktop\\BAC\\BAC Project\\4.4_run_all_valid_images.ipynb:16\n"
     ]
    },
    {
     "name": "stderr",
     "output_type": "stream",
     "text": [
      "┌ Info: 161\n",
      "└ @ Main c:\\Users\\wenbl13\\Desktop\\BAC\\BAC Project\\4.4_run_all_valid_images.ipynb:16\n"
     ]
    },
    {
     "name": "stderr",
     "output_type": "stream",
     "text": [
      "┌ Info: 162\n",
      "└ @ Main c:\\Users\\wenbl13\\Desktop\\BAC\\BAC Project\\4.4_run_all_valid_images.ipynb:16\n"
     ]
    },
    {
     "name": "stderr",
     "output_type": "stream",
     "text": [
      "┌ Info: 163\n",
      "└ @ Main c:\\Users\\wenbl13\\Desktop\\BAC\\BAC Project\\4.4_run_all_valid_images.ipynb:16\n"
     ]
    },
    {
     "name": "stderr",
     "output_type": "stream",
     "text": [
      "┌ Info: 164\n",
      "└ @ Main c:\\Users\\wenbl13\\Desktop\\BAC\\BAC Project\\4.4_run_all_valid_images.ipynb:16\n"
     ]
    },
    {
     "name": "stderr",
     "output_type": "stream",
     "text": [
      "┌ Info: 165\n",
      "└ @ Main c:\\Users\\wenbl13\\Desktop\\BAC\\BAC Project\\4.4_run_all_valid_images.ipynb:16\n"
     ]
    },
    {
     "name": "stderr",
     "output_type": "stream",
     "text": [
      "┌ Info: 166\n",
      "└ @ Main c:\\Users\\wenbl13\\Desktop\\BAC\\BAC Project\\4.4_run_all_valid_images.ipynb:16\n"
     ]
    },
    {
     "name": "stderr",
     "output_type": "stream",
     "text": [
      "┌ Info: 167\n",
      "└ @ Main c:\\Users\\wenbl13\\Desktop\\BAC\\BAC Project\\4.4_run_all_valid_images.ipynb:16\n"
     ]
    },
    {
     "name": "stderr",
     "output_type": "stream",
     "text": [
      "┌ Info: 168\n",
      "└ @ Main c:\\Users\\wenbl13\\Desktop\\BAC\\BAC Project\\4.4_run_all_valid_images.ipynb:16\n"
     ]
    },
    {
     "name": "stderr",
     "output_type": "stream",
     "text": [
      "┌ Info: 169\n",
      "└ @ Main c:\\Users\\wenbl13\\Desktop\\BAC\\BAC Project\\4.4_run_all_valid_images.ipynb:16\n"
     ]
    },
    {
     "name": "stderr",
     "output_type": "stream",
     "text": [
      "┌ Info: 170\n",
      "└ @ Main c:\\Users\\wenbl13\\Desktop\\BAC\\BAC Project\\4.4_run_all_valid_images.ipynb:16\n"
     ]
    },
    {
     "name": "stderr",
     "output_type": "stream",
     "text": [
      "┌ Info: 171\n",
      "└ @ Main c:\\Users\\wenbl13\\Desktop\\BAC\\BAC Project\\4.4_run_all_valid_images.ipynb:16\n"
     ]
    },
    {
     "name": "stderr",
     "output_type": "stream",
     "text": [
      "┌ Info: 172\n",
      "└ @ Main c:\\Users\\wenbl13\\Desktop\\BAC\\BAC Project\\4.4_run_all_valid_images.ipynb:16\n"
     ]
    },
    {
     "name": "stderr",
     "output_type": "stream",
     "text": [
      "┌ Info: 173\n",
      "└ @ Main c:\\Users\\wenbl13\\Desktop\\BAC\\BAC Project\\4.4_run_all_valid_images.ipynb:16\n"
     ]
    },
    {
     "name": "stderr",
     "output_type": "stream",
     "text": [
      "┌ Info: 174\n",
      "└ @ Main c:\\Users\\wenbl13\\Desktop\\BAC\\BAC Project\\4.4_run_all_valid_images.ipynb:16\n"
     ]
    },
    {
     "name": "stderr",
     "output_type": "stream",
     "text": [
      "┌ Info: 175\n",
      "└ @ Main c:\\Users\\wenbl13\\Desktop\\BAC\\BAC Project\\4.4_run_all_valid_images.ipynb:16\n"
     ]
    },
    {
     "name": "stderr",
     "output_type": "stream",
     "text": [
      "┌ Info: 176\n",
      "└ @ Main c:\\Users\\wenbl13\\Desktop\\BAC\\BAC Project\\4.4_run_all_valid_images.ipynb:16\n"
     ]
    },
    {
     "name": "stderr",
     "output_type": "stream",
     "text": [
      "┌ Info: 177\n",
      "└ @ Main c:\\Users\\wenbl13\\Desktop\\BAC\\BAC Project\\4.4_run_all_valid_images.ipynb:16\n"
     ]
    },
    {
     "name": "stderr",
     "output_type": "stream",
     "text": [
      "┌ Info: 178\n",
      "└ @ Main c:\\Users\\wenbl13\\Desktop\\BAC\\BAC Project\\4.4_run_all_valid_images.ipynb:16\n"
     ]
    },
    {
     "name": "stderr",
     "output_type": "stream",
     "text": [
      "┌ Info: 179\n",
      "└ @ Main c:\\Users\\wenbl13\\Desktop\\BAC\\BAC Project\\4.4_run_all_valid_images.ipynb:16\n"
     ]
    },
    {
     "name": "stderr",
     "output_type": "stream",
     "text": [
      "┌ Info: 180\n",
      "└ @ Main c:\\Users\\wenbl13\\Desktop\\BAC\\BAC Project\\4.4_run_all_valid_images.ipynb:16\n"
     ]
    },
    {
     "name": "stderr",
     "output_type": "stream",
     "text": [
      "┌ Info: 181\n",
      "└ @ Main c:\\Users\\wenbl13\\Desktop\\BAC\\BAC Project\\4.4_run_all_valid_images.ipynb:16\n"
     ]
    },
    {
     "name": "stderr",
     "output_type": "stream",
     "text": [
      "┌ Info: 182\n",
      "└ @ Main c:\\Users\\wenbl13\\Desktop\\BAC\\BAC Project\\4.4_run_all_valid_images.ipynb:16\n"
     ]
    },
    {
     "name": "stderr",
     "output_type": "stream",
     "text": [
      "┌ Info: 183\n",
      "└ @ Main c:\\Users\\wenbl13\\Desktop\\BAC\\BAC Project\\4.4_run_all_valid_images.ipynb:16\n"
     ]
    },
    {
     "name": "stderr",
     "output_type": "stream",
     "text": [
      "┌ Info: 184\n",
      "└ @ Main c:\\Users\\wenbl13\\Desktop\\BAC\\BAC Project\\4.4_run_all_valid_images.ipynb:16\n"
     ]
    },
    {
     "name": "stderr",
     "output_type": "stream",
     "text": [
      "┌ Info: 185\n",
      "└ @ Main c:\\Users\\wenbl13\\Desktop\\BAC\\BAC Project\\4.4_run_all_valid_images.ipynb:16\n"
     ]
    },
    {
     "name": "stderr",
     "output_type": "stream",
     "text": [
      "┌ Info: 186\n",
      "└ @ Main c:\\Users\\wenbl13\\Desktop\\BAC\\BAC Project\\4.4_run_all_valid_images.ipynb:16\n"
     ]
    },
    {
     "name": "stderr",
     "output_type": "stream",
     "text": [
      "┌ Info: 187\n",
      "└ @ Main c:\\Users\\wenbl13\\Desktop\\BAC\\BAC Project\\4.4_run_all_valid_images.ipynb:16\n"
     ]
    },
    {
     "name": "stderr",
     "output_type": "stream",
     "text": [
      "┌ Info: 188\n",
      "└ @ Main c:\\Users\\wenbl13\\Desktop\\BAC\\BAC Project\\4.4_run_all_valid_images.ipynb:16\n"
     ]
    },
    {
     "name": "stderr",
     "output_type": "stream",
     "text": [
      "┌ Info: 189\n",
      "└ @ Main c:\\Users\\wenbl13\\Desktop\\BAC\\BAC Project\\4.4_run_all_valid_images.ipynb:16\n"
     ]
    },
    {
     "name": "stderr",
     "output_type": "stream",
     "text": [
      "┌ Info: 190\n",
      "└ @ Main c:\\Users\\wenbl13\\Desktop\\BAC\\BAC Project\\4.4_run_all_valid_images.ipynb:16\n"
     ]
    },
    {
     "name": "stderr",
     "output_type": "stream",
     "text": [
      "┌ Info: 191\n",
      "└ @ Main c:\\Users\\wenbl13\\Desktop\\BAC\\BAC Project\\4.4_run_all_valid_images.ipynb:16\n"
     ]
    },
    {
     "name": "stderr",
     "output_type": "stream",
     "text": [
      "┌ Info: 192\n",
      "└ @ Main c:\\Users\\wenbl13\\Desktop\\BAC\\BAC Project\\4.4_run_all_valid_images.ipynb:16\n"
     ]
    },
    {
     "name": "stderr",
     "output_type": "stream",
     "text": [
      "┌ Info: 193\n",
      "└ @ Main c:\\Users\\wenbl13\\Desktop\\BAC\\BAC Project\\4.4_run_all_valid_images.ipynb:16\n"
     ]
    },
    {
     "name": "stderr",
     "output_type": "stream",
     "text": [
      "┌ Info: 194\n",
      "└ @ Main c:\\Users\\wenbl13\\Desktop\\BAC\\BAC Project\\4.4_run_all_valid_images.ipynb:16\n"
     ]
    },
    {
     "name": "stderr",
     "output_type": "stream",
     "text": [
      "┌ Info: 195\n",
      "└ @ Main c:\\Users\\wenbl13\\Desktop\\BAC\\BAC Project\\4.4_run_all_valid_images.ipynb:16\n"
     ]
    },
    {
     "name": "stderr",
     "output_type": "stream",
     "text": [
      "┌ Info: 196\n",
      "└ @ Main c:\\Users\\wenbl13\\Desktop\\BAC\\BAC Project\\4.4_run_all_valid_images.ipynb:16\n"
     ]
    },
    {
     "name": "stderr",
     "output_type": "stream",
     "text": [
      "┌ Info: 197\n",
      "└ @ Main c:\\Users\\wenbl13\\Desktop\\BAC\\BAC Project\\4.4_run_all_valid_images.ipynb:16\n"
     ]
    },
    {
     "name": "stderr",
     "output_type": "stream",
     "text": [
      "┌ Info: 198\n",
      "└ @ Main c:\\Users\\wenbl13\\Desktop\\BAC\\BAC Project\\4.4_run_all_valid_images.ipynb:16\n"
     ]
    },
    {
     "name": "stderr",
     "output_type": "stream",
     "text": [
      "┌ Info: 199\n",
      "└ @ Main c:\\Users\\wenbl13\\Desktop\\BAC\\BAC Project\\4.4_run_all_valid_images.ipynb:16\n"
     ]
    },
    {
     "name": "stderr",
     "output_type": "stream",
     "text": [
      "┌ Info: 200\n",
      "└ @ Main c:\\Users\\wenbl13\\Desktop\\BAC\\BAC Project\\4.4_run_all_valid_images.ipynb:16\n"
     ]
    }
   ],
   "source": [
    "# Run through all images(runtime ~= 37min for 200 images)\n",
    "GC.gc(true)\n",
    "epoch_idx = 35\n",
    "num_images = size(picked_images)[1]\n",
    "pred_results = []\n",
    "model = unet2D(1, 1)\n",
    "# load model\n",
    "model_name = \"saved_train_info_$epoch_idx.jld2\"\n",
    "model_path = joinpath(saved_model_dir, model_name)\n",
    "@load model_path ps_save st_save\n",
    "ps = ps_save |> gpu\n",
    "st = st_save |> gpu\n",
    "model_info = (model, ps, st);\n",
    "\n",
    "for i = 1 : num_images\n",
    "    @info i\n",
    "    SID, f_name, x, label = picked_images[i]\n",
    "    # get prediction\n",
    "    pred_image, _ = pred_img(x, model_info)\n",
    "    # save\n",
    "    save_dir = joinpath(output_pred_dir, SID)\n",
    "    isdir(save_dir) || mkdir(save_dir)\n",
    "    save_path = joinpath(save_dir, f_name*\".jld\")\n",
    "    @save save_path pred_image label\n",
    "    GC.gc(true)\n",
    "end"
   ]
  },
  {
   "cell_type": "markdown",
   "metadata": {},
   "source": [
    "# 2. Save predictions as png"
   ]
  },
  {
   "cell_type": "code",
   "execution_count": 48,
   "metadata": {},
   "outputs": [],
   "source": [
    "plot_SIDs = readdir(output_pred_dir)\n",
    "for SID in plot_SIDs\n",
    "    curr_dir = joinpath(output_pred_dir, SID)\n",
    "    if isdir(curr_dir)\n",
    "        for f in readdir(curr_dir)\n",
    "            # read\n",
    "            curr_path = joinpath(curr_dir, f)\n",
    "            @load curr_path pred_image label\n",
    "            # convert to png\n",
    "            image_output = Gray.(zoom_pxiel_values(pred_image))\n",
    "            label_output = Gray.(label)\n",
    "            # set up path\n",
    "            f_name, _ = splitext(f)\n",
    "            image_path = joinpath(output_images_dir, SID, \"pred_\"*f_name*\".png\")\n",
    "            label_path = joinpath(output_images_dir, SID, \"roi_\"*f_name*\".png\")\n",
    "            # save\n",
    "            save(image_path, image_output)\n",
    "            save(label_path, label_output)\n",
    "        end\n",
    "    end\n",
    "end\n",
    "GC.gc(true)"
   ]
  },
  {
   "cell_type": "markdown",
   "metadata": {},
   "source": [
    "# 3. Plot"
   ]
  },
  {
   "cell_type": "code",
   "execution_count": 5,
   "metadata": {},
   "outputs": [],
   "source": [
    "plot_SIDs = readdir(output_pred_dir)\n",
    "areas_ = []\n",
    "for SID in plot_SIDs\n",
    "    curr_dir = joinpath(output_pred_dir, SID)\n",
    "    if isdir(curr_dir)\n",
    "        for f in readdir(curr_dir)\n",
    "            curr_path = joinpath(curr_dir, f)\n",
    "            @load curr_path pred_image label\n",
    "            push!(areas_, [SID, f, sum(label), sum(pred_image)])\n",
    "        end\n",
    "    end\n",
    "end\n",
    "s = size(areas_)[1]\n",
    "areas__ = zeros(Int64, (s, 2))\n",
    "for i = 1 : s\n",
    "    areas__[i, :] = Int64.(areas_[i][3:4])\n",
    "end \n",
    "GC.gc(true)"
   ]
  },
  {
   "cell_type": "code",
   "execution_count": 6,
   "metadata": {},
   "outputs": [
    {
     "data": {
      "text/plain": [
       "\"C:\\\\Users\\\\wenbl13\\\\Desktop\\\\BAC\\\\BAC Project\\\\Output\\\\BAC_area_plot2.png\""
      ]
     },
     "metadata": {},
     "output_type": "display_data"
    }
   ],
   "source": [
    "scatter(areas__[:, 1], areas__[:, 2], xlabel=\"Readers' roi\", ylabel=\"Prediction\", title=\"BAC area\")\n",
    "plot!(areas__[:, 1], areas__[:, 1], label=\"y = x\", linestyle=:dash)\n",
    "savefig(joinpath(output_pred_dir, \"BAC_area_plot2.png\"))"
   ]
  },
  {
   "cell_type": "code",
   "execution_count": 30,
   "metadata": {},
   "outputs": [
    {
     "name": "stdout",
     "output_type": "stream",
     "text": [
      "13: 4.646377979960843\n",
      "14: 9.021660275676236\n",
      "16: 6.037864016604818\n",
      "22: 4.426022706794017\n",
      "23: 4.451520523660166\n",
      "24: 4.294606143674917\n",
      "70: 4.576734811402246\n"
     ]
    }
   ],
   "source": [
    "idx = []\n",
    "# Check for points\n",
    "for i = 1 : s\n",
    "    label_area, pred_area = areas__[i, :]\n",
    "    ratio = label_area / pred_area\n",
    "    if ratio > 4\n",
    "        println(i, \": \", ratio)\n",
    "    else\n",
    "        push!(idx, i)\n",
    "    end\n",
    "end"
   ]
  },
  {
   "cell_type": "markdown",
   "metadata": {},
   "source": [
    "13: 4.646377979960843  \n",
    "14: 9.021660275676236  \n",
    "16: 6.037864016604818  \n",
    "22: 4.426022706794017  \n",
    "23: 4.451520523660166  \n",
    "24: 4.294606143674917  \n",
    "70: 4.576734811402246  "
   ]
  },
  {
   "cell_type": "code",
   "execution_count": 34,
   "metadata": {},
   "outputs": [
    {
     "data": {
      "text/plain": [
       "193-element Vector{Int64}:\n",
       " 46550\n",
       " 50157\n",
       " 78838\n",
       " 76932\n",
       " 34529\n",
       " 49156\n",
       " 29689\n",
       " 82400\n",
       " 22467\n",
       " 48105\n",
       "     ⋮\n",
       " 50851\n",
       " 71300\n",
       " 66677\n",
       " 92647\n",
       " 93028\n",
       " 38315\n",
       " 57761\n",
       " 93617\n",
       " 72387"
      ]
     },
     "metadata": {},
     "output_type": "display_data"
    }
   ],
   "source": [
    "areas_output = areas__[idx]\n",
    "df = DataFrame(X = areas__[:, 1], Y = areas__[:, 2])\n",
    "\n",
    "# Save the DataFrame to a CSV file\n",
    "CSV.write(\"BAC_plot_coordinates.csv\", df)"
   ]
  },
  {
   "cell_type": "code",
   "execution_count": 9,
   "metadata": {},
   "outputs": [
    {
     "data": {
      "text/plain": [
       "4-element Vector{Any}:\n",
       "       \"SID-103073\"\n",
       "       \"1.2.840.113681.2230565208.1099.3632750534.308.jld\"\n",
       " 242067.0f0\n",
       "  52098.0f0"
      ]
     },
     "metadata": {},
     "output_type": "display_data"
    }
   ],
   "source": [
    "areas_[13]"
   ]
  },
  {
   "cell_type": "markdown",
   "metadata": {},
   "source": [
    "# 4. Save images as png"
   ]
  },
  {
   "cell_type": "code",
   "execution_count": 10,
   "metadata": {},
   "outputs": [
    {
     "ename": "UndefVarError",
     "evalue": "UndefVarError: `my_process_img` not defined",
     "output_type": "error",
     "traceback": [
      "UndefVarError: `my_process_img` not defined\n",
      "\n",
      "Stacktrace:\n",
      " [1] top-level scope\n",
      "   @ c:\\Users\\wenbl13\\Desktop\\BAC\\BAC Project\\4.4_run_all_valid_images.ipynb:12"
     ]
    }
   ],
   "source": [
    "plot_SIDs = readdir(output_pred_dir)\n",
    "for SID in plot_SIDs\n",
    "    curr_dir = joinpath(output_pred_dir, SID)\n",
    "    if isdir(curr_dir)\n",
    "        for f in readdir(curr_dir)\n",
    "            # setup path\n",
    "            f_name, _ = splitext(f)\n",
    "            image_path = joinpath(valid_data_dir, \"image\", SID, f_name*\".dcm\")\n",
    "            save_path = joinpath(output_images_dir, SID, \"image_\"*f_name*\".png\")\n",
    "            # read\n",
    "            dcm_img = Float32.(dcm_parse(image_path)[(0x7fe0, 0x0010)])\n",
    "            dcm_img = my_process_img(dcm_img)\n",
    "            dcm_img = Gray.(dcm_img)\n",
    "            save\n",
    "            save(save_path, dcm_img)\n",
    "        end \n",
    "    end\n",
    "end\n",
    "GC.gc(true)"
   ]
  },
  {
   "cell_type": "markdown",
   "metadata": {},
   "source": [
    "# Fix wrong mask"
   ]
  },
  {
   "cell_type": "code",
   "execution_count": null,
   "metadata": {},
   "outputs": [],
   "source": [
    "SIDs = readdir(output_pred_dir)"
   ]
  },
  {
   "cell_type": "code",
   "execution_count": 11,
   "metadata": {},
   "outputs": [
    {
     "data": {
      "text/plain": [
       "my_process_img (generic function with 1 method)"
      ]
     },
     "metadata": {},
     "output_type": "display_data"
    }
   ],
   "source": [
    "function my_process_img(img)\n",
    "    # get mask\n",
    "    mask = zoom_pxiel_values(img)\n",
    "    mask = 1f0 .- round.(mask)\n",
    "    img_ = img[mask .== 1f0]\n",
    "    # zoom pixel values to 0 and 1\n",
    "    a, b = maximum(img_), minimum(img_)\n",
    "    img_ = (img_ .- b) ./ (a - b)\n",
    "    img_ = 1f0 .- img_\n",
    "    # histogram equalization\n",
    "    img_ = histogram_equalization_(img_)\n",
    "    img[mask .== 1f0] .= img_\n",
    "    # save\n",
    "    img = img .* mask\n",
    "    return img\n",
    "end"
   ]
  },
  {
   "cell_type": "code",
   "execution_count": 12,
   "metadata": {},
   "outputs": [
    {
     "data": {
      "text/plain": [
       "histogram_equalization_ (generic function with 1 method)"
      ]
     },
     "metadata": {},
     "output_type": "display_data"
    }
   ],
   "source": [
    "function histogram_equalization_(img)\n",
    "    # Get array length\n",
    "    len = length(img)\n",
    "    \n",
    "    # Initialize histogram and cumulative histogram\n",
    "    nbins = 256\n",
    "    hist = zeros(Int, nbins)\n",
    "    chist = zeros(Int, nbins)\n",
    "    \n",
    "    # Compute the histogram\n",
    "    for val in img\n",
    "        bin = Int(floor(val * (nbins - 1)) + 1)\n",
    "        hist[bin] += 1\n",
    "    end\n",
    "    \n",
    "    # Compute the cumulative histogram\n",
    "    chist[1] = hist[1]\n",
    "    for i in 2:nbins\n",
    "        chist[i] = chist[i - 1] + hist[i]\n",
    "    end\n",
    "    \n",
    "    # Perform histogram equalization\n",
    "    min_chist = minimum(filter(x -> x > 0, chist))\n",
    "    total_pixels = len\n",
    "    new_img = zeros(Float32, len)\n",
    "    \n",
    "    for i in 1:len\n",
    "        bin = Int(floor(img[i] * (nbins - 1)) + 1)\n",
    "        new_intensity = (chist[bin] - min_chist) / (total_pixels - min_chist)\n",
    "        new_img[i] = Float32(new_intensity)\n",
    "    end\n",
    "    \n",
    "    return new_img\n",
    "end"
   ]
  },
  {
   "cell_type": "code",
   "execution_count": 13,
   "metadata": {},
   "outputs": [],
   "source": []
  },
  {
   "cell_type": "code",
   "execution_count": 14,
   "metadata": {},
   "outputs": [],
   "source": []
  },
  {
   "cell_type": "code",
   "execution_count": 15,
   "metadata": {},
   "outputs": [],
   "source": []
  },
  {
   "cell_type": "code",
   "execution_count": 16,
   "metadata": {},
   "outputs": [],
   "source": []
  },
  {
   "cell_type": "code",
   "execution_count": 17,
   "metadata": {},
   "outputs": [],
   "source": [
    "# img = Float32.(dcm_parse(raw\"F:\\collected_dataset_for_ML\\valid\\image\\SID-100809\\1.2.840.113681.2206989178.1090.3561033058.289.dcm\")[(0x7fe0, 0x0010)])\n",
    "# mask = 1f0 .- zoom_pxiel_values(img)\n",
    "\n",
    "# s = size(img)\n",
    "\n",
    "# x = ceil(Int, s[1]/patch_size) + floor(Int, (s[1]-patch_size_half)/patch_size)\n",
    "# y = ceil(Int, s[2]/patch_size) + floor(Int, (s[2]-patch_size_half)/patch_size)\n",
    "# locations = []\n",
    "# ct = 0\n",
    "# for i = 1 : x-1\n",
    "#     x_start = 1+(i-1)*patch_size_half\n",
    "#     x_end = x_start+patch_size-1\n",
    "#     for j = 1 : y-1\n",
    "#         y_start = 1+(j-1)*patch_size_half\n",
    "#         y_end = y_start+patch_size-1\n",
    "#         # check patch\n",
    "#         if mean(mask[x_start:x_end, y_start:y_end]) > 0.35\n",
    "#             # save patch\n",
    "#             ct += 1\n",
    "#             push!(locations, [x_start, x_end, y_start, y_end])\n",
    "#             # img_patches[:, :, 1, ct] = (img[x_start:x_end, y_start:y_end])\n",
    "#             # locations[ct] = (x_start, x_end, y_start, y_end)\n",
    "#         end\n",
    "#     end\n",
    "#     # right col\n",
    "#     y_start, y_end = s[2]-patch_size+1, s[2]\n",
    "#     # check patch\n",
    "#     if mean(mask[x_start:x_end, y_start:y_end]) > 0.35\n",
    "#         # save patch\n",
    "#         ct += 1\n",
    "#         push!(locations, [x_start, x_end, y_start, y_end])\n",
    "#         # img_patches[:, :, 1, ct] = (img[x_start:x_end, y_start:y_end])\n",
    "#         # locations[ct] = (x_start, x_end, y_start, y_end)\n",
    "#     end\n",
    "# end\n",
    "# # last row\n",
    "# x_start, x_end = s[1]-patch_size+1, s[1]\n",
    "# for j = 1 : y-1\n",
    "#     y_start = 1+(j-1)*patch_size_half\n",
    "#     y_end = y_start+patch_size-1\n",
    "#     # check patch\n",
    "#     if mean(mask[x_start:x_end, y_start:y_end]) > 0.35\n",
    "#         # save patch\n",
    "#         ct += 1\n",
    "#         push!(locations, [x_start, x_end, y_start, y_end])\n",
    "#         # img_patches[:, :, 1, ct] = (img[x_start:x_end, y_start:y_end])\n",
    "#         # locations[ct] = (x_start, x_end, y_start, y_end)\n",
    "#     end\n",
    "# end\n",
    "# # right col\n",
    "# y_start, y_end = s[2]-patch_size+1, s[2]\n",
    "# # check patch\n",
    "# if mean(mask[x_start:x_end, y_start:y_end]) > 0.35\n",
    "#     # save patch\n",
    "#     ct += 1\n",
    "#     push!(locations, [x_start, x_end, y_start, y_end])\n",
    "#     # img_patches[:, :, 1, ct] = (img[x_start:x_end, y_start:y_end])\n",
    "#     # locations[ct] = (x_start, x_end, y_start, y_end)\n",
    "# end\n",
    "# s"
   ]
  },
  {
   "cell_type": "code",
   "execution_count": 18,
   "metadata": {},
   "outputs": [],
   "source": [
    "# img_tmp = Gray.(1f0 .- zoom_pxiel_values(img))\n",
    "# img_ = RGB.(img_tmp)\n",
    "# for box in locations\n",
    "#     x_start, x_end, y_start, y_end = box\n",
    "#     color = RGB(rand(), rand(), rand())\n",
    "\n",
    "#     img_[x_start, y_start:y_end] .= color  # Left vertical line\n",
    "#     img_[x_end, y_start:y_end] .= color   # Right vertical line\n",
    "#     img_[x_start:x_end, y_start] .= color  # Top horizontal line\n",
    "#     img_[x_start:x_end, y_end] .= color    # Bottom horizontal line\n",
    "# end\n",
    "# save(\"image_patch_sample.png\", img_)"
   ]
  }
 ],
 "metadata": {
  "kernelspec": {
   "display_name": "Julia 1.9.2",
   "language": "julia",
   "name": "julia-1.9"
  },
  "language_info": {
   "file_extension": ".jl",
   "mimetype": "application/julia",
   "name": "julia",
   "version": "1.9.2"
  },
  "orig_nbformat": 4
 },
 "nbformat": 4,
 "nbformat_minor": 2
}
