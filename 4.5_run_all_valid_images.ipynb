{
 "cells": [
  {
   "cell_type": "code",
   "execution_count": 6,
   "metadata": {},
   "outputs": [],
   "source": [
    "# function pred_img(img_in, model_info; batch_size = 1)\n",
    "#     # get binary mask\n",
    "#     img = deepcopy(img_in)\n",
    "#     img_out = zeros(Float32, size(img))\n",
    "#     img_mask = 1 .- round.(zoom_pxiel_values(img_in))\n",
    "    \n",
    "#     # patch img_in\n",
    "#     img_patches, locations, num_patches = patch_image(img, img_mask) # size of img_patches = (256, 256, 1, x)\n",
    "#     pred_patches = Array{Float32, 3}(undef, patch_size, patch_size, num_patches)\n",
    "#     temp = floor(Int, num_patches/4)\n",
    "#     num_patches_each_gpu = [temp, temp, temp, num_patches - 3*temp]\n",
    "\n",
    "#     # Distribute to 4 GPUs\n",
    "#     @Threads.threads for gpu_idx = 1:4\n",
    "#         device!(gpu_idx-1)\n",
    "#         # load model\n",
    "#         model_, ps_, st_ = model_info\n",
    "#         model = deepcopy(model_)\n",
    "#         ps = ps_ |> gpu \n",
    "#         st = st_ |> gpu \n",
    "\n",
    "#         # distribute patch\n",
    "#         curr_start = sum(num_patches_each_gpu[1 : gpu_idx-1]) + 1\n",
    "#         curr_end = curr_start + num_patches_each_gpu[gpu_idx] - 1\n",
    "#         # for img_idx = curr_start : batch_size : curr_end\n",
    "#             # idx_start = img_idx\n",
    "#             # idx_end = min(curr_end, idx_start + batch_size - 1)\n",
    "#             idx_start = curr_start\n",
    "#             idx_end = curr_end\n",
    "#             @info \"GPU $gpu_idx: $idx_start to $idx_end = $(idx_end-idx_start+1)\"\n",
    "#             ignore_derivatives() do\n",
    "#                 x = img_patches[:, :, :, idx_start : idx_end]          # 256*256*1*batch_size\n",
    "#                 curr_pred = model(x |> gpu , ps, st)[1] |> cpu         # 256*256*1*batch_size  \n",
    "#                 pred_patches[:,:,idx_start : idx_end] = curr_pred[:,:,1,:]\n",
    "#             #     CUDA.unsafe_free!(curr_pred_)\n",
    "#             #     CUDA.unsafe_free!(x)\n",
    "#             end\n",
    "#         # end\n",
    "#         # ps, st = nothing, nothing\n",
    "#         GC.gc(true)\n",
    "#         CUDA.reclaim()\n",
    "#         CUDA.memory_status()\n",
    "#     end\n",
    "\n",
    "#     # combines patch to pred_out\n",
    "#     Threads.@threads for i = 1 : num_patches\n",
    "#         x_start, x_end, y_start, y_end = locations[i]\n",
    "#         for x = x_start : x_end\n",
    "#             for y = y_start : y_end\n",
    "#                 img_out[x,y] = pred_patches[x-x_start+1,y-y_start+1,i]>=0.5 ? 1f0 : img_out[x,y]\n",
    "#                 # img_out[x,y] += pred_patches[x-x_start+1,y-y_start+1,i]\n",
    "#             end\n",
    "#         end\n",
    "#     end\n",
    "#     return img_out\n",
    "# end"
   ]
  },
  {
   "cell_type": "markdown",
   "metadata": {},
   "source": [
    "# 2. Save predictions as png"
   ]
  },
  {
   "cell_type": "code",
   "execution_count": 48,
   "metadata": {},
   "outputs": [],
   "source": [
    "plot_SIDs = readdir(output_pred_dir)\n",
    "for SID in plot_SIDs\n",
    "    curr_dir = joinpath(output_pred_dir, SID)\n",
    "    if isdir(curr_dir)\n",
    "        for f in readdir(curr_dir)\n",
    "            # read\n",
    "            curr_path = joinpath(curr_dir, f)\n",
    "            @load curr_path pred_image label\n",
    "            # convert to png\n",
    "            image_output = Gray.(zoom_pxiel_values(pred_image))\n",
    "            label_output = Gray.(label)\n",
    "            # set up path\n",
    "            f_name, _ = splitext(f)\n",
    "            image_path = joinpath(output_images_dir, SID, \"pred_\"*f_name*\".png\")\n",
    "            label_path = joinpath(output_images_dir, SID, \"roi_\"*f_name*\".png\")\n",
    "            # save\n",
    "            save(image_path, image_output)\n",
    "            save(label_path, label_output)\n",
    "        end\n",
    "    end\n",
    "end\n",
    "GC.gc(true)"
   ]
  },
  {
   "cell_type": "markdown",
   "metadata": {},
   "source": [
    "# 3. Plot"
   ]
  },
  {
   "cell_type": "code",
   "execution_count": 5,
   "metadata": {},
   "outputs": [],
   "source": [
    "plot_SIDs = readdir(output_pred_dir)\n",
    "areas_ = []\n",
    "for SID in plot_SIDs\n",
    "    curr_dir = joinpath(output_pred_dir, SID)\n",
    "    if isdir(curr_dir)\n",
    "        for f in readdir(curr_dir)\n",
    "            curr_path = joinpath(curr_dir, f)\n",
    "            @load curr_path pred_image label\n",
    "            push!(areas_, [SID, f, sum(label), sum(pred_image)])\n",
    "        end\n",
    "    end\n",
    "end\n",
    "s = size(areas_)[1]\n",
    "areas__ = zeros(Int64, (s, 2))\n",
    "for i = 1 : s\n",
    "    areas__[i, :] = Int64.(areas_[i][3:4])\n",
    "end \n",
    "GC.gc(true)"
   ]
  },
  {
   "cell_type": "code",
   "execution_count": 6,
   "metadata": {},
   "outputs": [
    {
     "data": {
      "text/plain": [
       "\"C:\\\\Users\\\\wenbl13\\\\Desktop\\\\BAC\\\\BAC Project\\\\Output\\\\BAC_area_plot2.png\""
      ]
     },
     "metadata": {},
     "output_type": "display_data"
    }
   ],
   "source": [
    "scatter(areas__[:, 1], areas__[:, 2], xlabel=\"Readers' roi\", ylabel=\"Prediction\", title=\"BAC area\")\n",
    "plot!(areas__[:, 1], areas__[:, 1], label=\"y = x\", linestyle=:dash)\n",
    "savefig(joinpath(output_pred_dir, \"BAC_area_plot2.png\"))"
   ]
  },
  {
   "cell_type": "code",
   "execution_count": 30,
   "metadata": {},
   "outputs": [
    {
     "name": "stdout",
     "output_type": "stream",
     "text": [
      "13: 4.646377979960843\n",
      "14: 9.021660275676236\n",
      "16: 6.037864016604818\n",
      "22: 4.426022706794017\n",
      "23: 4.451520523660166\n",
      "24: 4.294606143674917\n",
      "70: 4.576734811402246\n"
     ]
    }
   ],
   "source": [
    "idx = []\n",
    "# Check for points\n",
    "for i = 1 : s\n",
    "    label_area, pred_area = areas__[i, :]\n",
    "    ratio = label_area / pred_area\n",
    "    if ratio > 4\n",
    "        println(i, \": \", ratio)\n",
    "    else\n",
    "        push!(idx, i)\n",
    "    end\n",
    "end"
   ]
  },
  {
   "cell_type": "markdown",
   "metadata": {},
   "source": [
    "13: 4.646377979960843  \n",
    "14: 9.021660275676236  \n",
    "16: 6.037864016604818  \n",
    "22: 4.426022706794017  \n",
    "23: 4.451520523660166  \n",
    "24: 4.294606143674917  \n",
    "70: 4.576734811402246  "
   ]
  },
  {
   "cell_type": "code",
   "execution_count": 34,
   "metadata": {},
   "outputs": [
    {
     "data": {
      "text/plain": [
       "193-element Vector{Int64}:\n",
       " 46550\n",
       " 50157\n",
       " 78838\n",
       " 76932\n",
       " 34529\n",
       " 49156\n",
       " 29689\n",
       " 82400\n",
       " 22467\n",
       " 48105\n",
       "     ⋮\n",
       " 50851\n",
       " 71300\n",
       " 66677\n",
       " 92647\n",
       " 93028\n",
       " 38315\n",
       " 57761\n",
       " 93617\n",
       " 72387"
      ]
     },
     "metadata": {},
     "output_type": "display_data"
    }
   ],
   "source": [
    "areas_output = areas__[idx]\n",
    "df = DataFrame(X = areas__[:, 1], Y = areas__[:, 2])\n",
    "\n",
    "# Save the DataFrame to a CSV file\n",
    "CSV.write(\"BAC_plot_coordinates.csv\", df)"
   ]
  },
  {
   "cell_type": "code",
   "execution_count": 9,
   "metadata": {},
   "outputs": [
    {
     "data": {
      "text/plain": [
       "4-element Vector{Any}:\n",
       "       \"SID-103073\"\n",
       "       \"1.2.840.113681.2230565208.1099.3632750534.308.jld\"\n",
       " 242067.0f0\n",
       "  52098.0f0"
      ]
     },
     "metadata": {},
     "output_type": "display_data"
    }
   ],
   "source": [
    "areas_[13]"
   ]
  },
  {
   "cell_type": "markdown",
   "metadata": {},
   "source": [
    "# 4. Save images as png"
   ]
  },
  {
   "cell_type": "code",
   "execution_count": 10,
   "metadata": {},
   "outputs": [
    {
     "ename": "UndefVarError",
     "evalue": "UndefVarError: `my_process_img` not defined",
     "output_type": "error",
     "traceback": [
      "UndefVarError: `my_process_img` not defined\n",
      "\n",
      "Stacktrace:\n",
      " [1] top-level scope\n",
      "   @ c:\\Users\\wenbl13\\Desktop\\BAC\\BAC Project\\4.4_run_all_valid_images.ipynb:12"
     ]
    }
   ],
   "source": [
    "plot_SIDs = readdir(output_pred_dir)\n",
    "for SID in plot_SIDs\n",
    "    curr_dir = joinpath(output_pred_dir, SID)\n",
    "    if isdir(curr_dir)\n",
    "        for f in readdir(curr_dir)\n",
    "            # setup path\n",
    "            f_name, _ = splitext(f)\n",
    "            image_path = joinpath(valid_data_dir, \"image\", SID, f_name*\".dcm\")\n",
    "            save_path = joinpath(output_images_dir, SID, \"image_\"*f_name*\".png\")\n",
    "            # read\n",
    "            dcm_img = Float32.(dcm_parse(image_path)[(0x7fe0, 0x0010)])\n",
    "            dcm_img = my_process_img(dcm_img)\n",
    "            dcm_img = Gray.(dcm_img)\n",
    "            save\n",
    "            save(save_path, dcm_img)\n",
    "        end \n",
    "    end\n",
    "end\n",
    "GC.gc(true)"
   ]
  },
  {
   "cell_type": "code",
   "execution_count": 11,
   "metadata": {},
   "outputs": [
    {
     "data": {
      "text/plain": [
       "my_process_img (generic function with 1 method)"
      ]
     },
     "metadata": {},
     "output_type": "display_data"
    }
   ],
   "source": [
    "function my_process_img(img)\n",
    "    # get mask\n",
    "    mask = zoom_pxiel_values(img)\n",
    "    mask = 1f0 .- round.(mask)\n",
    "    img_ = img[mask .== 1f0]\n",
    "    # zoom pixel values to 0 and 1\n",
    "    a, b = maximum(img_), minimum(img_)\n",
    "    img_ = (img_ .- b) ./ (a - b)\n",
    "    img_ = 1f0 .- img_\n",
    "    # histogram equalization\n",
    "    img_ = histogram_equalization_(img_)\n",
    "    img[mask .== 1f0] .= img_\n",
    "    # save\n",
    "    img = img .* mask\n",
    "    return img\n",
    "end"
   ]
  },
  {
   "cell_type": "code",
   "execution_count": 12,
   "metadata": {},
   "outputs": [
    {
     "data": {
      "text/plain": [
       "histogram_equalization_ (generic function with 1 method)"
      ]
     },
     "metadata": {},
     "output_type": "display_data"
    }
   ],
   "source": [
    "function histogram_equalization_(img)\n",
    "    # Get array length\n",
    "    len = length(img)\n",
    "    \n",
    "    # Initialize histogram and cumulative histogram\n",
    "    nbins = 256\n",
    "    hist = zeros(Int, nbins)\n",
    "    chist = zeros(Int, nbins)\n",
    "    \n",
    "    # Compute the histogram\n",
    "    for val in img\n",
    "        bin = Int(floor(val * (nbins - 1)) + 1)\n",
    "        hist[bin] += 1\n",
    "    end\n",
    "    \n",
    "    # Compute the cumulative histogram\n",
    "    chist[1] = hist[1]\n",
    "    for i in 2:nbins\n",
    "        chist[i] = chist[i - 1] + hist[i]\n",
    "    end\n",
    "    \n",
    "    # Perform histogram equalization\n",
    "    min_chist = minimum(filter(x -> x > 0, chist))\n",
    "    total_pixels = len\n",
    "    new_img = zeros(Float32, len)\n",
    "    \n",
    "    for i in 1:len\n",
    "        bin = Int(floor(img[i] * (nbins - 1)) + 1)\n",
    "        new_intensity = (chist[bin] - min_chist) / (total_pixels - min_chist)\n",
    "        new_img[i] = Float32(new_intensity)\n",
    "    end\n",
    "    \n",
    "    return new_img\n",
    "end"
   ]
  },
  {
   "cell_type": "code",
   "execution_count": 13,
   "metadata": {},
   "outputs": [],
   "source": []
  },
  {
   "cell_type": "code",
   "execution_count": 14,
   "metadata": {},
   "outputs": [],
   "source": []
  },
  {
   "cell_type": "code",
   "execution_count": 15,
   "metadata": {},
   "outputs": [],
   "source": []
  },
  {
   "cell_type": "code",
   "execution_count": 16,
   "metadata": {},
   "outputs": [],
   "source": []
  },
  {
   "cell_type": "code",
   "execution_count": 17,
   "metadata": {},
   "outputs": [],
   "source": [
    "# img = Float32.(dcm_parse(raw\"F:\\collected_dataset_for_ML\\valid\\image\\SID-100809\\1.2.840.113681.2206989178.1090.3561033058.289.dcm\")[(0x7fe0, 0x0010)])\n",
    "# mask = 1f0 .- zoom_pxiel_values(img)\n",
    "\n",
    "# s = size(img)\n",
    "\n",
    "# x = ceil(Int, s[1]/patch_size) + floor(Int, (s[1]-patch_size_half)/patch_size)\n",
    "# y = ceil(Int, s[2]/patch_size) + floor(Int, (s[2]-patch_size_half)/patch_size)\n",
    "# locations = []\n",
    "# ct = 0\n",
    "# for i = 1 : x-1\n",
    "#     x_start = 1+(i-1)*patch_size_half\n",
    "#     x_end = x_start+patch_size-1\n",
    "#     for j = 1 : y-1\n",
    "#         y_start = 1+(j-1)*patch_size_half\n",
    "#         y_end = y_start+patch_size-1\n",
    "#         # check patch\n",
    "#         if mean(mask[x_start:x_end, y_start:y_end]) > 0.35\n",
    "#             # save patch\n",
    "#             ct += 1\n",
    "#             push!(locations, [x_start, x_end, y_start, y_end])\n",
    "#             # img_patches[:, :, 1, ct] = (img[x_start:x_end, y_start:y_end])\n",
    "#             # locations[ct] = (x_start, x_end, y_start, y_end)\n",
    "#         end\n",
    "#     end\n",
    "#     # right col\n",
    "#     y_start, y_end = s[2]-patch_size+1, s[2]\n",
    "#     # check patch\n",
    "#     if mean(mask[x_start:x_end, y_start:y_end]) > 0.35\n",
    "#         # save patch\n",
    "#         ct += 1\n",
    "#         push!(locations, [x_start, x_end, y_start, y_end])\n",
    "#         # img_patches[:, :, 1, ct] = (img[x_start:x_end, y_start:y_end])\n",
    "#         # locations[ct] = (x_start, x_end, y_start, y_end)\n",
    "#     end\n",
    "# end\n",
    "# # last row\n",
    "# x_start, x_end = s[1]-patch_size+1, s[1]\n",
    "# for j = 1 : y-1\n",
    "#     y_start = 1+(j-1)*patch_size_half\n",
    "#     y_end = y_start+patch_size-1\n",
    "#     # check patch\n",
    "#     if mean(mask[x_start:x_end, y_start:y_end]) > 0.35\n",
    "#         # save patch\n",
    "#         ct += 1\n",
    "#         push!(locations, [x_start, x_end, y_start, y_end])\n",
    "#         # img_patches[:, :, 1, ct] = (img[x_start:x_end, y_start:y_end])\n",
    "#         # locations[ct] = (x_start, x_end, y_start, y_end)\n",
    "#     end\n",
    "# end\n",
    "# # right col\n",
    "# y_start, y_end = s[2]-patch_size+1, s[2]\n",
    "# # check patch\n",
    "# if mean(mask[x_start:x_end, y_start:y_end]) > 0.35\n",
    "#     # save patch\n",
    "#     ct += 1\n",
    "#     push!(locations, [x_start, x_end, y_start, y_end])\n",
    "#     # img_patches[:, :, 1, ct] = (img[x_start:x_end, y_start:y_end])\n",
    "#     # locations[ct] = (x_start, x_end, y_start, y_end)\n",
    "# end\n",
    "# s"
   ]
  },
  {
   "cell_type": "code",
   "execution_count": 18,
   "metadata": {},
   "outputs": [],
   "source": [
    "# img_tmp = Gray.(1f0 .- zoom_pxiel_values(img))\n",
    "# img_ = RGB.(img_tmp)\n",
    "# for box in locations\n",
    "#     x_start, x_end, y_start, y_end = box\n",
    "#     color = RGB(rand(), rand(), rand())\n",
    "\n",
    "#     img_[x_start, y_start:y_end] .= color  # Left vertical line\n",
    "#     img_[x_end, y_start:y_end] .= color   # Right vertical line\n",
    "#     img_[x_start:x_end, y_start] .= color  # Top horizontal line\n",
    "#     img_[x_start:x_end, y_end] .= color    # Bottom horizontal line\n",
    "# end\n",
    "# save(\"image_patch_sample.png\", img_)"
   ]
  }
 ],
 "metadata": {
  "kernelspec": {
   "display_name": "Julia 1.9.2",
   "language": "julia",
   "name": "julia-1.9"
  },
  "language_info": {
   "file_extension": ".jl",
   "mimetype": "application/julia",
   "name": "julia",
   "version": "1.9.2"
  },
  "orig_nbformat": 4
 },
 "nbformat": 4,
 "nbformat_minor": 2
}
