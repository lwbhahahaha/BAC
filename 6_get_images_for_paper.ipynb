{
 "cells": [
  {
   "cell_type": "code",
   "execution_count": 1,
   "metadata": {},
   "outputs": [],
   "source": [
    "# using Pkg\n",
    "# Pkg.add(url = \"https://github.com/MolloiLab/imageToolBox.jl\")"
   ]
  },
  {
   "cell_type": "code",
   "execution_count": 2,
   "metadata": {},
   "outputs": [],
   "source": [
    "using imageToolBox, Images, ImageMorphology, DICOM, Statistics, ImageView, JLD2"
   ]
  },
  {
   "cell_type": "code",
   "execution_count": 3,
   "metadata": {},
   "outputs": [
    {
     "data": {
      "text/plain": [
       "5109"
      ]
     },
     "metadata": {},
     "output_type": "display_data"
    }
   ],
   "source": [
    "label_dir= \"/media/molloi-lab/2TB/BAC_processed_clean\"\n",
    "raw_data_dir= \"/media/molloi-lab/2TB/Clean_Dataset_full\"\n",
    "pred_dir = \"/media/molloi-lab/1TB/Output\"\n",
    "output_dir = \"/media/molloi-lab/2TB/BAC_diff_patch_for_paper\"\n",
    "\n",
    "SIDs = readdir(pred_dir)\n",
    "s = size(SIDs)[1]"
   ]
  },
  {
   "cell_type": "code",
   "execution_count": 4,
   "metadata": {},
   "outputs": [
    {
     "data": {
      "text/plain": [
       "mark_surfaces (generic function with 1 method)"
      ]
     },
     "metadata": {},
     "output_type": "display_data"
    }
   ],
   "source": [
    "function keep_largest_component(img; factor=10)\n",
    "    # resize image\n",
    "    s = size(img)\n",
    "    s_ = round.(Int, s ./ factor)\n",
    "    img_ = round.(imresize(img, s_))\n",
    "\n",
    "    # Label connected components\n",
    "    labels = label_components(img_)\n",
    "\n",
    "    # Count the number of pixels in each component\n",
    "    component_sizes = [sum(labels .== i) for i in 1:maximum(labels)]\n",
    "\n",
    "    # Find the label of the largest component\n",
    "    largest_label = argmax(component_sizes)\n",
    "\n",
    "    # Return a binary image with only the largest component\n",
    "    img_ = labels .== largest_label\n",
    "\n",
    "    # resize image\n",
    "    img_ = round.(imresize(img_, s))\n",
    "\n",
    "    return img_\n",
    "end\n",
    "\n",
    "function find_surface_indices(arr)\n",
    "    rslt = dilate(arr) .- arr\n",
    "    surface_indices = findall(isone, rslt)\n",
    "    return surface_indices, rslt\n",
    "end\n",
    "\n",
    "function mark_surfaces(img, mask, color)\n",
    "    surface, _ = find_surface_indices(mask)\n",
    "    r, g, b = color\n",
    "    # Dimensions of the image\n",
    "    dims = size(img)\n",
    "    \n",
    "    # Convert grayscale to RGB\n",
    "    rgb_img = Array{Float32, 3}(undef, 3, dims...)\n",
    "    for y in 1:dims[2]\n",
    "        for x in 1:dims[1]\n",
    "            gray_val = img[x, y]\n",
    "            rgb_img[:, x, y] .= gray_val\n",
    "        end\n",
    "    end\n",
    "    \n",
    "    for idx in surface\n",
    "        rgb_img[1, idx[1], idx[2]] = r\n",
    "        rgb_img[2, idx[1], idx[2]] = g\n",
    "        rgb_img[3, idx[1], idx[2]] = b\n",
    "    end\n",
    "\n",
    "    return colorview(RGB, rgb_img)\n",
    "end"
   ]
  },
  {
   "cell_type": "code",
   "execution_count": 5,
   "metadata": {},
   "outputs": [
    {
     "data": {
      "text/plain": [
       "locate_diff_and_save_patches (generic function with 1 method)"
      ]
     },
     "metadata": {},
     "output_type": "display_data"
    }
   ],
   "source": [
    "function locate_diff_and_save_patches(img, mask, pred, lbl; patch_size = 256, cover_radius = 128, threshold = 3)\n",
    "    img_diff = abs.(pred - lbl)\n",
    "    h, w = size(img)\n",
    "    half_patch = patch_size ÷ 2\n",
    "    patches = []\n",
    "    lock_obj = ReentrantLock()\n",
    "\n",
    "    # Binary matrix to track covered regions\n",
    "    covered = falses(h, w)\n",
    "\n",
    "    # Find coordinates of non-zero (difference) pixels\n",
    "    diff_coords = findall(x -> x ≠ 0, img_diff)\n",
    "\n",
    "    # @Threads.threads for coord in diff_coords\n",
    "    for coord in diff_coords\n",
    "        y, x = Tuple(coord)  # Convert CartesianIndex to tuple\n",
    "\n",
    "        # Skip if the central region of the patch is already covered\n",
    "        \n",
    "        covered[y, x] && continue\n",
    "\n",
    "        top = max(1, y - half_patch)\n",
    "        bottom = min(h, y + half_patch - 1)\n",
    "        left = max(1, x - half_patch)\n",
    "        right = min(w, x + half_patch - 1)\n",
    "\n",
    "        # Check if the patch size is 256x256\n",
    "        if bottom - top + 1 == patch_size && right - left + 1 == patch_size\n",
    "            pred_patch = pred[top:bottom, left:right]\n",
    "            lbl_patch = lbl[top:bottom, left:right]\n",
    "            # mask_patch = mask[top:bottom, left:right]\n",
    "\n",
    "            # Compute the areas of false positives and false negatives within the patch\n",
    "            false_positive_area = sum((x > 0 && y == 0) for (x, y) in zip(pred_patch, lbl_patch))\n",
    "            false_negative_area = sum((x == 0 && y > 0) for (x, y) in zip(pred_patch, lbl_patch))\n",
    "\n",
    "            # Compute the total mask area within the patch\n",
    "            pred_area = sum(pred_patch)\n",
    "            lbl_area = sum(lbl_patch)\n",
    "\n",
    "            # Check if the false positive/negative area is greater than one-third of the mask area\n",
    "            if false_positive_area > pred_area / threshold || false_negative_area > pred_area / threshold || false_positive_area > lbl_area / threshold || false_negative_area > lbl_area / threshold\n",
    "                try\n",
    "                    # increase contrast\n",
    "                    # mask_ = mask[top:bottom, left:right]\n",
    "                    img_ = img[top:bottom, left:right]\n",
    "                    # draw contour\n",
    "                    img_with_pred = mark_surfaces(img_, pred_patch, [0,0,1])\n",
    "                    img_with_lbl = mark_surfaces(img_, lbl_patch, [1,0,0])\n",
    "\n",
    "                    # lock(lock_obj) do\n",
    "                        push!(patches, cat(img_with_pred, img_with_lbl, dims = 2))\n",
    "                    # end\n",
    "\n",
    "                    # Mark a larger region around the saved patch as covered\n",
    "                    cover_top = max(1, y - cover_radius)\n",
    "                    cover_bottom = min(h, y + cover_radius)\n",
    "                    cover_left = max(1, x - cover_radius)\n",
    "                    cover_right = min(w, x + cover_radius)\n",
    "                    covered[cover_top:cover_bottom, cover_left:cover_right] .= true\n",
    "                catch e\n",
    "                    @info e\n",
    "                end \n",
    "            end\n",
    "        end\n",
    "    end\n",
    "\n",
    "    return patches\n",
    "end"
   ]
  },
  {
   "cell_type": "code",
   "execution_count": 6,
   "metadata": {},
   "outputs": [],
   "source": [
    "# # fix wrong masks \n",
    "# @Threads.threads for i = 1 : s\n",
    "# # for i = 1 : 3\n",
    "#     sid = SIDs[i]\n",
    "#     curr_pred_dir = joinpath(pred_dir, sid)\n",
    "#     curr_img_dir = joinpath(raw_data_dir, sid)\n",
    "#     for f in readdir(curr_pred_dir)\n",
    "#         f_name = rsplit(f, '.'; limit = 3)[1] \n",
    "#         # setup path\n",
    "#         curr_pred_path = joinpath(curr_pred_dir, f)\n",
    "#         curr_img_path = joinpath(curr_img_dir, f_name * \".dcm\")\n",
    "#         new_pred_path = joinpath(curr_pred_dir, f_name * \".fixedpred.png\")\n",
    "#         # read \n",
    "#         curr_pred = Float32.(Images.load(curr_pred_path))\n",
    "#         curr_img = Float32.(dcm_parse(curr_img_path)[(0x7fe0, 0x0010)])\n",
    "#         # fix pred\n",
    "#         mask = keep_largest_component(1 .- round.(zoom_pixel_values(curr_img)))\n",
    "#         new_pred = curr_pred .* mask\n",
    "#         # save\n",
    "#         save(new_pred_path, new_pred)\n",
    "#     end\n",
    "# end"
   ]
  },
  {
   "cell_type": "code",
   "execution_count": 7,
   "metadata": {},
   "outputs": [],
   "source": [
    "GC.gc(true)\n",
    "# all_patches = []\n",
    "@Threads.threads for i = 1: s\n",
    "# @Threads.threads for i = 1 : 5\n",
    "    if i % 100 == 0\n",
    "        @info i\n",
    "    end\n",
    "    sid = SIDs[i]\n",
    "    dir1 = joinpath(pred_dir, sid)\n",
    "    for f in readdir(dir1)\n",
    "        splited = rsplit(f, '.'; limit = 3)\n",
    "        # if splited[2] == \"fixedpred\"\n",
    "        if splited[2] == \"pred\"\n",
    "            f_name = splited[1] \n",
    "            # setup path\n",
    "            lbl_path = joinpath(label_dir, sid, f_name*\".png\")\n",
    "            if isfile(lbl_path)\n",
    "                # setup paths\n",
    "                pred_path = joinpath(dir1, f)\n",
    "                img_path = joinpath(label_dir, sid, f_name*\".dcm\")\n",
    "                # read PNGs\n",
    "                img = zoom_pixel_values(dcm_parse(img_path)[(0x7fe0, 0x0010)])\n",
    "                # mask = 1 .- round.(zoom_pixel_values(img))\n",
    "                pred = read_png(pred_path)\n",
    "                lbl = read_png(lbl_path)\n",
    "                # get result\n",
    "                patches = locate_diff_and_save_patches(img, nothing, pred, lbl)\n",
    "                # append!(all_patches, patches)\n",
    "                if size(patches)[1] > 0\n",
    "                    curr_output_dir = joinpath(output_dir, sid)\n",
    "                    isdir(curr_output_dir) || mkdir(curr_output_dir)\n",
    "                    for (i, p) in enumerate(patches)\n",
    "                        save(joinpath(curr_output_dir, string(i)*\".png\"), p)\n",
    "                    end\n",
    "                end\n",
    "                GC.gc(true)\n",
    "            end\n",
    "        end\n",
    "    end\n",
    "end\n",
    "# size(all_patches)"
   ]
  },
  {
   "cell_type": "code",
   "execution_count": null,
   "metadata": {},
   "outputs": [],
   "source": [
    "pixel_data = zeros(Int, s, 4)\n",
    "\n",
    "@Threads.threads for i = 1 : s\n",
    "    if i % 100 == 0\n",
    "        @info i\n",
    "    end\n",
    "    sid = SIDs[i]\n",
    "    dir1 = joinpath(pred_dir, sid)\n",
    "    for f in readdir(dir1)\n",
    "        splited = rsplit(f, '.'; limit = 3)\n",
    "        if splited[2] == \"pred\"\n",
    "            f_name = splited[1] \n",
    "            # setup path\n",
    "            lbl_path = joinpath(raw_data_dir, sid, f_name*\".png\")\n",
    "            # setup paths\n",
    "            pred_path = joinpath(dir1, f)\n",
    "            # read PNGs\n",
    "            pred = read_png(pred_path)\n",
    "            lbl = read_png(lbl_path)\n",
    "            \n",
    "            a = sum(pred)\n",
    "            b = sum((pred .== 1) .& (lbl .== 0))\n",
    "            c = sum((pred .== 0) .& (lbl .== 1))\n",
    "            \n",
    "            # Calculate TN, TP, FN, FP for this image\n",
    "            TP = a - b\n",
    "            FP = b\n",
    "            FN = c\n",
    "            TN = length(pred) - TP - FP - FN\n",
    "            \n",
    "            pixel_data[i, 1] += TN\n",
    "            pixel_data[i, 2] += TP\n",
    "            pixel_data[i, 3] += FP\n",
    "            pixel_data[i, 4] += FN\n",
    "            \n",
    "            GC.gc(true)\n",
    "        end\n",
    "    end\n",
    "end\n",
    "\n",
    "# Compute overall precision, recall, and F1-score using the pixel_data matrix\n",
    "total_TN = sum(pixel_data[:, 1])\n",
    "total_TP = sum(pixel_data[:, 2])\n",
    "total_FP = sum(pixel_data[:, 3])\n",
    "total_FN = sum(pixel_data[:, 4])\n",
    "\n",
    "precision = total_TP / (total_TP + total_FP)\n",
    "recall = total_TP / (total_TP + total_FN)\n",
    "f1_score = 2 * (precision * recall) / (precision + recall)\n",
    "\n",
    "println(\"Precision: \", precision)\n",
    "println(\"Recall: \", recall)\n",
    "println(\"F1-score: \", f1_score)"
   ]
  },
  {
   "cell_type": "code",
   "execution_count": null,
   "metadata": {},
   "outputs": [],
   "source": [
    "total_TN"
   ]
  },
  {
   "cell_type": "code",
   "execution_count": null,
   "metadata": {},
   "outputs": [],
   "source": [
    "total_TP"
   ]
  },
  {
   "cell_type": "code",
   "execution_count": null,
   "metadata": {},
   "outputs": [],
   "source": [
    "total_FP"
   ]
  },
  {
   "cell_type": "code",
   "execution_count": null,
   "metadata": {},
   "outputs": [],
   "source": [
    "total_FN"
   ]
  },
  {
   "cell_type": "markdown",
   "metadata": {},
   "source": [
    "- #64:\n",
    "    - total_TN = 201470811526\n",
    "    - total_TP = 46735536\n",
    "    - total_FP = 55212524\n",
    "    - total_FN = 34972708\n",
    "    - Precision: 0.4584249665957351  \n",
    "    - Recall: 0.5719806681930406  \n",
    "    - F1-score: 0.5089456226887806  "
   ]
  },
  {
   "cell_type": "code",
   "execution_count": null,
   "metadata": {},
   "outputs": [],
   "source": [
    "@save \"pixel_data2.jld2\" pixel_data"
   ]
  },
  {
   "cell_type": "code",
   "execution_count": null,
   "metadata": {},
   "outputs": [],
   "source": [
    "# all_patches[tmp][1]"
   ]
  },
  {
   "cell_type": "code",
   "execution_count": null,
   "metadata": {},
   "outputs": [],
   "source": [
    "# all_patches[tmp][2]"
   ]
  },
  {
   "cell_type": "code",
   "execution_count": null,
   "metadata": {},
   "outputs": [],
   "source": [
    "# all_patches[tmp][3]"
   ]
  },
  {
   "cell_type": "code",
   "execution_count": null,
   "metadata": {},
   "outputs": [],
   "source": [
    "# @save \"saved_patches_for_paper_600.jld2\" all_patches"
   ]
  }
 ],
 "metadata": {
  "kernelspec": {
   "display_name": "Julia 1.9.2",
   "language": "julia",
   "name": "julia-1.9"
  },
  "language_info": {
   "file_extension": ".jl",
   "mimetype": "application/julia",
   "name": "julia",
   "version": "1.9.2"
  },
  "orig_nbformat": 4
 },
 "nbformat": 4,
 "nbformat_minor": 2
}
